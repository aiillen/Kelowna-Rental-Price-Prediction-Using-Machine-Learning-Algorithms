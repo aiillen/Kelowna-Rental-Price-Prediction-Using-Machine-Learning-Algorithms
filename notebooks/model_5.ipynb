{
 "cells": [
  {
   "cell_type": "markdown",
   "source": [
    "# Modeling"
   ],
   "metadata": {
    "collapsed": false,
    "pycharm": {
     "name": "#%% md\n"
    }
   }
  },
  {
   "cell_type": "code",
   "execution_count": null,
   "metadata": {
    "collapsed": true,
    "pycharm": {
     "name": "#%%\n"
    }
   },
   "outputs": [],
   "source": [
    "import numpy as np\n",
    "import pandas as pd\n",
    "import matplotlib.pyplot as plt\n",
    "import seaborn as sns\n",
    "from scipy import stats\n",
    "from sklearn.ensemble import RandomForestRegressor\n",
    "from sklearn.model_selection import train_test_split\n",
    "from sklearn.preprocessing import StandardScaler"
   ]
  },
  {
   "cell_type": "code",
   "execution_count": null,
   "outputs": [],
   "source": [
    "df = pd.read_csv('../data/processed/clean_kelowna_housing_data.csv')"
   ],
   "metadata": {
    "collapsed": false,
    "pycharm": {
     "name": "#%%\n"
    }
   }
  },
  {
   "cell_type": "code",
   "execution_count": null,
   "outputs": [],
   "source": [
    "grouped = df.groupby('Type')\n",
    "# Group the df by 'Type' column, so I can check for IQR in all types\n",
    "\n",
    "q1 = grouped[\"price\"].transform(lambda x: x.quantile(0.25))\n",
    "q3 = grouped[\"price\"].transform(lambda x: x.quantile(0.75))\n",
    "\n",
    "iqr = q3 - q1\n",
    "\n",
    "upper_bound = q3 + (1.5 * iqr)\n",
    "lower_bound = q1 - (1.5 * iqr)\n",
    "# Calculate the upper and lower bounds using the interquartile range\n",
    "\n",
    "outliers = df[df[\"price\"].gt(upper_bound) | df[\"price\"].lt(lower_bound)]\n",
    "\n",
    "outliers\n",
    "# print all outliers"
   ],
   "metadata": {
    "collapsed": false,
    "pycharm": {
     "name": "#%%\n"
    }
   }
  },
  {
   "cell_type": "code",
   "execution_count": null,
   "outputs": [],
   "source": [
    "df = df.drop(outliers.index)"
   ],
   "metadata": {
    "collapsed": false,
    "pycharm": {
     "name": "#%%\n"
    }
   }
  },
  {
   "cell_type": "code",
   "execution_count": null,
   "outputs": [],
   "source": [
    "data = pd.get_dummies(df.drop(columns = {'name', 'address', 'city'}))\n",
    "data"
   ],
   "metadata": {
    "collapsed": false,
    "pycharm": {
     "name": "#%%\n"
    }
   }
  },
  {
   "cell_type": "code",
   "execution_count": null,
   "outputs": [],
   "source": [
    "X = data.iloc[:, 1:]  # all rows, no label\n",
    "y = data.loc[:, 'price']  # all rows, label only\n",
    "X_train, X_test, y_train, y_test = train_test_split(X, y, test_size=0.25, random_state=42)"
   ],
   "metadata": {
    "collapsed": false,
    "pycharm": {
     "name": "#%%\n"
    }
   }
  },
  {
   "cell_type": "code",
   "execution_count": null,
   "outputs": [],
   "source": [
    "from sklearn.ensemble import RandomForestRegressor\n",
    "from sklearn.metrics import mean_squared_error, r2_score, mean_absolute_error\n",
    "from sklearn.model_selection import GridSearchCV\n",
    "import matplotlib.pyplot as plt\n",
    "import numpy as np\n",
    "\n",
    "# Define the model\n",
    "rf_reg = RandomForestRegressor(n_estimators=100, random_state=42)\n",
    "\n",
    "# Define the parameter grid for pruning\n",
    "param_grid = {\n",
    "    'max_depth': [5, 10, 20],\n",
    "    'min_samples_split': [2, 5, 10],\n",
    "    'min_samples_leaf': [1, 2, 4]\n",
    "}\n",
    "\n",
    "# Perform a grid search to find the best hyperparameters\n",
    "grid_search = GridSearchCV(estimator=rf_reg, param_grid=param_grid, cv=5)\n",
    "grid_search.fit(X_train, y_train)\n",
    "best_rf_reg = grid_search.best_estimator_\n",
    "\n",
    "# Print the best hyperparameters\n",
    "print(\"Best hyperparameters: \", grid_search.best_params_)\n",
    "\n",
    "# Train the model on the training set using the best hyperparameters\n",
    "best_rf_reg.fit(X_train, y_train)\n",
    "\n",
    "# Make predictions on the test set\n",
    "y_pred = best_rf_reg.predict(X_test)\n",
    "y_pred1 = best_rf_reg.predict(X_train)\n",
    "\n",
    "\n",
    "# Evaluate the model\n",
    "print(\"Mean squared error: %.2f\" % mean_squared_error(y_test, y_pred))\n",
    "print(\"Mean squared error1: %.2f\" % mean_squared_error(y_train, y_pred1))\n",
    "print('R2 score: %.2f' % r2_score(y_test, y_pred))\n",
    "print('Mean absolute error: %.2f' % mean_absolute_error(y_test, y_pred))\n",
    "print('Mean absolute error1: %.2f' % mean_absolute_error(y_train, y_pred1))\n",
    "\n",
    "\n",
    "# Plot the feature importances\n",
    "importances = best_rf_reg.feature_importances_\n",
    "indices = np.argsort(importances)[::-1]\n",
    "plt.figure()\n",
    "plt.title(\"Feature importances\")\n",
    "plt.bar(range(X_train.shape[1]), importances[indices])\n",
    "plt.xticks(range(X_train.shape[1]), X_train.columns[indices], rotation=90)\n",
    "plt.show()"
   ],
   "metadata": {
    "collapsed": false,
    "pycharm": {
     "name": "#%%\n"
    }
   }
  },
  {
   "cell_type": "code",
   "execution_count": null,
   "outputs": [],
   "source": [
    "from sklearn.ensemble import RandomForestRegressor\n",
    "from sklearn.model_selection import cross_val_score\n",
    "\n",
    "# Create Random Forest regressor with max_depth of 10 and 100 trees\n",
    "rf = RandomForestRegressor(n_estimators=100, max_depth=10)\n",
    "\n",
    "# Use 5-fold cross-validation to evaluate model performance\n",
    "cv_scores = cross_val_score(rf, X_train, y_train, cv=5)\n",
    "\n",
    "# Compute the mean and standard deviation of the cross-validation scores\n",
    "mean_cv_score = np.mean(cv_scores)\n",
    "std_cv_score = np.std(cv_scores)\n",
    "\n",
    "# Print the mean and standard deviation of the cross-validation scores\n",
    "print(\"Mean CV score:\", mean_cv_score)\n",
    "print(\"CV score standard deviation:\", std_cv_score)\n",
    "\n",
    "# Fit the model to the training data\n",
    "rf.fit(X_train, y_train)\n",
    "\n",
    "# Evaluate the model on the training and test data\n",
    "train_score = rf.score(X_train, y_train)\n",
    "test_score = rf.score(X_test, y_test)\n",
    "\n",
    "# Print the training and test scores\n",
    "print(\"Training score:\", train_score)\n",
    "print(\"Test score:\", test_score)\n"
   ],
   "metadata": {
    "collapsed": false,
    "pycharm": {
     "name": "#%%\n"
    }
   }
  },
  {
   "cell_type": "code",
   "execution_count": null,
   "outputs": [],
   "source": [
    "from sklearn.ensemble import RandomForestRegressor\n",
    "from sklearn.model_selection import cross_val_score\n",
    "\n",
    "# Create Random Forest regressor with max_depth of 10 and 100 trees\n",
    "rf = RandomForestRegressor(n_estimators=100, max_depth=10)\n",
    "\n",
    "# Use 5-fold cross-validation to evaluate model performance\n",
    "cv_scores = cross_val_score(rf, X_train, y_train, cv=5)\n",
    "\n",
    "# Compute the mean and standard deviation of the cross-validation scores\n",
    "mean_cv_score = np.mean(cv_scores)\n",
    "std_cv_score = np.std(cv_scores)\n",
    "\n",
    "# Print the mean and standard deviation of the cross-validation scores\n",
    "print(\"Mean CV score:\", mean_cv_score)\n",
    "print(\"CV score standard deviation:\", std_cv_score)\n",
    "\n",
    "# Fit the model to the training data\n",
    "rf.fit(X_train, y_train)\n",
    "\n",
    "# Evaluate the model on the training and test data\n",
    "train_score = rf.score(X_train, y_train)\n",
    "test_score = rf.score(X_test, y_test)\n",
    "\n",
    "# Print the training and test scores\n",
    "print(\"Training score:\", train_score)\n",
    "print(\"Test score:\", test_score)\n",
    "from sklearn.ensemble import RandomForestRegressor\n",
    "from sklearn.metrics import mean_squared_error, r2_score\n",
    "import matplotlib.pyplot as plt\n",
    "\n",
    "# define the number of trees in the random forest\n",
    "n_trees = 100\n",
    "\n",
    "# instantiate the random forest regressor with pruning\n",
    "rf = RandomForestRegressor(n_estimators=n_trees, ccp_alpha=0.01)\n",
    "\n",
    "# fit the model to the training data\n",
    "rf.fit(X_train, y_train)\n",
    "\n",
    "# predict the target values for the test data\n",
    "y_pred = rf.predict(X_test)\n",
    "\n",
    "# calculate the mean squared error and R^2 score\n",
    "mse = mean_squared_error(y_test, y_pred)\n",
    "r2 = r2_score(y_test, y_pred)\n",
    "\n",
    "# print the results\n",
    "print('Mean squared error: {:.4f}'.format(mse))\n",
    "print('R^2 score: {:.4f}'.format(r2))\n",
    "\n",
    "# plot the feature importances\n",
    "importances = rf.feature_importances_\n",
    "std = np.std([tree.feature_importances_ for tree in rf.estimators_],\n",
    "             axis=0)\n",
    "indices = np.argsort(importances)[::-1]\n",
    "\n",
    "# select the top 10 most important features\n",
    "top_features = indices[:10]\n",
    "print('Top 10 most important features:', X_train.columns[top_features])\n",
    "\n",
    "plt.figure()\n",
    "plt.title(\"Feature importances\")\n",
    "plt.bar(range(X_train.shape[1]), importances[indices],\n",
    "        color=\"r\", yerr=std[indices], align=\"center\")\n",
    "plt.xticks(range(X_train.shape[1]), X_train.columns[indices], rotation='vertical')\n",
    "plt.xlim([-1, X_train.shape[1]])\n",
    "plt.show()\n",
    "\n",
    "# plot the predicted vs. actual target values\n",
    "plt.figure()\n",
    "plt.scatter(y_test, y_pred, alpha=0.5)\n",
    "plt.plot([y_test.min(), y_test.max()], [y_test.min(), y_test.max()], 'k--', lw=4)\n",
    "plt.xlabel('Actual')\n",
    "plt.ylabel('Predicted')\n",
    "plt.title('Random Forest Regression')\n",
    "plt.show()"
   ],
   "metadata": {
    "collapsed": false,
    "pycharm": {
     "name": "#%%\n"
    }
   }
  },
  {
   "cell_type": "code",
   "execution_count": null,
   "outputs": [],
   "source": [
    "import lightgbm as lgb\n",
    "from sklearn.metrics import mean_squared_error, r2_score, _scorer\n",
    "import matplotlib.pyplot as plt\n",
    "\n",
    "# define the hyperparameters for the GBM Light model\n",
    "params = {\n",
    "    'boosting_type': 'gbdt',\n",
    "    'objective': 'regression',\n",
    "    'metric': 'mse',\n",
    "    'max_depth': 3,\n",
    "    'num_leaves': 31,\n",
    "    'learning_rate': 0.15,\n",
    "    'feature_fraction': 0.9\n",
    "}\n",
    "\n",
    "# create the training and validation datasets for GBM Light\n",
    "lgb_train = lgb.Dataset(X_train, y_train)\n",
    "lgb_val = lgb.Dataset(X_test, y_test)\n",
    "\n",
    "# train the GBM Light model\n",
    "gbm = lgb.train(params,\n",
    "                lgb_train,\n",
    "                num_boost_round=500,\n",
    "                valid_sets=[lgb_train, lgb_val],\n",
    "                early_stopping_rounds=50,\n",
    "                verbose_eval=50)\n",
    "\n",
    "# predict the target values for the test data\n",
    "y_pred = gbm.predict(X_test, num_iteration=gbm.best_iteration)\n",
    "\n",
    "# calculate the mean squared error and R^2 score\n",
    "mse = mean_squared_error(y_test, y_pred)\n",
    "r2 = r2_score(y_test, y_pred)\n",
    "\n",
    "# print the results\n",
    "print('Mean squared error: {:.4f}'.format(mse))\n",
    "print('R^2 score: {:.4f}'.format(r2))\n",
    "\n",
    "# plot the feature importances\n",
    "lgb.plot_importance(gbm, max_num_features=10)\n",
    "\n",
    "# plot the predicted vs. actual target values\n",
    "plt.scatter(y_test, y_pred, alpha=0.5)\n",
    "plt.plot([y_test.min(), y_test.max()], [y_test.min(), y_test.max()], 'k--', lw=4)\n",
    "plt.xlabel('Actual')\n",
    "plt.ylabel('Predicted')\n",
    "plt.title('GBM Light Regression')\n",
    "plt.show()"
   ],
   "metadata": {
    "collapsed": false,
    "pycharm": {
     "name": "#%%\n"
    }
   }
  },
  {
   "cell_type": "code",
   "execution_count": null,
   "outputs": [],
   "source": [
    "plt.scatter(y_test, y_pred, alpha=0.5)\n",
    "plt.plot([y_test.min(), y_test.max()], [y_test.min(), y_test.max()], 'k--', lw=4)\n",
    "plt.xlabel('Actual')\n",
    "plt.ylabel('Predicted')\n",
    "plt.title('GBM Light Regression')\n",
    "plt.show()"
   ],
   "metadata": {
    "collapsed": false,
    "pycharm": {
     "name": "#%%\n"
    }
   }
  },
  {
   "cell_type": "code",
   "execution_count": null,
   "outputs": [],
   "source": [
    "import lightgbm as lgb\n",
    "from sklearn.metrics import mean_squared_error, r2_score\n",
    "import matplotlib.pyplot as plt\n",
    "import numpy as np\n",
    "\n",
    "# define the hyperparameters for the GBM Light model\n",
    "params = {\n",
    "    'boosting_type': 'gbdt',\n",
    "    'objective': 'regression',\n",
    "    'metric': 'mse',\n",
    "    'max_depth': 3,\n",
    "    'num_leaves': 31,\n",
    "    'learning_rate': 0.05,\n",
    "    'feature_fraction': 0.9,\n",
    "    'min_child_samples': 10\n",
    "}\n",
    "\n",
    "# create the training and validation datasets for GBM Light\n",
    "lgb_train = lgb.Dataset(X_train, y_train)\n",
    "lgb_val = lgb.Dataset(X_test, y_test)\n",
    "\n",
    "# train the GBM Light model\n",
    "gbm = lgb.train(params,\n",
    "                lgb_train,\n",
    "                num_boost_round=10000,\n",
    "                valid_sets=[lgb_train, lgb_val],\n",
    "                early_stopping_rounds=50,\n",
    "                verbose_eval=50)\n",
    "\n",
    "# predict the target values for the test data\n",
    "y_pred = gbm.predict(X_test, num_iteration=gbm.best_iteration)\n",
    "\n",
    "# calculate the mean squared error and R^2 score\n",
    "mse = mean_squared_error(y_test, y_pred)\n",
    "r2 = r2_score(y_test, y_pred)\n",
    "mae = mean_absolute_error(y_test, y_pred)\n",
    "\n",
    "# print the results\n",
    "print('Mean squared error: {:.4f}'.format(mse))\n",
    "print('R^2 score: {:.4f}'.format(r2))\n",
    "print('Mean absolute error: {:.4f}'.format(mae))\n",
    "\n",
    "# plot the feature importances\n",
    "lgb.plot_importance(gbm, max_num_features=10)\n",
    "\n",
    "# plot the predicted vs. actual target values\n",
    "plt.scatter(y_test, y_pred, alpha=0.5)\n",
    "plt.plot([y_test.min(), y_test.max()], [y_test.min(), y_test.max()], 'k--', lw=4)\n",
    "plt.xlabel('Actual')\n",
    "plt.ylabel('Predicted')\n",
    "plt.title('GBM Light Regression')\n",
    "plt.show()\n",
    "\n",
    "# plot the training and validation MSE scores over boosting rounds\n",
    "train_mse = gbm.evals_result_['training']['mse']\n",
    "val_mse = gbm.evals_result_['valid_1']['mse']\n",
    "x_axis = np.arange(0, len(train_mse))\n",
    "plt.plot(x_axis, train_mse, label='Training MSE')\n",
    "plt.plot(x_axis, val_mse, label='Validation MSE')\n",
    "plt.legend()\n",
    "plt.xlabel('Boosting round')\n",
    "plt.ylabel('MSE')\n",
    "plt.title('Training and Validation MSE over Boosting Rounds')\n",
    "plt.show()"
   ],
   "metadata": {
    "collapsed": false,
    "pycharm": {
     "name": "#%%\n"
    }
   }
  },
  {
   "cell_type": "code",
   "execution_count": null,
   "outputs": [],
   "source": [],
   "metadata": {
    "collapsed": false,
    "pycharm": {
     "name": "#%%\n"
    }
   }
  }
 ],
 "metadata": {
  "kernelspec": {
   "display_name": "Python 3",
   "language": "python",
   "name": "python3"
  },
  "language_info": {
   "codemirror_mode": {
    "name": "ipython",
    "version": 2
   },
   "file_extension": ".py",
   "mimetype": "text/x-python",
   "name": "python",
   "nbconvert_exporter": "python",
   "pygments_lexer": "ipython2",
   "version": "2.7.6"
  }
 },
 "nbformat": 4,
 "nbformat_minor": 0
}