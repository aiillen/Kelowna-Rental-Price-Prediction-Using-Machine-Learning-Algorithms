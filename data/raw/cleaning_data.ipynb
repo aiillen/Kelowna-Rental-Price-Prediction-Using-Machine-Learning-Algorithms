{
 "cells": [
  {
   "cell_type": "markdown",
   "source": [
    "# Cleaning dataset"
   ],
   "metadata": {
    "collapsed": false,
    "pycharm": {
     "name": "#%% md\n"
    }
   }
  },
  {
   "cell_type": "markdown",
   "source": [
    "In this notebook, I will clean the dataset in preparation for further exploration and modeling."
   ],
   "metadata": {
    "collapsed": false,
    "pycharm": {
     "name": "#%% md\n"
    }
   }
  },
  {
   "cell_type": "markdown",
   "source": [
    "## Import Libraries"
   ],
   "metadata": {
    "collapsed": false,
    "pycharm": {
     "name": "#%% md\n"
    }
   }
  },
  {
   "cell_type": "code",
   "execution_count": 62,
   "metadata": {
    "collapsed": true,
    "pycharm": {
     "name": "#%%\n"
    }
   },
   "outputs": [],
   "source": [
    "import pandas as pd\n",
    "import numpy as np"
   ]
  },
  {
   "cell_type": "markdown",
   "source": [
    "I extracted a dataset from a marketplace and found some rows with empty cells. To address this, I filled in the missing information myself and saved the updated version as a new .csv file named \"kelowna_housing_data_new.csv\"."
   ],
   "metadata": {
    "collapsed": false,
    "pycharm": {
     "name": "#%% md\n"
    }
   }
  },
  {
   "cell_type": "code",
   "execution_count": 63,
   "outputs": [
    {
     "name": "stdout",
     "output_type": "stream",
     "text": [
      "<class 'pandas.core.frame.DataFrame'>\n",
      "RangeIndex: 1350 entries, 0 to 1349\n",
      "Data columns (total 8 columns):\n",
      " #   Column        Non-Null Count  Dtype \n",
      "---  ------        --------------  ----- \n",
      " 0   Unnamed: 0    1350 non-null   int64 \n",
      " 1   name          1350 non-null   object\n",
      " 2   price         1350 non-null   object\n",
      " 3   adress        1350 non-null   object\n",
      " 4   unit_details  1350 non-null   object\n",
      " 5   description   1350 non-null   object\n",
      " 6   score         1350 non-null   object\n",
      " 7   URL           1350 non-null   object\n",
      "dtypes: int64(1), object(7)\n",
      "memory usage: 84.5+ KB\n"
     ]
    }
   ],
   "source": [
    "df = pd.read_csv('kelowna_housing_data_new.csv')\n",
    "df.info()"
   ],
   "metadata": {
    "collapsed": false,
    "pycharm": {
     "name": "#%%\n"
    }
   }
  },
  {
   "cell_type": "markdown",
   "source": [
    "## Deleting unnecessary column and row"
   ],
   "metadata": {
    "collapsed": false,
    "pycharm": {
     "name": "#%% md\n"
    }
   }
  },
  {
   "cell_type": "markdown",
   "source": [
    "As observed, there are unneeded columns 'Unnamed: 0' and an empty row '0' in the data frame, so I have decided to remove them."
   ],
   "metadata": {
    "collapsed": false,
    "pycharm": {
     "name": "#%% md\n"
    }
   }
  },
  {
   "cell_type": "code",
   "execution_count": 64,
   "outputs": [
    {
     "data": {
      "text/plain": "                                                   name               price  \\\n1                    ['', '3 Beds 3 Baths - Townhouse']  ['$3,300 / Month']   \n2                           ['', '2 Beds 1 Bath House']  ['$2,000 / Month']   \n3                      ['', '1 Bed 1 Bath - Apartment']  ['$1,250 / Month']   \n4     ['', '1 bedroom available in 2 bedroom basemen...    ['$650 / Month']   \n5                           ['', '3 Beds 1 Bath House']  ['$2,000 / Month']   \n...                                                 ...                 ...   \n1345  ['', 'Room for rent for girls in Rutland ! Dm ...    ['$900 / Month']   \n1346  ['', 'Parking Rv ,Boat , boat trailer, Few slo...             [‘$70']   \n1347  ['', 'RENEW your Condo, Kitchen and more. QUAR...              [‘$1’]   \n1348           ['', 'Powerwash house by professionals']            [‘$123’]   \n1349                      ['', 'Private Room For Rent']  ['$1,100 / Month']   \n\n                           adress  \\\n1        ['Kelowna, BC, V1Y 5T5']   \n2       ['West Kelowna, BC, V4T']   \n3            ['Kelowna, BC, V1V']   \n4     ['Location is approximate']   \n5        ['Kelowna, BC, V1V 1R1']   \n...                           ...   \n1345  ['Location is approximate']   \n1346  ['Location is approximate']   \n1347  ['Location is approximate']   \n1348  ['Location is approximate']   \n1349  ['Location is approximate']   \n\n                                           unit_details  \\\n1     ['1275 Brookside Ave, Kelowna, BC', 'Listed ov...   \n2     ['Goldie Rd, West Kelowna, BC', '914 square fe...   \n3     ['Academy Way, Kelowna, BC', 'Listed over a we...   \n4     ['West Kelowna, BC', '1000 square meters', 'Li...   \n5     ['Kelowna, BC, Canada, Kelowna, BC', 'Listed a...   \n...                                                 ...   \n1345  ['Kelowna, BC', 'Listed over a week ago', 'Hou...   \n1346  ['Condition', 'New', 'Kelowna, BC', 'Joined Fa...   \n1347  ['Condition', 'New', 'Penticton, BC', 'Joined ...   \n1348  ['Condition', 'New', 'Vernon, BC', 'Joined Fac...   \n1349  ['West Kelowna, BC', '1800 square meters', 'Li...   \n\n                                            description  \\\n1     ['Kelowna 3 bed 3 bath townhome for rent\\n\\nWi...   \n2     ['REDUCED. Stunning lake and city views are in...   \n3     ['Veda Student Living Studio Apartment Sublet ...   \n4     ['1 bedroom available in 2 bedroom basement su...   \n5     [\"Great location 3 bedroom, 1 bathroom home. N...   \n...                                                 ...   \n1345  ['Dm for more info! Room available for girls a...   \n1346  ['It’s in lower mission ,fenced, living next d...   \n1347  ['We are manufacturers and installers with mor...   \n1348  ['Call [hidden information] for further details']   \n1349  [\"Welcome to the Luxury Lakeview Private Suite...   \n\n                                                  score  \\\n1                                                    []   \n2                                                    []   \n3                                                    []   \n4     ['Provided by Walk Score®︎', '63 out of 100', ...   \n5                                                    []   \n...                                                 ...   \n1345  ['Provided by Walk Score®︎', '60 out of 100', ...   \n1346                                                 []   \n1347                                                 []   \n1348                                                 []   \n1349                                                 []   \n\n                                                    URL  \n1     ['https://www.facebook.com/marketplace/item/11...  \n2     ['https://www.facebook.com/marketplace/item/13...  \n3     ['https://www.facebook.com/marketplace/item/15...  \n4     ['https://www.facebook.com/marketplace/item/36...  \n5     ['https://www.facebook.com/marketplace/item/60...  \n...                                                 ...  \n1345  ['https://www.facebook.com/marketplace/item/81...  \n1346  ['https://www.facebook.com/marketplace/item/52...  \n1347  ['https://www.facebook.com/marketplace/item/57...  \n1348  ['https://www.facebook.com/marketplace/item/66...  \n1349  ['https://www.facebook.com/marketplace/item/71...  \n\n[1349 rows x 7 columns]",
      "text/html": "<div>\n<style scoped>\n    .dataframe tbody tr th:only-of-type {\n        vertical-align: middle;\n    }\n\n    .dataframe tbody tr th {\n        vertical-align: top;\n    }\n\n    .dataframe thead th {\n        text-align: right;\n    }\n</style>\n<table border=\"1\" class=\"dataframe\">\n  <thead>\n    <tr style=\"text-align: right;\">\n      <th></th>\n      <th>name</th>\n      <th>price</th>\n      <th>adress</th>\n      <th>unit_details</th>\n      <th>description</th>\n      <th>score</th>\n      <th>URL</th>\n    </tr>\n  </thead>\n  <tbody>\n    <tr>\n      <th>1</th>\n      <td>['', '3 Beds 3 Baths - Townhouse']</td>\n      <td>['$3,300 / Month']</td>\n      <td>['Kelowna, BC, V1Y 5T5']</td>\n      <td>['1275 Brookside Ave, Kelowna, BC', 'Listed ov...</td>\n      <td>['Kelowna 3 bed 3 bath townhome for rent\\n\\nWi...</td>\n      <td>[]</td>\n      <td>['https://www.facebook.com/marketplace/item/11...</td>\n    </tr>\n    <tr>\n      <th>2</th>\n      <td>['', '2 Beds 1 Bath House']</td>\n      <td>['$2,000 / Month']</td>\n      <td>['West Kelowna, BC, V4T']</td>\n      <td>['Goldie Rd, West Kelowna, BC', '914 square fe...</td>\n      <td>['REDUCED. Stunning lake and city views are in...</td>\n      <td>[]</td>\n      <td>['https://www.facebook.com/marketplace/item/13...</td>\n    </tr>\n    <tr>\n      <th>3</th>\n      <td>['', '1 Bed 1 Bath - Apartment']</td>\n      <td>['$1,250 / Month']</td>\n      <td>['Kelowna, BC, V1V']</td>\n      <td>['Academy Way, Kelowna, BC', 'Listed over a we...</td>\n      <td>['Veda Student Living Studio Apartment Sublet ...</td>\n      <td>[]</td>\n      <td>['https://www.facebook.com/marketplace/item/15...</td>\n    </tr>\n    <tr>\n      <th>4</th>\n      <td>['', '1 bedroom available in 2 bedroom basemen...</td>\n      <td>['$650 / Month']</td>\n      <td>['Location is approximate']</td>\n      <td>['West Kelowna, BC', '1000 square meters', 'Li...</td>\n      <td>['1 bedroom available in 2 bedroom basement su...</td>\n      <td>['Provided by Walk Score®︎', '63 out of 100', ...</td>\n      <td>['https://www.facebook.com/marketplace/item/36...</td>\n    </tr>\n    <tr>\n      <th>5</th>\n      <td>['', '3 Beds 1 Bath House']</td>\n      <td>['$2,000 / Month']</td>\n      <td>['Kelowna, BC, V1V 1R1']</td>\n      <td>['Kelowna, BC, Canada, Kelowna, BC', 'Listed a...</td>\n      <td>[\"Great location 3 bedroom, 1 bathroom home. N...</td>\n      <td>[]</td>\n      <td>['https://www.facebook.com/marketplace/item/60...</td>\n    </tr>\n    <tr>\n      <th>...</th>\n      <td>...</td>\n      <td>...</td>\n      <td>...</td>\n      <td>...</td>\n      <td>...</td>\n      <td>...</td>\n      <td>...</td>\n    </tr>\n    <tr>\n      <th>1345</th>\n      <td>['', 'Room for rent for girls in Rutland ! Dm ...</td>\n      <td>['$900 / Month']</td>\n      <td>['Location is approximate']</td>\n      <td>['Kelowna, BC', 'Listed over a week ago', 'Hou...</td>\n      <td>['Dm for more info! Room available for girls a...</td>\n      <td>['Provided by Walk Score®︎', '60 out of 100', ...</td>\n      <td>['https://www.facebook.com/marketplace/item/81...</td>\n    </tr>\n    <tr>\n      <th>1346</th>\n      <td>['', 'Parking Rv ,Boat , boat trailer, Few slo...</td>\n      <td>[‘$70']</td>\n      <td>['Location is approximate']</td>\n      <td>['Condition', 'New', 'Kelowna, BC', 'Joined Fa...</td>\n      <td>['It’s in lower mission ,fenced, living next d...</td>\n      <td>[]</td>\n      <td>['https://www.facebook.com/marketplace/item/52...</td>\n    </tr>\n    <tr>\n      <th>1347</th>\n      <td>['', 'RENEW your Condo, Kitchen and more. QUAR...</td>\n      <td>[‘$1’]</td>\n      <td>['Location is approximate']</td>\n      <td>['Condition', 'New', 'Penticton, BC', 'Joined ...</td>\n      <td>['We are manufacturers and installers with mor...</td>\n      <td>[]</td>\n      <td>['https://www.facebook.com/marketplace/item/57...</td>\n    </tr>\n    <tr>\n      <th>1348</th>\n      <td>['', 'Powerwash house by professionals']</td>\n      <td>[‘$123’]</td>\n      <td>['Location is approximate']</td>\n      <td>['Condition', 'New', 'Vernon, BC', 'Joined Fac...</td>\n      <td>['Call [hidden information] for further details']</td>\n      <td>[]</td>\n      <td>['https://www.facebook.com/marketplace/item/66...</td>\n    </tr>\n    <tr>\n      <th>1349</th>\n      <td>['', 'Private Room For Rent']</td>\n      <td>['$1,100 / Month']</td>\n      <td>['Location is approximate']</td>\n      <td>['West Kelowna, BC', '1800 square meters', 'Li...</td>\n      <td>[\"Welcome to the Luxury Lakeview Private Suite...</td>\n      <td>[]</td>\n      <td>['https://www.facebook.com/marketplace/item/71...</td>\n    </tr>\n  </tbody>\n</table>\n<p>1349 rows × 7 columns</p>\n</div>"
     },
     "execution_count": 64,
     "metadata": {},
     "output_type": "execute_result"
    }
   ],
   "source": [
    "df = df.drop(columns='Unnamed: 0').tail(-1)\n",
    "df"
   ],
   "metadata": {
    "collapsed": false,
    "pycharm": {
     "name": "#%%\n"
    }
   }
  },
  {
   "cell_type": "markdown",
   "source": [
    "## Cleaning the price column"
   ],
   "metadata": {
    "collapsed": false,
    "pycharm": {
     "name": "#%% md\n"
    }
   }
  },
  {
   "cell_type": "markdown",
   "source": [
    "The \"price\" column was originally an object data type, but for EDA and modelling, it needs to be in integer format. To achieve this, I removed all non-numeric characters and converted the column to an integer data type."
   ],
   "metadata": {
    "collapsed": false,
    "pycharm": {
     "name": "#%% md\n"
    }
   }
  },
  {
   "cell_type": "code",
   "execution_count": 65,
   "outputs": [],
   "source": [
    "df['price'] = df['price'].str.replace('(\\D+)', '', regex = True).astype(int)"
   ],
   "metadata": {
    "collapsed": false,
    "pycharm": {
     "name": "#%%\n"
    }
   }
  },
  {
   "cell_type": "code",
   "execution_count": 66,
   "outputs": [
    {
     "name": "stdout",
     "output_type": "stream",
     "text": [
      "<class 'pandas.core.frame.DataFrame'>\n",
      "RangeIndex: 1349 entries, 1 to 1349\n",
      "Data columns (total 7 columns):\n",
      " #   Column        Non-Null Count  Dtype \n",
      "---  ------        --------------  ----- \n",
      " 0   name          1349 non-null   object\n",
      " 1   price         1349 non-null   int64 \n",
      " 2   adress        1349 non-null   object\n",
      " 3   unit_details  1349 non-null   object\n",
      " 4   description   1349 non-null   object\n",
      " 5   score         1349 non-null   object\n",
      " 6   URL           1349 non-null   object\n",
      "dtypes: int64(1), object(6)\n",
      "memory usage: 73.9+ KB\n"
     ]
    }
   ],
   "source": [
    "df.info()"
   ],
   "metadata": {
    "collapsed": false,
    "pycharm": {
     "name": "#%%\n"
    }
   }
  },
  {
   "cell_type": "markdown",
   "source": [
    "Now, the price column contains only int numbers."
   ],
   "metadata": {
    "collapsed": false,
    "pycharm": {
     "name": "#%% md\n"
    }
   }
  },
  {
   "cell_type": "markdown",
   "source": [
    "## Cleaning the name column"
   ],
   "metadata": {
    "collapsed": false,
    "pycharm": {
     "name": "#%% md\n"
    }
   }
  },
  {
   "cell_type": "markdown",
   "source": [
    "The \"name\" column holds information regarding the number of bedrooms, bathrooms, and the type of property. In this step, I need to extract the type, number of bedrooms, and number of bathrooms from the \"name\" column."
   ],
   "metadata": {
    "collapsed": false,
    "pycharm": {
     "name": "#%% md\n"
    }
   }
  },
  {
   "cell_type": "code",
   "execution_count": 67,
   "outputs": [],
   "source": [
    "df['name'] = df['name'].str.replace('\\W', ' ', regex=True).str.strip().str.replace('   ', ' ').str.lower()\n",
    "#I removed all unnecessary characters from the column, eliminated excess spaces, and converted it to lowercase for easier manipulation."
   ],
   "metadata": {
    "collapsed": false,
    "pycharm": {
     "name": "#%%\n"
    }
   }
  },
  {
   "cell_type": "code",
   "execution_count": 68,
   "outputs": [
    {
     "data": {
      "text/plain": "                                               name  price  \\\n1                          3 beds 3 baths townhouse   3300   \n2                               2 beds 1 bath house   2000   \n3                            1 bed 1 bath apartment   1250   \n4   1 bedroom available in 2 bedroom basement suite    650   \n5                               3 beds 1 bath house   2000   \n6                                1 bed 1 bath house    600   \n7                                1 bed 1 bath house    850   \n8                             private room for rent    500   \n9                          2 beds 2 baths townhouse   2300   \n10                           1 bed 1 bath apartment   1800   \n\n                         adress  \\\n1      ['Kelowna, BC, V1Y 5T5']   \n2     ['West Kelowna, BC, V4T']   \n3          ['Kelowna, BC, V1V']   \n4   ['Location is approximate']   \n5      ['Kelowna, BC, V1V 1R1']   \n6      ['Kelowna, BC, V1X 3M7']   \n7       ['Vernon, BC, V1B 3M1']   \n8   ['Location is approximate']   \n9      ['Kelowna, BC, V1Y 5T8']   \n10  ['Location is approximate']   \n\n                                         unit_details  \\\n1   ['1275 Brookside Ave, Kelowna, BC', 'Listed ov...   \n2   ['Goldie Rd, West Kelowna, BC', '914 square fe...   \n3   ['Academy Way, Kelowna, BC', 'Listed over a we...   \n4   ['West Kelowna, BC', '1000 square meters', 'Li...   \n5   ['Kelowna, BC, Canada, Kelowna, BC', 'Listed a...   \n6   ['395 Froelich Rd, Kelowna, BC', 'Listed over ...   \n7   ['Vernon, BC, Canada, Vernon, BC', 'Listed 5 d...   \n8   ['Kelowna, BC', 'Listed 4 days ago · Available...   \n9   ['1145 Pacific Ave, Kelowna, BC', '1014 square...   \n10  ['Kelowna, BC', '750 square meters', 'Dog and ...   \n\n                                          description  \\\n1   ['Kelowna 3 bed 3 bath townhome for rent\\n\\nWi...   \n2   ['REDUCED. Stunning lake and city views are in...   \n3   ['Veda Student Living Studio Apartment Sublet ...   \n4   ['1 bedroom available in 2 bedroom basement su...   \n5   [\"Great location 3 bedroom, 1 bathroom home. N...   \n6                                     ['Girls room ']   \n7   [\"Room for Rent in Shared Home\\n\\nOne bedroom ...   \n8   ['2 room apartment (1 bedroom available) \\nFor...   \n9   ['Beautiful and spacious 1014 square foot rent...   \n10  ['READ AD BEFORE REACTING 🤘🏼\\nLooking to rent ...   \n\n                                                score  \\\n1                                                  []   \n2                                                  []   \n3                                                  []   \n4   ['Provided by Walk Score®︎', '63 out of 100', ...   \n5                                                  []   \n6                                                  []   \n7                                                  []   \n8                                                  []   \n9                                                  []   \n10                                                 []   \n\n                                                  URL  \n1   ['https://www.facebook.com/marketplace/item/11...  \n2   ['https://www.facebook.com/marketplace/item/13...  \n3   ['https://www.facebook.com/marketplace/item/15...  \n4   ['https://www.facebook.com/marketplace/item/36...  \n5   ['https://www.facebook.com/marketplace/item/60...  \n6   ['https://www.facebook.com/marketplace/item/49...  \n7   ['https://www.facebook.com/marketplace/item/85...  \n8   ['https://www.facebook.com/marketplace/item/84...  \n9   ['https://www.facebook.com/marketplace/item/81...  \n10  ['https://www.facebook.com/marketplace/item/72...  ",
      "text/html": "<div>\n<style scoped>\n    .dataframe tbody tr th:only-of-type {\n        vertical-align: middle;\n    }\n\n    .dataframe tbody tr th {\n        vertical-align: top;\n    }\n\n    .dataframe thead th {\n        text-align: right;\n    }\n</style>\n<table border=\"1\" class=\"dataframe\">\n  <thead>\n    <tr style=\"text-align: right;\">\n      <th></th>\n      <th>name</th>\n      <th>price</th>\n      <th>adress</th>\n      <th>unit_details</th>\n      <th>description</th>\n      <th>score</th>\n      <th>URL</th>\n    </tr>\n  </thead>\n  <tbody>\n    <tr>\n      <th>1</th>\n      <td>3 beds 3 baths townhouse</td>\n      <td>3300</td>\n      <td>['Kelowna, BC, V1Y 5T5']</td>\n      <td>['1275 Brookside Ave, Kelowna, BC', 'Listed ov...</td>\n      <td>['Kelowna 3 bed 3 bath townhome for rent\\n\\nWi...</td>\n      <td>[]</td>\n      <td>['https://www.facebook.com/marketplace/item/11...</td>\n    </tr>\n    <tr>\n      <th>2</th>\n      <td>2 beds 1 bath house</td>\n      <td>2000</td>\n      <td>['West Kelowna, BC, V4T']</td>\n      <td>['Goldie Rd, West Kelowna, BC', '914 square fe...</td>\n      <td>['REDUCED. Stunning lake and city views are in...</td>\n      <td>[]</td>\n      <td>['https://www.facebook.com/marketplace/item/13...</td>\n    </tr>\n    <tr>\n      <th>3</th>\n      <td>1 bed 1 bath apartment</td>\n      <td>1250</td>\n      <td>['Kelowna, BC, V1V']</td>\n      <td>['Academy Way, Kelowna, BC', 'Listed over a we...</td>\n      <td>['Veda Student Living Studio Apartment Sublet ...</td>\n      <td>[]</td>\n      <td>['https://www.facebook.com/marketplace/item/15...</td>\n    </tr>\n    <tr>\n      <th>4</th>\n      <td>1 bedroom available in 2 bedroom basement suite</td>\n      <td>650</td>\n      <td>['Location is approximate']</td>\n      <td>['West Kelowna, BC', '1000 square meters', 'Li...</td>\n      <td>['1 bedroom available in 2 bedroom basement su...</td>\n      <td>['Provided by Walk Score®︎', '63 out of 100', ...</td>\n      <td>['https://www.facebook.com/marketplace/item/36...</td>\n    </tr>\n    <tr>\n      <th>5</th>\n      <td>3 beds 1 bath house</td>\n      <td>2000</td>\n      <td>['Kelowna, BC, V1V 1R1']</td>\n      <td>['Kelowna, BC, Canada, Kelowna, BC', 'Listed a...</td>\n      <td>[\"Great location 3 bedroom, 1 bathroom home. N...</td>\n      <td>[]</td>\n      <td>['https://www.facebook.com/marketplace/item/60...</td>\n    </tr>\n    <tr>\n      <th>6</th>\n      <td>1 bed 1 bath house</td>\n      <td>600</td>\n      <td>['Kelowna, BC, V1X 3M7']</td>\n      <td>['395 Froelich Rd, Kelowna, BC', 'Listed over ...</td>\n      <td>['Girls room ']</td>\n      <td>[]</td>\n      <td>['https://www.facebook.com/marketplace/item/49...</td>\n    </tr>\n    <tr>\n      <th>7</th>\n      <td>1 bed 1 bath house</td>\n      <td>850</td>\n      <td>['Vernon, BC, V1B 3M1']</td>\n      <td>['Vernon, BC, Canada, Vernon, BC', 'Listed 5 d...</td>\n      <td>[\"Room for Rent in Shared Home\\n\\nOne bedroom ...</td>\n      <td>[]</td>\n      <td>['https://www.facebook.com/marketplace/item/85...</td>\n    </tr>\n    <tr>\n      <th>8</th>\n      <td>private room for rent</td>\n      <td>500</td>\n      <td>['Location is approximate']</td>\n      <td>['Kelowna, BC', 'Listed 4 days ago · Available...</td>\n      <td>['2 room apartment (1 bedroom available) \\nFor...</td>\n      <td>[]</td>\n      <td>['https://www.facebook.com/marketplace/item/84...</td>\n    </tr>\n    <tr>\n      <th>9</th>\n      <td>2 beds 2 baths townhouse</td>\n      <td>2300</td>\n      <td>['Kelowna, BC, V1Y 5T8']</td>\n      <td>['1145 Pacific Ave, Kelowna, BC', '1014 square...</td>\n      <td>['Beautiful and spacious 1014 square foot rent...</td>\n      <td>[]</td>\n      <td>['https://www.facebook.com/marketplace/item/81...</td>\n    </tr>\n    <tr>\n      <th>10</th>\n      <td>1 bed 1 bath apartment</td>\n      <td>1800</td>\n      <td>['Location is approximate']</td>\n      <td>['Kelowna, BC', '750 square meters', 'Dog and ...</td>\n      <td>['READ AD BEFORE REACTING 🤘🏼\\nLooking to rent ...</td>\n      <td>[]</td>\n      <td>['https://www.facebook.com/marketplace/item/72...</td>\n    </tr>\n  </tbody>\n</table>\n</div>"
     },
     "execution_count": 68,
     "metadata": {},
     "output_type": "execute_result"
    }
   ],
   "source": [
    "df.head(10)"
   ],
   "metadata": {
    "collapsed": false,
    "pycharm": {
     "name": "#%%\n"
    }
   }
  },
  {
   "cell_type": "code",
   "execution_count": 69,
   "outputs": [],
   "source": [
    "df['type_from_name'] = np.where(df['name'].str.contains(\"townhouse\"), \"Townhouse\",\n",
    "             np.where(df['name'].str.contains(\"room\"), \"Room\",\n",
    "             np.where(df['unit_details'].str.contains(\"basement\"), \"Room\",\n",
    "             np.where(df['name'].str.contains(\"condo\"), \"Apartment/Condo\",\n",
    "             np.where(df['name'].str.contains(\"flat\"), \"Apartment/Condo\",\n",
    "             np.where(df['name'].str.contains(\"apartment\"), \"Apartment/Condo\",\n",
    "             np.where(df['name'].str.contains('house'), 'House',\n",
    "             np.where(df['name'].str.contains('studio'), 'Apartment/Condo', 'None'))))))))\n",
    "#This code creates a new column in the data frame \"df\" called \"type_from_name\", which categorizes the type of property based on information from the \"name\" column."
   ],
   "metadata": {
    "collapsed": false,
    "pycharm": {
     "name": "#%%\n"
    }
   }
  },
  {
   "cell_type": "code",
   "execution_count": 70,
   "outputs": [],
   "source": [
    "df['unit_details'] = df['unit_details'].str.lower()\n",
    "#I converted 'unit_details' columns to lowercase for easier manipulation"
   ],
   "metadata": {
    "collapsed": false,
    "pycharm": {
     "name": "#%%\n"
    }
   }
  },
  {
   "cell_type": "code",
   "execution_count": 71,
   "outputs": [],
   "source": [
    "df['type_from_details'] = np.where(df['unit_details'].str.contains(\"townhouse\"), \"Townhouse\",\n",
    "                          np.where(df['unit_details'].str.contains(\"room\"), \"Room\",\n",
    "                          np.where(df['unit_details'].str.contains(\"basement\"), \"Room\",\n",
    "                          np.where(df['unit_details'].str.contains(\"condo\"), \"Apartment/Condo\",\n",
    "                          np.where(df['unit_details'].str.contains(\"flat\"), \"Apartment/Condo\",\n",
    "                          np.where(df['unit_details'].str.contains(\"apartment\"), \"Apartment/Condo\",\n",
    "                          np.where(df['unit_details'].str.contains('house'), 'House',\n",
    "                          np.where(df['unit_details'].str.contains('studio'), 'Apartment/Condo', 'None'))))))))\n",
    "#This code creates a new column in the data frame \"df\" called \"type_from_details\", which categorizes the type of property based on information from the \"unit_details\" column."
   ],
   "metadata": {
    "collapsed": false,
    "pycharm": {
     "name": "#%%\n"
    }
   }
  },
  {
   "cell_type": "code",
   "execution_count": 72,
   "outputs": [
    {
     "data": {
      "text/plain": "                                               name  price  \\\n1                          3 beds 3 baths townhouse   3300   \n2                               2 beds 1 bath house   2000   \n3                            1 bed 1 bath apartment   1250   \n4   1 bedroom available in 2 bedroom basement suite    650   \n5                               3 beds 1 bath house   2000   \n6                                1 bed 1 bath house    600   \n7                                1 bed 1 bath house    850   \n8                             private room for rent    500   \n9                          2 beds 2 baths townhouse   2300   \n10                           1 bed 1 bath apartment   1800   \n\n                         adress  \\\n1      ['Kelowna, BC, V1Y 5T5']   \n2     ['West Kelowna, BC, V4T']   \n3          ['Kelowna, BC, V1V']   \n4   ['Location is approximate']   \n5      ['Kelowna, BC, V1V 1R1']   \n6      ['Kelowna, BC, V1X 3M7']   \n7       ['Vernon, BC, V1B 3M1']   \n8   ['Location is approximate']   \n9      ['Kelowna, BC, V1Y 5T8']   \n10  ['Location is approximate']   \n\n                                         unit_details  \\\n1   ['1275 brookside ave, kelowna, bc', 'listed ov...   \n2   ['goldie rd, west kelowna, bc', '914 square fe...   \n3   ['academy way, kelowna, bc', 'listed over a we...   \n4   ['west kelowna, bc', '1000 square meters', 'li...   \n5   ['kelowna, bc, canada, kelowna, bc', 'listed a...   \n6   ['395 froelich rd, kelowna, bc', 'listed over ...   \n7   ['vernon, bc, canada, vernon, bc', 'listed 5 d...   \n8   ['kelowna, bc', 'listed 4 days ago · available...   \n9   ['1145 pacific ave, kelowna, bc', '1014 square...   \n10  ['kelowna, bc', '750 square meters', 'dog and ...   \n\n                                          description  \\\n1   ['Kelowna 3 bed 3 bath townhome for rent\\n\\nWi...   \n2   ['REDUCED. Stunning lake and city views are in...   \n3   ['Veda Student Living Studio Apartment Sublet ...   \n4   ['1 bedroom available in 2 bedroom basement su...   \n5   [\"Great location 3 bedroom, 1 bathroom home. N...   \n6                                     ['Girls room ']   \n7   [\"Room for Rent in Shared Home\\n\\nOne bedroom ...   \n8   ['2 room apartment (1 bedroom available) \\nFor...   \n9   ['Beautiful and spacious 1014 square foot rent...   \n10  ['READ AD BEFORE REACTING 🤘🏼\\nLooking to rent ...   \n\n                                                score  \\\n1                                                  []   \n2                                                  []   \n3                                                  []   \n4   ['Provided by Walk Score®︎', '63 out of 100', ...   \n5                                                  []   \n6                                                  []   \n7                                                  []   \n8                                                  []   \n9                                                  []   \n10                                                 []   \n\n                                                  URL   type_from_name  \\\n1   ['https://www.facebook.com/marketplace/item/11...        Townhouse   \n2   ['https://www.facebook.com/marketplace/item/13...            House   \n3   ['https://www.facebook.com/marketplace/item/15...  Apartment/Condo   \n4   ['https://www.facebook.com/marketplace/item/36...             Room   \n5   ['https://www.facebook.com/marketplace/item/60...            House   \n6   ['https://www.facebook.com/marketplace/item/49...            House   \n7   ['https://www.facebook.com/marketplace/item/85...            House   \n8   ['https://www.facebook.com/marketplace/item/84...             Room   \n9   ['https://www.facebook.com/marketplace/item/81...        Townhouse   \n10  ['https://www.facebook.com/marketplace/item/72...  Apartment/Condo   \n\n   type_from_details  \n1          Townhouse  \n2              House  \n3    Apartment/Condo  \n4               Room  \n5              House  \n6              House  \n7              House  \n8    Apartment/Condo  \n9          Townhouse  \n10   Apartment/Condo  ",
      "text/html": "<div>\n<style scoped>\n    .dataframe tbody tr th:only-of-type {\n        vertical-align: middle;\n    }\n\n    .dataframe tbody tr th {\n        vertical-align: top;\n    }\n\n    .dataframe thead th {\n        text-align: right;\n    }\n</style>\n<table border=\"1\" class=\"dataframe\">\n  <thead>\n    <tr style=\"text-align: right;\">\n      <th></th>\n      <th>name</th>\n      <th>price</th>\n      <th>adress</th>\n      <th>unit_details</th>\n      <th>description</th>\n      <th>score</th>\n      <th>URL</th>\n      <th>type_from_name</th>\n      <th>type_from_details</th>\n    </tr>\n  </thead>\n  <tbody>\n    <tr>\n      <th>1</th>\n      <td>3 beds 3 baths townhouse</td>\n      <td>3300</td>\n      <td>['Kelowna, BC, V1Y 5T5']</td>\n      <td>['1275 brookside ave, kelowna, bc', 'listed ov...</td>\n      <td>['Kelowna 3 bed 3 bath townhome for rent\\n\\nWi...</td>\n      <td>[]</td>\n      <td>['https://www.facebook.com/marketplace/item/11...</td>\n      <td>Townhouse</td>\n      <td>Townhouse</td>\n    </tr>\n    <tr>\n      <th>2</th>\n      <td>2 beds 1 bath house</td>\n      <td>2000</td>\n      <td>['West Kelowna, BC, V4T']</td>\n      <td>['goldie rd, west kelowna, bc', '914 square fe...</td>\n      <td>['REDUCED. Stunning lake and city views are in...</td>\n      <td>[]</td>\n      <td>['https://www.facebook.com/marketplace/item/13...</td>\n      <td>House</td>\n      <td>House</td>\n    </tr>\n    <tr>\n      <th>3</th>\n      <td>1 bed 1 bath apartment</td>\n      <td>1250</td>\n      <td>['Kelowna, BC, V1V']</td>\n      <td>['academy way, kelowna, bc', 'listed over a we...</td>\n      <td>['Veda Student Living Studio Apartment Sublet ...</td>\n      <td>[]</td>\n      <td>['https://www.facebook.com/marketplace/item/15...</td>\n      <td>Apartment/Condo</td>\n      <td>Apartment/Condo</td>\n    </tr>\n    <tr>\n      <th>4</th>\n      <td>1 bedroom available in 2 bedroom basement suite</td>\n      <td>650</td>\n      <td>['Location is approximate']</td>\n      <td>['west kelowna, bc', '1000 square meters', 'li...</td>\n      <td>['1 bedroom available in 2 bedroom basement su...</td>\n      <td>['Provided by Walk Score®︎', '63 out of 100', ...</td>\n      <td>['https://www.facebook.com/marketplace/item/36...</td>\n      <td>Room</td>\n      <td>Room</td>\n    </tr>\n    <tr>\n      <th>5</th>\n      <td>3 beds 1 bath house</td>\n      <td>2000</td>\n      <td>['Kelowna, BC, V1V 1R1']</td>\n      <td>['kelowna, bc, canada, kelowna, bc', 'listed a...</td>\n      <td>[\"Great location 3 bedroom, 1 bathroom home. N...</td>\n      <td>[]</td>\n      <td>['https://www.facebook.com/marketplace/item/60...</td>\n      <td>House</td>\n      <td>House</td>\n    </tr>\n    <tr>\n      <th>6</th>\n      <td>1 bed 1 bath house</td>\n      <td>600</td>\n      <td>['Kelowna, BC, V1X 3M7']</td>\n      <td>['395 froelich rd, kelowna, bc', 'listed over ...</td>\n      <td>['Girls room ']</td>\n      <td>[]</td>\n      <td>['https://www.facebook.com/marketplace/item/49...</td>\n      <td>House</td>\n      <td>House</td>\n    </tr>\n    <tr>\n      <th>7</th>\n      <td>1 bed 1 bath house</td>\n      <td>850</td>\n      <td>['Vernon, BC, V1B 3M1']</td>\n      <td>['vernon, bc, canada, vernon, bc', 'listed 5 d...</td>\n      <td>[\"Room for Rent in Shared Home\\n\\nOne bedroom ...</td>\n      <td>[]</td>\n      <td>['https://www.facebook.com/marketplace/item/85...</td>\n      <td>House</td>\n      <td>House</td>\n    </tr>\n    <tr>\n      <th>8</th>\n      <td>private room for rent</td>\n      <td>500</td>\n      <td>['Location is approximate']</td>\n      <td>['kelowna, bc', 'listed 4 days ago · available...</td>\n      <td>['2 room apartment (1 bedroom available) \\nFor...</td>\n      <td>[]</td>\n      <td>['https://www.facebook.com/marketplace/item/84...</td>\n      <td>Room</td>\n      <td>Apartment/Condo</td>\n    </tr>\n    <tr>\n      <th>9</th>\n      <td>2 beds 2 baths townhouse</td>\n      <td>2300</td>\n      <td>['Kelowna, BC, V1Y 5T8']</td>\n      <td>['1145 pacific ave, kelowna, bc', '1014 square...</td>\n      <td>['Beautiful and spacious 1014 square foot rent...</td>\n      <td>[]</td>\n      <td>['https://www.facebook.com/marketplace/item/81...</td>\n      <td>Townhouse</td>\n      <td>Townhouse</td>\n    </tr>\n    <tr>\n      <th>10</th>\n      <td>1 bed 1 bath apartment</td>\n      <td>1800</td>\n      <td>['Location is approximate']</td>\n      <td>['kelowna, bc', '750 square meters', 'dog and ...</td>\n      <td>['READ AD BEFORE REACTING 🤘🏼\\nLooking to rent ...</td>\n      <td>[]</td>\n      <td>['https://www.facebook.com/marketplace/item/72...</td>\n      <td>Apartment/Condo</td>\n      <td>Apartment/Condo</td>\n    </tr>\n  </tbody>\n</table>\n</div>"
     },
     "execution_count": 72,
     "metadata": {},
     "output_type": "execute_result"
    }
   ],
   "source": [
    "df.head(10)"
   ],
   "metadata": {
    "collapsed": false,
    "pycharm": {
     "name": "#%%\n"
    }
   }
  },
  {
   "cell_type": "code",
   "execution_count": 73,
   "outputs": [
    {
     "data": {
      "text/plain": "                                                   name  price  \\\n8                                 private room for rent    500   \n17                                private room for rent    750   \n18                                1 bed 1 bathroom flat   1450   \n19                                private room for rent    800   \n38                                private room for rent    650   \n...                                                 ...    ...   \n1342                 room for rent available in rutland    850   \n1345  room for rent for girls in rutland dm for more...    900   \n1347  renew your condo  kitchen and more  quartz gra...      1   \n1348                   powerwash house by professionals    123   \n1349                              private room for rent   1100   \n\n                           adress  \\\n8     ['Location is approximate']   \n17       ['Kelowna, BC, V1Y 7V3']   \n18       ['Kelowna, BC, V1Y 6N7']   \n19       ['Kelowna, BC, V1X 7P3']   \n38       ['Kelowna, BC, V1W 3X2']   \n...                           ...   \n1342  ['Location is approximate']   \n1345  ['Location is approximate']   \n1347  ['Location is approximate']   \n1348  ['Location is approximate']   \n1349  ['Location is approximate']   \n\n                                           unit_details  \\\n8     ['kelowna, bc', 'listed 4 days ago · available...   \n17    ['dilworth dr, kelowna, bc', 'listed 5 days ag...   \n18    ['bernard ave, kelowna, bc', '800 square meter...   \n19    ['539 clayton cres, kelowna, bc', 'listed 3 da...   \n38    ['885 lanfranco rd, kelowna, bc', 'listed 4 da...   \n...                                                 ...   \n1342  ['condition', 'used - like new', 'kelowna, bc'...   \n1345  ['kelowna, bc', 'listed over a week ago', 'hou...   \n1347  ['condition', 'new', 'penticton, bc', 'joined ...   \n1348  ['condition', 'new', 'vernon, bc', 'joined fac...   \n1349  ['west kelowna, bc', '1800 square meters', 'li...   \n\n                                            description  \\\n8     ['2 room apartment (1 bedroom available) \\nFor...   \n17    ['Beautiful house, 1 bedroom available.  This ...   \n18    [\"Studio suite with loft bedroom. Looking for ...   \n19    ['1 bedroom,1 bathroom  available in very clea...   \n38    ['1 private bedroom available in house, \\nFor ...   \n...                                                 ...   \n1342  ['1 room available in a shared house for rent ...   \n1345  ['Dm for more info! Room available for girls a...   \n1347  ['We are manufacturers and installers with mor...   \n1348  ['Call [hidden information] for further details']   \n1349  [\"Welcome to the Luxury Lakeview Private Suite...   \n\n                                                  score  \\\n8                                                    []   \n17                                                   []   \n18                                                   []   \n19                                                   []   \n38                                                   []   \n...                                                 ...   \n1342                                                 []   \n1345  ['Provided by Walk Score®︎', '60 out of 100', ...   \n1347                                                 []   \n1348                                                 []   \n1349                                                 []   \n\n                                                    URL   type_from_name  \\\n8     ['https://www.facebook.com/marketplace/item/84...             Room   \n17    ['https://www.facebook.com/marketplace/item/18...             Room   \n18    ['https://www.facebook.com/marketplace/item/73...             Room   \n19    ['https://www.facebook.com/marketplace/item/87...             Room   \n38    ['https://www.facebook.com/marketplace/item/57...             Room   \n...                                                 ...              ...   \n1342  ['https://www.facebook.com/marketplace/item/69...             Room   \n1345  ['https://www.facebook.com/marketplace/item/81...             Room   \n1347  ['https://www.facebook.com/marketplace/item/57...  Apartment/Condo   \n1348  ['https://www.facebook.com/marketplace/item/66...            House   \n1349  ['https://www.facebook.com/marketplace/item/71...             Room   \n\n     type_from_details  \n8      Apartment/Condo  \n17               House  \n18     Apartment/Condo  \n19               House  \n38               House  \n...                ...  \n1342              None  \n1345             House  \n1347              None  \n1348              None  \n1349             House  \n\n[351 rows x 9 columns]",
      "text/html": "<div>\n<style scoped>\n    .dataframe tbody tr th:only-of-type {\n        vertical-align: middle;\n    }\n\n    .dataframe tbody tr th {\n        vertical-align: top;\n    }\n\n    .dataframe thead th {\n        text-align: right;\n    }\n</style>\n<table border=\"1\" class=\"dataframe\">\n  <thead>\n    <tr style=\"text-align: right;\">\n      <th></th>\n      <th>name</th>\n      <th>price</th>\n      <th>adress</th>\n      <th>unit_details</th>\n      <th>description</th>\n      <th>score</th>\n      <th>URL</th>\n      <th>type_from_name</th>\n      <th>type_from_details</th>\n    </tr>\n  </thead>\n  <tbody>\n    <tr>\n      <th>8</th>\n      <td>private room for rent</td>\n      <td>500</td>\n      <td>['Location is approximate']</td>\n      <td>['kelowna, bc', 'listed 4 days ago · available...</td>\n      <td>['2 room apartment (1 bedroom available) \\nFor...</td>\n      <td>[]</td>\n      <td>['https://www.facebook.com/marketplace/item/84...</td>\n      <td>Room</td>\n      <td>Apartment/Condo</td>\n    </tr>\n    <tr>\n      <th>17</th>\n      <td>private room for rent</td>\n      <td>750</td>\n      <td>['Kelowna, BC, V1Y 7V3']</td>\n      <td>['dilworth dr, kelowna, bc', 'listed 5 days ag...</td>\n      <td>['Beautiful house, 1 bedroom available.  This ...</td>\n      <td>[]</td>\n      <td>['https://www.facebook.com/marketplace/item/18...</td>\n      <td>Room</td>\n      <td>House</td>\n    </tr>\n    <tr>\n      <th>18</th>\n      <td>1 bed 1 bathroom flat</td>\n      <td>1450</td>\n      <td>['Kelowna, BC, V1Y 6N7']</td>\n      <td>['bernard ave, kelowna, bc', '800 square meter...</td>\n      <td>[\"Studio suite with loft bedroom. Looking for ...</td>\n      <td>[]</td>\n      <td>['https://www.facebook.com/marketplace/item/73...</td>\n      <td>Room</td>\n      <td>Apartment/Condo</td>\n    </tr>\n    <tr>\n      <th>19</th>\n      <td>private room for rent</td>\n      <td>800</td>\n      <td>['Kelowna, BC, V1X 7P3']</td>\n      <td>['539 clayton cres, kelowna, bc', 'listed 3 da...</td>\n      <td>['1 bedroom,1 bathroom  available in very clea...</td>\n      <td>[]</td>\n      <td>['https://www.facebook.com/marketplace/item/87...</td>\n      <td>Room</td>\n      <td>House</td>\n    </tr>\n    <tr>\n      <th>38</th>\n      <td>private room for rent</td>\n      <td>650</td>\n      <td>['Kelowna, BC, V1W 3X2']</td>\n      <td>['885 lanfranco rd, kelowna, bc', 'listed 4 da...</td>\n      <td>['1 private bedroom available in house, \\nFor ...</td>\n      <td>[]</td>\n      <td>['https://www.facebook.com/marketplace/item/57...</td>\n      <td>Room</td>\n      <td>House</td>\n    </tr>\n    <tr>\n      <th>...</th>\n      <td>...</td>\n      <td>...</td>\n      <td>...</td>\n      <td>...</td>\n      <td>...</td>\n      <td>...</td>\n      <td>...</td>\n      <td>...</td>\n      <td>...</td>\n    </tr>\n    <tr>\n      <th>1342</th>\n      <td>room for rent available in rutland</td>\n      <td>850</td>\n      <td>['Location is approximate']</td>\n      <td>['condition', 'used - like new', 'kelowna, bc'...</td>\n      <td>['1 room available in a shared house for rent ...</td>\n      <td>[]</td>\n      <td>['https://www.facebook.com/marketplace/item/69...</td>\n      <td>Room</td>\n      <td>None</td>\n    </tr>\n    <tr>\n      <th>1345</th>\n      <td>room for rent for girls in rutland dm for more...</td>\n      <td>900</td>\n      <td>['Location is approximate']</td>\n      <td>['kelowna, bc', 'listed over a week ago', 'hou...</td>\n      <td>['Dm for more info! Room available for girls a...</td>\n      <td>['Provided by Walk Score®︎', '60 out of 100', ...</td>\n      <td>['https://www.facebook.com/marketplace/item/81...</td>\n      <td>Room</td>\n      <td>House</td>\n    </tr>\n    <tr>\n      <th>1347</th>\n      <td>renew your condo  kitchen and more  quartz gra...</td>\n      <td>1</td>\n      <td>['Location is approximate']</td>\n      <td>['condition', 'new', 'penticton, bc', 'joined ...</td>\n      <td>['We are manufacturers and installers with mor...</td>\n      <td>[]</td>\n      <td>['https://www.facebook.com/marketplace/item/57...</td>\n      <td>Apartment/Condo</td>\n      <td>None</td>\n    </tr>\n    <tr>\n      <th>1348</th>\n      <td>powerwash house by professionals</td>\n      <td>123</td>\n      <td>['Location is approximate']</td>\n      <td>['condition', 'new', 'vernon, bc', 'joined fac...</td>\n      <td>['Call [hidden information] for further details']</td>\n      <td>[]</td>\n      <td>['https://www.facebook.com/marketplace/item/66...</td>\n      <td>House</td>\n      <td>None</td>\n    </tr>\n    <tr>\n      <th>1349</th>\n      <td>private room for rent</td>\n      <td>1100</td>\n      <td>['Location is approximate']</td>\n      <td>['west kelowna, bc', '1800 square meters', 'li...</td>\n      <td>[\"Welcome to the Luxury Lakeview Private Suite...</td>\n      <td>[]</td>\n      <td>['https://www.facebook.com/marketplace/item/71...</td>\n      <td>Room</td>\n      <td>House</td>\n    </tr>\n  </tbody>\n</table>\n<p>351 rows × 9 columns</p>\n</div>"
     },
     "execution_count": 73,
     "metadata": {},
     "output_type": "execute_result"
    }
   ],
   "source": [
    "df[df['type_from_name'] != df['type_from_details']]\n",
    "#This code outputs all the rows in the data frame where the values in the \"type_from_name\" column are not equal to the values in the \"type_from_details\" column."
   ],
   "metadata": {
    "collapsed": false,
    "pycharm": {
     "name": "#%%\n"
    }
   }
  },
  {
   "cell_type": "markdown",
   "source": [
    "The purpose is to compare which of the two methods extract the type of property better, \"type_from_name\" or \"type_from_details\". After analyzing the output, I conclude that \"type_from_details\" did a better job in extracting the type of property."
   ],
   "metadata": {
    "collapsed": false,
    "pycharm": {
     "name": "#%% md\n"
    }
   }
  },
  {
   "cell_type": "markdown",
   "source": [
    "Now lets check all listings in this dataset where both types in None"
   ],
   "metadata": {
    "collapsed": false,
    "pycharm": {
     "name": "#%% md\n"
    }
   }
  },
  {
   "cell_type": "code",
   "execution_count": 74,
   "outputs": [
    {
     "data": {
      "text/plain": "                                                   name  price  \\\n504                             1 bed 1 bath in rutland    900   \n709   get free help at home for a personalized templ...     59   \n799                                        1 bed 1 bath    450   \n872                  beautiful home for rent main floor   3000   \n892                              parking space for rent    123   \n907                 97 northlander park model for lease   3500   \n922                                             trailer  78000   \n942                         separate entry 1 bed 1 bath    950   \n955                            lake front winter rental    400   \n958                               office space for rent    500   \n996                                    light industrial     13   \n1009                                     space for rent    400   \n1043                          monthly storage available      1   \n1053  get your reno in 2 weeks to install  custom co...      1   \n1077                                               veda   1300   \n1081            bouy o boy anti exposure flotation suit    400   \n1179                     duplex upstairs ready for rent   2000   \n1187  4601 anderson way  premium commercial real est...     18   \n1223       beautiful 3bed 2bath turn key student rental   1000   \n1239                                     place for rent   1234   \n1248    promo quartz sparkling  59 sqft new countertops     59   \n1257  christmas season  new colors for your favorite...      1   \n1292        1 week available in january 2200 for 1 week   2200   \n1298  get a new project in 2 weesk  quartz and grani...   2200   \n1300  chalets for rent nightly at big white ski reso...   1234   \n1309                    quartz season at the best price      1   \n1310  christmas season  best prices  new collection ...      1   \n1320              silver star suite for short term rent    375   \n1323                                       storage unit    200   \n1325                     ski jacket pants monster brand     20   \n1332  amazing countertops outdoor and indoor  exclus...      1   \n1334  replace your countertops in 2 weeks  quartz an...      1   \n1336  renew your favorite area this year  quartz and...      1   \n1337                             parking space for rent    123   \n1339  amazing countertops outdoor and indoor  exclus...      1   \n1340                              storage yard for rent   1000   \n1341                                             janome   7500   \n1343                       matte black tub door 5 wx5 h      1   \n1344                         certified kitchen for rent      1   \n1346      parking rv  boat boat trailer  few slots left     70   \n\n                           adress  \\\n504   ['Location is approximate']   \n709   ['Location is approximate']   \n799   ['Location is approximate']   \n872   ['Location is approximate']   \n892   ['Location is approximate']   \n907   ['Location is approximate']   \n922   ['Location is approximate']   \n942   ['Location is approximate']   \n955   ['Location is approximate']   \n958   ['Location is approximate']   \n996   ['Location is approximate']   \n1009  ['Location is approximate']   \n1043  ['Location is approximate']   \n1053  ['Location is approximate']   \n1077  ['Location is approximate']   \n1081  ['Location is approximate']   \n1179  ['Location is approximate']   \n1187  ['Location is approximate']   \n1223  ['Location is approximate']   \n1239  ['Location is approximate']   \n1248  ['Location is approximate']   \n1257  ['Location is approximate']   \n1292  ['Location is approximate']   \n1298  ['Location is approximate']   \n1300  ['Location is approximate']   \n1309  ['Location is approximate']   \n1310  ['Location is approximate']   \n1320  ['Location is approximate']   \n1323  ['Location is approximate']   \n1325  ['Location is approximate']   \n1332  ['Location is approximate']   \n1334  ['Location is approximate']   \n1336  ['Location is approximate']   \n1337  ['Location is approximate']   \n1339  ['Location is approximate']   \n1340  ['Location is approximate']   \n1341  ['Location is approximate']   \n1343  ['Location is approximate']   \n1344  ['Location is approximate']   \n1346  ['Location is approximate']   \n\n                                           unit_details  \\\n504          ['kelowna, bc', 'joined facebook in 2007']   \n709   ['condition', 'new', 'band color', 'quartz and...   \n799   ['kelowna, bc', 'listed over a week ago · avai...   \n872   ['condition', 'used - like new', 'kelowna, bc'...   \n892   ['condition', 'new', 'kelowna, bc', 'joined fa...   \n907          ['kelowna, bc', 'joined facebook in 2008']   \n922        ['penticton, bc', 'joined facebook in 2022']   \n942          ['kelowna, bc', 'joined facebook in 2022']   \n955   ['condition', 'used - like new', 'okanagan-sim...   \n958   ['condition', 'used - good', 'vernon, bc', 'jo...   \n996       ['summerland, bc', 'joined facebook in 2010']   \n1009  ['condition', 'new', 'summerland, bc', 'joined...   \n1043  ['condition', 'new', 'kelowna, bc', 'joined fa...   \n1053  ['condition', 'new', 'band color', 'multicolor...   \n1077  ['condition', 'new', 'kelowna, bc', 'joined fa...   \n1081         ['kelowna, bc', 'joined facebook in 2011']   \n1179         ['kelowna, bc', 'joined facebook in 2008']   \n1187          ['vernon, bc', 'joined facebook in 2022']   \n1223         ['kelowna, bc', 'joined facebook in 2022']   \n1239         ['kelowna, bc', 'joined facebook in 2007']   \n1248  ['condition', 'new', 'kelowna, bc', 'joined fa...   \n1257  ['condition', 'new', 'band color', 'new collec...   \n1292  ['condition', 'new', 'kootenay boundary, bc', ...   \n1298  ['condition', 'new', 'band color', 'multicolor...   \n1300  ['condition', 'used - like new', 'kelowna, bc'...   \n1309  ['condition', 'new', 'band color', 'premium qu...   \n1310  ['condition', 'new', 'band color', 'multicolor...   \n1320  ['condition', 'used - like new', 'north okanag...   \n1323          ['vernon, bc', 'joined facebook in 2021']   \n1325          ['vernon, bc', 'joined facebook in 2008']   \n1332  ['condition', 'new', 'band color', 'multi colo...   \n1334  ['condition', 'new', 'band color', 'variety of...   \n1336  ['condition', 'new', 'band color', 'multicolor...   \n1337  ['condition', 'new', 'lake country, bc', 'join...   \n1339  ['condition', 'new', 'band color', 'multi colo...   \n1340  ['condition', 'used - good', 'kelowna, bc', 'j...   \n1341  ['condition', 'used - like new', 'kelowna, bc'...   \n1343  ['condition', 'new', 'band color', 'black', 'w...   \n1344          ['vernon, bc', 'joined facebook in 2018']   \n1346  ['condition', 'new', 'kelowna, bc', 'joined fa...   \n\n                                            description score  \\\n504   ['Searching for a roommate for February, prefe...    []   \n709   ['For an online quote please send us photos or...    []   \n799   ['Office space for rent. Looking to share my o...    []   \n872   ['Available March 1st 2023\\nBeautiful Bright a...    []   \n892   ['Parking space for rent \\nSpace available for...    []   \n907   [\"97 40' × 12 northlander park model for lease...    []   \n922   ['Barefoot Beach Resort \\nSo many fantastic am...    []   \n942   ['Studio flex room with separate entrance newl...    []   \n955   [\"Family Day Weekend still available The Cabin...    []   \n958   ['3 office spaces for rent at the mustard seed...    []   \n996   ['Light industrial warehouse for lease! $13 sq...    []   \n1009  ['Are you an RMT / Aesthetician / Lash Tech / ...    []   \n1043  [\"Get your best quote from storage facility il...    []   \n1053  ['Manufacturers and Installers countertops. \\n...    []   \n1077                                 ['House for rent']    []   \n1081  ['This is a bouy o boy anti exposure flotation...    []   \n1179  ['We have rental place two bedroom Upstair and...    []   \n1187  ['$18/sqft\\nthe COMMERCE I Vernon – a premium ...    []   \n1223  ['1125sqft of living space + 375sqft covered p...    []   \n1239  ['Hello everyone,\\nWe have some availability d...    []   \n1248  ['We are manufacturers and installers\\nprices ...    []   \n1257  ['Professional team, fully insured, a speciali...    []   \n1292  ['One king, one twin, one queen and one pull o...    []   \n1298  ['We are a manufacturers and installers team, ...    []   \n1300  ['Visit staylocations.com, select Big White, v...    []   \n1309  ['Schedule an appointment for a free template!...    []   \n1310  ['We are mafuctarures and installers, speciali...    []   \n1320  ['Full suite with garage parking near the vill...    []   \n1323  ['Storage unit private secure inside of a buil...    []   \n1325  [\"Child's MONSTER Ski Jacket and pants.  -  Si...    []   \n1332  ['We are manufacturers and installers of Quart...    []   \n1334  ['We are manufacturers and installers fully in...    []   \n1336  ['Manufacturers and Installers countertops. Pr...    []   \n1337  ['Parking space available for rent \\nYou can p...    []   \n1339  ['We are manufacturers and installers of Quart...    []   \n1340  [\"35'x110' Gated compound for Rent In Summerla...    []   \n1341  ['Horizon 15000 quilt maker low hours recently...    []   \n1343  ['New in box with all hardware\\n\\n8mm black fr...    []   \n1344  ['We have rental times available for our certi...    []   \n1346  ['It’s in lower mission ,fenced, living next d...    []   \n\n                                                    URL type_from_name  \\\n504   ['https://www.facebook.com/marketplace/item/69...           None   \n709   ['https://www.facebook.com/marketplace/item/13...           None   \n799   ['https://www.facebook.com/marketplace/item/13...           None   \n872   ['https://www.facebook.com/marketplace/item/85...           None   \n892   ['https://www.facebook.com/marketplace/item/98...           None   \n907   ['https://www.facebook.com/marketplace/item/33...           None   \n922   ['https://www.facebook.com/marketplace/item/51...           None   \n942   ['https://www.facebook.com/marketplace/item/21...           None   \n955   ['https://www.facebook.com/marketplace/item/33...           None   \n958   ['https://www.facebook.com/marketplace/item/13...           None   \n996   ['https://www.facebook.com/marketplace/item/88...           None   \n1009  ['https://www.facebook.com/marketplace/item/17...           None   \n1043  ['https://www.facebook.com/marketplace/item/90...           None   \n1053  ['https://www.facebook.com/marketplace/item/13...           None   \n1077  ['https://www.facebook.com/marketplace/item/43...           None   \n1081  ['https://www.facebook.com/marketplace/item/54...           None   \n1179  ['https://www.facebook.com/marketplace/item/11...           None   \n1187  ['https://www.facebook.com/marketplace/item/17...           None   \n1223  ['https://www.facebook.com/marketplace/item/62...           None   \n1239  ['https://www.facebook.com/marketplace/item/19...           None   \n1248  ['https://www.facebook.com/marketplace/item/90...           None   \n1257  ['https://www.facebook.com/marketplace/item/13...           None   \n1292  ['https://www.facebook.com/marketplace/item/84...           None   \n1298  ['https://www.facebook.com/marketplace/item/50...           None   \n1300  ['https://www.facebook.com/marketplace/item/12...           None   \n1309  ['https://www.facebook.com/marketplace/item/34...           None   \n1310  ['https://www.facebook.com/marketplace/item/85...           None   \n1320  ['https://www.facebook.com/marketplace/item/11...           None   \n1323  ['https://www.facebook.com/marketplace/item/85...           None   \n1325  ['https://www.facebook.com/marketplace/item/10...           None   \n1332  ['https://www.facebook.com/marketplace/item/58...           None   \n1334  ['https://www.facebook.com/marketplace/item/33...           None   \n1336  ['https://www.facebook.com/marketplace/item/70...           None   \n1337  ['https://www.facebook.com/marketplace/item/15...           None   \n1339  ['https://www.facebook.com/marketplace/item/33...           None   \n1340  ['https://www.facebook.com/marketplace/item/12...           None   \n1341  ['https://www.facebook.com/marketplace/item/54...           None   \n1343  ['https://www.facebook.com/marketplace/item/85...           None   \n1344  ['https://www.facebook.com/marketplace/item/73...           None   \n1346  ['https://www.facebook.com/marketplace/item/52...           None   \n\n     type_from_details  \n504               None  \n709               None  \n799               None  \n872               None  \n892               None  \n907               None  \n922               None  \n942               None  \n955               None  \n958               None  \n996               None  \n1009              None  \n1043              None  \n1053              None  \n1077              None  \n1081              None  \n1179              None  \n1187              None  \n1223              None  \n1239              None  \n1248              None  \n1257              None  \n1292              None  \n1298              None  \n1300              None  \n1309              None  \n1310              None  \n1320              None  \n1323              None  \n1325              None  \n1332              None  \n1334              None  \n1336              None  \n1337              None  \n1339              None  \n1340              None  \n1341              None  \n1343              None  \n1344              None  \n1346              None  ",
      "text/html": "<div>\n<style scoped>\n    .dataframe tbody tr th:only-of-type {\n        vertical-align: middle;\n    }\n\n    .dataframe tbody tr th {\n        vertical-align: top;\n    }\n\n    .dataframe thead th {\n        text-align: right;\n    }\n</style>\n<table border=\"1\" class=\"dataframe\">\n  <thead>\n    <tr style=\"text-align: right;\">\n      <th></th>\n      <th>name</th>\n      <th>price</th>\n      <th>adress</th>\n      <th>unit_details</th>\n      <th>description</th>\n      <th>score</th>\n      <th>URL</th>\n      <th>type_from_name</th>\n      <th>type_from_details</th>\n    </tr>\n  </thead>\n  <tbody>\n    <tr>\n      <th>504</th>\n      <td>1 bed 1 bath in rutland</td>\n      <td>900</td>\n      <td>['Location is approximate']</td>\n      <td>['kelowna, bc', 'joined facebook in 2007']</td>\n      <td>['Searching for a roommate for February, prefe...</td>\n      <td>[]</td>\n      <td>['https://www.facebook.com/marketplace/item/69...</td>\n      <td>None</td>\n      <td>None</td>\n    </tr>\n    <tr>\n      <th>709</th>\n      <td>get free help at home for a personalized templ...</td>\n      <td>59</td>\n      <td>['Location is approximate']</td>\n      <td>['condition', 'new', 'band color', 'quartz and...</td>\n      <td>['For an online quote please send us photos or...</td>\n      <td>[]</td>\n      <td>['https://www.facebook.com/marketplace/item/13...</td>\n      <td>None</td>\n      <td>None</td>\n    </tr>\n    <tr>\n      <th>799</th>\n      <td>1 bed 1 bath</td>\n      <td>450</td>\n      <td>['Location is approximate']</td>\n      <td>['kelowna, bc', 'listed over a week ago · avai...</td>\n      <td>['Office space for rent. Looking to share my o...</td>\n      <td>[]</td>\n      <td>['https://www.facebook.com/marketplace/item/13...</td>\n      <td>None</td>\n      <td>None</td>\n    </tr>\n    <tr>\n      <th>872</th>\n      <td>beautiful home for rent main floor</td>\n      <td>3000</td>\n      <td>['Location is approximate']</td>\n      <td>['condition', 'used - like new', 'kelowna, bc'...</td>\n      <td>['Available March 1st 2023\\nBeautiful Bright a...</td>\n      <td>[]</td>\n      <td>['https://www.facebook.com/marketplace/item/85...</td>\n      <td>None</td>\n      <td>None</td>\n    </tr>\n    <tr>\n      <th>892</th>\n      <td>parking space for rent</td>\n      <td>123</td>\n      <td>['Location is approximate']</td>\n      <td>['condition', 'new', 'kelowna, bc', 'joined fa...</td>\n      <td>['Parking space for rent \\nSpace available for...</td>\n      <td>[]</td>\n      <td>['https://www.facebook.com/marketplace/item/98...</td>\n      <td>None</td>\n      <td>None</td>\n    </tr>\n    <tr>\n      <th>907</th>\n      <td>97 northlander park model for lease</td>\n      <td>3500</td>\n      <td>['Location is approximate']</td>\n      <td>['kelowna, bc', 'joined facebook in 2008']</td>\n      <td>[\"97 40' × 12 northlander park model for lease...</td>\n      <td>[]</td>\n      <td>['https://www.facebook.com/marketplace/item/33...</td>\n      <td>None</td>\n      <td>None</td>\n    </tr>\n    <tr>\n      <th>922</th>\n      <td>trailer</td>\n      <td>78000</td>\n      <td>['Location is approximate']</td>\n      <td>['penticton, bc', 'joined facebook in 2022']</td>\n      <td>['Barefoot Beach Resort \\nSo many fantastic am...</td>\n      <td>[]</td>\n      <td>['https://www.facebook.com/marketplace/item/51...</td>\n      <td>None</td>\n      <td>None</td>\n    </tr>\n    <tr>\n      <th>942</th>\n      <td>separate entry 1 bed 1 bath</td>\n      <td>950</td>\n      <td>['Location is approximate']</td>\n      <td>['kelowna, bc', 'joined facebook in 2022']</td>\n      <td>['Studio flex room with separate entrance newl...</td>\n      <td>[]</td>\n      <td>['https://www.facebook.com/marketplace/item/21...</td>\n      <td>None</td>\n      <td>None</td>\n    </tr>\n    <tr>\n      <th>955</th>\n      <td>lake front winter rental</td>\n      <td>400</td>\n      <td>['Location is approximate']</td>\n      <td>['condition', 'used - like new', 'okanagan-sim...</td>\n      <td>[\"Family Day Weekend still available The Cabin...</td>\n      <td>[]</td>\n      <td>['https://www.facebook.com/marketplace/item/33...</td>\n      <td>None</td>\n      <td>None</td>\n    </tr>\n    <tr>\n      <th>958</th>\n      <td>office space for rent</td>\n      <td>500</td>\n      <td>['Location is approximate']</td>\n      <td>['condition', 'used - good', 'vernon, bc', 'jo...</td>\n      <td>['3 office spaces for rent at the mustard seed...</td>\n      <td>[]</td>\n      <td>['https://www.facebook.com/marketplace/item/13...</td>\n      <td>None</td>\n      <td>None</td>\n    </tr>\n    <tr>\n      <th>996</th>\n      <td>light industrial</td>\n      <td>13</td>\n      <td>['Location is approximate']</td>\n      <td>['summerland, bc', 'joined facebook in 2010']</td>\n      <td>['Light industrial warehouse for lease! $13 sq...</td>\n      <td>[]</td>\n      <td>['https://www.facebook.com/marketplace/item/88...</td>\n      <td>None</td>\n      <td>None</td>\n    </tr>\n    <tr>\n      <th>1009</th>\n      <td>space for rent</td>\n      <td>400</td>\n      <td>['Location is approximate']</td>\n      <td>['condition', 'new', 'summerland, bc', 'joined...</td>\n      <td>['Are you an RMT / Aesthetician / Lash Tech / ...</td>\n      <td>[]</td>\n      <td>['https://www.facebook.com/marketplace/item/17...</td>\n      <td>None</td>\n      <td>None</td>\n    </tr>\n    <tr>\n      <th>1043</th>\n      <td>monthly storage available</td>\n      <td>1</td>\n      <td>['Location is approximate']</td>\n      <td>['condition', 'new', 'kelowna, bc', 'joined fa...</td>\n      <td>[\"Get your best quote from storage facility il...</td>\n      <td>[]</td>\n      <td>['https://www.facebook.com/marketplace/item/90...</td>\n      <td>None</td>\n      <td>None</td>\n    </tr>\n    <tr>\n      <th>1053</th>\n      <td>get your reno in 2 weeks to install  custom co...</td>\n      <td>1</td>\n      <td>['Location is approximate']</td>\n      <td>['condition', 'new', 'band color', 'multicolor...</td>\n      <td>['Manufacturers and Installers countertops. \\n...</td>\n      <td>[]</td>\n      <td>['https://www.facebook.com/marketplace/item/13...</td>\n      <td>None</td>\n      <td>None</td>\n    </tr>\n    <tr>\n      <th>1077</th>\n      <td>veda</td>\n      <td>1300</td>\n      <td>['Location is approximate']</td>\n      <td>['condition', 'new', 'kelowna, bc', 'joined fa...</td>\n      <td>['House for rent']</td>\n      <td>[]</td>\n      <td>['https://www.facebook.com/marketplace/item/43...</td>\n      <td>None</td>\n      <td>None</td>\n    </tr>\n    <tr>\n      <th>1081</th>\n      <td>bouy o boy anti exposure flotation suit</td>\n      <td>400</td>\n      <td>['Location is approximate']</td>\n      <td>['kelowna, bc', 'joined facebook in 2011']</td>\n      <td>['This is a bouy o boy anti exposure flotation...</td>\n      <td>[]</td>\n      <td>['https://www.facebook.com/marketplace/item/54...</td>\n      <td>None</td>\n      <td>None</td>\n    </tr>\n    <tr>\n      <th>1179</th>\n      <td>duplex upstairs ready for rent</td>\n      <td>2000</td>\n      <td>['Location is approximate']</td>\n      <td>['kelowna, bc', 'joined facebook in 2008']</td>\n      <td>['We have rental place two bedroom Upstair and...</td>\n      <td>[]</td>\n      <td>['https://www.facebook.com/marketplace/item/11...</td>\n      <td>None</td>\n      <td>None</td>\n    </tr>\n    <tr>\n      <th>1187</th>\n      <td>4601 anderson way  premium commercial real est...</td>\n      <td>18</td>\n      <td>['Location is approximate']</td>\n      <td>['vernon, bc', 'joined facebook in 2022']</td>\n      <td>['$18/sqft\\nthe COMMERCE I Vernon – a premium ...</td>\n      <td>[]</td>\n      <td>['https://www.facebook.com/marketplace/item/17...</td>\n      <td>None</td>\n      <td>None</td>\n    </tr>\n    <tr>\n      <th>1223</th>\n      <td>beautiful 3bed 2bath turn key student rental</td>\n      <td>1000</td>\n      <td>['Location is approximate']</td>\n      <td>['kelowna, bc', 'joined facebook in 2022']</td>\n      <td>['1125sqft of living space + 375sqft covered p...</td>\n      <td>[]</td>\n      <td>['https://www.facebook.com/marketplace/item/62...</td>\n      <td>None</td>\n      <td>None</td>\n    </tr>\n    <tr>\n      <th>1239</th>\n      <td>place for rent</td>\n      <td>1234</td>\n      <td>['Location is approximate']</td>\n      <td>['kelowna, bc', 'joined facebook in 2007']</td>\n      <td>['Hello everyone,\\nWe have some availability d...</td>\n      <td>[]</td>\n      <td>['https://www.facebook.com/marketplace/item/19...</td>\n      <td>None</td>\n      <td>None</td>\n    </tr>\n    <tr>\n      <th>1248</th>\n      <td>promo quartz sparkling  59 sqft new countertops</td>\n      <td>59</td>\n      <td>['Location is approximate']</td>\n      <td>['condition', 'new', 'kelowna, bc', 'joined fa...</td>\n      <td>['We are manufacturers and installers\\nprices ...</td>\n      <td>[]</td>\n      <td>['https://www.facebook.com/marketplace/item/90...</td>\n      <td>None</td>\n      <td>None</td>\n    </tr>\n    <tr>\n      <th>1257</th>\n      <td>christmas season  new colors for your favorite...</td>\n      <td>1</td>\n      <td>['Location is approximate']</td>\n      <td>['condition', 'new', 'band color', 'new collec...</td>\n      <td>['Professional team, fully insured, a speciali...</td>\n      <td>[]</td>\n      <td>['https://www.facebook.com/marketplace/item/13...</td>\n      <td>None</td>\n      <td>None</td>\n    </tr>\n    <tr>\n      <th>1292</th>\n      <td>1 week available in january 2200 for 1 week</td>\n      <td>2200</td>\n      <td>['Location is approximate']</td>\n      <td>['condition', 'new', 'kootenay boundary, bc', ...</td>\n      <td>['One king, one twin, one queen and one pull o...</td>\n      <td>[]</td>\n      <td>['https://www.facebook.com/marketplace/item/84...</td>\n      <td>None</td>\n      <td>None</td>\n    </tr>\n    <tr>\n      <th>1298</th>\n      <td>get a new project in 2 weesk  quartz and grani...</td>\n      <td>2200</td>\n      <td>['Location is approximate']</td>\n      <td>['condition', 'new', 'band color', 'multicolor...</td>\n      <td>['We are a manufacturers and installers team, ...</td>\n      <td>[]</td>\n      <td>['https://www.facebook.com/marketplace/item/50...</td>\n      <td>None</td>\n      <td>None</td>\n    </tr>\n    <tr>\n      <th>1300</th>\n      <td>chalets for rent nightly at big white ski reso...</td>\n      <td>1234</td>\n      <td>['Location is approximate']</td>\n      <td>['condition', 'used - like new', 'kelowna, bc'...</td>\n      <td>['Visit staylocations.com, select Big White, v...</td>\n      <td>[]</td>\n      <td>['https://www.facebook.com/marketplace/item/12...</td>\n      <td>None</td>\n      <td>None</td>\n    </tr>\n    <tr>\n      <th>1309</th>\n      <td>quartz season at the best price</td>\n      <td>1</td>\n      <td>['Location is approximate']</td>\n      <td>['condition', 'new', 'band color', 'premium qu...</td>\n      <td>['Schedule an appointment for a free template!...</td>\n      <td>[]</td>\n      <td>['https://www.facebook.com/marketplace/item/34...</td>\n      <td>None</td>\n      <td>None</td>\n    </tr>\n    <tr>\n      <th>1310</th>\n      <td>christmas season  best prices  new collection ...</td>\n      <td>1</td>\n      <td>['Location is approximate']</td>\n      <td>['condition', 'new', 'band color', 'multicolor...</td>\n      <td>['We are mafuctarures and installers, speciali...</td>\n      <td>[]</td>\n      <td>['https://www.facebook.com/marketplace/item/85...</td>\n      <td>None</td>\n      <td>None</td>\n    </tr>\n    <tr>\n      <th>1320</th>\n      <td>silver star suite for short term rent</td>\n      <td>375</td>\n      <td>['Location is approximate']</td>\n      <td>['condition', 'used - like new', 'north okanag...</td>\n      <td>['Full suite with garage parking near the vill...</td>\n      <td>[]</td>\n      <td>['https://www.facebook.com/marketplace/item/11...</td>\n      <td>None</td>\n      <td>None</td>\n    </tr>\n    <tr>\n      <th>1323</th>\n      <td>storage unit</td>\n      <td>200</td>\n      <td>['Location is approximate']</td>\n      <td>['vernon, bc', 'joined facebook in 2021']</td>\n      <td>['Storage unit private secure inside of a buil...</td>\n      <td>[]</td>\n      <td>['https://www.facebook.com/marketplace/item/85...</td>\n      <td>None</td>\n      <td>None</td>\n    </tr>\n    <tr>\n      <th>1325</th>\n      <td>ski jacket pants monster brand</td>\n      <td>20</td>\n      <td>['Location is approximate']</td>\n      <td>['vernon, bc', 'joined facebook in 2008']</td>\n      <td>[\"Child's MONSTER Ski Jacket and pants.  -  Si...</td>\n      <td>[]</td>\n      <td>['https://www.facebook.com/marketplace/item/10...</td>\n      <td>None</td>\n      <td>None</td>\n    </tr>\n    <tr>\n      <th>1332</th>\n      <td>amazing countertops outdoor and indoor  exclus...</td>\n      <td>1</td>\n      <td>['Location is approximate']</td>\n      <td>['condition', 'new', 'band color', 'multi colo...</td>\n      <td>['We are manufacturers and installers of Quart...</td>\n      <td>[]</td>\n      <td>['https://www.facebook.com/marketplace/item/58...</td>\n      <td>None</td>\n      <td>None</td>\n    </tr>\n    <tr>\n      <th>1334</th>\n      <td>replace your countertops in 2 weeks  quartz an...</td>\n      <td>1</td>\n      <td>['Location is approximate']</td>\n      <td>['condition', 'new', 'band color', 'variety of...</td>\n      <td>['We are manufacturers and installers fully in...</td>\n      <td>[]</td>\n      <td>['https://www.facebook.com/marketplace/item/33...</td>\n      <td>None</td>\n      <td>None</td>\n    </tr>\n    <tr>\n      <th>1336</th>\n      <td>renew your favorite area this year  quartz and...</td>\n      <td>1</td>\n      <td>['Location is approximate']</td>\n      <td>['condition', 'new', 'band color', 'multicolor...</td>\n      <td>['Manufacturers and Installers countertops. Pr...</td>\n      <td>[]</td>\n      <td>['https://www.facebook.com/marketplace/item/70...</td>\n      <td>None</td>\n      <td>None</td>\n    </tr>\n    <tr>\n      <th>1337</th>\n      <td>parking space for rent</td>\n      <td>123</td>\n      <td>['Location is approximate']</td>\n      <td>['condition', 'new', 'lake country, bc', 'join...</td>\n      <td>['Parking space available for rent \\nYou can p...</td>\n      <td>[]</td>\n      <td>['https://www.facebook.com/marketplace/item/15...</td>\n      <td>None</td>\n      <td>None</td>\n    </tr>\n    <tr>\n      <th>1339</th>\n      <td>amazing countertops outdoor and indoor  exclus...</td>\n      <td>1</td>\n      <td>['Location is approximate']</td>\n      <td>['condition', 'new', 'band color', 'multi colo...</td>\n      <td>['We are manufacturers and installers of Quart...</td>\n      <td>[]</td>\n      <td>['https://www.facebook.com/marketplace/item/33...</td>\n      <td>None</td>\n      <td>None</td>\n    </tr>\n    <tr>\n      <th>1340</th>\n      <td>storage yard for rent</td>\n      <td>1000</td>\n      <td>['Location is approximate']</td>\n      <td>['condition', 'used - good', 'kelowna, bc', 'j...</td>\n      <td>[\"35'x110' Gated compound for Rent In Summerla...</td>\n      <td>[]</td>\n      <td>['https://www.facebook.com/marketplace/item/12...</td>\n      <td>None</td>\n      <td>None</td>\n    </tr>\n    <tr>\n      <th>1341</th>\n      <td>janome</td>\n      <td>7500</td>\n      <td>['Location is approximate']</td>\n      <td>['condition', 'used - like new', 'kelowna, bc'...</td>\n      <td>['Horizon 15000 quilt maker low hours recently...</td>\n      <td>[]</td>\n      <td>['https://www.facebook.com/marketplace/item/54...</td>\n      <td>None</td>\n      <td>None</td>\n    </tr>\n    <tr>\n      <th>1343</th>\n      <td>matte black tub door 5 wx5 h</td>\n      <td>1</td>\n      <td>['Location is approximate']</td>\n      <td>['condition', 'new', 'band color', 'black', 'w...</td>\n      <td>['New in box with all hardware\\n\\n8mm black fr...</td>\n      <td>[]</td>\n      <td>['https://www.facebook.com/marketplace/item/85...</td>\n      <td>None</td>\n      <td>None</td>\n    </tr>\n    <tr>\n      <th>1344</th>\n      <td>certified kitchen for rent</td>\n      <td>1</td>\n      <td>['Location is approximate']</td>\n      <td>['vernon, bc', 'joined facebook in 2018']</td>\n      <td>['We have rental times available for our certi...</td>\n      <td>[]</td>\n      <td>['https://www.facebook.com/marketplace/item/73...</td>\n      <td>None</td>\n      <td>None</td>\n    </tr>\n    <tr>\n      <th>1346</th>\n      <td>parking rv  boat boat trailer  few slots left</td>\n      <td>70</td>\n      <td>['Location is approximate']</td>\n      <td>['condition', 'new', 'kelowna, bc', 'joined fa...</td>\n      <td>['It’s in lower mission ,fenced, living next d...</td>\n      <td>[]</td>\n      <td>['https://www.facebook.com/marketplace/item/52...</td>\n      <td>None</td>\n      <td>None</td>\n    </tr>\n  </tbody>\n</table>\n</div>"
     },
     "execution_count": 74,
     "metadata": {},
     "output_type": "execute_result"
    }
   ],
   "source": [
    "df[(df['type_from_details'] == 'None') & (df['type_from_name'] == 'None')]\n",
    "\n",
    "\n",
    "#504 - room\n",
    "#799 - room\n",
    "#872 - home\n",
    "#942 - room\n",
    "#1009 - room\n",
    "#1077 - appt\n",
    "#1223 - room\n",
    "#1239 - room\n"
   ],
   "metadata": {
    "collapsed": false,
    "pycharm": {
     "name": "#%%\n"
    }
   }
  },
  {
   "cell_type": "markdown",
   "source": [
    "I identified the 8 listings in the data frame that correspond to rental properties and remove the remaining listings that are not related to rental information."
   ],
   "metadata": {
    "collapsed": false,
    "pycharm": {
     "name": "#%% md\n"
    }
   }
  },
  {
   "cell_type": "code",
   "execution_count": 75,
   "outputs": [],
   "source": [
    "df.loc[504, 'type_from_details'] = 'Room'\n",
    "df.loc[799, 'type_from_details'] = 'Room'\n",
    "df.loc[872, 'type_from_details'] = 'House'\n",
    "df.loc[942, 'type_from_details'] = 'Room'\n",
    "df.loc[1009, 'type_from_details'] = 'Room'\n",
    "df.loc[1077, 'type_from_details'] = 'Apartment/Condo'\n",
    "df.loc[1223, 'type_from_details'] = 'Room'\n",
    "df.loc[1239, 'type_from_details'] = 'Room'"
   ],
   "metadata": {
    "collapsed": false,
    "pycharm": {
     "name": "#%%\n"
    }
   }
  },
  {
   "cell_type": "code",
   "execution_count": 76,
   "outputs": [],
   "source": [
    "df['Type'] = df['type_from_details']"
   ],
   "metadata": {
    "collapsed": false,
    "pycharm": {
     "name": "#%%\n"
    }
   }
  },
  {
   "cell_type": "code",
   "execution_count": 77,
   "outputs": [
    {
     "data": {
      "text/plain": "                                                   name  price  \\\n1                              3 beds 3 baths townhouse   3300   \n2                                   2 beds 1 bath house   2000   \n3                                1 bed 1 bath apartment   1250   \n4       1 bedroom available in 2 bedroom basement suite    650   \n5                                   3 beds 1 bath house   2000   \n...                                                 ...    ...   \n1345  room for rent for girls in rutland dm for more...    900   \n1346      parking rv  boat boat trailer  few slots left     70   \n1347  renew your condo  kitchen and more  quartz gra...      1   \n1348                   powerwash house by professionals    123   \n1349                              private room for rent   1100   \n\n                           adress  \\\n1        ['Kelowna, BC, V1Y 5T5']   \n2       ['West Kelowna, BC, V4T']   \n3            ['Kelowna, BC, V1V']   \n4     ['Location is approximate']   \n5        ['Kelowna, BC, V1V 1R1']   \n...                           ...   \n1345  ['Location is approximate']   \n1346  ['Location is approximate']   \n1347  ['Location is approximate']   \n1348  ['Location is approximate']   \n1349  ['Location is approximate']   \n\n                                           unit_details  \\\n1     ['1275 brookside ave, kelowna, bc', 'listed ov...   \n2     ['goldie rd, west kelowna, bc', '914 square fe...   \n3     ['academy way, kelowna, bc', 'listed over a we...   \n4     ['west kelowna, bc', '1000 square meters', 'li...   \n5     ['kelowna, bc, canada, kelowna, bc', 'listed a...   \n...                                                 ...   \n1345  ['kelowna, bc', 'listed over a week ago', 'hou...   \n1346  ['condition', 'new', 'kelowna, bc', 'joined fa...   \n1347  ['condition', 'new', 'penticton, bc', 'joined ...   \n1348  ['condition', 'new', 'vernon, bc', 'joined fac...   \n1349  ['west kelowna, bc', '1800 square meters', 'li...   \n\n                                            description  \\\n1     ['Kelowna 3 bed 3 bath townhome for rent\\n\\nWi...   \n2     ['REDUCED. Stunning lake and city views are in...   \n3     ['Veda Student Living Studio Apartment Sublet ...   \n4     ['1 bedroom available in 2 bedroom basement su...   \n5     [\"Great location 3 bedroom, 1 bathroom home. N...   \n...                                                 ...   \n1345  ['Dm for more info! Room available for girls a...   \n1346  ['It’s in lower mission ,fenced, living next d...   \n1347  ['We are manufacturers and installers with mor...   \n1348  ['Call [hidden information] for further details']   \n1349  [\"Welcome to the Luxury Lakeview Private Suite...   \n\n                                                  score  \\\n1                                                    []   \n2                                                    []   \n3                                                    []   \n4     ['Provided by Walk Score®︎', '63 out of 100', ...   \n5                                                    []   \n...                                                 ...   \n1345  ['Provided by Walk Score®︎', '60 out of 100', ...   \n1346                                                 []   \n1347                                                 []   \n1348                                                 []   \n1349                                                 []   \n\n                                                    URL   type_from_name  \\\n1     ['https://www.facebook.com/marketplace/item/11...        Townhouse   \n2     ['https://www.facebook.com/marketplace/item/13...            House   \n3     ['https://www.facebook.com/marketplace/item/15...  Apartment/Condo   \n4     ['https://www.facebook.com/marketplace/item/36...             Room   \n5     ['https://www.facebook.com/marketplace/item/60...            House   \n...                                                 ...              ...   \n1345  ['https://www.facebook.com/marketplace/item/81...             Room   \n1346  ['https://www.facebook.com/marketplace/item/52...             None   \n1347  ['https://www.facebook.com/marketplace/item/57...  Apartment/Condo   \n1348  ['https://www.facebook.com/marketplace/item/66...            House   \n1349  ['https://www.facebook.com/marketplace/item/71...             Room   \n\n     type_from_details             Type  \n1            Townhouse        Townhouse  \n2                House            House  \n3      Apartment/Condo  Apartment/Condo  \n4                 Room             Room  \n5                House            House  \n...                ...              ...  \n1345             House            House  \n1346              None             None  \n1347              None             None  \n1348              None             None  \n1349             House            House  \n\n[1349 rows x 10 columns]",
      "text/html": "<div>\n<style scoped>\n    .dataframe tbody tr th:only-of-type {\n        vertical-align: middle;\n    }\n\n    .dataframe tbody tr th {\n        vertical-align: top;\n    }\n\n    .dataframe thead th {\n        text-align: right;\n    }\n</style>\n<table border=\"1\" class=\"dataframe\">\n  <thead>\n    <tr style=\"text-align: right;\">\n      <th></th>\n      <th>name</th>\n      <th>price</th>\n      <th>adress</th>\n      <th>unit_details</th>\n      <th>description</th>\n      <th>score</th>\n      <th>URL</th>\n      <th>type_from_name</th>\n      <th>type_from_details</th>\n      <th>Type</th>\n    </tr>\n  </thead>\n  <tbody>\n    <tr>\n      <th>1</th>\n      <td>3 beds 3 baths townhouse</td>\n      <td>3300</td>\n      <td>['Kelowna, BC, V1Y 5T5']</td>\n      <td>['1275 brookside ave, kelowna, bc', 'listed ov...</td>\n      <td>['Kelowna 3 bed 3 bath townhome for rent\\n\\nWi...</td>\n      <td>[]</td>\n      <td>['https://www.facebook.com/marketplace/item/11...</td>\n      <td>Townhouse</td>\n      <td>Townhouse</td>\n      <td>Townhouse</td>\n    </tr>\n    <tr>\n      <th>2</th>\n      <td>2 beds 1 bath house</td>\n      <td>2000</td>\n      <td>['West Kelowna, BC, V4T']</td>\n      <td>['goldie rd, west kelowna, bc', '914 square fe...</td>\n      <td>['REDUCED. Stunning lake and city views are in...</td>\n      <td>[]</td>\n      <td>['https://www.facebook.com/marketplace/item/13...</td>\n      <td>House</td>\n      <td>House</td>\n      <td>House</td>\n    </tr>\n    <tr>\n      <th>3</th>\n      <td>1 bed 1 bath apartment</td>\n      <td>1250</td>\n      <td>['Kelowna, BC, V1V']</td>\n      <td>['academy way, kelowna, bc', 'listed over a we...</td>\n      <td>['Veda Student Living Studio Apartment Sublet ...</td>\n      <td>[]</td>\n      <td>['https://www.facebook.com/marketplace/item/15...</td>\n      <td>Apartment/Condo</td>\n      <td>Apartment/Condo</td>\n      <td>Apartment/Condo</td>\n    </tr>\n    <tr>\n      <th>4</th>\n      <td>1 bedroom available in 2 bedroom basement suite</td>\n      <td>650</td>\n      <td>['Location is approximate']</td>\n      <td>['west kelowna, bc', '1000 square meters', 'li...</td>\n      <td>['1 bedroom available in 2 bedroom basement su...</td>\n      <td>['Provided by Walk Score®︎', '63 out of 100', ...</td>\n      <td>['https://www.facebook.com/marketplace/item/36...</td>\n      <td>Room</td>\n      <td>Room</td>\n      <td>Room</td>\n    </tr>\n    <tr>\n      <th>5</th>\n      <td>3 beds 1 bath house</td>\n      <td>2000</td>\n      <td>['Kelowna, BC, V1V 1R1']</td>\n      <td>['kelowna, bc, canada, kelowna, bc', 'listed a...</td>\n      <td>[\"Great location 3 bedroom, 1 bathroom home. N...</td>\n      <td>[]</td>\n      <td>['https://www.facebook.com/marketplace/item/60...</td>\n      <td>House</td>\n      <td>House</td>\n      <td>House</td>\n    </tr>\n    <tr>\n      <th>...</th>\n      <td>...</td>\n      <td>...</td>\n      <td>...</td>\n      <td>...</td>\n      <td>...</td>\n      <td>...</td>\n      <td>...</td>\n      <td>...</td>\n      <td>...</td>\n      <td>...</td>\n    </tr>\n    <tr>\n      <th>1345</th>\n      <td>room for rent for girls in rutland dm for more...</td>\n      <td>900</td>\n      <td>['Location is approximate']</td>\n      <td>['kelowna, bc', 'listed over a week ago', 'hou...</td>\n      <td>['Dm for more info! Room available for girls a...</td>\n      <td>['Provided by Walk Score®︎', '60 out of 100', ...</td>\n      <td>['https://www.facebook.com/marketplace/item/81...</td>\n      <td>Room</td>\n      <td>House</td>\n      <td>House</td>\n    </tr>\n    <tr>\n      <th>1346</th>\n      <td>parking rv  boat boat trailer  few slots left</td>\n      <td>70</td>\n      <td>['Location is approximate']</td>\n      <td>['condition', 'new', 'kelowna, bc', 'joined fa...</td>\n      <td>['It’s in lower mission ,fenced, living next d...</td>\n      <td>[]</td>\n      <td>['https://www.facebook.com/marketplace/item/52...</td>\n      <td>None</td>\n      <td>None</td>\n      <td>None</td>\n    </tr>\n    <tr>\n      <th>1347</th>\n      <td>renew your condo  kitchen and more  quartz gra...</td>\n      <td>1</td>\n      <td>['Location is approximate']</td>\n      <td>['condition', 'new', 'penticton, bc', 'joined ...</td>\n      <td>['We are manufacturers and installers with mor...</td>\n      <td>[]</td>\n      <td>['https://www.facebook.com/marketplace/item/57...</td>\n      <td>Apartment/Condo</td>\n      <td>None</td>\n      <td>None</td>\n    </tr>\n    <tr>\n      <th>1348</th>\n      <td>powerwash house by professionals</td>\n      <td>123</td>\n      <td>['Location is approximate']</td>\n      <td>['condition', 'new', 'vernon, bc', 'joined fac...</td>\n      <td>['Call [hidden information] for further details']</td>\n      <td>[]</td>\n      <td>['https://www.facebook.com/marketplace/item/66...</td>\n      <td>House</td>\n      <td>None</td>\n      <td>None</td>\n    </tr>\n    <tr>\n      <th>1349</th>\n      <td>private room for rent</td>\n      <td>1100</td>\n      <td>['Location is approximate']</td>\n      <td>['west kelowna, bc', '1800 square meters', 'li...</td>\n      <td>[\"Welcome to the Luxury Lakeview Private Suite...</td>\n      <td>[]</td>\n      <td>['https://www.facebook.com/marketplace/item/71...</td>\n      <td>Room</td>\n      <td>House</td>\n      <td>House</td>\n    </tr>\n  </tbody>\n</table>\n<p>1349 rows × 10 columns</p>\n</div>"
     },
     "execution_count": 77,
     "metadata": {},
     "output_type": "execute_result"
    }
   ],
   "source": [
    "df"
   ],
   "metadata": {
    "collapsed": false,
    "pycharm": {
     "name": "#%%\n"
    }
   }
  },
  {
   "cell_type": "code",
   "execution_count": 78,
   "outputs": [],
   "source": [
    "df.loc[df['Type'] == 'None', 'Type'] = df.loc[df['Type'] == 'None', 'type_from_name']\n",
    "#Replace 'None' values in the 'Type' column with values from 'type_from_name'"
   ],
   "metadata": {
    "collapsed": false,
    "pycharm": {
     "name": "#%%\n"
    }
   }
  },
  {
   "cell_type": "markdown",
   "source": [
    "As you can see this data have nothing to do with housing information"
   ],
   "metadata": {
    "collapsed": false,
    "pycharm": {
     "name": "#%% md\n"
    }
   }
  },
  {
   "cell_type": "code",
   "execution_count": 79,
   "outputs": [
    {
     "data": {
      "text/plain": "                                                   name  price  \\\n709   get free help at home for a personalized templ...     59   \n892                              parking space for rent    123   \n907                 97 northlander park model for lease   3500   \n922                                             trailer  78000   \n955                            lake front winter rental    400   \n958                               office space for rent    500   \n996                                    light industrial     13   \n1043                          monthly storage available      1   \n1053  get your reno in 2 weeks to install  custom co...      1   \n1081            bouy o boy anti exposure flotation suit    400   \n1179                     duplex upstairs ready for rent   2000   \n1187  4601 anderson way  premium commercial real est...     18   \n1248    promo quartz sparkling  59 sqft new countertops     59   \n1257  christmas season  new colors for your favorite...      1   \n1292        1 week available in january 2200 for 1 week   2200   \n1298  get a new project in 2 weesk  quartz and grani...   2200   \n1300  chalets for rent nightly at big white ski reso...   1234   \n1309                    quartz season at the best price      1   \n1310  christmas season  best prices  new collection ...      1   \n1320              silver star suite for short term rent    375   \n1323                                       storage unit    200   \n1325                     ski jacket pants monster brand     20   \n1332  amazing countertops outdoor and indoor  exclus...      1   \n1334  replace your countertops in 2 weeks  quartz an...      1   \n1336  renew your favorite area this year  quartz and...      1   \n1337                             parking space for rent    123   \n1339  amazing countertops outdoor and indoor  exclus...      1   \n1340                              storage yard for rent   1000   \n1341                                             janome   7500   \n1343                       matte black tub door 5 wx5 h      1   \n1344                         certified kitchen for rent      1   \n1346      parking rv  boat boat trailer  few slots left     70   \n\n                           adress  \\\n709   ['Location is approximate']   \n892   ['Location is approximate']   \n907   ['Location is approximate']   \n922   ['Location is approximate']   \n955   ['Location is approximate']   \n958   ['Location is approximate']   \n996   ['Location is approximate']   \n1043  ['Location is approximate']   \n1053  ['Location is approximate']   \n1081  ['Location is approximate']   \n1179  ['Location is approximate']   \n1187  ['Location is approximate']   \n1248  ['Location is approximate']   \n1257  ['Location is approximate']   \n1292  ['Location is approximate']   \n1298  ['Location is approximate']   \n1300  ['Location is approximate']   \n1309  ['Location is approximate']   \n1310  ['Location is approximate']   \n1320  ['Location is approximate']   \n1323  ['Location is approximate']   \n1325  ['Location is approximate']   \n1332  ['Location is approximate']   \n1334  ['Location is approximate']   \n1336  ['Location is approximate']   \n1337  ['Location is approximate']   \n1339  ['Location is approximate']   \n1340  ['Location is approximate']   \n1341  ['Location is approximate']   \n1343  ['Location is approximate']   \n1344  ['Location is approximate']   \n1346  ['Location is approximate']   \n\n                                           unit_details  \\\n709   ['condition', 'new', 'band color', 'quartz and...   \n892   ['condition', 'new', 'kelowna, bc', 'joined fa...   \n907          ['kelowna, bc', 'joined facebook in 2008']   \n922        ['penticton, bc', 'joined facebook in 2022']   \n955   ['condition', 'used - like new', 'okanagan-sim...   \n958   ['condition', 'used - good', 'vernon, bc', 'jo...   \n996       ['summerland, bc', 'joined facebook in 2010']   \n1043  ['condition', 'new', 'kelowna, bc', 'joined fa...   \n1053  ['condition', 'new', 'band color', 'multicolor...   \n1081         ['kelowna, bc', 'joined facebook in 2011']   \n1179         ['kelowna, bc', 'joined facebook in 2008']   \n1187          ['vernon, bc', 'joined facebook in 2022']   \n1248  ['condition', 'new', 'kelowna, bc', 'joined fa...   \n1257  ['condition', 'new', 'band color', 'new collec...   \n1292  ['condition', 'new', 'kootenay boundary, bc', ...   \n1298  ['condition', 'new', 'band color', 'multicolor...   \n1300  ['condition', 'used - like new', 'kelowna, bc'...   \n1309  ['condition', 'new', 'band color', 'premium qu...   \n1310  ['condition', 'new', 'band color', 'multicolor...   \n1320  ['condition', 'used - like new', 'north okanag...   \n1323          ['vernon, bc', 'joined facebook in 2021']   \n1325          ['vernon, bc', 'joined facebook in 2008']   \n1332  ['condition', 'new', 'band color', 'multi colo...   \n1334  ['condition', 'new', 'band color', 'variety of...   \n1336  ['condition', 'new', 'band color', 'multicolor...   \n1337  ['condition', 'new', 'lake country, bc', 'join...   \n1339  ['condition', 'new', 'band color', 'multi colo...   \n1340  ['condition', 'used - good', 'kelowna, bc', 'j...   \n1341  ['condition', 'used - like new', 'kelowna, bc'...   \n1343  ['condition', 'new', 'band color', 'black', 'w...   \n1344          ['vernon, bc', 'joined facebook in 2018']   \n1346  ['condition', 'new', 'kelowna, bc', 'joined fa...   \n\n                                            description score  \\\n709   ['For an online quote please send us photos or...    []   \n892   ['Parking space for rent \\nSpace available for...    []   \n907   [\"97 40' × 12 northlander park model for lease...    []   \n922   ['Barefoot Beach Resort \\nSo many fantastic am...    []   \n955   [\"Family Day Weekend still available The Cabin...    []   \n958   ['3 office spaces for rent at the mustard seed...    []   \n996   ['Light industrial warehouse for lease! $13 sq...    []   \n1043  [\"Get your best quote from storage facility il...    []   \n1053  ['Manufacturers and Installers countertops. \\n...    []   \n1081  ['This is a bouy o boy anti exposure flotation...    []   \n1179  ['We have rental place two bedroom Upstair and...    []   \n1187  ['$18/sqft\\nthe COMMERCE I Vernon – a premium ...    []   \n1248  ['We are manufacturers and installers\\nprices ...    []   \n1257  ['Professional team, fully insured, a speciali...    []   \n1292  ['One king, one twin, one queen and one pull o...    []   \n1298  ['We are a manufacturers and installers team, ...    []   \n1300  ['Visit staylocations.com, select Big White, v...    []   \n1309  ['Schedule an appointment for a free template!...    []   \n1310  ['We are mafuctarures and installers, speciali...    []   \n1320  ['Full suite with garage parking near the vill...    []   \n1323  ['Storage unit private secure inside of a buil...    []   \n1325  [\"Child's MONSTER Ski Jacket and pants.  -  Si...    []   \n1332  ['We are manufacturers and installers of Quart...    []   \n1334  ['We are manufacturers and installers fully in...    []   \n1336  ['Manufacturers and Installers countertops. Pr...    []   \n1337  ['Parking space available for rent \\nYou can p...    []   \n1339  ['We are manufacturers and installers of Quart...    []   \n1340  [\"35'x110' Gated compound for Rent In Summerla...    []   \n1341  ['Horizon 15000 quilt maker low hours recently...    []   \n1343  ['New in box with all hardware\\n\\n8mm black fr...    []   \n1344  ['We have rental times available for our certi...    []   \n1346  ['It’s in lower mission ,fenced, living next d...    []   \n\n                                                    URL type_from_name  \\\n709   ['https://www.facebook.com/marketplace/item/13...           None   \n892   ['https://www.facebook.com/marketplace/item/98...           None   \n907   ['https://www.facebook.com/marketplace/item/33...           None   \n922   ['https://www.facebook.com/marketplace/item/51...           None   \n955   ['https://www.facebook.com/marketplace/item/33...           None   \n958   ['https://www.facebook.com/marketplace/item/13...           None   \n996   ['https://www.facebook.com/marketplace/item/88...           None   \n1043  ['https://www.facebook.com/marketplace/item/90...           None   \n1053  ['https://www.facebook.com/marketplace/item/13...           None   \n1081  ['https://www.facebook.com/marketplace/item/54...           None   \n1179  ['https://www.facebook.com/marketplace/item/11...           None   \n1187  ['https://www.facebook.com/marketplace/item/17...           None   \n1248  ['https://www.facebook.com/marketplace/item/90...           None   \n1257  ['https://www.facebook.com/marketplace/item/13...           None   \n1292  ['https://www.facebook.com/marketplace/item/84...           None   \n1298  ['https://www.facebook.com/marketplace/item/50...           None   \n1300  ['https://www.facebook.com/marketplace/item/12...           None   \n1309  ['https://www.facebook.com/marketplace/item/34...           None   \n1310  ['https://www.facebook.com/marketplace/item/85...           None   \n1320  ['https://www.facebook.com/marketplace/item/11...           None   \n1323  ['https://www.facebook.com/marketplace/item/85...           None   \n1325  ['https://www.facebook.com/marketplace/item/10...           None   \n1332  ['https://www.facebook.com/marketplace/item/58...           None   \n1334  ['https://www.facebook.com/marketplace/item/33...           None   \n1336  ['https://www.facebook.com/marketplace/item/70...           None   \n1337  ['https://www.facebook.com/marketplace/item/15...           None   \n1339  ['https://www.facebook.com/marketplace/item/33...           None   \n1340  ['https://www.facebook.com/marketplace/item/12...           None   \n1341  ['https://www.facebook.com/marketplace/item/54...           None   \n1343  ['https://www.facebook.com/marketplace/item/85...           None   \n1344  ['https://www.facebook.com/marketplace/item/73...           None   \n1346  ['https://www.facebook.com/marketplace/item/52...           None   \n\n     type_from_details  Type  \n709               None  None  \n892               None  None  \n907               None  None  \n922               None  None  \n955               None  None  \n958               None  None  \n996               None  None  \n1043              None  None  \n1053              None  None  \n1081              None  None  \n1179              None  None  \n1187              None  None  \n1248              None  None  \n1257              None  None  \n1292              None  None  \n1298              None  None  \n1300              None  None  \n1309              None  None  \n1310              None  None  \n1320              None  None  \n1323              None  None  \n1325              None  None  \n1332              None  None  \n1334              None  None  \n1336              None  None  \n1337              None  None  \n1339              None  None  \n1340              None  None  \n1341              None  None  \n1343              None  None  \n1344              None  None  \n1346              None  None  ",
      "text/html": "<div>\n<style scoped>\n    .dataframe tbody tr th:only-of-type {\n        vertical-align: middle;\n    }\n\n    .dataframe tbody tr th {\n        vertical-align: top;\n    }\n\n    .dataframe thead th {\n        text-align: right;\n    }\n</style>\n<table border=\"1\" class=\"dataframe\">\n  <thead>\n    <tr style=\"text-align: right;\">\n      <th></th>\n      <th>name</th>\n      <th>price</th>\n      <th>adress</th>\n      <th>unit_details</th>\n      <th>description</th>\n      <th>score</th>\n      <th>URL</th>\n      <th>type_from_name</th>\n      <th>type_from_details</th>\n      <th>Type</th>\n    </tr>\n  </thead>\n  <tbody>\n    <tr>\n      <th>709</th>\n      <td>get free help at home for a personalized templ...</td>\n      <td>59</td>\n      <td>['Location is approximate']</td>\n      <td>['condition', 'new', 'band color', 'quartz and...</td>\n      <td>['For an online quote please send us photos or...</td>\n      <td>[]</td>\n      <td>['https://www.facebook.com/marketplace/item/13...</td>\n      <td>None</td>\n      <td>None</td>\n      <td>None</td>\n    </tr>\n    <tr>\n      <th>892</th>\n      <td>parking space for rent</td>\n      <td>123</td>\n      <td>['Location is approximate']</td>\n      <td>['condition', 'new', 'kelowna, bc', 'joined fa...</td>\n      <td>['Parking space for rent \\nSpace available for...</td>\n      <td>[]</td>\n      <td>['https://www.facebook.com/marketplace/item/98...</td>\n      <td>None</td>\n      <td>None</td>\n      <td>None</td>\n    </tr>\n    <tr>\n      <th>907</th>\n      <td>97 northlander park model for lease</td>\n      <td>3500</td>\n      <td>['Location is approximate']</td>\n      <td>['kelowna, bc', 'joined facebook in 2008']</td>\n      <td>[\"97 40' × 12 northlander park model for lease...</td>\n      <td>[]</td>\n      <td>['https://www.facebook.com/marketplace/item/33...</td>\n      <td>None</td>\n      <td>None</td>\n      <td>None</td>\n    </tr>\n    <tr>\n      <th>922</th>\n      <td>trailer</td>\n      <td>78000</td>\n      <td>['Location is approximate']</td>\n      <td>['penticton, bc', 'joined facebook in 2022']</td>\n      <td>['Barefoot Beach Resort \\nSo many fantastic am...</td>\n      <td>[]</td>\n      <td>['https://www.facebook.com/marketplace/item/51...</td>\n      <td>None</td>\n      <td>None</td>\n      <td>None</td>\n    </tr>\n    <tr>\n      <th>955</th>\n      <td>lake front winter rental</td>\n      <td>400</td>\n      <td>['Location is approximate']</td>\n      <td>['condition', 'used - like new', 'okanagan-sim...</td>\n      <td>[\"Family Day Weekend still available The Cabin...</td>\n      <td>[]</td>\n      <td>['https://www.facebook.com/marketplace/item/33...</td>\n      <td>None</td>\n      <td>None</td>\n      <td>None</td>\n    </tr>\n    <tr>\n      <th>958</th>\n      <td>office space for rent</td>\n      <td>500</td>\n      <td>['Location is approximate']</td>\n      <td>['condition', 'used - good', 'vernon, bc', 'jo...</td>\n      <td>['3 office spaces for rent at the mustard seed...</td>\n      <td>[]</td>\n      <td>['https://www.facebook.com/marketplace/item/13...</td>\n      <td>None</td>\n      <td>None</td>\n      <td>None</td>\n    </tr>\n    <tr>\n      <th>996</th>\n      <td>light industrial</td>\n      <td>13</td>\n      <td>['Location is approximate']</td>\n      <td>['summerland, bc', 'joined facebook in 2010']</td>\n      <td>['Light industrial warehouse for lease! $13 sq...</td>\n      <td>[]</td>\n      <td>['https://www.facebook.com/marketplace/item/88...</td>\n      <td>None</td>\n      <td>None</td>\n      <td>None</td>\n    </tr>\n    <tr>\n      <th>1043</th>\n      <td>monthly storage available</td>\n      <td>1</td>\n      <td>['Location is approximate']</td>\n      <td>['condition', 'new', 'kelowna, bc', 'joined fa...</td>\n      <td>[\"Get your best quote from storage facility il...</td>\n      <td>[]</td>\n      <td>['https://www.facebook.com/marketplace/item/90...</td>\n      <td>None</td>\n      <td>None</td>\n      <td>None</td>\n    </tr>\n    <tr>\n      <th>1053</th>\n      <td>get your reno in 2 weeks to install  custom co...</td>\n      <td>1</td>\n      <td>['Location is approximate']</td>\n      <td>['condition', 'new', 'band color', 'multicolor...</td>\n      <td>['Manufacturers and Installers countertops. \\n...</td>\n      <td>[]</td>\n      <td>['https://www.facebook.com/marketplace/item/13...</td>\n      <td>None</td>\n      <td>None</td>\n      <td>None</td>\n    </tr>\n    <tr>\n      <th>1081</th>\n      <td>bouy o boy anti exposure flotation suit</td>\n      <td>400</td>\n      <td>['Location is approximate']</td>\n      <td>['kelowna, bc', 'joined facebook in 2011']</td>\n      <td>['This is a bouy o boy anti exposure flotation...</td>\n      <td>[]</td>\n      <td>['https://www.facebook.com/marketplace/item/54...</td>\n      <td>None</td>\n      <td>None</td>\n      <td>None</td>\n    </tr>\n    <tr>\n      <th>1179</th>\n      <td>duplex upstairs ready for rent</td>\n      <td>2000</td>\n      <td>['Location is approximate']</td>\n      <td>['kelowna, bc', 'joined facebook in 2008']</td>\n      <td>['We have rental place two bedroom Upstair and...</td>\n      <td>[]</td>\n      <td>['https://www.facebook.com/marketplace/item/11...</td>\n      <td>None</td>\n      <td>None</td>\n      <td>None</td>\n    </tr>\n    <tr>\n      <th>1187</th>\n      <td>4601 anderson way  premium commercial real est...</td>\n      <td>18</td>\n      <td>['Location is approximate']</td>\n      <td>['vernon, bc', 'joined facebook in 2022']</td>\n      <td>['$18/sqft\\nthe COMMERCE I Vernon – a premium ...</td>\n      <td>[]</td>\n      <td>['https://www.facebook.com/marketplace/item/17...</td>\n      <td>None</td>\n      <td>None</td>\n      <td>None</td>\n    </tr>\n    <tr>\n      <th>1248</th>\n      <td>promo quartz sparkling  59 sqft new countertops</td>\n      <td>59</td>\n      <td>['Location is approximate']</td>\n      <td>['condition', 'new', 'kelowna, bc', 'joined fa...</td>\n      <td>['We are manufacturers and installers\\nprices ...</td>\n      <td>[]</td>\n      <td>['https://www.facebook.com/marketplace/item/90...</td>\n      <td>None</td>\n      <td>None</td>\n      <td>None</td>\n    </tr>\n    <tr>\n      <th>1257</th>\n      <td>christmas season  new colors for your favorite...</td>\n      <td>1</td>\n      <td>['Location is approximate']</td>\n      <td>['condition', 'new', 'band color', 'new collec...</td>\n      <td>['Professional team, fully insured, a speciali...</td>\n      <td>[]</td>\n      <td>['https://www.facebook.com/marketplace/item/13...</td>\n      <td>None</td>\n      <td>None</td>\n      <td>None</td>\n    </tr>\n    <tr>\n      <th>1292</th>\n      <td>1 week available in january 2200 for 1 week</td>\n      <td>2200</td>\n      <td>['Location is approximate']</td>\n      <td>['condition', 'new', 'kootenay boundary, bc', ...</td>\n      <td>['One king, one twin, one queen and one pull o...</td>\n      <td>[]</td>\n      <td>['https://www.facebook.com/marketplace/item/84...</td>\n      <td>None</td>\n      <td>None</td>\n      <td>None</td>\n    </tr>\n    <tr>\n      <th>1298</th>\n      <td>get a new project in 2 weesk  quartz and grani...</td>\n      <td>2200</td>\n      <td>['Location is approximate']</td>\n      <td>['condition', 'new', 'band color', 'multicolor...</td>\n      <td>['We are a manufacturers and installers team, ...</td>\n      <td>[]</td>\n      <td>['https://www.facebook.com/marketplace/item/50...</td>\n      <td>None</td>\n      <td>None</td>\n      <td>None</td>\n    </tr>\n    <tr>\n      <th>1300</th>\n      <td>chalets for rent nightly at big white ski reso...</td>\n      <td>1234</td>\n      <td>['Location is approximate']</td>\n      <td>['condition', 'used - like new', 'kelowna, bc'...</td>\n      <td>['Visit staylocations.com, select Big White, v...</td>\n      <td>[]</td>\n      <td>['https://www.facebook.com/marketplace/item/12...</td>\n      <td>None</td>\n      <td>None</td>\n      <td>None</td>\n    </tr>\n    <tr>\n      <th>1309</th>\n      <td>quartz season at the best price</td>\n      <td>1</td>\n      <td>['Location is approximate']</td>\n      <td>['condition', 'new', 'band color', 'premium qu...</td>\n      <td>['Schedule an appointment for a free template!...</td>\n      <td>[]</td>\n      <td>['https://www.facebook.com/marketplace/item/34...</td>\n      <td>None</td>\n      <td>None</td>\n      <td>None</td>\n    </tr>\n    <tr>\n      <th>1310</th>\n      <td>christmas season  best prices  new collection ...</td>\n      <td>1</td>\n      <td>['Location is approximate']</td>\n      <td>['condition', 'new', 'band color', 'multicolor...</td>\n      <td>['We are mafuctarures and installers, speciali...</td>\n      <td>[]</td>\n      <td>['https://www.facebook.com/marketplace/item/85...</td>\n      <td>None</td>\n      <td>None</td>\n      <td>None</td>\n    </tr>\n    <tr>\n      <th>1320</th>\n      <td>silver star suite for short term rent</td>\n      <td>375</td>\n      <td>['Location is approximate']</td>\n      <td>['condition', 'used - like new', 'north okanag...</td>\n      <td>['Full suite with garage parking near the vill...</td>\n      <td>[]</td>\n      <td>['https://www.facebook.com/marketplace/item/11...</td>\n      <td>None</td>\n      <td>None</td>\n      <td>None</td>\n    </tr>\n    <tr>\n      <th>1323</th>\n      <td>storage unit</td>\n      <td>200</td>\n      <td>['Location is approximate']</td>\n      <td>['vernon, bc', 'joined facebook in 2021']</td>\n      <td>['Storage unit private secure inside of a buil...</td>\n      <td>[]</td>\n      <td>['https://www.facebook.com/marketplace/item/85...</td>\n      <td>None</td>\n      <td>None</td>\n      <td>None</td>\n    </tr>\n    <tr>\n      <th>1325</th>\n      <td>ski jacket pants monster brand</td>\n      <td>20</td>\n      <td>['Location is approximate']</td>\n      <td>['vernon, bc', 'joined facebook in 2008']</td>\n      <td>[\"Child's MONSTER Ski Jacket and pants.  -  Si...</td>\n      <td>[]</td>\n      <td>['https://www.facebook.com/marketplace/item/10...</td>\n      <td>None</td>\n      <td>None</td>\n      <td>None</td>\n    </tr>\n    <tr>\n      <th>1332</th>\n      <td>amazing countertops outdoor and indoor  exclus...</td>\n      <td>1</td>\n      <td>['Location is approximate']</td>\n      <td>['condition', 'new', 'band color', 'multi colo...</td>\n      <td>['We are manufacturers and installers of Quart...</td>\n      <td>[]</td>\n      <td>['https://www.facebook.com/marketplace/item/58...</td>\n      <td>None</td>\n      <td>None</td>\n      <td>None</td>\n    </tr>\n    <tr>\n      <th>1334</th>\n      <td>replace your countertops in 2 weeks  quartz an...</td>\n      <td>1</td>\n      <td>['Location is approximate']</td>\n      <td>['condition', 'new', 'band color', 'variety of...</td>\n      <td>['We are manufacturers and installers fully in...</td>\n      <td>[]</td>\n      <td>['https://www.facebook.com/marketplace/item/33...</td>\n      <td>None</td>\n      <td>None</td>\n      <td>None</td>\n    </tr>\n    <tr>\n      <th>1336</th>\n      <td>renew your favorite area this year  quartz and...</td>\n      <td>1</td>\n      <td>['Location is approximate']</td>\n      <td>['condition', 'new', 'band color', 'multicolor...</td>\n      <td>['Manufacturers and Installers countertops. Pr...</td>\n      <td>[]</td>\n      <td>['https://www.facebook.com/marketplace/item/70...</td>\n      <td>None</td>\n      <td>None</td>\n      <td>None</td>\n    </tr>\n    <tr>\n      <th>1337</th>\n      <td>parking space for rent</td>\n      <td>123</td>\n      <td>['Location is approximate']</td>\n      <td>['condition', 'new', 'lake country, bc', 'join...</td>\n      <td>['Parking space available for rent \\nYou can p...</td>\n      <td>[]</td>\n      <td>['https://www.facebook.com/marketplace/item/15...</td>\n      <td>None</td>\n      <td>None</td>\n      <td>None</td>\n    </tr>\n    <tr>\n      <th>1339</th>\n      <td>amazing countertops outdoor and indoor  exclus...</td>\n      <td>1</td>\n      <td>['Location is approximate']</td>\n      <td>['condition', 'new', 'band color', 'multi colo...</td>\n      <td>['We are manufacturers and installers of Quart...</td>\n      <td>[]</td>\n      <td>['https://www.facebook.com/marketplace/item/33...</td>\n      <td>None</td>\n      <td>None</td>\n      <td>None</td>\n    </tr>\n    <tr>\n      <th>1340</th>\n      <td>storage yard for rent</td>\n      <td>1000</td>\n      <td>['Location is approximate']</td>\n      <td>['condition', 'used - good', 'kelowna, bc', 'j...</td>\n      <td>[\"35'x110' Gated compound for Rent In Summerla...</td>\n      <td>[]</td>\n      <td>['https://www.facebook.com/marketplace/item/12...</td>\n      <td>None</td>\n      <td>None</td>\n      <td>None</td>\n    </tr>\n    <tr>\n      <th>1341</th>\n      <td>janome</td>\n      <td>7500</td>\n      <td>['Location is approximate']</td>\n      <td>['condition', 'used - like new', 'kelowna, bc'...</td>\n      <td>['Horizon 15000 quilt maker low hours recently...</td>\n      <td>[]</td>\n      <td>['https://www.facebook.com/marketplace/item/54...</td>\n      <td>None</td>\n      <td>None</td>\n      <td>None</td>\n    </tr>\n    <tr>\n      <th>1343</th>\n      <td>matte black tub door 5 wx5 h</td>\n      <td>1</td>\n      <td>['Location is approximate']</td>\n      <td>['condition', 'new', 'band color', 'black', 'w...</td>\n      <td>['New in box with all hardware\\n\\n8mm black fr...</td>\n      <td>[]</td>\n      <td>['https://www.facebook.com/marketplace/item/85...</td>\n      <td>None</td>\n      <td>None</td>\n      <td>None</td>\n    </tr>\n    <tr>\n      <th>1344</th>\n      <td>certified kitchen for rent</td>\n      <td>1</td>\n      <td>['Location is approximate']</td>\n      <td>['vernon, bc', 'joined facebook in 2018']</td>\n      <td>['We have rental times available for our certi...</td>\n      <td>[]</td>\n      <td>['https://www.facebook.com/marketplace/item/73...</td>\n      <td>None</td>\n      <td>None</td>\n      <td>None</td>\n    </tr>\n    <tr>\n      <th>1346</th>\n      <td>parking rv  boat boat trailer  few slots left</td>\n      <td>70</td>\n      <td>['Location is approximate']</td>\n      <td>['condition', 'new', 'kelowna, bc', 'joined fa...</td>\n      <td>['It’s in lower mission ,fenced, living next d...</td>\n      <td>[]</td>\n      <td>['https://www.facebook.com/marketplace/item/52...</td>\n      <td>None</td>\n      <td>None</td>\n      <td>None</td>\n    </tr>\n  </tbody>\n</table>\n</div>"
     },
     "execution_count": 79,
     "metadata": {},
     "output_type": "execute_result"
    }
   ],
   "source": [
    "df[df['Type'] == 'None']"
   ],
   "metadata": {
    "collapsed": false,
    "pycharm": {
     "name": "#%%\n"
    }
   }
  },
  {
   "cell_type": "markdown",
   "source": [
    "Thus, i decided to drop all rows with 'None' as type."
   ],
   "metadata": {
    "collapsed": false,
    "pycharm": {
     "name": "#%% md\n"
    }
   }
  },
  {
   "cell_type": "code",
   "execution_count": 80,
   "outputs": [],
   "source": [
    "df = df.drop(df[df['Type'] == 'None'].index)"
   ],
   "metadata": {
    "collapsed": false,
    "pycharm": {
     "name": "#%%\n"
    }
   }
  },
  {
   "cell_type": "code",
   "execution_count": 81,
   "outputs": [
    {
     "data": {
      "text/plain": "Type\nHouse              671\nApartment/Condo    402\nTownhouse          142\nRoom               102\ndtype: int64"
     },
     "execution_count": 81,
     "metadata": {},
     "output_type": "execute_result"
    }
   ],
   "source": [
    "df.value_counts('Type')"
   ],
   "metadata": {
    "collapsed": false,
    "pycharm": {
     "name": "#%%\n"
    }
   }
  },
  {
   "cell_type": "markdown",
   "source": [
    "## Extracting number of beds and bathrooms"
   ],
   "metadata": {
    "collapsed": false,
    "pycharm": {
     "name": "#%% md\n"
    }
   }
  },
  {
   "cell_type": "code",
   "execution_count": 86,
   "outputs": [
    {
     "data": {
      "text/plain": "                                                   name  price  \\\n1                              3 beds 3 baths townhouse   3300   \n2                                   2 beds 1 bath house   2000   \n3                                1 bed 1 bath apartment   1250   \n4       1 bedroom available in 2 bedroom basement suite    650   \n5                                   3 beds 1 bath house   2000   \n...                                                 ...    ...   \n1342                 room for rent available in rutland    850   \n1345  room for rent for girls in rutland dm for more...    900   \n1347  renew your condo  kitchen and more  quartz gra...      1   \n1348                   powerwash house by professionals    123   \n1349                              private room for rent   1100   \n\n                           adress  \\\n1        ['Kelowna, BC, V1Y 5T5']   \n2       ['West Kelowna, BC, V4T']   \n3            ['Kelowna, BC, V1V']   \n4     ['Location is approximate']   \n5        ['Kelowna, BC, V1V 1R1']   \n...                           ...   \n1342  ['Location is approximate']   \n1345  ['Location is approximate']   \n1347  ['Location is approximate']   \n1348  ['Location is approximate']   \n1349  ['Location is approximate']   \n\n                                           unit_details  \\\n1     ['1275 brookside ave, kelowna, bc', 'listed ov...   \n2     ['goldie rd, west kelowna, bc', '914 square fe...   \n3     ['academy way, kelowna, bc', 'listed over a we...   \n4     ['west kelowna, bc', '1000 square meters', 'li...   \n5     ['kelowna, bc, canada, kelowna, bc', 'listed a...   \n...                                                 ...   \n1342  ['condition', 'used - like new', 'kelowna, bc'...   \n1345  ['kelowna, bc', 'listed over a week ago', 'hou...   \n1347  ['condition', 'new', 'penticton, bc', 'joined ...   \n1348  ['condition', 'new', 'vernon, bc', 'joined fac...   \n1349  ['west kelowna, bc', '1800 square meters', 'li...   \n\n                                            description  \\\n1     ['Kelowna 3 bed 3 bath townhome for rent\\n\\nWi...   \n2     ['REDUCED. Stunning lake and city views are in...   \n3     ['Veda Student Living Studio Apartment Sublet ...   \n4     ['1 bedroom available in 2 bedroom basement su...   \n5     [\"Great location 3 bedroom, 1 bathroom home. N...   \n...                                                 ...   \n1342  ['1 room available in a shared house for rent ...   \n1345  ['Dm for more info! Room available for girls a...   \n1347  ['We are manufacturers and installers with mor...   \n1348  ['Call [hidden information] for further details']   \n1349  [\"Welcome to the Luxury Lakeview Private Suite...   \n\n                                                  score  \\\n1                                                    []   \n2                                                    []   \n3                                                    []   \n4     ['Provided by Walk Score®︎', '63 out of 100', ...   \n5                                                    []   \n...                                                 ...   \n1342                                                 []   \n1345  ['Provided by Walk Score®︎', '60 out of 100', ...   \n1347                                                 []   \n1348                                                 []   \n1349                                                 []   \n\n                                                    URL   type_from_name  \\\n1     ['https://www.facebook.com/marketplace/item/11...        Townhouse   \n2     ['https://www.facebook.com/marketplace/item/13...            House   \n3     ['https://www.facebook.com/marketplace/item/15...  Apartment/Condo   \n4     ['https://www.facebook.com/marketplace/item/36...             Room   \n5     ['https://www.facebook.com/marketplace/item/60...            House   \n...                                                 ...              ...   \n1342  ['https://www.facebook.com/marketplace/item/69...             Room   \n1345  ['https://www.facebook.com/marketplace/item/81...             Room   \n1347  ['https://www.facebook.com/marketplace/item/57...  Apartment/Condo   \n1348  ['https://www.facebook.com/marketplace/item/66...            House   \n1349  ['https://www.facebook.com/marketplace/item/71...             Room   \n\n     type_from_details             Type  \n1            Townhouse        Townhouse  \n2                House            House  \n3      Apartment/Condo  Apartment/Condo  \n4                 Room             Room  \n5                House            House  \n...                ...              ...  \n1342              None             Room  \n1345             House            House  \n1347              None  Apartment/Condo  \n1348              None            House  \n1349             House            House  \n\n[1317 rows x 10 columns]",
      "text/html": "<div>\n<style scoped>\n    .dataframe tbody tr th:only-of-type {\n        vertical-align: middle;\n    }\n\n    .dataframe tbody tr th {\n        vertical-align: top;\n    }\n\n    .dataframe thead th {\n        text-align: right;\n    }\n</style>\n<table border=\"1\" class=\"dataframe\">\n  <thead>\n    <tr style=\"text-align: right;\">\n      <th></th>\n      <th>name</th>\n      <th>price</th>\n      <th>adress</th>\n      <th>unit_details</th>\n      <th>description</th>\n      <th>score</th>\n      <th>URL</th>\n      <th>type_from_name</th>\n      <th>type_from_details</th>\n      <th>Type</th>\n    </tr>\n  </thead>\n  <tbody>\n    <tr>\n      <th>1</th>\n      <td>3 beds 3 baths townhouse</td>\n      <td>3300</td>\n      <td>['Kelowna, BC, V1Y 5T5']</td>\n      <td>['1275 brookside ave, kelowna, bc', 'listed ov...</td>\n      <td>['Kelowna 3 bed 3 bath townhome for rent\\n\\nWi...</td>\n      <td>[]</td>\n      <td>['https://www.facebook.com/marketplace/item/11...</td>\n      <td>Townhouse</td>\n      <td>Townhouse</td>\n      <td>Townhouse</td>\n    </tr>\n    <tr>\n      <th>2</th>\n      <td>2 beds 1 bath house</td>\n      <td>2000</td>\n      <td>['West Kelowna, BC, V4T']</td>\n      <td>['goldie rd, west kelowna, bc', '914 square fe...</td>\n      <td>['REDUCED. Stunning lake and city views are in...</td>\n      <td>[]</td>\n      <td>['https://www.facebook.com/marketplace/item/13...</td>\n      <td>House</td>\n      <td>House</td>\n      <td>House</td>\n    </tr>\n    <tr>\n      <th>3</th>\n      <td>1 bed 1 bath apartment</td>\n      <td>1250</td>\n      <td>['Kelowna, BC, V1V']</td>\n      <td>['academy way, kelowna, bc', 'listed over a we...</td>\n      <td>['Veda Student Living Studio Apartment Sublet ...</td>\n      <td>[]</td>\n      <td>['https://www.facebook.com/marketplace/item/15...</td>\n      <td>Apartment/Condo</td>\n      <td>Apartment/Condo</td>\n      <td>Apartment/Condo</td>\n    </tr>\n    <tr>\n      <th>4</th>\n      <td>1 bedroom available in 2 bedroom basement suite</td>\n      <td>650</td>\n      <td>['Location is approximate']</td>\n      <td>['west kelowna, bc', '1000 square meters', 'li...</td>\n      <td>['1 bedroom available in 2 bedroom basement su...</td>\n      <td>['Provided by Walk Score®︎', '63 out of 100', ...</td>\n      <td>['https://www.facebook.com/marketplace/item/36...</td>\n      <td>Room</td>\n      <td>Room</td>\n      <td>Room</td>\n    </tr>\n    <tr>\n      <th>5</th>\n      <td>3 beds 1 bath house</td>\n      <td>2000</td>\n      <td>['Kelowna, BC, V1V 1R1']</td>\n      <td>['kelowna, bc, canada, kelowna, bc', 'listed a...</td>\n      <td>[\"Great location 3 bedroom, 1 bathroom home. N...</td>\n      <td>[]</td>\n      <td>['https://www.facebook.com/marketplace/item/60...</td>\n      <td>House</td>\n      <td>House</td>\n      <td>House</td>\n    </tr>\n    <tr>\n      <th>...</th>\n      <td>...</td>\n      <td>...</td>\n      <td>...</td>\n      <td>...</td>\n      <td>...</td>\n      <td>...</td>\n      <td>...</td>\n      <td>...</td>\n      <td>...</td>\n      <td>...</td>\n    </tr>\n    <tr>\n      <th>1342</th>\n      <td>room for rent available in rutland</td>\n      <td>850</td>\n      <td>['Location is approximate']</td>\n      <td>['condition', 'used - like new', 'kelowna, bc'...</td>\n      <td>['1 room available in a shared house for rent ...</td>\n      <td>[]</td>\n      <td>['https://www.facebook.com/marketplace/item/69...</td>\n      <td>Room</td>\n      <td>None</td>\n      <td>Room</td>\n    </tr>\n    <tr>\n      <th>1345</th>\n      <td>room for rent for girls in rutland dm for more...</td>\n      <td>900</td>\n      <td>['Location is approximate']</td>\n      <td>['kelowna, bc', 'listed over a week ago', 'hou...</td>\n      <td>['Dm for more info! Room available for girls a...</td>\n      <td>['Provided by Walk Score®︎', '60 out of 100', ...</td>\n      <td>['https://www.facebook.com/marketplace/item/81...</td>\n      <td>Room</td>\n      <td>House</td>\n      <td>House</td>\n    </tr>\n    <tr>\n      <th>1347</th>\n      <td>renew your condo  kitchen and more  quartz gra...</td>\n      <td>1</td>\n      <td>['Location is approximate']</td>\n      <td>['condition', 'new', 'penticton, bc', 'joined ...</td>\n      <td>['We are manufacturers and installers with mor...</td>\n      <td>[]</td>\n      <td>['https://www.facebook.com/marketplace/item/57...</td>\n      <td>Apartment/Condo</td>\n      <td>None</td>\n      <td>Apartment/Condo</td>\n    </tr>\n    <tr>\n      <th>1348</th>\n      <td>powerwash house by professionals</td>\n      <td>123</td>\n      <td>['Location is approximate']</td>\n      <td>['condition', 'new', 'vernon, bc', 'joined fac...</td>\n      <td>['Call [hidden information] for further details']</td>\n      <td>[]</td>\n      <td>['https://www.facebook.com/marketplace/item/66...</td>\n      <td>House</td>\n      <td>None</td>\n      <td>House</td>\n    </tr>\n    <tr>\n      <th>1349</th>\n      <td>private room for rent</td>\n      <td>1100</td>\n      <td>['Location is approximate']</td>\n      <td>['west kelowna, bc', '1800 square meters', 'li...</td>\n      <td>[\"Welcome to the Luxury Lakeview Private Suite...</td>\n      <td>[]</td>\n      <td>['https://www.facebook.com/marketplace/item/71...</td>\n      <td>Room</td>\n      <td>House</td>\n      <td>House</td>\n    </tr>\n  </tbody>\n</table>\n<p>1317 rows × 10 columns</p>\n</div>"
     },
     "execution_count": 86,
     "metadata": {},
     "output_type": "execute_result"
    }
   ],
   "source": [
    "df"
   ],
   "metadata": {
    "collapsed": false,
    "pycharm": {
     "name": "#%%\n"
    }
   }
  }
 ],
 "metadata": {
  "kernelspec": {
   "display_name": "Python 3",
   "language": "python",
   "name": "python3"
  },
  "language_info": {
   "codemirror_mode": {
    "name": "ipython",
    "version": 2
   },
   "file_extension": ".py",
   "mimetype": "text/x-python",
   "name": "python",
   "nbconvert_exporter": "python",
   "pygments_lexer": "ipython2",
   "version": "2.7.6"
  }
 },
 "nbformat": 4,
 "nbformat_minor": 0
}