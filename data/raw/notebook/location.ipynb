{
 "cells": [
  {
   "cell_type": "code",
   "execution_count": null,
   "metadata": {
    "collapsed": true,
    "pycharm": {
     "name": "#%%\n"
    }
   },
   "outputs": [],
   "source": [
    "import requests\n",
    "import json\n",
    "import pandas as pd\n",
    "df = pd.read_csv('pre_clean_data.csv')\n",
    "for index, row in df.iterrows():\n",
    "    api_address = row['address']\n",
    "    parameters = {\n",
    "        \"key\": \"ojSeJRAYm07WLKZhHKRbxXdXTiXmF6o2\",\n",
    "        \"location\": api_address\n",
    "    }\n",
    "    response = requests.get(\"http://www.mapquestapi.com/geocoding/v1/address\", params=parameters)\n",
    "    data = response.json()['results']\n",
    "    lat = data[0]['locations'][0]['latLng']['lat']\n",
    "    lng = data[0]['locations'][0]['latLng']['lng']\n",
    "    df.at[index, 'lat'] = lat\n",
    "    df.at[index, 'lng'] = lng"
   ]
  },
  {
   "cell_type": "code",
   "execution_count": null,
   "outputs": [],
   "source": [
    "import folium\n",
    "map1 = folium.Map(\n",
    "    location=[49.338315, -119.089960],\n",
    "    tiles='cartodbpositron',\n",
    "    zoom_start=12,\n",
    ")\n",
    "df.apply(lambda row:folium.CircleMarker(location=[row[\"lat\"], row[\"lng\"]]).add_to(map1), axis=1)\n",
    "map1"
   ],
   "metadata": {
    "collapsed": false,
    "pycharm": {
     "name": "#%%\n"
    }
   }
  },
  {
   "cell_type": "code",
   "execution_count": null,
   "outputs": [],
   "source": [
    "df.to_csv(\"../processed/clean_kelowna_housing_data.csv\")\n",
    "df.to_excel('../processed/clean_kelowna_housing_data.xlsx')"
   ],
   "metadata": {
    "collapsed": false,
    "pycharm": {
     "name": "#%%\n"
    }
   }
  }
 ],
 "metadata": {
  "kernelspec": {
   "display_name": "Python 3",
   "language": "python",
   "name": "python3"
  },
  "language_info": {
   "codemirror_mode": {
    "name": "ipython",
    "version": 2
   },
   "file_extension": ".py",
   "mimetype": "text/x-python",
   "name": "python",
   "nbconvert_exporter": "python",
   "pygments_lexer": "ipython2",
   "version": "2.7.6"
  }
 },
 "nbformat": 4,
 "nbformat_minor": 0
}