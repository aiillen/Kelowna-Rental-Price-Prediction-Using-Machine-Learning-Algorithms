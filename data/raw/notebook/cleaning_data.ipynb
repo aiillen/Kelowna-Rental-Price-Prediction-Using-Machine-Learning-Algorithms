{
 "cells": [
  {
   "cell_type": "markdown",
   "source": [
    "# Cleaning dataset"
   ],
   "metadata": {
    "collapsed": false,
    "pycharm": {
     "name": "#%% md\n"
    }
   }
  },
  {
   "cell_type": "markdown",
   "source": [
    "In this notebook, I will clean the dataset in preparation for further EDA and modeling."
   ],
   "metadata": {
    "collapsed": false,
    "pycharm": {
     "name": "#%% md\n"
    }
   }
  },
  {
   "cell_type": "markdown",
   "source": [
    "## Import Libraries"
   ],
   "metadata": {
    "collapsed": false,
    "pycharm": {
     "name": "#%% md\n"
    }
   }
  },
  {
   "cell_type": "code",
   "execution_count": 1,
   "metadata": {
    "collapsed": true,
    "pycharm": {
     "name": "#%%\n"
    }
   },
   "outputs": [],
   "source": [
    "import pandas as pd\n",
    "import numpy as np"
   ]
  },
  {
   "cell_type": "markdown",
   "source": [
    "I extracted a dataset from a marketplace and found some rows with empty cells. To address this, I filled in the missing information myself and saved the updated version as a new .csv file named \"kelowna_housing_data_new.csv\"."
   ],
   "metadata": {
    "collapsed": false,
    "pycharm": {
     "name": "#%% md\n"
    }
   }
  },
  {
   "cell_type": "code",
   "execution_count": 2,
   "outputs": [
    {
     "name": "stdout",
     "output_type": "stream",
     "text": [
      "<class 'pandas.core.frame.DataFrame'>\n",
      "RangeIndex: 1350 entries, 0 to 1349\n",
      "Data columns (total 8 columns):\n",
      " #   Column        Non-Null Count  Dtype \n",
      "---  ------        --------------  ----- \n",
      " 0   Unnamed: 0    1350 non-null   int64 \n",
      " 1   name          1350 non-null   object\n",
      " 2   price         1350 non-null   object\n",
      " 3   adress        1350 non-null   object\n",
      " 4   unit_details  1350 non-null   object\n",
      " 5   description   1350 non-null   object\n",
      " 6   score         1350 non-null   object\n",
      " 7   URL           1350 non-null   object\n",
      "dtypes: int64(1), object(7)\n",
      "memory usage: 84.5+ KB\n"
     ]
    }
   ],
   "source": [
    "df = pd.read_csv('../kelowna_housing_data_new.csv')\n",
    "df.info()"
   ],
   "metadata": {
    "collapsed": false,
    "pycharm": {
     "name": "#%%\n"
    }
   }
  },
  {
   "cell_type": "markdown",
   "source": [
    "## Deleting unnecessary column and row"
   ],
   "metadata": {
    "collapsed": false,
    "pycharm": {
     "name": "#%% md\n"
    }
   }
  },
  {
   "cell_type": "markdown",
   "source": [
    "As observed, there are unneeded columns 'Unnamed: 0' and an empty row '0' in the data frame, so I have decided to remove them."
   ],
   "metadata": {
    "collapsed": false,
    "pycharm": {
     "name": "#%% md\n"
    }
   }
  },
  {
   "cell_type": "code",
   "execution_count": 3,
   "outputs": [
    {
     "data": {
      "text/plain": "                                                 name               price  \\\n1                  ['', '3 Beds 3 Baths - Townhouse']  ['$3,300 / Month']   \n2                         ['', '2 Beds 1 Bath House']  ['$2,000 / Month']   \n3                    ['', '1 Bed 1 Bath - Apartment']  ['$1,250 / Month']   \n4   ['', '1 bedroom available in 2 bedroom basemen...    ['$650 / Month']   \n5                         ['', '3 Beds 1 Bath House']  ['$2,000 / Month']   \n6                        ['', '1 Bed 1 Bath - House']    ['$600 / Month']   \n7                          ['', '1 Bed 1 Bath House']    ['$850 / Month']   \n8                       ['', 'Private Room For Rent']    ['$500 / Month']   \n9                    ['', '2 Beds 2 Baths Townhouse']  ['$2,300 / Month']   \n10                   ['', '1 Bed 1 Bath - Apartment']  ['$1,800 / Month']   \n\n                         adress  \\\n1      ['Kelowna, BC, V1Y 5T5']   \n2     ['West Kelowna, BC, V4T']   \n3          ['Kelowna, BC, V1V']   \n4   ['Location is approximate']   \n5      ['Kelowna, BC, V1V 1R1']   \n6      ['Kelowna, BC, V1X 3M7']   \n7       ['Vernon, BC, V1B 3M1']   \n8   ['Location is approximate']   \n9      ['Kelowna, BC, V1Y 5T8']   \n10  ['Location is approximate']   \n\n                                         unit_details  \\\n1   ['1275 Brookside Ave, Kelowna, BC', 'Listed ov...   \n2   ['Goldie Rd, West Kelowna, BC', '914 square fe...   \n3   ['Academy Way, Kelowna, BC', 'Listed over a we...   \n4   ['West Kelowna, BC', '1000 square meters', 'Li...   \n5   ['Kelowna, BC, Canada, Kelowna, BC', 'Listed a...   \n6   ['395 Froelich Rd, Kelowna, BC', 'Listed over ...   \n7   ['Vernon, BC, Canada, Vernon, BC', 'Listed 5 d...   \n8   ['Kelowna, BC', 'Listed 4 days ago · Available...   \n9   ['1145 Pacific Ave, Kelowna, BC', '1014 square...   \n10  ['Kelowna, BC', '750 square meters', 'Dog and ...   \n\n                                          description  \\\n1   ['Kelowna 3 bed 3 bath townhome for rent\\n\\nWi...   \n2   ['REDUCED. Stunning lake and city views are in...   \n3   ['Veda Student Living Studio Apartment Sublet ...   \n4   ['1 bedroom available in 2 bedroom basement su...   \n5   [\"Great location 3 bedroom, 1 bathroom home. N...   \n6                                     ['Girls room ']   \n7   [\"Room for Rent in Shared Home\\n\\nOne bedroom ...   \n8   ['2 room apartment (1 bedroom available) \\nFor...   \n9   ['Beautiful and spacious 1014 square foot rent...   \n10  ['READ AD BEFORE REACTING 🤘🏼\\nLooking to rent ...   \n\n                                                score  \\\n1                                                  []   \n2                                                  []   \n3                                                  []   \n4   ['Provided by Walk Score®︎', '63 out of 100', ...   \n5                                                  []   \n6                                                  []   \n7                                                  []   \n8                                                  []   \n9                                                  []   \n10                                                 []   \n\n                                                  URL  \n1   ['https://www.facebook.com/marketplace/item/11...  \n2   ['https://www.facebook.com/marketplace/item/13...  \n3   ['https://www.facebook.com/marketplace/item/15...  \n4   ['https://www.facebook.com/marketplace/item/36...  \n5   ['https://www.facebook.com/marketplace/item/60...  \n6   ['https://www.facebook.com/marketplace/item/49...  \n7   ['https://www.facebook.com/marketplace/item/85...  \n8   ['https://www.facebook.com/marketplace/item/84...  \n9   ['https://www.facebook.com/marketplace/item/81...  \n10  ['https://www.facebook.com/marketplace/item/72...  ",
      "text/html": "<div>\n<style scoped>\n    .dataframe tbody tr th:only-of-type {\n        vertical-align: middle;\n    }\n\n    .dataframe tbody tr th {\n        vertical-align: top;\n    }\n\n    .dataframe thead th {\n        text-align: right;\n    }\n</style>\n<table border=\"1\" class=\"dataframe\">\n  <thead>\n    <tr style=\"text-align: right;\">\n      <th></th>\n      <th>name</th>\n      <th>price</th>\n      <th>adress</th>\n      <th>unit_details</th>\n      <th>description</th>\n      <th>score</th>\n      <th>URL</th>\n    </tr>\n  </thead>\n  <tbody>\n    <tr>\n      <th>1</th>\n      <td>['', '3 Beds 3 Baths - Townhouse']</td>\n      <td>['$3,300 / Month']</td>\n      <td>['Kelowna, BC, V1Y 5T5']</td>\n      <td>['1275 Brookside Ave, Kelowna, BC', 'Listed ov...</td>\n      <td>['Kelowna 3 bed 3 bath townhome for rent\\n\\nWi...</td>\n      <td>[]</td>\n      <td>['https://www.facebook.com/marketplace/item/11...</td>\n    </tr>\n    <tr>\n      <th>2</th>\n      <td>['', '2 Beds 1 Bath House']</td>\n      <td>['$2,000 / Month']</td>\n      <td>['West Kelowna, BC, V4T']</td>\n      <td>['Goldie Rd, West Kelowna, BC', '914 square fe...</td>\n      <td>['REDUCED. Stunning lake and city views are in...</td>\n      <td>[]</td>\n      <td>['https://www.facebook.com/marketplace/item/13...</td>\n    </tr>\n    <tr>\n      <th>3</th>\n      <td>['', '1 Bed 1 Bath - Apartment']</td>\n      <td>['$1,250 / Month']</td>\n      <td>['Kelowna, BC, V1V']</td>\n      <td>['Academy Way, Kelowna, BC', 'Listed over a we...</td>\n      <td>['Veda Student Living Studio Apartment Sublet ...</td>\n      <td>[]</td>\n      <td>['https://www.facebook.com/marketplace/item/15...</td>\n    </tr>\n    <tr>\n      <th>4</th>\n      <td>['', '1 bedroom available in 2 bedroom basemen...</td>\n      <td>['$650 / Month']</td>\n      <td>['Location is approximate']</td>\n      <td>['West Kelowna, BC', '1000 square meters', 'Li...</td>\n      <td>['1 bedroom available in 2 bedroom basement su...</td>\n      <td>['Provided by Walk Score®︎', '63 out of 100', ...</td>\n      <td>['https://www.facebook.com/marketplace/item/36...</td>\n    </tr>\n    <tr>\n      <th>5</th>\n      <td>['', '3 Beds 1 Bath House']</td>\n      <td>['$2,000 / Month']</td>\n      <td>['Kelowna, BC, V1V 1R1']</td>\n      <td>['Kelowna, BC, Canada, Kelowna, BC', 'Listed a...</td>\n      <td>[\"Great location 3 bedroom, 1 bathroom home. N...</td>\n      <td>[]</td>\n      <td>['https://www.facebook.com/marketplace/item/60...</td>\n    </tr>\n    <tr>\n      <th>6</th>\n      <td>['', '1 Bed 1 Bath - House']</td>\n      <td>['$600 / Month']</td>\n      <td>['Kelowna, BC, V1X 3M7']</td>\n      <td>['395 Froelich Rd, Kelowna, BC', 'Listed over ...</td>\n      <td>['Girls room ']</td>\n      <td>[]</td>\n      <td>['https://www.facebook.com/marketplace/item/49...</td>\n    </tr>\n    <tr>\n      <th>7</th>\n      <td>['', '1 Bed 1 Bath House']</td>\n      <td>['$850 / Month']</td>\n      <td>['Vernon, BC, V1B 3M1']</td>\n      <td>['Vernon, BC, Canada, Vernon, BC', 'Listed 5 d...</td>\n      <td>[\"Room for Rent in Shared Home\\n\\nOne bedroom ...</td>\n      <td>[]</td>\n      <td>['https://www.facebook.com/marketplace/item/85...</td>\n    </tr>\n    <tr>\n      <th>8</th>\n      <td>['', 'Private Room For Rent']</td>\n      <td>['$500 / Month']</td>\n      <td>['Location is approximate']</td>\n      <td>['Kelowna, BC', 'Listed 4 days ago · Available...</td>\n      <td>['2 room apartment (1 bedroom available) \\nFor...</td>\n      <td>[]</td>\n      <td>['https://www.facebook.com/marketplace/item/84...</td>\n    </tr>\n    <tr>\n      <th>9</th>\n      <td>['', '2 Beds 2 Baths Townhouse']</td>\n      <td>['$2,300 / Month']</td>\n      <td>['Kelowna, BC, V1Y 5T8']</td>\n      <td>['1145 Pacific Ave, Kelowna, BC', '1014 square...</td>\n      <td>['Beautiful and spacious 1014 square foot rent...</td>\n      <td>[]</td>\n      <td>['https://www.facebook.com/marketplace/item/81...</td>\n    </tr>\n    <tr>\n      <th>10</th>\n      <td>['', '1 Bed 1 Bath - Apartment']</td>\n      <td>['$1,800 / Month']</td>\n      <td>['Location is approximate']</td>\n      <td>['Kelowna, BC', '750 square meters', 'Dog and ...</td>\n      <td>['READ AD BEFORE REACTING 🤘🏼\\nLooking to rent ...</td>\n      <td>[]</td>\n      <td>['https://www.facebook.com/marketplace/item/72...</td>\n    </tr>\n  </tbody>\n</table>\n</div>"
     },
     "execution_count": 3,
     "metadata": {},
     "output_type": "execute_result"
    }
   ],
   "source": [
    "df = df.drop(columns='Unnamed: 0').tail(-1)\n",
    "df.head(10)"
   ],
   "metadata": {
    "collapsed": false,
    "pycharm": {
     "name": "#%%\n"
    }
   }
  },
  {
   "cell_type": "markdown",
   "source": [
    "## Cleaning the price column"
   ],
   "metadata": {
    "collapsed": false,
    "pycharm": {
     "name": "#%% md\n"
    }
   }
  },
  {
   "cell_type": "markdown",
   "source": [
    "The \"price\" column was originally an object data type, but for EDA and modelling, it needs to be in integer format. To achieve this, I removed all non-numeric characters and converted the column to an integer data type."
   ],
   "metadata": {
    "collapsed": false,
    "pycharm": {
     "name": "#%% md\n"
    }
   }
  },
  {
   "cell_type": "code",
   "execution_count": 4,
   "outputs": [],
   "source": [
    "df['price'] = df['price'].str.replace('(\\D+)', '', regex = True).astype(int)"
   ],
   "metadata": {
    "collapsed": false,
    "pycharm": {
     "name": "#%%\n"
    }
   }
  },
  {
   "cell_type": "code",
   "execution_count": 5,
   "outputs": [
    {
     "name": "stdout",
     "output_type": "stream",
     "text": [
      "<class 'pandas.core.frame.DataFrame'>\n",
      "RangeIndex: 1349 entries, 1 to 1349\n",
      "Data columns (total 7 columns):\n",
      " #   Column        Non-Null Count  Dtype \n",
      "---  ------        --------------  ----- \n",
      " 0   name          1349 non-null   object\n",
      " 1   price         1349 non-null   int64 \n",
      " 2   adress        1349 non-null   object\n",
      " 3   unit_details  1349 non-null   object\n",
      " 4   description   1349 non-null   object\n",
      " 5   score         1349 non-null   object\n",
      " 6   URL           1349 non-null   object\n",
      "dtypes: int64(1), object(6)\n",
      "memory usage: 73.9+ KB\n"
     ]
    }
   ],
   "source": [
    "df.info()"
   ],
   "metadata": {
    "collapsed": false,
    "pycharm": {
     "name": "#%%\n"
    }
   }
  },
  {
   "cell_type": "markdown",
   "source": [
    "Now, the price column contains only int numbers."
   ],
   "metadata": {
    "collapsed": false,
    "pycharm": {
     "name": "#%% md\n"
    }
   }
  },
  {
   "cell_type": "markdown",
   "source": [
    "## Cleaning the name column"
   ],
   "metadata": {
    "collapsed": false,
    "pycharm": {
     "name": "#%% md\n"
    }
   }
  },
  {
   "cell_type": "markdown",
   "source": [
    "The \"name\" column holds information regarding the number of bedrooms, bathrooms, and the type of property. In this step, I need to extract the type, number of bedrooms, and number of bathrooms from the \"name\" column."
   ],
   "metadata": {
    "collapsed": false,
    "pycharm": {
     "name": "#%% md\n"
    }
   }
  },
  {
   "cell_type": "code",
   "execution_count": 6,
   "outputs": [],
   "source": [
    "df['name'] = df['name'].str.replace('\\W', ' ', regex=True).str.strip().str.replace('   ', ' ').str.lower()\n",
    "#I removed all unnecessary characters from the column, eliminated excess spaces, and converted it to lowercase for easier manipulation."
   ],
   "metadata": {
    "collapsed": false,
    "pycharm": {
     "name": "#%%\n"
    }
   }
  },
  {
   "cell_type": "code",
   "execution_count": 7,
   "outputs": [
    {
     "data": {
      "text/plain": "                                               name  price  \\\n1                          3 beds 3 baths townhouse   3300   \n2                               2 beds 1 bath house   2000   \n3                            1 bed 1 bath apartment   1250   \n4   1 bedroom available in 2 bedroom basement suite    650   \n5                               3 beds 1 bath house   2000   \n6                                1 bed 1 bath house    600   \n7                                1 bed 1 bath house    850   \n8                             private room for rent    500   \n9                          2 beds 2 baths townhouse   2300   \n10                           1 bed 1 bath apartment   1800   \n\n                         adress  \\\n1      ['Kelowna, BC, V1Y 5T5']   \n2     ['West Kelowna, BC, V4T']   \n3          ['Kelowna, BC, V1V']   \n4   ['Location is approximate']   \n5      ['Kelowna, BC, V1V 1R1']   \n6      ['Kelowna, BC, V1X 3M7']   \n7       ['Vernon, BC, V1B 3M1']   \n8   ['Location is approximate']   \n9      ['Kelowna, BC, V1Y 5T8']   \n10  ['Location is approximate']   \n\n                                         unit_details  \\\n1   ['1275 Brookside Ave, Kelowna, BC', 'Listed ov...   \n2   ['Goldie Rd, West Kelowna, BC', '914 square fe...   \n3   ['Academy Way, Kelowna, BC', 'Listed over a we...   \n4   ['West Kelowna, BC', '1000 square meters', 'Li...   \n5   ['Kelowna, BC, Canada, Kelowna, BC', 'Listed a...   \n6   ['395 Froelich Rd, Kelowna, BC', 'Listed over ...   \n7   ['Vernon, BC, Canada, Vernon, BC', 'Listed 5 d...   \n8   ['Kelowna, BC', 'Listed 4 days ago · Available...   \n9   ['1145 Pacific Ave, Kelowna, BC', '1014 square...   \n10  ['Kelowna, BC', '750 square meters', 'Dog and ...   \n\n                                          description  \\\n1   ['Kelowna 3 bed 3 bath townhome for rent\\n\\nWi...   \n2   ['REDUCED. Stunning lake and city views are in...   \n3   ['Veda Student Living Studio Apartment Sublet ...   \n4   ['1 bedroom available in 2 bedroom basement su...   \n5   [\"Great location 3 bedroom, 1 bathroom home. N...   \n6                                     ['Girls room ']   \n7   [\"Room for Rent in Shared Home\\n\\nOne bedroom ...   \n8   ['2 room apartment (1 bedroom available) \\nFor...   \n9   ['Beautiful and spacious 1014 square foot rent...   \n10  ['READ AD BEFORE REACTING 🤘🏼\\nLooking to rent ...   \n\n                                                score  \\\n1                                                  []   \n2                                                  []   \n3                                                  []   \n4   ['Provided by Walk Score®︎', '63 out of 100', ...   \n5                                                  []   \n6                                                  []   \n7                                                  []   \n8                                                  []   \n9                                                  []   \n10                                                 []   \n\n                                                  URL  \n1   ['https://www.facebook.com/marketplace/item/11...  \n2   ['https://www.facebook.com/marketplace/item/13...  \n3   ['https://www.facebook.com/marketplace/item/15...  \n4   ['https://www.facebook.com/marketplace/item/36...  \n5   ['https://www.facebook.com/marketplace/item/60...  \n6   ['https://www.facebook.com/marketplace/item/49...  \n7   ['https://www.facebook.com/marketplace/item/85...  \n8   ['https://www.facebook.com/marketplace/item/84...  \n9   ['https://www.facebook.com/marketplace/item/81...  \n10  ['https://www.facebook.com/marketplace/item/72...  ",
      "text/html": "<div>\n<style scoped>\n    .dataframe tbody tr th:only-of-type {\n        vertical-align: middle;\n    }\n\n    .dataframe tbody tr th {\n        vertical-align: top;\n    }\n\n    .dataframe thead th {\n        text-align: right;\n    }\n</style>\n<table border=\"1\" class=\"dataframe\">\n  <thead>\n    <tr style=\"text-align: right;\">\n      <th></th>\n      <th>name</th>\n      <th>price</th>\n      <th>adress</th>\n      <th>unit_details</th>\n      <th>description</th>\n      <th>score</th>\n      <th>URL</th>\n    </tr>\n  </thead>\n  <tbody>\n    <tr>\n      <th>1</th>\n      <td>3 beds 3 baths townhouse</td>\n      <td>3300</td>\n      <td>['Kelowna, BC, V1Y 5T5']</td>\n      <td>['1275 Brookside Ave, Kelowna, BC', 'Listed ov...</td>\n      <td>['Kelowna 3 bed 3 bath townhome for rent\\n\\nWi...</td>\n      <td>[]</td>\n      <td>['https://www.facebook.com/marketplace/item/11...</td>\n    </tr>\n    <tr>\n      <th>2</th>\n      <td>2 beds 1 bath house</td>\n      <td>2000</td>\n      <td>['West Kelowna, BC, V4T']</td>\n      <td>['Goldie Rd, West Kelowna, BC', '914 square fe...</td>\n      <td>['REDUCED. Stunning lake and city views are in...</td>\n      <td>[]</td>\n      <td>['https://www.facebook.com/marketplace/item/13...</td>\n    </tr>\n    <tr>\n      <th>3</th>\n      <td>1 bed 1 bath apartment</td>\n      <td>1250</td>\n      <td>['Kelowna, BC, V1V']</td>\n      <td>['Academy Way, Kelowna, BC', 'Listed over a we...</td>\n      <td>['Veda Student Living Studio Apartment Sublet ...</td>\n      <td>[]</td>\n      <td>['https://www.facebook.com/marketplace/item/15...</td>\n    </tr>\n    <tr>\n      <th>4</th>\n      <td>1 bedroom available in 2 bedroom basement suite</td>\n      <td>650</td>\n      <td>['Location is approximate']</td>\n      <td>['West Kelowna, BC', '1000 square meters', 'Li...</td>\n      <td>['1 bedroom available in 2 bedroom basement su...</td>\n      <td>['Provided by Walk Score®︎', '63 out of 100', ...</td>\n      <td>['https://www.facebook.com/marketplace/item/36...</td>\n    </tr>\n    <tr>\n      <th>5</th>\n      <td>3 beds 1 bath house</td>\n      <td>2000</td>\n      <td>['Kelowna, BC, V1V 1R1']</td>\n      <td>['Kelowna, BC, Canada, Kelowna, BC', 'Listed a...</td>\n      <td>[\"Great location 3 bedroom, 1 bathroom home. N...</td>\n      <td>[]</td>\n      <td>['https://www.facebook.com/marketplace/item/60...</td>\n    </tr>\n    <tr>\n      <th>6</th>\n      <td>1 bed 1 bath house</td>\n      <td>600</td>\n      <td>['Kelowna, BC, V1X 3M7']</td>\n      <td>['395 Froelich Rd, Kelowna, BC', 'Listed over ...</td>\n      <td>['Girls room ']</td>\n      <td>[]</td>\n      <td>['https://www.facebook.com/marketplace/item/49...</td>\n    </tr>\n    <tr>\n      <th>7</th>\n      <td>1 bed 1 bath house</td>\n      <td>850</td>\n      <td>['Vernon, BC, V1B 3M1']</td>\n      <td>['Vernon, BC, Canada, Vernon, BC', 'Listed 5 d...</td>\n      <td>[\"Room for Rent in Shared Home\\n\\nOne bedroom ...</td>\n      <td>[]</td>\n      <td>['https://www.facebook.com/marketplace/item/85...</td>\n    </tr>\n    <tr>\n      <th>8</th>\n      <td>private room for rent</td>\n      <td>500</td>\n      <td>['Location is approximate']</td>\n      <td>['Kelowna, BC', 'Listed 4 days ago · Available...</td>\n      <td>['2 room apartment (1 bedroom available) \\nFor...</td>\n      <td>[]</td>\n      <td>['https://www.facebook.com/marketplace/item/84...</td>\n    </tr>\n    <tr>\n      <th>9</th>\n      <td>2 beds 2 baths townhouse</td>\n      <td>2300</td>\n      <td>['Kelowna, BC, V1Y 5T8']</td>\n      <td>['1145 Pacific Ave, Kelowna, BC', '1014 square...</td>\n      <td>['Beautiful and spacious 1014 square foot rent...</td>\n      <td>[]</td>\n      <td>['https://www.facebook.com/marketplace/item/81...</td>\n    </tr>\n    <tr>\n      <th>10</th>\n      <td>1 bed 1 bath apartment</td>\n      <td>1800</td>\n      <td>['Location is approximate']</td>\n      <td>['Kelowna, BC', '750 square meters', 'Dog and ...</td>\n      <td>['READ AD BEFORE REACTING 🤘🏼\\nLooking to rent ...</td>\n      <td>[]</td>\n      <td>['https://www.facebook.com/marketplace/item/72...</td>\n    </tr>\n  </tbody>\n</table>\n</div>"
     },
     "execution_count": 7,
     "metadata": {},
     "output_type": "execute_result"
    }
   ],
   "source": [
    "df.head(10)"
   ],
   "metadata": {
    "collapsed": false,
    "pycharm": {
     "name": "#%%\n"
    }
   }
  },
  {
   "cell_type": "code",
   "execution_count": 8,
   "outputs": [],
   "source": [
    "df['type_from_name'] = np.where(df['name'].str.contains(\"townhouse\"), \"Townhouse\",\n",
    "             np.where(df['name'].str.contains(\"room\"), \"Room\",\n",
    "             np.where(df['unit_details'].str.contains(\"basement\"), \"Room\",\n",
    "             np.where(df['name'].str.contains(\"condo\"), \"Apartment/Condo\",\n",
    "             np.where(df['name'].str.contains(\"flat\"), \"Apartment/Condo\",\n",
    "             np.where(df['name'].str.contains(\"apartment\"), \"Apartment/Condo\",\n",
    "             np.where(df['name'].str.contains('house'), 'House',\n",
    "             np.where(df['name'].str.contains('studio'), 'Apartment/Condo', 'None'))))))))\n",
    "#This code creates a new column in the data frame \"df\" called \"type_from_name\", which categorizes the type of property based on information from the \"name\" column."
   ],
   "metadata": {
    "collapsed": false,
    "pycharm": {
     "name": "#%%\n"
    }
   }
  },
  {
   "cell_type": "code",
   "execution_count": 9,
   "outputs": [],
   "source": [
    "df['unit_details'] = df['unit_details'].str.lower()\n",
    "#I converted 'unit_details' columns to lowercase for easier manipulation"
   ],
   "metadata": {
    "collapsed": false,
    "pycharm": {
     "name": "#%%\n"
    }
   }
  },
  {
   "cell_type": "code",
   "execution_count": 10,
   "outputs": [],
   "source": [
    "df['type_from_details'] = np.where(df['unit_details'].str.contains(\"townhouse\"), \"Townhouse\",\n",
    "                          np.where(df['unit_details'].str.contains(\"house\"), \"House\",\n",
    "                          np.where(df['unit_details'].str.contains(\"basement\"), \"Room\",\n",
    "                          np.where(df['unit_details'].str.contains(\"condo\"), \"Apartment/Condo\",\n",
    "                          np.where(df['unit_details'].str.contains(\"flat\"), \"Apartment/Condo\",\n",
    "                          np.where(df['unit_details'].str.contains(\"apartment\"), \"Apartment/Condo\",\n",
    "                          np.where(df['unit_details'].str.contains('room'), 'Room',\n",
    "                          np.where(df['unit_details'].str.contains('studio'), 'Apartment/Condo', 'None'))))))))\n",
    "#This code creates a new column in the data frame \"df\" called \"type_from_details\", which categorizes the type of property based on information from the \"unit_details\" column."
   ],
   "metadata": {
    "collapsed": false,
    "pycharm": {
     "name": "#%%\n"
    }
   }
  },
  {
   "cell_type": "code",
   "execution_count": 11,
   "outputs": [
    {
     "data": {
      "text/plain": "                                               name  price  \\\n1                          3 beds 3 baths townhouse   3300   \n2                               2 beds 1 bath house   2000   \n3                            1 bed 1 bath apartment   1250   \n4   1 bedroom available in 2 bedroom basement suite    650   \n5                               3 beds 1 bath house   2000   \n6                                1 bed 1 bath house    600   \n7                                1 bed 1 bath house    850   \n8                             private room for rent    500   \n9                          2 beds 2 baths townhouse   2300   \n10                           1 bed 1 bath apartment   1800   \n\n                         adress  \\\n1      ['Kelowna, BC, V1Y 5T5']   \n2     ['West Kelowna, BC, V4T']   \n3          ['Kelowna, BC, V1V']   \n4   ['Location is approximate']   \n5      ['Kelowna, BC, V1V 1R1']   \n6      ['Kelowna, BC, V1X 3M7']   \n7       ['Vernon, BC, V1B 3M1']   \n8   ['Location is approximate']   \n9      ['Kelowna, BC, V1Y 5T8']   \n10  ['Location is approximate']   \n\n                                         unit_details  \\\n1   ['1275 brookside ave, kelowna, bc', 'listed ov...   \n2   ['goldie rd, west kelowna, bc', '914 square fe...   \n3   ['academy way, kelowna, bc', 'listed over a we...   \n4   ['west kelowna, bc', '1000 square meters', 'li...   \n5   ['kelowna, bc, canada, kelowna, bc', 'listed a...   \n6   ['395 froelich rd, kelowna, bc', 'listed over ...   \n7   ['vernon, bc, canada, vernon, bc', 'listed 5 d...   \n8   ['kelowna, bc', 'listed 4 days ago · available...   \n9   ['1145 pacific ave, kelowna, bc', '1014 square...   \n10  ['kelowna, bc', '750 square meters', 'dog and ...   \n\n                                          description  \\\n1   ['Kelowna 3 bed 3 bath townhome for rent\\n\\nWi...   \n2   ['REDUCED. Stunning lake and city views are in...   \n3   ['Veda Student Living Studio Apartment Sublet ...   \n4   ['1 bedroom available in 2 bedroom basement su...   \n5   [\"Great location 3 bedroom, 1 bathroom home. N...   \n6                                     ['Girls room ']   \n7   [\"Room for Rent in Shared Home\\n\\nOne bedroom ...   \n8   ['2 room apartment (1 bedroom available) \\nFor...   \n9   ['Beautiful and spacious 1014 square foot rent...   \n10  ['READ AD BEFORE REACTING 🤘🏼\\nLooking to rent ...   \n\n                                                score  \\\n1                                                  []   \n2                                                  []   \n3                                                  []   \n4   ['Provided by Walk Score®︎', '63 out of 100', ...   \n5                                                  []   \n6                                                  []   \n7                                                  []   \n8                                                  []   \n9                                                  []   \n10                                                 []   \n\n                                                  URL   type_from_name  \\\n1   ['https://www.facebook.com/marketplace/item/11...        Townhouse   \n2   ['https://www.facebook.com/marketplace/item/13...            House   \n3   ['https://www.facebook.com/marketplace/item/15...  Apartment/Condo   \n4   ['https://www.facebook.com/marketplace/item/36...             Room   \n5   ['https://www.facebook.com/marketplace/item/60...            House   \n6   ['https://www.facebook.com/marketplace/item/49...            House   \n7   ['https://www.facebook.com/marketplace/item/85...            House   \n8   ['https://www.facebook.com/marketplace/item/84...             Room   \n9   ['https://www.facebook.com/marketplace/item/81...        Townhouse   \n10  ['https://www.facebook.com/marketplace/item/72...  Apartment/Condo   \n\n   type_from_details  \n1          Townhouse  \n2              House  \n3    Apartment/Condo  \n4              House  \n5              House  \n6              House  \n7              House  \n8    Apartment/Condo  \n9          Townhouse  \n10   Apartment/Condo  ",
      "text/html": "<div>\n<style scoped>\n    .dataframe tbody tr th:only-of-type {\n        vertical-align: middle;\n    }\n\n    .dataframe tbody tr th {\n        vertical-align: top;\n    }\n\n    .dataframe thead th {\n        text-align: right;\n    }\n</style>\n<table border=\"1\" class=\"dataframe\">\n  <thead>\n    <tr style=\"text-align: right;\">\n      <th></th>\n      <th>name</th>\n      <th>price</th>\n      <th>adress</th>\n      <th>unit_details</th>\n      <th>description</th>\n      <th>score</th>\n      <th>URL</th>\n      <th>type_from_name</th>\n      <th>type_from_details</th>\n    </tr>\n  </thead>\n  <tbody>\n    <tr>\n      <th>1</th>\n      <td>3 beds 3 baths townhouse</td>\n      <td>3300</td>\n      <td>['Kelowna, BC, V1Y 5T5']</td>\n      <td>['1275 brookside ave, kelowna, bc', 'listed ov...</td>\n      <td>['Kelowna 3 bed 3 bath townhome for rent\\n\\nWi...</td>\n      <td>[]</td>\n      <td>['https://www.facebook.com/marketplace/item/11...</td>\n      <td>Townhouse</td>\n      <td>Townhouse</td>\n    </tr>\n    <tr>\n      <th>2</th>\n      <td>2 beds 1 bath house</td>\n      <td>2000</td>\n      <td>['West Kelowna, BC, V4T']</td>\n      <td>['goldie rd, west kelowna, bc', '914 square fe...</td>\n      <td>['REDUCED. Stunning lake and city views are in...</td>\n      <td>[]</td>\n      <td>['https://www.facebook.com/marketplace/item/13...</td>\n      <td>House</td>\n      <td>House</td>\n    </tr>\n    <tr>\n      <th>3</th>\n      <td>1 bed 1 bath apartment</td>\n      <td>1250</td>\n      <td>['Kelowna, BC, V1V']</td>\n      <td>['academy way, kelowna, bc', 'listed over a we...</td>\n      <td>['Veda Student Living Studio Apartment Sublet ...</td>\n      <td>[]</td>\n      <td>['https://www.facebook.com/marketplace/item/15...</td>\n      <td>Apartment/Condo</td>\n      <td>Apartment/Condo</td>\n    </tr>\n    <tr>\n      <th>4</th>\n      <td>1 bedroom available in 2 bedroom basement suite</td>\n      <td>650</td>\n      <td>['Location is approximate']</td>\n      <td>['west kelowna, bc', '1000 square meters', 'li...</td>\n      <td>['1 bedroom available in 2 bedroom basement su...</td>\n      <td>['Provided by Walk Score®︎', '63 out of 100', ...</td>\n      <td>['https://www.facebook.com/marketplace/item/36...</td>\n      <td>Room</td>\n      <td>House</td>\n    </tr>\n    <tr>\n      <th>5</th>\n      <td>3 beds 1 bath house</td>\n      <td>2000</td>\n      <td>['Kelowna, BC, V1V 1R1']</td>\n      <td>['kelowna, bc, canada, kelowna, bc', 'listed a...</td>\n      <td>[\"Great location 3 bedroom, 1 bathroom home. N...</td>\n      <td>[]</td>\n      <td>['https://www.facebook.com/marketplace/item/60...</td>\n      <td>House</td>\n      <td>House</td>\n    </tr>\n    <tr>\n      <th>6</th>\n      <td>1 bed 1 bath house</td>\n      <td>600</td>\n      <td>['Kelowna, BC, V1X 3M7']</td>\n      <td>['395 froelich rd, kelowna, bc', 'listed over ...</td>\n      <td>['Girls room ']</td>\n      <td>[]</td>\n      <td>['https://www.facebook.com/marketplace/item/49...</td>\n      <td>House</td>\n      <td>House</td>\n    </tr>\n    <tr>\n      <th>7</th>\n      <td>1 bed 1 bath house</td>\n      <td>850</td>\n      <td>['Vernon, BC, V1B 3M1']</td>\n      <td>['vernon, bc, canada, vernon, bc', 'listed 5 d...</td>\n      <td>[\"Room for Rent in Shared Home\\n\\nOne bedroom ...</td>\n      <td>[]</td>\n      <td>['https://www.facebook.com/marketplace/item/85...</td>\n      <td>House</td>\n      <td>House</td>\n    </tr>\n    <tr>\n      <th>8</th>\n      <td>private room for rent</td>\n      <td>500</td>\n      <td>['Location is approximate']</td>\n      <td>['kelowna, bc', 'listed 4 days ago · available...</td>\n      <td>['2 room apartment (1 bedroom available) \\nFor...</td>\n      <td>[]</td>\n      <td>['https://www.facebook.com/marketplace/item/84...</td>\n      <td>Room</td>\n      <td>Apartment/Condo</td>\n    </tr>\n    <tr>\n      <th>9</th>\n      <td>2 beds 2 baths townhouse</td>\n      <td>2300</td>\n      <td>['Kelowna, BC, V1Y 5T8']</td>\n      <td>['1145 pacific ave, kelowna, bc', '1014 square...</td>\n      <td>['Beautiful and spacious 1014 square foot rent...</td>\n      <td>[]</td>\n      <td>['https://www.facebook.com/marketplace/item/81...</td>\n      <td>Townhouse</td>\n      <td>Townhouse</td>\n    </tr>\n    <tr>\n      <th>10</th>\n      <td>1 bed 1 bath apartment</td>\n      <td>1800</td>\n      <td>['Location is approximate']</td>\n      <td>['kelowna, bc', '750 square meters', 'dog and ...</td>\n      <td>['READ AD BEFORE REACTING 🤘🏼\\nLooking to rent ...</td>\n      <td>[]</td>\n      <td>['https://www.facebook.com/marketplace/item/72...</td>\n      <td>Apartment/Condo</td>\n      <td>Apartment/Condo</td>\n    </tr>\n  </tbody>\n</table>\n</div>"
     },
     "execution_count": 11,
     "metadata": {},
     "output_type": "execute_result"
    }
   ],
   "source": [
    "df.head(10)"
   ],
   "metadata": {
    "collapsed": false,
    "pycharm": {
     "name": "#%%\n"
    }
   }
  },
  {
   "cell_type": "code",
   "execution_count": 12,
   "outputs": [
    {
     "data": {
      "text/plain": "                                               name  price  \\\n4   1 bedroom available in 2 bedroom basement suite    650   \n8                             private room for rent    500   \n17                            private room for rent    750   \n18                            1 bed 1 bathroom flat   1450   \n19                            private room for rent    800   \n38                            private room for rent    650   \n41                           1 bed 1 bath apartment   1550   \n44            1 bedroom 1 bath legal basement suite   1375   \n66                             one bedroom basement   1200   \n75                  room for rent in renovated home    800   \n\n                         adress  \\\n4   ['Location is approximate']   \n8   ['Location is approximate']   \n17     ['Kelowna, BC, V1Y 7V3']   \n18     ['Kelowna, BC, V1Y 6N7']   \n19     ['Kelowna, BC, V1X 7P3']   \n38     ['Kelowna, BC, V1W 3X2']   \n41     ['Kelowna, BC, V1V 2Z8']   \n44     ['Kelowna, BC, V1W 4N2']   \n66  ['Location is approximate']   \n75  ['Location is approximate']   \n\n                                         unit_details  \\\n4   ['west kelowna, bc', '1000 square meters', 'li...   \n8   ['kelowna, bc', 'listed 4 days ago · available...   \n17  ['dilworth dr, kelowna, bc', 'listed 5 days ag...   \n18  ['bernard ave, kelowna, bc', '800 square meter...   \n19  ['539 clayton cres, kelowna, bc', 'listed 3 da...   \n38  ['885 lanfranco rd, kelowna, bc', 'listed 4 da...   \n41  ['upper canyon dr n, kelowna, bc', '600 square...   \n44  ['dehart rd, kelowna, bc', '450 square meters'...   \n66  ['condition', 'used - good', 'kelowna, bc', 'j...   \n75  ['kelowna, bc', 'listed over a week ago · avai...   \n\n                                          description  \\\n4   ['1 bedroom available in 2 bedroom basement su...   \n8   ['2 room apartment (1 bedroom available) \\nFor...   \n17  ['Beautiful house, 1 bedroom available.  This ...   \n18  [\"Studio suite with loft bedroom. Looking for ...   \n19  ['1 bedroom,1 bathroom  available in very clea...   \n38  ['1 private bedroom available in house, \\nFor ...   \n41  ['Kelowna $1550 month - read the entire ad\\n\\n...   \n44  [\"I have a 1 Bedroom 1 Bathroom Basement Suite...   \n66  ['Available from February 1st\\nOne bedroom wit...   \n75  ['Private Room for Rent In Glenmore Area\\nClos...   \n\n                                                score  \\\n4   ['Provided by Walk Score®︎', '63 out of 100', ...   \n8                                                  []   \n17                                                 []   \n18                                                 []   \n19                                                 []   \n38                                                 []   \n41                                                 []   \n44  ['Provided by Walk Score®︎', '1 out of 100', '...   \n66                                                 []   \n75  ['Provided by Walk Score®︎', '18 out of 100', ...   \n\n                                                  URL   type_from_name  \\\n4   ['https://www.facebook.com/marketplace/item/36...             Room   \n8   ['https://www.facebook.com/marketplace/item/84...             Room   \n17  ['https://www.facebook.com/marketplace/item/18...             Room   \n18  ['https://www.facebook.com/marketplace/item/73...             Room   \n19  ['https://www.facebook.com/marketplace/item/87...             Room   \n38  ['https://www.facebook.com/marketplace/item/57...             Room   \n41  ['https://www.facebook.com/marketplace/item/12...  Apartment/Condo   \n44  ['https://www.facebook.com/marketplace/item/13...             Room   \n66  ['https://www.facebook.com/marketplace/item/57...             Room   \n75  ['https://www.facebook.com/marketplace/item/51...             Room   \n\n   type_from_details  \n4              House  \n8    Apartment/Condo  \n17             House  \n18   Apartment/Condo  \n19             House  \n38             House  \n41             House  \n44             House  \n66              None  \n75             House  ",
      "text/html": "<div>\n<style scoped>\n    .dataframe tbody tr th:only-of-type {\n        vertical-align: middle;\n    }\n\n    .dataframe tbody tr th {\n        vertical-align: top;\n    }\n\n    .dataframe thead th {\n        text-align: right;\n    }\n</style>\n<table border=\"1\" class=\"dataframe\">\n  <thead>\n    <tr style=\"text-align: right;\">\n      <th></th>\n      <th>name</th>\n      <th>price</th>\n      <th>adress</th>\n      <th>unit_details</th>\n      <th>description</th>\n      <th>score</th>\n      <th>URL</th>\n      <th>type_from_name</th>\n      <th>type_from_details</th>\n    </tr>\n  </thead>\n  <tbody>\n    <tr>\n      <th>4</th>\n      <td>1 bedroom available in 2 bedroom basement suite</td>\n      <td>650</td>\n      <td>['Location is approximate']</td>\n      <td>['west kelowna, bc', '1000 square meters', 'li...</td>\n      <td>['1 bedroom available in 2 bedroom basement su...</td>\n      <td>['Provided by Walk Score®︎', '63 out of 100', ...</td>\n      <td>['https://www.facebook.com/marketplace/item/36...</td>\n      <td>Room</td>\n      <td>House</td>\n    </tr>\n    <tr>\n      <th>8</th>\n      <td>private room for rent</td>\n      <td>500</td>\n      <td>['Location is approximate']</td>\n      <td>['kelowna, bc', 'listed 4 days ago · available...</td>\n      <td>['2 room apartment (1 bedroom available) \\nFor...</td>\n      <td>[]</td>\n      <td>['https://www.facebook.com/marketplace/item/84...</td>\n      <td>Room</td>\n      <td>Apartment/Condo</td>\n    </tr>\n    <tr>\n      <th>17</th>\n      <td>private room for rent</td>\n      <td>750</td>\n      <td>['Kelowna, BC, V1Y 7V3']</td>\n      <td>['dilworth dr, kelowna, bc', 'listed 5 days ag...</td>\n      <td>['Beautiful house, 1 bedroom available.  This ...</td>\n      <td>[]</td>\n      <td>['https://www.facebook.com/marketplace/item/18...</td>\n      <td>Room</td>\n      <td>House</td>\n    </tr>\n    <tr>\n      <th>18</th>\n      <td>1 bed 1 bathroom flat</td>\n      <td>1450</td>\n      <td>['Kelowna, BC, V1Y 6N7']</td>\n      <td>['bernard ave, kelowna, bc', '800 square meter...</td>\n      <td>[\"Studio suite with loft bedroom. Looking for ...</td>\n      <td>[]</td>\n      <td>['https://www.facebook.com/marketplace/item/73...</td>\n      <td>Room</td>\n      <td>Apartment/Condo</td>\n    </tr>\n    <tr>\n      <th>19</th>\n      <td>private room for rent</td>\n      <td>800</td>\n      <td>['Kelowna, BC, V1X 7P3']</td>\n      <td>['539 clayton cres, kelowna, bc', 'listed 3 da...</td>\n      <td>['1 bedroom,1 bathroom  available in very clea...</td>\n      <td>[]</td>\n      <td>['https://www.facebook.com/marketplace/item/87...</td>\n      <td>Room</td>\n      <td>House</td>\n    </tr>\n    <tr>\n      <th>38</th>\n      <td>private room for rent</td>\n      <td>650</td>\n      <td>['Kelowna, BC, V1W 3X2']</td>\n      <td>['885 lanfranco rd, kelowna, bc', 'listed 4 da...</td>\n      <td>['1 private bedroom available in house, \\nFor ...</td>\n      <td>[]</td>\n      <td>['https://www.facebook.com/marketplace/item/57...</td>\n      <td>Room</td>\n      <td>House</td>\n    </tr>\n    <tr>\n      <th>41</th>\n      <td>1 bed 1 bath apartment</td>\n      <td>1550</td>\n      <td>['Kelowna, BC, V1V 2Z8']</td>\n      <td>['upper canyon dr n, kelowna, bc', '600 square...</td>\n      <td>['Kelowna $1550 month - read the entire ad\\n\\n...</td>\n      <td>[]</td>\n      <td>['https://www.facebook.com/marketplace/item/12...</td>\n      <td>Apartment/Condo</td>\n      <td>House</td>\n    </tr>\n    <tr>\n      <th>44</th>\n      <td>1 bedroom 1 bath legal basement suite</td>\n      <td>1375</td>\n      <td>['Kelowna, BC, V1W 4N2']</td>\n      <td>['dehart rd, kelowna, bc', '450 square meters'...</td>\n      <td>[\"I have a 1 Bedroom 1 Bathroom Basement Suite...</td>\n      <td>['Provided by Walk Score®︎', '1 out of 100', '...</td>\n      <td>['https://www.facebook.com/marketplace/item/13...</td>\n      <td>Room</td>\n      <td>House</td>\n    </tr>\n    <tr>\n      <th>66</th>\n      <td>one bedroom basement</td>\n      <td>1200</td>\n      <td>['Location is approximate']</td>\n      <td>['condition', 'used - good', 'kelowna, bc', 'j...</td>\n      <td>['Available from February 1st\\nOne bedroom wit...</td>\n      <td>[]</td>\n      <td>['https://www.facebook.com/marketplace/item/57...</td>\n      <td>Room</td>\n      <td>None</td>\n    </tr>\n    <tr>\n      <th>75</th>\n      <td>room for rent in renovated home</td>\n      <td>800</td>\n      <td>['Location is approximate']</td>\n      <td>['kelowna, bc', 'listed over a week ago · avai...</td>\n      <td>['Private Room for Rent In Glenmore Area\\nClos...</td>\n      <td>['Provided by Walk Score®︎', '18 out of 100', ...</td>\n      <td>['https://www.facebook.com/marketplace/item/51...</td>\n      <td>Room</td>\n      <td>House</td>\n    </tr>\n  </tbody>\n</table>\n</div>"
     },
     "execution_count": 12,
     "metadata": {},
     "output_type": "execute_result"
    }
   ],
   "source": [
    "df[df['type_from_name'] != df['type_from_details']].head(10)\n",
    "#This code outputs all the rows in the data frame where the values in the \"type_from_name\" column are not equal to the values in the \"type_from_details\" column."
   ],
   "metadata": {
    "collapsed": false,
    "pycharm": {
     "name": "#%%\n"
    }
   }
  },
  {
   "cell_type": "markdown",
   "source": [
    "The purpose is to compare which of the two methods extract the type of property better, \"type_from_name\" or \"type_from_details\". After analyzing the output, I conclude that \"type_from_details\" did a better job in extracting the type of property."
   ],
   "metadata": {
    "collapsed": false,
    "pycharm": {
     "name": "#%% md\n"
    }
   }
  },
  {
   "cell_type": "markdown",
   "source": [
    "Now lets check all listings in this dataset where both types in None"
   ],
   "metadata": {
    "collapsed": false,
    "pycharm": {
     "name": "#%% md\n"
    }
   }
  },
  {
   "cell_type": "code",
   "execution_count": 13,
   "outputs": [
    {
     "data": {
      "text/plain": "                                                  name  price  \\\n504                            1 bed 1 bath in rutland    900   \n709  get free help at home for a personalized templ...     59   \n799                                       1 bed 1 bath    450   \n872                 beautiful home for rent main floor   3000   \n892                             parking space for rent    123   \n907                97 northlander park model for lease   3500   \n922                                            trailer  78000   \n942                        separate entry 1 bed 1 bath    950   \n955                           lake front winter rental    400   \n958                              office space for rent    500   \n\n                          adress  \\\n504  ['Location is approximate']   \n709  ['Location is approximate']   \n799  ['Location is approximate']   \n872  ['Location is approximate']   \n892  ['Location is approximate']   \n907  ['Location is approximate']   \n922  ['Location is approximate']   \n942  ['Location is approximate']   \n955  ['Location is approximate']   \n958  ['Location is approximate']   \n\n                                          unit_details  \\\n504         ['kelowna, bc', 'joined facebook in 2007']   \n709  ['condition', 'new', 'band color', 'quartz and...   \n799  ['kelowna, bc', 'listed over a week ago · avai...   \n872  ['condition', 'used - like new', 'kelowna, bc'...   \n892  ['condition', 'new', 'kelowna, bc', 'joined fa...   \n907         ['kelowna, bc', 'joined facebook in 2008']   \n922       ['penticton, bc', 'joined facebook in 2022']   \n942         ['kelowna, bc', 'joined facebook in 2022']   \n955  ['condition', 'used - like new', 'okanagan-sim...   \n958  ['condition', 'used - good', 'vernon, bc', 'jo...   \n\n                                           description score  \\\n504  ['Searching for a roommate for February, prefe...    []   \n709  ['For an online quote please send us photos or...    []   \n799  ['Office space for rent. Looking to share my o...    []   \n872  ['Available March 1st 2023\\nBeautiful Bright a...    []   \n892  ['Parking space for rent \\nSpace available for...    []   \n907  [\"97 40' × 12 northlander park model for lease...    []   \n922  ['Barefoot Beach Resort \\nSo many fantastic am...    []   \n942  ['Studio flex room with separate entrance newl...    []   \n955  [\"Family Day Weekend still available The Cabin...    []   \n958  ['3 office spaces for rent at the mustard seed...    []   \n\n                                                   URL type_from_name  \\\n504  ['https://www.facebook.com/marketplace/item/69...           None   \n709  ['https://www.facebook.com/marketplace/item/13...           None   \n799  ['https://www.facebook.com/marketplace/item/13...           None   \n872  ['https://www.facebook.com/marketplace/item/85...           None   \n892  ['https://www.facebook.com/marketplace/item/98...           None   \n907  ['https://www.facebook.com/marketplace/item/33...           None   \n922  ['https://www.facebook.com/marketplace/item/51...           None   \n942  ['https://www.facebook.com/marketplace/item/21...           None   \n955  ['https://www.facebook.com/marketplace/item/33...           None   \n958  ['https://www.facebook.com/marketplace/item/13...           None   \n\n    type_from_details  \n504              None  \n709              None  \n799              None  \n872              None  \n892              None  \n907              None  \n922              None  \n942              None  \n955              None  \n958              None  ",
      "text/html": "<div>\n<style scoped>\n    .dataframe tbody tr th:only-of-type {\n        vertical-align: middle;\n    }\n\n    .dataframe tbody tr th {\n        vertical-align: top;\n    }\n\n    .dataframe thead th {\n        text-align: right;\n    }\n</style>\n<table border=\"1\" class=\"dataframe\">\n  <thead>\n    <tr style=\"text-align: right;\">\n      <th></th>\n      <th>name</th>\n      <th>price</th>\n      <th>adress</th>\n      <th>unit_details</th>\n      <th>description</th>\n      <th>score</th>\n      <th>URL</th>\n      <th>type_from_name</th>\n      <th>type_from_details</th>\n    </tr>\n  </thead>\n  <tbody>\n    <tr>\n      <th>504</th>\n      <td>1 bed 1 bath in rutland</td>\n      <td>900</td>\n      <td>['Location is approximate']</td>\n      <td>['kelowna, bc', 'joined facebook in 2007']</td>\n      <td>['Searching for a roommate for February, prefe...</td>\n      <td>[]</td>\n      <td>['https://www.facebook.com/marketplace/item/69...</td>\n      <td>None</td>\n      <td>None</td>\n    </tr>\n    <tr>\n      <th>709</th>\n      <td>get free help at home for a personalized templ...</td>\n      <td>59</td>\n      <td>['Location is approximate']</td>\n      <td>['condition', 'new', 'band color', 'quartz and...</td>\n      <td>['For an online quote please send us photos or...</td>\n      <td>[]</td>\n      <td>['https://www.facebook.com/marketplace/item/13...</td>\n      <td>None</td>\n      <td>None</td>\n    </tr>\n    <tr>\n      <th>799</th>\n      <td>1 bed 1 bath</td>\n      <td>450</td>\n      <td>['Location is approximate']</td>\n      <td>['kelowna, bc', 'listed over a week ago · avai...</td>\n      <td>['Office space for rent. Looking to share my o...</td>\n      <td>[]</td>\n      <td>['https://www.facebook.com/marketplace/item/13...</td>\n      <td>None</td>\n      <td>None</td>\n    </tr>\n    <tr>\n      <th>872</th>\n      <td>beautiful home for rent main floor</td>\n      <td>3000</td>\n      <td>['Location is approximate']</td>\n      <td>['condition', 'used - like new', 'kelowna, bc'...</td>\n      <td>['Available March 1st 2023\\nBeautiful Bright a...</td>\n      <td>[]</td>\n      <td>['https://www.facebook.com/marketplace/item/85...</td>\n      <td>None</td>\n      <td>None</td>\n    </tr>\n    <tr>\n      <th>892</th>\n      <td>parking space for rent</td>\n      <td>123</td>\n      <td>['Location is approximate']</td>\n      <td>['condition', 'new', 'kelowna, bc', 'joined fa...</td>\n      <td>['Parking space for rent \\nSpace available for...</td>\n      <td>[]</td>\n      <td>['https://www.facebook.com/marketplace/item/98...</td>\n      <td>None</td>\n      <td>None</td>\n    </tr>\n    <tr>\n      <th>907</th>\n      <td>97 northlander park model for lease</td>\n      <td>3500</td>\n      <td>['Location is approximate']</td>\n      <td>['kelowna, bc', 'joined facebook in 2008']</td>\n      <td>[\"97 40' × 12 northlander park model for lease...</td>\n      <td>[]</td>\n      <td>['https://www.facebook.com/marketplace/item/33...</td>\n      <td>None</td>\n      <td>None</td>\n    </tr>\n    <tr>\n      <th>922</th>\n      <td>trailer</td>\n      <td>78000</td>\n      <td>['Location is approximate']</td>\n      <td>['penticton, bc', 'joined facebook in 2022']</td>\n      <td>['Barefoot Beach Resort \\nSo many fantastic am...</td>\n      <td>[]</td>\n      <td>['https://www.facebook.com/marketplace/item/51...</td>\n      <td>None</td>\n      <td>None</td>\n    </tr>\n    <tr>\n      <th>942</th>\n      <td>separate entry 1 bed 1 bath</td>\n      <td>950</td>\n      <td>['Location is approximate']</td>\n      <td>['kelowna, bc', 'joined facebook in 2022']</td>\n      <td>['Studio flex room with separate entrance newl...</td>\n      <td>[]</td>\n      <td>['https://www.facebook.com/marketplace/item/21...</td>\n      <td>None</td>\n      <td>None</td>\n    </tr>\n    <tr>\n      <th>955</th>\n      <td>lake front winter rental</td>\n      <td>400</td>\n      <td>['Location is approximate']</td>\n      <td>['condition', 'used - like new', 'okanagan-sim...</td>\n      <td>[\"Family Day Weekend still available The Cabin...</td>\n      <td>[]</td>\n      <td>['https://www.facebook.com/marketplace/item/33...</td>\n      <td>None</td>\n      <td>None</td>\n    </tr>\n    <tr>\n      <th>958</th>\n      <td>office space for rent</td>\n      <td>500</td>\n      <td>['Location is approximate']</td>\n      <td>['condition', 'used - good', 'vernon, bc', 'jo...</td>\n      <td>['3 office spaces for rent at the mustard seed...</td>\n      <td>[]</td>\n      <td>['https://www.facebook.com/marketplace/item/13...</td>\n      <td>None</td>\n      <td>None</td>\n    </tr>\n  </tbody>\n</table>\n</div>"
     },
     "execution_count": 13,
     "metadata": {},
     "output_type": "execute_result"
    }
   ],
   "source": [
    "df[(df['type_from_details'] == 'None') & (df['type_from_name'] == 'None')].head(10)\n",
    "\n",
    "\n",
    "#504 - room\n",
    "#799 - room\n",
    "#872 - home\n",
    "#942 - room\n",
    "#1009 - room\n",
    "#1077 - appt\n",
    "#1223 - room\n",
    "#1239 - room\n"
   ],
   "metadata": {
    "collapsed": false,
    "pycharm": {
     "name": "#%%\n"
    }
   }
  },
  {
   "cell_type": "markdown",
   "source": [
    "I identified the 8 listings in the data frame that correspond to rental properties and remove the remaining listings that are not related to rental information."
   ],
   "metadata": {
    "collapsed": false,
    "pycharm": {
     "name": "#%% md\n"
    }
   }
  },
  {
   "cell_type": "code",
   "execution_count": 14,
   "outputs": [],
   "source": [
    "df.loc[504, 'type_from_details'] = 'Room'\n",
    "df.loc[799, 'type_from_details'] = 'Room'\n",
    "df.loc[872, 'type_from_details'] = 'House'\n",
    "df.loc[942, 'type_from_details'] = 'Room'\n",
    "df.loc[1009, 'type_from_details'] = 'Room'\n",
    "df.loc[1077, 'type_from_details'] = 'Apartment/Condo'\n",
    "df.loc[1223, 'type_from_details'] = 'Room'\n",
    "df.loc[1239, 'type_from_details'] = 'Room'"
   ],
   "metadata": {
    "collapsed": false,
    "pycharm": {
     "name": "#%%\n"
    }
   }
  },
  {
   "cell_type": "code",
   "execution_count": 15,
   "outputs": [],
   "source": [
    "df['Type'] = df['type_from_details']"
   ],
   "metadata": {
    "collapsed": false,
    "pycharm": {
     "name": "#%%\n"
    }
   }
  },
  {
   "cell_type": "code",
   "execution_count": 16,
   "outputs": [
    {
     "data": {
      "text/plain": "                                               name  price  \\\n1                          3 beds 3 baths townhouse   3300   \n2                               2 beds 1 bath house   2000   \n3                            1 bed 1 bath apartment   1250   \n4   1 bedroom available in 2 bedroom basement suite    650   \n5                               3 beds 1 bath house   2000   \n6                                1 bed 1 bath house    600   \n7                                1 bed 1 bath house    850   \n8                             private room for rent    500   \n9                          2 beds 2 baths townhouse   2300   \n10                           1 bed 1 bath apartment   1800   \n\n                         adress  \\\n1      ['Kelowna, BC, V1Y 5T5']   \n2     ['West Kelowna, BC, V4T']   \n3          ['Kelowna, BC, V1V']   \n4   ['Location is approximate']   \n5      ['Kelowna, BC, V1V 1R1']   \n6      ['Kelowna, BC, V1X 3M7']   \n7       ['Vernon, BC, V1B 3M1']   \n8   ['Location is approximate']   \n9      ['Kelowna, BC, V1Y 5T8']   \n10  ['Location is approximate']   \n\n                                         unit_details  \\\n1   ['1275 brookside ave, kelowna, bc', 'listed ov...   \n2   ['goldie rd, west kelowna, bc', '914 square fe...   \n3   ['academy way, kelowna, bc', 'listed over a we...   \n4   ['west kelowna, bc', '1000 square meters', 'li...   \n5   ['kelowna, bc, canada, kelowna, bc', 'listed a...   \n6   ['395 froelich rd, kelowna, bc', 'listed over ...   \n7   ['vernon, bc, canada, vernon, bc', 'listed 5 d...   \n8   ['kelowna, bc', 'listed 4 days ago · available...   \n9   ['1145 pacific ave, kelowna, bc', '1014 square...   \n10  ['kelowna, bc', '750 square meters', 'dog and ...   \n\n                                          description  \\\n1   ['Kelowna 3 bed 3 bath townhome for rent\\n\\nWi...   \n2   ['REDUCED. Stunning lake and city views are in...   \n3   ['Veda Student Living Studio Apartment Sublet ...   \n4   ['1 bedroom available in 2 bedroom basement su...   \n5   [\"Great location 3 bedroom, 1 bathroom home. N...   \n6                                     ['Girls room ']   \n7   [\"Room for Rent in Shared Home\\n\\nOne bedroom ...   \n8   ['2 room apartment (1 bedroom available) \\nFor...   \n9   ['Beautiful and spacious 1014 square foot rent...   \n10  ['READ AD BEFORE REACTING 🤘🏼\\nLooking to rent ...   \n\n                                                score  \\\n1                                                  []   \n2                                                  []   \n3                                                  []   \n4   ['Provided by Walk Score®︎', '63 out of 100', ...   \n5                                                  []   \n6                                                  []   \n7                                                  []   \n8                                                  []   \n9                                                  []   \n10                                                 []   \n\n                                                  URL   type_from_name  \\\n1   ['https://www.facebook.com/marketplace/item/11...        Townhouse   \n2   ['https://www.facebook.com/marketplace/item/13...            House   \n3   ['https://www.facebook.com/marketplace/item/15...  Apartment/Condo   \n4   ['https://www.facebook.com/marketplace/item/36...             Room   \n5   ['https://www.facebook.com/marketplace/item/60...            House   \n6   ['https://www.facebook.com/marketplace/item/49...            House   \n7   ['https://www.facebook.com/marketplace/item/85...            House   \n8   ['https://www.facebook.com/marketplace/item/84...             Room   \n9   ['https://www.facebook.com/marketplace/item/81...        Townhouse   \n10  ['https://www.facebook.com/marketplace/item/72...  Apartment/Condo   \n\n   type_from_details             Type  \n1          Townhouse        Townhouse  \n2              House            House  \n3    Apartment/Condo  Apartment/Condo  \n4              House            House  \n5              House            House  \n6              House            House  \n7              House            House  \n8    Apartment/Condo  Apartment/Condo  \n9          Townhouse        Townhouse  \n10   Apartment/Condo  Apartment/Condo  ",
      "text/html": "<div>\n<style scoped>\n    .dataframe tbody tr th:only-of-type {\n        vertical-align: middle;\n    }\n\n    .dataframe tbody tr th {\n        vertical-align: top;\n    }\n\n    .dataframe thead th {\n        text-align: right;\n    }\n</style>\n<table border=\"1\" class=\"dataframe\">\n  <thead>\n    <tr style=\"text-align: right;\">\n      <th></th>\n      <th>name</th>\n      <th>price</th>\n      <th>adress</th>\n      <th>unit_details</th>\n      <th>description</th>\n      <th>score</th>\n      <th>URL</th>\n      <th>type_from_name</th>\n      <th>type_from_details</th>\n      <th>Type</th>\n    </tr>\n  </thead>\n  <tbody>\n    <tr>\n      <th>1</th>\n      <td>3 beds 3 baths townhouse</td>\n      <td>3300</td>\n      <td>['Kelowna, BC, V1Y 5T5']</td>\n      <td>['1275 brookside ave, kelowna, bc', 'listed ov...</td>\n      <td>['Kelowna 3 bed 3 bath townhome for rent\\n\\nWi...</td>\n      <td>[]</td>\n      <td>['https://www.facebook.com/marketplace/item/11...</td>\n      <td>Townhouse</td>\n      <td>Townhouse</td>\n      <td>Townhouse</td>\n    </tr>\n    <tr>\n      <th>2</th>\n      <td>2 beds 1 bath house</td>\n      <td>2000</td>\n      <td>['West Kelowna, BC, V4T']</td>\n      <td>['goldie rd, west kelowna, bc', '914 square fe...</td>\n      <td>['REDUCED. Stunning lake and city views are in...</td>\n      <td>[]</td>\n      <td>['https://www.facebook.com/marketplace/item/13...</td>\n      <td>House</td>\n      <td>House</td>\n      <td>House</td>\n    </tr>\n    <tr>\n      <th>3</th>\n      <td>1 bed 1 bath apartment</td>\n      <td>1250</td>\n      <td>['Kelowna, BC, V1V']</td>\n      <td>['academy way, kelowna, bc', 'listed over a we...</td>\n      <td>['Veda Student Living Studio Apartment Sublet ...</td>\n      <td>[]</td>\n      <td>['https://www.facebook.com/marketplace/item/15...</td>\n      <td>Apartment/Condo</td>\n      <td>Apartment/Condo</td>\n      <td>Apartment/Condo</td>\n    </tr>\n    <tr>\n      <th>4</th>\n      <td>1 bedroom available in 2 bedroom basement suite</td>\n      <td>650</td>\n      <td>['Location is approximate']</td>\n      <td>['west kelowna, bc', '1000 square meters', 'li...</td>\n      <td>['1 bedroom available in 2 bedroom basement su...</td>\n      <td>['Provided by Walk Score®︎', '63 out of 100', ...</td>\n      <td>['https://www.facebook.com/marketplace/item/36...</td>\n      <td>Room</td>\n      <td>House</td>\n      <td>House</td>\n    </tr>\n    <tr>\n      <th>5</th>\n      <td>3 beds 1 bath house</td>\n      <td>2000</td>\n      <td>['Kelowna, BC, V1V 1R1']</td>\n      <td>['kelowna, bc, canada, kelowna, bc', 'listed a...</td>\n      <td>[\"Great location 3 bedroom, 1 bathroom home. N...</td>\n      <td>[]</td>\n      <td>['https://www.facebook.com/marketplace/item/60...</td>\n      <td>House</td>\n      <td>House</td>\n      <td>House</td>\n    </tr>\n    <tr>\n      <th>6</th>\n      <td>1 bed 1 bath house</td>\n      <td>600</td>\n      <td>['Kelowna, BC, V1X 3M7']</td>\n      <td>['395 froelich rd, kelowna, bc', 'listed over ...</td>\n      <td>['Girls room ']</td>\n      <td>[]</td>\n      <td>['https://www.facebook.com/marketplace/item/49...</td>\n      <td>House</td>\n      <td>House</td>\n      <td>House</td>\n    </tr>\n    <tr>\n      <th>7</th>\n      <td>1 bed 1 bath house</td>\n      <td>850</td>\n      <td>['Vernon, BC, V1B 3M1']</td>\n      <td>['vernon, bc, canada, vernon, bc', 'listed 5 d...</td>\n      <td>[\"Room for Rent in Shared Home\\n\\nOne bedroom ...</td>\n      <td>[]</td>\n      <td>['https://www.facebook.com/marketplace/item/85...</td>\n      <td>House</td>\n      <td>House</td>\n      <td>House</td>\n    </tr>\n    <tr>\n      <th>8</th>\n      <td>private room for rent</td>\n      <td>500</td>\n      <td>['Location is approximate']</td>\n      <td>['kelowna, bc', 'listed 4 days ago · available...</td>\n      <td>['2 room apartment (1 bedroom available) \\nFor...</td>\n      <td>[]</td>\n      <td>['https://www.facebook.com/marketplace/item/84...</td>\n      <td>Room</td>\n      <td>Apartment/Condo</td>\n      <td>Apartment/Condo</td>\n    </tr>\n    <tr>\n      <th>9</th>\n      <td>2 beds 2 baths townhouse</td>\n      <td>2300</td>\n      <td>['Kelowna, BC, V1Y 5T8']</td>\n      <td>['1145 pacific ave, kelowna, bc', '1014 square...</td>\n      <td>['Beautiful and spacious 1014 square foot rent...</td>\n      <td>[]</td>\n      <td>['https://www.facebook.com/marketplace/item/81...</td>\n      <td>Townhouse</td>\n      <td>Townhouse</td>\n      <td>Townhouse</td>\n    </tr>\n    <tr>\n      <th>10</th>\n      <td>1 bed 1 bath apartment</td>\n      <td>1800</td>\n      <td>['Location is approximate']</td>\n      <td>['kelowna, bc', '750 square meters', 'dog and ...</td>\n      <td>['READ AD BEFORE REACTING 🤘🏼\\nLooking to rent ...</td>\n      <td>[]</td>\n      <td>['https://www.facebook.com/marketplace/item/72...</td>\n      <td>Apartment/Condo</td>\n      <td>Apartment/Condo</td>\n      <td>Apartment/Condo</td>\n    </tr>\n  </tbody>\n</table>\n</div>"
     },
     "execution_count": 16,
     "metadata": {},
     "output_type": "execute_result"
    }
   ],
   "source": [
    "df.head(10)"
   ],
   "metadata": {
    "collapsed": false,
    "pycharm": {
     "name": "#%%\n"
    }
   }
  },
  {
   "cell_type": "code",
   "execution_count": 17,
   "outputs": [],
   "source": [
    "df.loc[df['Type'] == 'None', 'Type'] = df.loc[df['Type'] == 'None', 'type_from_name']\n",
    "#Replace 'None' values in the 'Type' column with values from 'type_from_name'"
   ],
   "metadata": {
    "collapsed": false,
    "pycharm": {
     "name": "#%%\n"
    }
   }
  },
  {
   "cell_type": "markdown",
   "source": [
    "As you can see this data have nothing to do with housing information"
   ],
   "metadata": {
    "collapsed": false,
    "pycharm": {
     "name": "#%% md\n"
    }
   }
  },
  {
   "cell_type": "code",
   "execution_count": 18,
   "outputs": [
    {
     "data": {
      "text/plain": "                                                   name  price  \\\n709   get free help at home for a personalized templ...     59   \n892                              parking space for rent    123   \n907                 97 northlander park model for lease   3500   \n922                                             trailer  78000   \n955                            lake front winter rental    400   \n958                               office space for rent    500   \n996                                    light industrial     13   \n1043                          monthly storage available      1   \n1053  get your reno in 2 weeks to install  custom co...      1   \n1081            bouy o boy anti exposure flotation suit    400   \n\n                           adress  \\\n709   ['Location is approximate']   \n892   ['Location is approximate']   \n907   ['Location is approximate']   \n922   ['Location is approximate']   \n955   ['Location is approximate']   \n958   ['Location is approximate']   \n996   ['Location is approximate']   \n1043  ['Location is approximate']   \n1053  ['Location is approximate']   \n1081  ['Location is approximate']   \n\n                                           unit_details  \\\n709   ['condition', 'new', 'band color', 'quartz and...   \n892   ['condition', 'new', 'kelowna, bc', 'joined fa...   \n907          ['kelowna, bc', 'joined facebook in 2008']   \n922        ['penticton, bc', 'joined facebook in 2022']   \n955   ['condition', 'used - like new', 'okanagan-sim...   \n958   ['condition', 'used - good', 'vernon, bc', 'jo...   \n996       ['summerland, bc', 'joined facebook in 2010']   \n1043  ['condition', 'new', 'kelowna, bc', 'joined fa...   \n1053  ['condition', 'new', 'band color', 'multicolor...   \n1081         ['kelowna, bc', 'joined facebook in 2011']   \n\n                                            description score  \\\n709   ['For an online quote please send us photos or...    []   \n892   ['Parking space for rent \\nSpace available for...    []   \n907   [\"97 40' × 12 northlander park model for lease...    []   \n922   ['Barefoot Beach Resort \\nSo many fantastic am...    []   \n955   [\"Family Day Weekend still available The Cabin...    []   \n958   ['3 office spaces for rent at the mustard seed...    []   \n996   ['Light industrial warehouse for lease! $13 sq...    []   \n1043  [\"Get your best quote from storage facility il...    []   \n1053  ['Manufacturers and Installers countertops. \\n...    []   \n1081  ['This is a bouy o boy anti exposure flotation...    []   \n\n                                                    URL type_from_name  \\\n709   ['https://www.facebook.com/marketplace/item/13...           None   \n892   ['https://www.facebook.com/marketplace/item/98...           None   \n907   ['https://www.facebook.com/marketplace/item/33...           None   \n922   ['https://www.facebook.com/marketplace/item/51...           None   \n955   ['https://www.facebook.com/marketplace/item/33...           None   \n958   ['https://www.facebook.com/marketplace/item/13...           None   \n996   ['https://www.facebook.com/marketplace/item/88...           None   \n1043  ['https://www.facebook.com/marketplace/item/90...           None   \n1053  ['https://www.facebook.com/marketplace/item/13...           None   \n1081  ['https://www.facebook.com/marketplace/item/54...           None   \n\n     type_from_details  Type  \n709               None  None  \n892               None  None  \n907               None  None  \n922               None  None  \n955               None  None  \n958               None  None  \n996               None  None  \n1043              None  None  \n1053              None  None  \n1081              None  None  ",
      "text/html": "<div>\n<style scoped>\n    .dataframe tbody tr th:only-of-type {\n        vertical-align: middle;\n    }\n\n    .dataframe tbody tr th {\n        vertical-align: top;\n    }\n\n    .dataframe thead th {\n        text-align: right;\n    }\n</style>\n<table border=\"1\" class=\"dataframe\">\n  <thead>\n    <tr style=\"text-align: right;\">\n      <th></th>\n      <th>name</th>\n      <th>price</th>\n      <th>adress</th>\n      <th>unit_details</th>\n      <th>description</th>\n      <th>score</th>\n      <th>URL</th>\n      <th>type_from_name</th>\n      <th>type_from_details</th>\n      <th>Type</th>\n    </tr>\n  </thead>\n  <tbody>\n    <tr>\n      <th>709</th>\n      <td>get free help at home for a personalized templ...</td>\n      <td>59</td>\n      <td>['Location is approximate']</td>\n      <td>['condition', 'new', 'band color', 'quartz and...</td>\n      <td>['For an online quote please send us photos or...</td>\n      <td>[]</td>\n      <td>['https://www.facebook.com/marketplace/item/13...</td>\n      <td>None</td>\n      <td>None</td>\n      <td>None</td>\n    </tr>\n    <tr>\n      <th>892</th>\n      <td>parking space for rent</td>\n      <td>123</td>\n      <td>['Location is approximate']</td>\n      <td>['condition', 'new', 'kelowna, bc', 'joined fa...</td>\n      <td>['Parking space for rent \\nSpace available for...</td>\n      <td>[]</td>\n      <td>['https://www.facebook.com/marketplace/item/98...</td>\n      <td>None</td>\n      <td>None</td>\n      <td>None</td>\n    </tr>\n    <tr>\n      <th>907</th>\n      <td>97 northlander park model for lease</td>\n      <td>3500</td>\n      <td>['Location is approximate']</td>\n      <td>['kelowna, bc', 'joined facebook in 2008']</td>\n      <td>[\"97 40' × 12 northlander park model for lease...</td>\n      <td>[]</td>\n      <td>['https://www.facebook.com/marketplace/item/33...</td>\n      <td>None</td>\n      <td>None</td>\n      <td>None</td>\n    </tr>\n    <tr>\n      <th>922</th>\n      <td>trailer</td>\n      <td>78000</td>\n      <td>['Location is approximate']</td>\n      <td>['penticton, bc', 'joined facebook in 2022']</td>\n      <td>['Barefoot Beach Resort \\nSo many fantastic am...</td>\n      <td>[]</td>\n      <td>['https://www.facebook.com/marketplace/item/51...</td>\n      <td>None</td>\n      <td>None</td>\n      <td>None</td>\n    </tr>\n    <tr>\n      <th>955</th>\n      <td>lake front winter rental</td>\n      <td>400</td>\n      <td>['Location is approximate']</td>\n      <td>['condition', 'used - like new', 'okanagan-sim...</td>\n      <td>[\"Family Day Weekend still available The Cabin...</td>\n      <td>[]</td>\n      <td>['https://www.facebook.com/marketplace/item/33...</td>\n      <td>None</td>\n      <td>None</td>\n      <td>None</td>\n    </tr>\n    <tr>\n      <th>958</th>\n      <td>office space for rent</td>\n      <td>500</td>\n      <td>['Location is approximate']</td>\n      <td>['condition', 'used - good', 'vernon, bc', 'jo...</td>\n      <td>['3 office spaces for rent at the mustard seed...</td>\n      <td>[]</td>\n      <td>['https://www.facebook.com/marketplace/item/13...</td>\n      <td>None</td>\n      <td>None</td>\n      <td>None</td>\n    </tr>\n    <tr>\n      <th>996</th>\n      <td>light industrial</td>\n      <td>13</td>\n      <td>['Location is approximate']</td>\n      <td>['summerland, bc', 'joined facebook in 2010']</td>\n      <td>['Light industrial warehouse for lease! $13 sq...</td>\n      <td>[]</td>\n      <td>['https://www.facebook.com/marketplace/item/88...</td>\n      <td>None</td>\n      <td>None</td>\n      <td>None</td>\n    </tr>\n    <tr>\n      <th>1043</th>\n      <td>monthly storage available</td>\n      <td>1</td>\n      <td>['Location is approximate']</td>\n      <td>['condition', 'new', 'kelowna, bc', 'joined fa...</td>\n      <td>[\"Get your best quote from storage facility il...</td>\n      <td>[]</td>\n      <td>['https://www.facebook.com/marketplace/item/90...</td>\n      <td>None</td>\n      <td>None</td>\n      <td>None</td>\n    </tr>\n    <tr>\n      <th>1053</th>\n      <td>get your reno in 2 weeks to install  custom co...</td>\n      <td>1</td>\n      <td>['Location is approximate']</td>\n      <td>['condition', 'new', 'band color', 'multicolor...</td>\n      <td>['Manufacturers and Installers countertops. \\n...</td>\n      <td>[]</td>\n      <td>['https://www.facebook.com/marketplace/item/13...</td>\n      <td>None</td>\n      <td>None</td>\n      <td>None</td>\n    </tr>\n    <tr>\n      <th>1081</th>\n      <td>bouy o boy anti exposure flotation suit</td>\n      <td>400</td>\n      <td>['Location is approximate']</td>\n      <td>['kelowna, bc', 'joined facebook in 2011']</td>\n      <td>['This is a bouy o boy anti exposure flotation...</td>\n      <td>[]</td>\n      <td>['https://www.facebook.com/marketplace/item/54...</td>\n      <td>None</td>\n      <td>None</td>\n      <td>None</td>\n    </tr>\n  </tbody>\n</table>\n</div>"
     },
     "execution_count": 18,
     "metadata": {},
     "output_type": "execute_result"
    }
   ],
   "source": [
    "df[df['Type'] == 'None'].head(10)"
   ],
   "metadata": {
    "collapsed": false,
    "pycharm": {
     "name": "#%%\n"
    }
   }
  },
  {
   "cell_type": "markdown",
   "source": [
    "Thus, i decided to drop all rows with 'None' as type."
   ],
   "metadata": {
    "collapsed": false,
    "pycharm": {
     "name": "#%% md\n"
    }
   }
  },
  {
   "cell_type": "code",
   "execution_count": 19,
   "outputs": [],
   "source": [
    "df = df.drop(df[df['Type'] == 'None'].index)"
   ],
   "metadata": {
    "collapsed": false,
    "pycharm": {
     "name": "#%%\n"
    }
   }
  },
  {
   "cell_type": "code",
   "execution_count": 20,
   "outputs": [
    {
     "data": {
      "text/plain": "Type\nHouse              744\nApartment/Condo    402\nTownhouse          142\nRoom                29\ndtype: int64"
     },
     "execution_count": 20,
     "metadata": {},
     "output_type": "execute_result"
    }
   ],
   "source": [
    "df.value_counts('Type')"
   ],
   "metadata": {
    "collapsed": false,
    "pycharm": {
     "name": "#%%\n"
    }
   }
  },
  {
   "cell_type": "markdown",
   "source": [
    "## Cleaning the address column"
   ],
   "metadata": {
    "collapsed": false,
    "pycharm": {
     "name": "#%% md\n"
    }
   }
  },
  {
   "cell_type": "markdown",
   "source": [
    "In this section, I performed several operations to clean the address column. This was necessary as I needed to obtain the latitude and longitude for each unit, which required a clean and consistent address field."
   ],
   "metadata": {
    "collapsed": false,
    "pycharm": {
     "name": "#%% md\n"
    }
   }
  },
  {
   "cell_type": "code",
   "execution_count": 21,
   "outputs": [
    {
     "data": {
      "text/plain": "                                               name  price  \\\n1                          3 beds 3 baths townhouse   3300   \n2                               2 beds 1 bath house   2000   \n3                            1 bed 1 bath apartment   1250   \n4   1 bedroom available in 2 bedroom basement suite    650   \n5                               3 beds 1 bath house   2000   \n6                                1 bed 1 bath house    600   \n7                                1 bed 1 bath house    850   \n8                             private room for rent    500   \n9                          2 beds 2 baths townhouse   2300   \n10                           1 bed 1 bath apartment   1800   \n\n                         adress  \\\n1      ['Kelowna, BC, V1Y 5T5']   \n2     ['West Kelowna, BC, V4T']   \n3          ['Kelowna, BC, V1V']   \n4   ['Location is approximate']   \n5      ['Kelowna, BC, V1V 1R1']   \n6      ['Kelowna, BC, V1X 3M7']   \n7       ['Vernon, BC, V1B 3M1']   \n8   ['Location is approximate']   \n9      ['Kelowna, BC, V1Y 5T8']   \n10  ['Location is approximate']   \n\n                                         unit_details  \\\n1   ['1275 brookside ave, kelowna, bc', 'listed ov...   \n2   ['goldie rd, west kelowna, bc', '914 square fe...   \n3   ['academy way, kelowna, bc', 'listed over a we...   \n4   ['west kelowna, bc', '1000 square meters', 'li...   \n5   ['kelowna, bc, canada, kelowna, bc', 'listed a...   \n6   ['395 froelich rd, kelowna, bc', 'listed over ...   \n7   ['vernon, bc, canada, vernon, bc', 'listed 5 d...   \n8   ['kelowna, bc', 'listed 4 days ago · available...   \n9   ['1145 pacific ave, kelowna, bc', '1014 square...   \n10  ['kelowna, bc', '750 square meters', 'dog and ...   \n\n                                          description  \\\n1   ['Kelowna 3 bed 3 bath townhome for rent\\n\\nWi...   \n2   ['REDUCED. Stunning lake and city views are in...   \n3   ['Veda Student Living Studio Apartment Sublet ...   \n4   ['1 bedroom available in 2 bedroom basement su...   \n5   [\"Great location 3 bedroom, 1 bathroom home. N...   \n6                                     ['Girls room ']   \n7   [\"Room for Rent in Shared Home\\n\\nOne bedroom ...   \n8   ['2 room apartment (1 bedroom available) \\nFor...   \n9   ['Beautiful and spacious 1014 square foot rent...   \n10  ['READ AD BEFORE REACTING 🤘🏼\\nLooking to rent ...   \n\n                                                score  \\\n1                                                  []   \n2                                                  []   \n3                                                  []   \n4   ['Provided by Walk Score®︎', '63 out of 100', ...   \n5                                                  []   \n6                                                  []   \n7                                                  []   \n8                                                  []   \n9                                                  []   \n10                                                 []   \n\n                                                  URL   type_from_name  \\\n1   ['https://www.facebook.com/marketplace/item/11...        Townhouse   \n2   ['https://www.facebook.com/marketplace/item/13...            House   \n3   ['https://www.facebook.com/marketplace/item/15...  Apartment/Condo   \n4   ['https://www.facebook.com/marketplace/item/36...             Room   \n5   ['https://www.facebook.com/marketplace/item/60...            House   \n6   ['https://www.facebook.com/marketplace/item/49...            House   \n7   ['https://www.facebook.com/marketplace/item/85...            House   \n8   ['https://www.facebook.com/marketplace/item/84...             Room   \n9   ['https://www.facebook.com/marketplace/item/81...        Townhouse   \n10  ['https://www.facebook.com/marketplace/item/72...  Apartment/Condo   \n\n   type_from_details             Type  \n1          Townhouse        Townhouse  \n2              House            House  \n3    Apartment/Condo  Apartment/Condo  \n4              House            House  \n5              House            House  \n6              House            House  \n7              House            House  \n8    Apartment/Condo  Apartment/Condo  \n9          Townhouse        Townhouse  \n10   Apartment/Condo  Apartment/Condo  ",
      "text/html": "<div>\n<style scoped>\n    .dataframe tbody tr th:only-of-type {\n        vertical-align: middle;\n    }\n\n    .dataframe tbody tr th {\n        vertical-align: top;\n    }\n\n    .dataframe thead th {\n        text-align: right;\n    }\n</style>\n<table border=\"1\" class=\"dataframe\">\n  <thead>\n    <tr style=\"text-align: right;\">\n      <th></th>\n      <th>name</th>\n      <th>price</th>\n      <th>adress</th>\n      <th>unit_details</th>\n      <th>description</th>\n      <th>score</th>\n      <th>URL</th>\n      <th>type_from_name</th>\n      <th>type_from_details</th>\n      <th>Type</th>\n    </tr>\n  </thead>\n  <tbody>\n    <tr>\n      <th>1</th>\n      <td>3 beds 3 baths townhouse</td>\n      <td>3300</td>\n      <td>['Kelowna, BC, V1Y 5T5']</td>\n      <td>['1275 brookside ave, kelowna, bc', 'listed ov...</td>\n      <td>['Kelowna 3 bed 3 bath townhome for rent\\n\\nWi...</td>\n      <td>[]</td>\n      <td>['https://www.facebook.com/marketplace/item/11...</td>\n      <td>Townhouse</td>\n      <td>Townhouse</td>\n      <td>Townhouse</td>\n    </tr>\n    <tr>\n      <th>2</th>\n      <td>2 beds 1 bath house</td>\n      <td>2000</td>\n      <td>['West Kelowna, BC, V4T']</td>\n      <td>['goldie rd, west kelowna, bc', '914 square fe...</td>\n      <td>['REDUCED. Stunning lake and city views are in...</td>\n      <td>[]</td>\n      <td>['https://www.facebook.com/marketplace/item/13...</td>\n      <td>House</td>\n      <td>House</td>\n      <td>House</td>\n    </tr>\n    <tr>\n      <th>3</th>\n      <td>1 bed 1 bath apartment</td>\n      <td>1250</td>\n      <td>['Kelowna, BC, V1V']</td>\n      <td>['academy way, kelowna, bc', 'listed over a we...</td>\n      <td>['Veda Student Living Studio Apartment Sublet ...</td>\n      <td>[]</td>\n      <td>['https://www.facebook.com/marketplace/item/15...</td>\n      <td>Apartment/Condo</td>\n      <td>Apartment/Condo</td>\n      <td>Apartment/Condo</td>\n    </tr>\n    <tr>\n      <th>4</th>\n      <td>1 bedroom available in 2 bedroom basement suite</td>\n      <td>650</td>\n      <td>['Location is approximate']</td>\n      <td>['west kelowna, bc', '1000 square meters', 'li...</td>\n      <td>['1 bedroom available in 2 bedroom basement su...</td>\n      <td>['Provided by Walk Score®︎', '63 out of 100', ...</td>\n      <td>['https://www.facebook.com/marketplace/item/36...</td>\n      <td>Room</td>\n      <td>House</td>\n      <td>House</td>\n    </tr>\n    <tr>\n      <th>5</th>\n      <td>3 beds 1 bath house</td>\n      <td>2000</td>\n      <td>['Kelowna, BC, V1V 1R1']</td>\n      <td>['kelowna, bc, canada, kelowna, bc', 'listed a...</td>\n      <td>[\"Great location 3 bedroom, 1 bathroom home. N...</td>\n      <td>[]</td>\n      <td>['https://www.facebook.com/marketplace/item/60...</td>\n      <td>House</td>\n      <td>House</td>\n      <td>House</td>\n    </tr>\n    <tr>\n      <th>6</th>\n      <td>1 bed 1 bath house</td>\n      <td>600</td>\n      <td>['Kelowna, BC, V1X 3M7']</td>\n      <td>['395 froelich rd, kelowna, bc', 'listed over ...</td>\n      <td>['Girls room ']</td>\n      <td>[]</td>\n      <td>['https://www.facebook.com/marketplace/item/49...</td>\n      <td>House</td>\n      <td>House</td>\n      <td>House</td>\n    </tr>\n    <tr>\n      <th>7</th>\n      <td>1 bed 1 bath house</td>\n      <td>850</td>\n      <td>['Vernon, BC, V1B 3M1']</td>\n      <td>['vernon, bc, canada, vernon, bc', 'listed 5 d...</td>\n      <td>[\"Room for Rent in Shared Home\\n\\nOne bedroom ...</td>\n      <td>[]</td>\n      <td>['https://www.facebook.com/marketplace/item/85...</td>\n      <td>House</td>\n      <td>House</td>\n      <td>House</td>\n    </tr>\n    <tr>\n      <th>8</th>\n      <td>private room for rent</td>\n      <td>500</td>\n      <td>['Location is approximate']</td>\n      <td>['kelowna, bc', 'listed 4 days ago · available...</td>\n      <td>['2 room apartment (1 bedroom available) \\nFor...</td>\n      <td>[]</td>\n      <td>['https://www.facebook.com/marketplace/item/84...</td>\n      <td>Room</td>\n      <td>Apartment/Condo</td>\n      <td>Apartment/Condo</td>\n    </tr>\n    <tr>\n      <th>9</th>\n      <td>2 beds 2 baths townhouse</td>\n      <td>2300</td>\n      <td>['Kelowna, BC, V1Y 5T8']</td>\n      <td>['1145 pacific ave, kelowna, bc', '1014 square...</td>\n      <td>['Beautiful and spacious 1014 square foot rent...</td>\n      <td>[]</td>\n      <td>['https://www.facebook.com/marketplace/item/81...</td>\n      <td>Townhouse</td>\n      <td>Townhouse</td>\n      <td>Townhouse</td>\n    </tr>\n    <tr>\n      <th>10</th>\n      <td>1 bed 1 bath apartment</td>\n      <td>1800</td>\n      <td>['Location is approximate']</td>\n      <td>['kelowna, bc', '750 square meters', 'dog and ...</td>\n      <td>['READ AD BEFORE REACTING 🤘🏼\\nLooking to rent ...</td>\n      <td>[]</td>\n      <td>['https://www.facebook.com/marketplace/item/72...</td>\n      <td>Apartment/Condo</td>\n      <td>Apartment/Condo</td>\n      <td>Apartment/Condo</td>\n    </tr>\n  </tbody>\n</table>\n</div>"
     },
     "execution_count": 21,
     "metadata": {},
     "output_type": "execute_result"
    }
   ],
   "source": [
    "df.head(10)"
   ],
   "metadata": {
    "collapsed": false,
    "pycharm": {
     "name": "#%%\n"
    }
   }
  },
  {
   "cell_type": "code",
   "execution_count": 22,
   "outputs": [],
   "source": [
    "df = df.rename(columns = {'adress':'address'})\n",
    "# Rename the address column"
   ],
   "metadata": {
    "collapsed": false,
    "pycharm": {
     "name": "#%%\n"
    }
   }
  },
  {
   "cell_type": "code",
   "execution_count": 23,
   "outputs": [],
   "source": [
    "df['address'] = df['address'].str[2:-2]\n",
    "# Delete first two and last two characters -> [' and ']"
   ],
   "metadata": {
    "collapsed": false,
    "pycharm": {
     "name": "#%%\n"
    }
   }
  },
  {
   "cell_type": "code",
   "execution_count": 24,
   "outputs": [],
   "source": [
    "df.loc[df['address'] == 'Location is approximate', 'address'] = df.loc[df['address'] == 'Location is approximate', 'unit_details'].str.split(\"'\").str[1]\n",
    "# Replace values in the 'address' column where it equals 'Location is approximate'\n",
    "# with values in the 'unit_details' column that are split by \" ' \" and only keep the second value\n",
    "# which in this case is the address"
   ],
   "metadata": {
    "collapsed": false,
    "pycharm": {
     "name": "#%%\n"
    }
   }
  },
  {
   "cell_type": "code",
   "execution_count": 25,
   "outputs": [],
   "source": [
    "df['address'] = df['address'].str.lower()\n",
    "# Convert all values in the 'address' column to lowercase\n",
    "# So, it will be easier to work with"
   ],
   "metadata": {
    "collapsed": false,
    "pycharm": {
     "name": "#%%\n"
    }
   }
  },
  {
   "cell_type": "code",
   "execution_count": 26,
   "outputs": [
    {
     "data": {
      "text/plain": "                                                   name  price  \\\n66                                 one bedroom basement   1200   \n331                                  1 bed 1 bath house   1275   \n338                fully furnished one bedroom for rent   1000   \n413   feb march availability at big white  sleeps 12...    900   \n553                      3 bedroom 3 bathroom townhouse   3200   \n595                                  apartment for rent   1700   \n599                                  2 bedroom basement   1900   \n872                  beautiful home for rent main floor   3000   \n1009                                     space for rent    400   \n1077                                               veda   1300   \n1330  kitchen condo  rental  or any project  custom ...      1   \n1331                     big white condo  available now    220   \n1342                 room for rent available in rutland    850   \n1347  renew your condo  kitchen and more  quartz gra...      1   \n1348                   powerwash house by professionals    123   \n\n                address                                       unit_details  \\\n66            condition  ['condition', 'used - good', 'kelowna, bc', 'j...   \n331   650 square meters  ['650 square meters', 'cat friendly', 'listed ...   \n338           condition  ['condition', 'used - like new', 'vernon, bc',...   \n413           condition  ['condition', 'used - like new', 'kelowna, bc'...   \n553           condition  ['condition', 'used - like new', 'kelowna, bc'...   \n595           condition  ['condition', 'new', 'west kelowna, bc', 'join...   \n599           condition  ['condition', 'new', 'kelowna, bc', 'joined fa...   \n872           condition  ['condition', 'used - like new', 'kelowna, bc'...   \n1009          condition  ['condition', 'new', 'summerland, bc', 'joined...   \n1077          condition  ['condition', 'new', 'kelowna, bc', 'joined fa...   \n1330          condition  ['condition', 'new', 'band color', 'multicolor...   \n1331          condition  ['condition', 'used - like new', 'kelowna, bc'...   \n1342          condition  ['condition', 'used - like new', 'kelowna, bc'...   \n1347          condition  ['condition', 'new', 'penticton, bc', 'joined ...   \n1348          condition  ['condition', 'new', 'vernon, bc', 'joined fac...   \n\n                                            description score  \\\n66    ['Available from February 1st\\nOne bedroom wit...    []   \n331   ['(If ad is active it is still available)\\n\\nV...    []   \n338   [\"Looking for a Roommate (Male only for now), ...    []   \n413   ['!!!B O O K OWNER D I R E C T AND S A V E!!!\\...    []   \n553   ['Fully furnished, Gorgeous nearly brand new m...    []   \n595   ['Available for rent Feb 1st - June 30th, 2023...    []   \n599   [\"2 bed 1 bath basement in black mountain. Ver...    []   \n872   ['Available March 1st 2023\\nBeautiful Bright a...    []   \n1009  ['Are you an RMT / Aesthetician / Lash Tech / ...    []   \n1077                                 ['House for rent']    []   \n1330  ['We are a company fully insured. Manufacturer...    []   \n1331  ['*AVAILABLE NOW thru Jan 16! & first weekend ...    []   \n1342  ['1 room available in a shared house for rent ...    []   \n1347  ['We are manufacturers and installers with mor...    []   \n1348  ['Call [hidden information] for further details']    []   \n\n                                                    URL   type_from_name  \\\n66    ['https://www.facebook.com/marketplace/item/57...             Room   \n331   ['https://www.facebook.com/marketplace/item/59...            House   \n338   ['https://www.facebook.com/marketplace/item/83...             Room   \n413   ['https://www.facebook.com/marketplace/item/72...             Room   \n553   ['https://www.facebook.com/marketplace/item/53...        Townhouse   \n595   ['https://www.facebook.com/marketplace/item/88...  Apartment/Condo   \n599   ['https://www.facebook.com/marketplace/item/96...             Room   \n872   ['https://www.facebook.com/marketplace/item/85...             None   \n1009  ['https://www.facebook.com/marketplace/item/17...             None   \n1077  ['https://www.facebook.com/marketplace/item/43...             None   \n1330  ['https://www.facebook.com/marketplace/item/57...  Apartment/Condo   \n1331  ['https://www.facebook.com/marketplace/item/12...  Apartment/Condo   \n1342  ['https://www.facebook.com/marketplace/item/69...             Room   \n1347  ['https://www.facebook.com/marketplace/item/57...  Apartment/Condo   \n1348  ['https://www.facebook.com/marketplace/item/66...            House   \n\n     type_from_details             Type  \n66                None             Room  \n331              House            House  \n338               None             Room  \n413               None             Room  \n553               None        Townhouse  \n595               None  Apartment/Condo  \n599               None             Room  \n872              House            House  \n1009              Room             Room  \n1077   Apartment/Condo  Apartment/Condo  \n1330              None  Apartment/Condo  \n1331              None  Apartment/Condo  \n1342              None             Room  \n1347              None  Apartment/Condo  \n1348              None            House  ",
      "text/html": "<div>\n<style scoped>\n    .dataframe tbody tr th:only-of-type {\n        vertical-align: middle;\n    }\n\n    .dataframe tbody tr th {\n        vertical-align: top;\n    }\n\n    .dataframe thead th {\n        text-align: right;\n    }\n</style>\n<table border=\"1\" class=\"dataframe\">\n  <thead>\n    <tr style=\"text-align: right;\">\n      <th></th>\n      <th>name</th>\n      <th>price</th>\n      <th>address</th>\n      <th>unit_details</th>\n      <th>description</th>\n      <th>score</th>\n      <th>URL</th>\n      <th>type_from_name</th>\n      <th>type_from_details</th>\n      <th>Type</th>\n    </tr>\n  </thead>\n  <tbody>\n    <tr>\n      <th>66</th>\n      <td>one bedroom basement</td>\n      <td>1200</td>\n      <td>condition</td>\n      <td>['condition', 'used - good', 'kelowna, bc', 'j...</td>\n      <td>['Available from February 1st\\nOne bedroom wit...</td>\n      <td>[]</td>\n      <td>['https://www.facebook.com/marketplace/item/57...</td>\n      <td>Room</td>\n      <td>None</td>\n      <td>Room</td>\n    </tr>\n    <tr>\n      <th>331</th>\n      <td>1 bed 1 bath house</td>\n      <td>1275</td>\n      <td>650 square meters</td>\n      <td>['650 square meters', 'cat friendly', 'listed ...</td>\n      <td>['(If ad is active it is still available)\\n\\nV...</td>\n      <td>[]</td>\n      <td>['https://www.facebook.com/marketplace/item/59...</td>\n      <td>House</td>\n      <td>House</td>\n      <td>House</td>\n    </tr>\n    <tr>\n      <th>338</th>\n      <td>fully furnished one bedroom for rent</td>\n      <td>1000</td>\n      <td>condition</td>\n      <td>['condition', 'used - like new', 'vernon, bc',...</td>\n      <td>[\"Looking for a Roommate (Male only for now), ...</td>\n      <td>[]</td>\n      <td>['https://www.facebook.com/marketplace/item/83...</td>\n      <td>Room</td>\n      <td>None</td>\n      <td>Room</td>\n    </tr>\n    <tr>\n      <th>413</th>\n      <td>feb march availability at big white  sleeps 12...</td>\n      <td>900</td>\n      <td>condition</td>\n      <td>['condition', 'used - like new', 'kelowna, bc'...</td>\n      <td>['!!!B O O K OWNER D I R E C T AND S A V E!!!\\...</td>\n      <td>[]</td>\n      <td>['https://www.facebook.com/marketplace/item/72...</td>\n      <td>Room</td>\n      <td>None</td>\n      <td>Room</td>\n    </tr>\n    <tr>\n      <th>553</th>\n      <td>3 bedroom 3 bathroom townhouse</td>\n      <td>3200</td>\n      <td>condition</td>\n      <td>['condition', 'used - like new', 'kelowna, bc'...</td>\n      <td>['Fully furnished, Gorgeous nearly brand new m...</td>\n      <td>[]</td>\n      <td>['https://www.facebook.com/marketplace/item/53...</td>\n      <td>Townhouse</td>\n      <td>None</td>\n      <td>Townhouse</td>\n    </tr>\n    <tr>\n      <th>595</th>\n      <td>apartment for rent</td>\n      <td>1700</td>\n      <td>condition</td>\n      <td>['condition', 'new', 'west kelowna, bc', 'join...</td>\n      <td>['Available for rent Feb 1st - June 30th, 2023...</td>\n      <td>[]</td>\n      <td>['https://www.facebook.com/marketplace/item/88...</td>\n      <td>Apartment/Condo</td>\n      <td>None</td>\n      <td>Apartment/Condo</td>\n    </tr>\n    <tr>\n      <th>599</th>\n      <td>2 bedroom basement</td>\n      <td>1900</td>\n      <td>condition</td>\n      <td>['condition', 'new', 'kelowna, bc', 'joined fa...</td>\n      <td>[\"2 bed 1 bath basement in black mountain. Ver...</td>\n      <td>[]</td>\n      <td>['https://www.facebook.com/marketplace/item/96...</td>\n      <td>Room</td>\n      <td>None</td>\n      <td>Room</td>\n    </tr>\n    <tr>\n      <th>872</th>\n      <td>beautiful home for rent main floor</td>\n      <td>3000</td>\n      <td>condition</td>\n      <td>['condition', 'used - like new', 'kelowna, bc'...</td>\n      <td>['Available March 1st 2023\\nBeautiful Bright a...</td>\n      <td>[]</td>\n      <td>['https://www.facebook.com/marketplace/item/85...</td>\n      <td>None</td>\n      <td>House</td>\n      <td>House</td>\n    </tr>\n    <tr>\n      <th>1009</th>\n      <td>space for rent</td>\n      <td>400</td>\n      <td>condition</td>\n      <td>['condition', 'new', 'summerland, bc', 'joined...</td>\n      <td>['Are you an RMT / Aesthetician / Lash Tech / ...</td>\n      <td>[]</td>\n      <td>['https://www.facebook.com/marketplace/item/17...</td>\n      <td>None</td>\n      <td>Room</td>\n      <td>Room</td>\n    </tr>\n    <tr>\n      <th>1077</th>\n      <td>veda</td>\n      <td>1300</td>\n      <td>condition</td>\n      <td>['condition', 'new', 'kelowna, bc', 'joined fa...</td>\n      <td>['House for rent']</td>\n      <td>[]</td>\n      <td>['https://www.facebook.com/marketplace/item/43...</td>\n      <td>None</td>\n      <td>Apartment/Condo</td>\n      <td>Apartment/Condo</td>\n    </tr>\n    <tr>\n      <th>1330</th>\n      <td>kitchen condo  rental  or any project  custom ...</td>\n      <td>1</td>\n      <td>condition</td>\n      <td>['condition', 'new', 'band color', 'multicolor...</td>\n      <td>['We are a company fully insured. Manufacturer...</td>\n      <td>[]</td>\n      <td>['https://www.facebook.com/marketplace/item/57...</td>\n      <td>Apartment/Condo</td>\n      <td>None</td>\n      <td>Apartment/Condo</td>\n    </tr>\n    <tr>\n      <th>1331</th>\n      <td>big white condo  available now</td>\n      <td>220</td>\n      <td>condition</td>\n      <td>['condition', 'used - like new', 'kelowna, bc'...</td>\n      <td>['*AVAILABLE NOW thru Jan 16! &amp; first weekend ...</td>\n      <td>[]</td>\n      <td>['https://www.facebook.com/marketplace/item/12...</td>\n      <td>Apartment/Condo</td>\n      <td>None</td>\n      <td>Apartment/Condo</td>\n    </tr>\n    <tr>\n      <th>1342</th>\n      <td>room for rent available in rutland</td>\n      <td>850</td>\n      <td>condition</td>\n      <td>['condition', 'used - like new', 'kelowna, bc'...</td>\n      <td>['1 room available in a shared house for rent ...</td>\n      <td>[]</td>\n      <td>['https://www.facebook.com/marketplace/item/69...</td>\n      <td>Room</td>\n      <td>None</td>\n      <td>Room</td>\n    </tr>\n    <tr>\n      <th>1347</th>\n      <td>renew your condo  kitchen and more  quartz gra...</td>\n      <td>1</td>\n      <td>condition</td>\n      <td>['condition', 'new', 'penticton, bc', 'joined ...</td>\n      <td>['We are manufacturers and installers with mor...</td>\n      <td>[]</td>\n      <td>['https://www.facebook.com/marketplace/item/57...</td>\n      <td>Apartment/Condo</td>\n      <td>None</td>\n      <td>Apartment/Condo</td>\n    </tr>\n    <tr>\n      <th>1348</th>\n      <td>powerwash house by professionals</td>\n      <td>123</td>\n      <td>condition</td>\n      <td>['condition', 'new', 'vernon, bc', 'joined fac...</td>\n      <td>['Call [hidden information] for further details']</td>\n      <td>[]</td>\n      <td>['https://www.facebook.com/marketplace/item/66...</td>\n      <td>House</td>\n      <td>None</td>\n      <td>House</td>\n    </tr>\n  </tbody>\n</table>\n</div>"
     },
     "execution_count": 26,
     "metadata": {},
     "output_type": "execute_result"
    }
   ],
   "source": [
    "df[~df['address'].str.contains('bc')]\n",
    "# Show all rows where address column doesn't contain bc\n",
    "# It's a cases where the second value from unit_details wasn't addresses"
   ],
   "metadata": {
    "collapsed": false,
    "pycharm": {
     "name": "#%%\n"
    }
   }
  },
  {
   "cell_type": "markdown",
   "source": [
    "Here, I encountered a problem in which 15 units did not have an address value. To resolve this, I manually checked the unit_details column for each unit and extracted the correct address value. The code for this is shown below:"
   ],
   "metadata": {
    "collapsed": false,
    "pycharm": {
     "name": "#%% md\n"
    }
   }
  },
  {
   "cell_type": "code",
   "execution_count": 27,
   "outputs": [],
   "source": [
    "df.loc[66, 'address'] = 'kelowna, bc'\n",
    "df.loc[331, 'address'] = 'vernon, bc'\n",
    "df.loc[338, 'address'] = 'vernon, bc'\n",
    "df.loc[413, 'address'] = 'kelowna, bc'\n",
    "df.loc[553, 'address'] = 'kelowna, bc'\n",
    "df.loc[595, 'address'] = 'west kelowna, bc'\n",
    "df.loc[599, 'address'] = 'kelowna, bc'\n",
    "df.loc[872, 'address'] = 'kelowna, bc'\n",
    "df.loc[1009, 'address'] = 'summerland, bc'\n",
    "df.loc[1077, 'address'] = 'kelowna, bc'\n",
    "df.loc[1330, 'address'] = 'west kelowna, bc'\n",
    "df.loc[1331, 'address'] = 'kelowna, bc'\n",
    "df.loc[1342, 'address'] = 'kelowna, bc'\n",
    "df.loc[1347, 'address'] = 'penticton, bc'\n",
    "df.loc[1348, 'address'] = 'vernon, bc'\n",
    "# Replace specific values in the 'address' column with new values"
   ],
   "metadata": {
    "collapsed": false,
    "pycharm": {
     "name": "#%%\n"
    }
   }
  },
  {
   "cell_type": "markdown",
   "source": [
    "## Extracting number of bedrooms and bathrooms"
   ],
   "metadata": {
    "collapsed": false,
    "pycharm": {
     "name": "#%% md\n"
    }
   }
  },
  {
   "cell_type": "markdown",
   "source": [
    "Now I have to extract the number of beds and baths in a given property. This information is crucial, as it plays a key role in determining the rental price of a property"
   ],
   "metadata": {
    "collapsed": false,
    "pycharm": {
     "name": "#%% md\n"
    }
   }
  },
  {
   "cell_type": "markdown",
   "source": [
    "### Number of beds"
   ],
   "metadata": {
    "collapsed": false,
    "pycharm": {
     "name": "#%% md\n"
    }
   }
  },
  {
   "cell_type": "code",
   "execution_count": 28,
   "outputs": [],
   "source": [
    "df['nbeds'] = df['unit_details'].str.extract('(\\d+) bed', expand=False)\n",
    "# Extract number of beds from unit_details and store in a new column \"nbeds\""
   ],
   "metadata": {
    "collapsed": false,
    "pycharm": {
     "name": "#%%\n"
    }
   }
  },
  {
   "cell_type": "markdown",
   "source": [
    "Here I've made the decision that all properties classified as \"Room\" will be assumed to have 1 bedroom. This will simplify the extraction process and ensure consistency in the data."
   ],
   "metadata": {
    "collapsed": false,
    "pycharm": {
     "name": "#%% md\n"
    }
   }
  },
  {
   "cell_type": "code",
   "execution_count": 29,
   "outputs": [],
   "source": [
    "df.loc[((df['nbeds'].isna()) & (df['Type'] == 'Room')), 'nbeds'] = 1\n",
    "# Fill missing values in \"nbeds\" column with 1 for Room type rents"
   ],
   "metadata": {
    "collapsed": false,
    "pycharm": {
     "name": "#%%\n"
    }
   }
  },
  {
   "cell_type": "code",
   "execution_count": 30,
   "outputs": [
    {
     "data": {
      "text/plain": "                        name  price               address  \\\n13   studio 1 bath apartment   1300           kelowna, bc   \n21       studio 1 bath house    850  kelowna, bc, v1y 6x9   \n25           studio for rent   1300  kelowna, bc, v1x 2c6   \n30   studio 1 bath apartment   1400  kelowna, bc, v1y 0e5   \n74   studio 1 bath apartment   1850           kelowna, bc   \n190  studio 1 bath apartment   1900  kelowna, bc, v1y 9z2   \n216         1 bdrm den condo   1900           kelowna, bc   \n226      studio 1 bath house    500           kelowna, bc   \n366     studio 0 baths house    550         penticton, bc   \n454     studio 0 baths house    500        summerland, bc   \n\n                                          unit_details  \\\n13   ['kelowna, bc', '450 square feet', 'listed ove...   \n21   ['736 wilson ave, kelowna, bc', '450 square me...   \n25   ['dougall rd n, kelowna, bc', 'listed over a w...   \n30   ['925 leon ave, kelowna, bc', 'dog and cat fri...   \n74   ['kelowna, bc', 'dog and cat friendly', 'liste...   \n190  ['sunset dr, kelowna, bc', '500 square feet', ...   \n216         ['kelowna, bc', 'joined facebook in 2007']   \n226  ['kelowna, bc', 'listed over a week ago · avai...   \n366  ['penticton, bc', 'listed over a week ago · av...   \n454  ['summerland, bc', 'listed over a week ago', '...   \n\n                                           description  \\\n13   ['Great location on Wilson and Ethel close to ...   \n21   ['Bachelor suite/ studio for rent on Wilson Av...   \n25   ['Studio 1 Bath - Apartment, water included, e...   \n30   ['This premium third floor studio apartment is...   \n74   ['Location:  1191 Sunset Drive Unit 603\\nAvail...   \n190  [\"Studio Apartment with Balcony Water View at ...   \n216  ['1 bdrm + den + 1 bath\\n750sf\\nLower Mission ...   \n226  ['Double-door garage is available for rent.\\n\\...   \n366  ['Detached Double Garage available for storage...   \n454  [' In the industrial area of Summerland 65’ x ...   \n\n                                                 score  \\\n13                                                  []   \n21                                                  []   \n25   ['Provided by Walk Score®︎', '78 out of 100', ...   \n30                                                  []   \n74                                                  []   \n190                                                 []   \n216                                                 []   \n226                                                 []   \n366                                                 []   \n454                                                 []   \n\n                                                   URL   type_from_name  \\\n13   ['https://www.facebook.com/marketplace/item/88...  Apartment/Condo   \n21   ['https://www.facebook.com/marketplace/item/16...            House   \n25   ['https://www.facebook.com/marketplace/item/42...  Apartment/Condo   \n30   ['https://www.facebook.com/marketplace/item/62...  Apartment/Condo   \n74   ['https://www.facebook.com/marketplace/item/17...  Apartment/Condo   \n190  ['https://www.facebook.com/marketplace/item/53...  Apartment/Condo   \n216  ['https://www.facebook.com/marketplace/item/66...  Apartment/Condo   \n226  ['https://www.facebook.com/marketplace/item/58...            House   \n366  ['https://www.facebook.com/marketplace/item/67...            House   \n454  ['https://www.facebook.com/marketplace/item/91...            House   \n\n    type_from_details             Type nbeds  \n13    Apartment/Condo  Apartment/Condo   NaN  \n21              House            House   NaN  \n25    Apartment/Condo  Apartment/Condo   NaN  \n30    Apartment/Condo  Apartment/Condo   NaN  \n74    Apartment/Condo  Apartment/Condo   NaN  \n190   Apartment/Condo  Apartment/Condo   NaN  \n216              None  Apartment/Condo   NaN  \n226             House            House   NaN  \n366             House            House   NaN  \n454             House            House   NaN  ",
      "text/html": "<div>\n<style scoped>\n    .dataframe tbody tr th:only-of-type {\n        vertical-align: middle;\n    }\n\n    .dataframe tbody tr th {\n        vertical-align: top;\n    }\n\n    .dataframe thead th {\n        text-align: right;\n    }\n</style>\n<table border=\"1\" class=\"dataframe\">\n  <thead>\n    <tr style=\"text-align: right;\">\n      <th></th>\n      <th>name</th>\n      <th>price</th>\n      <th>address</th>\n      <th>unit_details</th>\n      <th>description</th>\n      <th>score</th>\n      <th>URL</th>\n      <th>type_from_name</th>\n      <th>type_from_details</th>\n      <th>Type</th>\n      <th>nbeds</th>\n    </tr>\n  </thead>\n  <tbody>\n    <tr>\n      <th>13</th>\n      <td>studio 1 bath apartment</td>\n      <td>1300</td>\n      <td>kelowna, bc</td>\n      <td>['kelowna, bc', '450 square feet', 'listed ove...</td>\n      <td>['Great location on Wilson and Ethel close to ...</td>\n      <td>[]</td>\n      <td>['https://www.facebook.com/marketplace/item/88...</td>\n      <td>Apartment/Condo</td>\n      <td>Apartment/Condo</td>\n      <td>Apartment/Condo</td>\n      <td>NaN</td>\n    </tr>\n    <tr>\n      <th>21</th>\n      <td>studio 1 bath house</td>\n      <td>850</td>\n      <td>kelowna, bc, v1y 6x9</td>\n      <td>['736 wilson ave, kelowna, bc', '450 square me...</td>\n      <td>['Bachelor suite/ studio for rent on Wilson Av...</td>\n      <td>[]</td>\n      <td>['https://www.facebook.com/marketplace/item/16...</td>\n      <td>House</td>\n      <td>House</td>\n      <td>House</td>\n      <td>NaN</td>\n    </tr>\n    <tr>\n      <th>25</th>\n      <td>studio for rent</td>\n      <td>1300</td>\n      <td>kelowna, bc, v1x 2c6</td>\n      <td>['dougall rd n, kelowna, bc', 'listed over a w...</td>\n      <td>['Studio 1 Bath - Apartment, water included, e...</td>\n      <td>['Provided by Walk Score®︎', '78 out of 100', ...</td>\n      <td>['https://www.facebook.com/marketplace/item/42...</td>\n      <td>Apartment/Condo</td>\n      <td>Apartment/Condo</td>\n      <td>Apartment/Condo</td>\n      <td>NaN</td>\n    </tr>\n    <tr>\n      <th>30</th>\n      <td>studio 1 bath apartment</td>\n      <td>1400</td>\n      <td>kelowna, bc, v1y 0e5</td>\n      <td>['925 leon ave, kelowna, bc', 'dog and cat fri...</td>\n      <td>['This premium third floor studio apartment is...</td>\n      <td>[]</td>\n      <td>['https://www.facebook.com/marketplace/item/62...</td>\n      <td>Apartment/Condo</td>\n      <td>Apartment/Condo</td>\n      <td>Apartment/Condo</td>\n      <td>NaN</td>\n    </tr>\n    <tr>\n      <th>74</th>\n      <td>studio 1 bath apartment</td>\n      <td>1850</td>\n      <td>kelowna, bc</td>\n      <td>['kelowna, bc', 'dog and cat friendly', 'liste...</td>\n      <td>['Location:  1191 Sunset Drive Unit 603\\nAvail...</td>\n      <td>[]</td>\n      <td>['https://www.facebook.com/marketplace/item/17...</td>\n      <td>Apartment/Condo</td>\n      <td>Apartment/Condo</td>\n      <td>Apartment/Condo</td>\n      <td>NaN</td>\n    </tr>\n    <tr>\n      <th>190</th>\n      <td>studio 1 bath apartment</td>\n      <td>1900</td>\n      <td>kelowna, bc, v1y 9z2</td>\n      <td>['sunset dr, kelowna, bc', '500 square feet', ...</td>\n      <td>[\"Studio Apartment with Balcony Water View at ...</td>\n      <td>[]</td>\n      <td>['https://www.facebook.com/marketplace/item/53...</td>\n      <td>Apartment/Condo</td>\n      <td>Apartment/Condo</td>\n      <td>Apartment/Condo</td>\n      <td>NaN</td>\n    </tr>\n    <tr>\n      <th>216</th>\n      <td>1 bdrm den condo</td>\n      <td>1900</td>\n      <td>kelowna, bc</td>\n      <td>['kelowna, bc', 'joined facebook in 2007']</td>\n      <td>['1 bdrm + den + 1 bath\\n750sf\\nLower Mission ...</td>\n      <td>[]</td>\n      <td>['https://www.facebook.com/marketplace/item/66...</td>\n      <td>Apartment/Condo</td>\n      <td>None</td>\n      <td>Apartment/Condo</td>\n      <td>NaN</td>\n    </tr>\n    <tr>\n      <th>226</th>\n      <td>studio 1 bath house</td>\n      <td>500</td>\n      <td>kelowna, bc</td>\n      <td>['kelowna, bc', 'listed over a week ago · avai...</td>\n      <td>['Double-door garage is available for rent.\\n\\...</td>\n      <td>[]</td>\n      <td>['https://www.facebook.com/marketplace/item/58...</td>\n      <td>House</td>\n      <td>House</td>\n      <td>House</td>\n      <td>NaN</td>\n    </tr>\n    <tr>\n      <th>366</th>\n      <td>studio 0 baths house</td>\n      <td>550</td>\n      <td>penticton, bc</td>\n      <td>['penticton, bc', 'listed over a week ago · av...</td>\n      <td>['Detached Double Garage available for storage...</td>\n      <td>[]</td>\n      <td>['https://www.facebook.com/marketplace/item/67...</td>\n      <td>House</td>\n      <td>House</td>\n      <td>House</td>\n      <td>NaN</td>\n    </tr>\n    <tr>\n      <th>454</th>\n      <td>studio 0 baths house</td>\n      <td>500</td>\n      <td>summerland, bc</td>\n      <td>['summerland, bc', 'listed over a week ago', '...</td>\n      <td>[' In the industrial area of Summerland 65’ x ...</td>\n      <td>[]</td>\n      <td>['https://www.facebook.com/marketplace/item/91...</td>\n      <td>House</td>\n      <td>House</td>\n      <td>House</td>\n      <td>NaN</td>\n    </tr>\n  </tbody>\n</table>\n</div>"
     },
     "execution_count": 30,
     "metadata": {},
     "output_type": "execute_result"
    }
   ],
   "source": [
    "df[df['nbeds'].isna()].head(10)"
   ],
   "metadata": {
    "collapsed": false,
    "pycharm": {
     "name": "#%%\n"
    }
   }
  },
  {
   "cell_type": "markdown",
   "source": [
    "After looking through the data, I discovered some entries that are not relevant to the rental information. To maintain the integrity of the data, I've decided to remove these irrelevant entries from the dataset."
   ],
   "metadata": {
    "collapsed": false,
    "pycharm": {
     "name": "#%% md\n"
    }
   }
  },
  {
   "cell_type": "code",
   "execution_count": 31,
   "outputs": [],
   "source": [
    "df = df.drop(labels=[1348, 1347, 1331, 1330, 1326, 1317, 1305, 1293, 1278, 1191, 911, 711, 509], axis=0)\n",
    "# Remove rows that are not rentals"
   ],
   "metadata": {
    "collapsed": false,
    "pycharm": {
     "name": "#%%\n"
    }
   }
  },
  {
   "cell_type": "code",
   "execution_count": 32,
   "outputs": [],
   "source": [
    "df.loc[df['nbeds'].isna(), 'nbeds'] = df[df['nbeds'].isna()]['name'].str.extract('(\\d+) bed', expand=False)\n",
    "# Fill missing values in \"nbeds\" column with the extracted number of beds from 'name' column"
   ],
   "metadata": {
    "collapsed": false,
    "pycharm": {
     "name": "#%%\n"
    }
   }
  },
  {
   "cell_type": "code",
   "execution_count": 33,
   "outputs": [],
   "source": [
    "df.loc[((df['nbeds'].isna()) & (df['name'].str.contains('studio'))), 'nbeds'] = 1\n",
    "# Fill missing values in 'nbeds' column with 1 for properties that contains studio in their 'name' column"
   ],
   "metadata": {
    "collapsed": false,
    "pycharm": {
     "name": "#%%\n"
    }
   }
  },
  {
   "cell_type": "code",
   "execution_count": 34,
   "outputs": [
    {
     "data": {
      "text/plain": "                                    name  price           address  \\\n216                     1 bdrm den condo   1900       kelowna, bc   \n463             house for rent  south bx   2500        vernon, bc   \n464           house for rent in south bx   2500        vernon, bc   \n468                house for rent oliver   2500     penticton, bc   \n595                   apartment for rent   1700  west kelowna, bc   \n665                             room for    800       kelowna, bc   \n872   beautiful home for rent main floor   3000       kelowna, bc   \n1077                                veda   1300       kelowna, bc   \n\n                                           unit_details  \\\n216          ['kelowna, bc', 'joined facebook in 2007']   \n463   ['vernon, bc', 'listed over a week ago', 'hous...   \n464           ['vernon, bc', 'joined facebook in 2008']   \n468        ['penticton, bc', 'joined facebook in 2007']   \n595   ['condition', 'new', 'west kelowna, bc', 'join...   \n665   ['kelowna, bc', 'listed over a week ago', 'hou...   \n872   ['condition', 'used - like new', 'kelowna, bc'...   \n1077  ['condition', 'new', 'kelowna, bc', 'joined fa...   \n\n                                            description  \\\n216   ['1 bdrm + den + 1 bath\\n750sf\\nLower Mission ...   \n463   ['Main part of three level split house (owner ...   \n464   ['Main part of 3 level split house (owner live...   \n468   ['https://www.kijiji.ca/v-apartments-condos/pe...   \n595   ['Available for rent Feb 1st - June 30th, 2023...   \n665   ['Room for rent!! \\n4 bedroom house with 2 peo...   \n872   ['Available March 1st 2023\\nBeautiful Bright a...   \n1077                                 ['House for rent']   \n\n                                                  score  \\\n216                                                  []   \n463                                                  []   \n464                                                  []   \n468                                                  []   \n595                                                  []   \n665   ['Provided by Walk Score®︎', '23 out of 100', ...   \n872                                                  []   \n1077                                                 []   \n\n                                                    URL   type_from_name  \\\n216   ['https://www.facebook.com/marketplace/item/66...  Apartment/Condo   \n463   ['https://www.facebook.com/marketplace/item/62...            House   \n464   ['https://www.facebook.com/marketplace/item/56...            House   \n468   ['https://www.facebook.com/marketplace/item/54...            House   \n595   ['https://www.facebook.com/marketplace/item/88...  Apartment/Condo   \n665   ['https://www.facebook.com/marketplace/item/15...             Room   \n872   ['https://www.facebook.com/marketplace/item/85...             None   \n1077  ['https://www.facebook.com/marketplace/item/43...             None   \n\n     type_from_details             Type nbeds  \n216               None  Apartment/Condo   NaN  \n463              House            House   NaN  \n464               None            House   NaN  \n468               None            House   NaN  \n595               None  Apartment/Condo   NaN  \n665              House            House   NaN  \n872              House            House   NaN  \n1077   Apartment/Condo  Apartment/Condo   NaN  ",
      "text/html": "<div>\n<style scoped>\n    .dataframe tbody tr th:only-of-type {\n        vertical-align: middle;\n    }\n\n    .dataframe tbody tr th {\n        vertical-align: top;\n    }\n\n    .dataframe thead th {\n        text-align: right;\n    }\n</style>\n<table border=\"1\" class=\"dataframe\">\n  <thead>\n    <tr style=\"text-align: right;\">\n      <th></th>\n      <th>name</th>\n      <th>price</th>\n      <th>address</th>\n      <th>unit_details</th>\n      <th>description</th>\n      <th>score</th>\n      <th>URL</th>\n      <th>type_from_name</th>\n      <th>type_from_details</th>\n      <th>Type</th>\n      <th>nbeds</th>\n    </tr>\n  </thead>\n  <tbody>\n    <tr>\n      <th>216</th>\n      <td>1 bdrm den condo</td>\n      <td>1900</td>\n      <td>kelowna, bc</td>\n      <td>['kelowna, bc', 'joined facebook in 2007']</td>\n      <td>['1 bdrm + den + 1 bath\\n750sf\\nLower Mission ...</td>\n      <td>[]</td>\n      <td>['https://www.facebook.com/marketplace/item/66...</td>\n      <td>Apartment/Condo</td>\n      <td>None</td>\n      <td>Apartment/Condo</td>\n      <td>NaN</td>\n    </tr>\n    <tr>\n      <th>463</th>\n      <td>house for rent  south bx</td>\n      <td>2500</td>\n      <td>vernon, bc</td>\n      <td>['vernon, bc', 'listed over a week ago', 'hous...</td>\n      <td>['Main part of three level split house (owner ...</td>\n      <td>[]</td>\n      <td>['https://www.facebook.com/marketplace/item/62...</td>\n      <td>House</td>\n      <td>House</td>\n      <td>House</td>\n      <td>NaN</td>\n    </tr>\n    <tr>\n      <th>464</th>\n      <td>house for rent in south bx</td>\n      <td>2500</td>\n      <td>vernon, bc</td>\n      <td>['vernon, bc', 'joined facebook in 2008']</td>\n      <td>['Main part of 3 level split house (owner live...</td>\n      <td>[]</td>\n      <td>['https://www.facebook.com/marketplace/item/56...</td>\n      <td>House</td>\n      <td>None</td>\n      <td>House</td>\n      <td>NaN</td>\n    </tr>\n    <tr>\n      <th>468</th>\n      <td>house for rent oliver</td>\n      <td>2500</td>\n      <td>penticton, bc</td>\n      <td>['penticton, bc', 'joined facebook in 2007']</td>\n      <td>['https://www.kijiji.ca/v-apartments-condos/pe...</td>\n      <td>[]</td>\n      <td>['https://www.facebook.com/marketplace/item/54...</td>\n      <td>House</td>\n      <td>None</td>\n      <td>House</td>\n      <td>NaN</td>\n    </tr>\n    <tr>\n      <th>595</th>\n      <td>apartment for rent</td>\n      <td>1700</td>\n      <td>west kelowna, bc</td>\n      <td>['condition', 'new', 'west kelowna, bc', 'join...</td>\n      <td>['Available for rent Feb 1st - June 30th, 2023...</td>\n      <td>[]</td>\n      <td>['https://www.facebook.com/marketplace/item/88...</td>\n      <td>Apartment/Condo</td>\n      <td>None</td>\n      <td>Apartment/Condo</td>\n      <td>NaN</td>\n    </tr>\n    <tr>\n      <th>665</th>\n      <td>room for</td>\n      <td>800</td>\n      <td>kelowna, bc</td>\n      <td>['kelowna, bc', 'listed over a week ago', 'hou...</td>\n      <td>['Room for rent!! \\n4 bedroom house with 2 peo...</td>\n      <td>['Provided by Walk Score®︎', '23 out of 100', ...</td>\n      <td>['https://www.facebook.com/marketplace/item/15...</td>\n      <td>Room</td>\n      <td>House</td>\n      <td>House</td>\n      <td>NaN</td>\n    </tr>\n    <tr>\n      <th>872</th>\n      <td>beautiful home for rent main floor</td>\n      <td>3000</td>\n      <td>kelowna, bc</td>\n      <td>['condition', 'used - like new', 'kelowna, bc'...</td>\n      <td>['Available March 1st 2023\\nBeautiful Bright a...</td>\n      <td>[]</td>\n      <td>['https://www.facebook.com/marketplace/item/85...</td>\n      <td>None</td>\n      <td>House</td>\n      <td>House</td>\n      <td>NaN</td>\n    </tr>\n    <tr>\n      <th>1077</th>\n      <td>veda</td>\n      <td>1300</td>\n      <td>kelowna, bc</td>\n      <td>['condition', 'new', 'kelowna, bc', 'joined fa...</td>\n      <td>['House for rent']</td>\n      <td>[]</td>\n      <td>['https://www.facebook.com/marketplace/item/43...</td>\n      <td>None</td>\n      <td>Apartment/Condo</td>\n      <td>Apartment/Condo</td>\n      <td>NaN</td>\n    </tr>\n  </tbody>\n</table>\n</div>"
     },
     "execution_count": 34,
     "metadata": {},
     "output_type": "execute_result"
    }
   ],
   "source": [
    "df[df['nbeds'].isna()].head(10)"
   ],
   "metadata": {
    "collapsed": false,
    "pycharm": {
     "name": "#%%\n"
    }
   }
  },
  {
   "cell_type": "markdown",
   "source": [
    "I've identified 8 rows in the data that are missing the number of beds information. In order to complete the dataset, I've decided to manually input the missing information for these 8 rows."
   ],
   "metadata": {
    "collapsed": false,
    "pycharm": {
     "name": "#%% md\n"
    }
   }
  },
  {
   "cell_type": "code",
   "execution_count": 35,
   "outputs": [],
   "source": [
    "df.loc[216, 'nbeds'] = 1\n",
    "df.loc[463, 'nbeds'] = 2\n",
    "df.loc[464, 'nbeds'] = 2\n",
    "df.loc[468, 'nbeds'] = 4\n",
    "df.loc[595, 'nbeds'] = 1\n",
    "df.loc[665, 'nbeds'] = 1\n",
    "df.loc[872, 'nbeds'] = 3\n",
    "df.loc[1077, 'nbeds'] = 1"
   ],
   "metadata": {
    "collapsed": false,
    "pycharm": {
     "name": "#%%\n"
    }
   }
  },
  {
   "cell_type": "code",
   "execution_count": 36,
   "outputs": [
    {
     "data": {
      "text/plain": "Empty DataFrame\nColumns: [name, price, address, unit_details, description, score, URL, type_from_name, type_from_details, Type, nbeds]\nIndex: []",
      "text/html": "<div>\n<style scoped>\n    .dataframe tbody tr th:only-of-type {\n        vertical-align: middle;\n    }\n\n    .dataframe tbody tr th {\n        vertical-align: top;\n    }\n\n    .dataframe thead th {\n        text-align: right;\n    }\n</style>\n<table border=\"1\" class=\"dataframe\">\n  <thead>\n    <tr style=\"text-align: right;\">\n      <th></th>\n      <th>name</th>\n      <th>price</th>\n      <th>address</th>\n      <th>unit_details</th>\n      <th>description</th>\n      <th>score</th>\n      <th>URL</th>\n      <th>type_from_name</th>\n      <th>type_from_details</th>\n      <th>Type</th>\n      <th>nbeds</th>\n    </tr>\n  </thead>\n  <tbody>\n  </tbody>\n</table>\n</div>"
     },
     "execution_count": 36,
     "metadata": {},
     "output_type": "execute_result"
    }
   ],
   "source": [
    "df[df['nbeds'].isna()]"
   ],
   "metadata": {
    "collapsed": false,
    "pycharm": {
     "name": "#%%\n"
    }
   }
  },
  {
   "cell_type": "markdown",
   "source": [
    "### Nubmer of baths"
   ],
   "metadata": {
    "collapsed": false,
    "pycharm": {
     "name": "#%% md\n"
    }
   }
  },
  {
   "cell_type": "code",
   "execution_count": 37,
   "outputs": [],
   "source": [
    "df['nbath'] = df['unit_details'].str.extract('(\\d+) bath', expand=False)\n",
    "# Extract number of beds from unit_details and store in a new column \"nbath\""
   ],
   "metadata": {
    "collapsed": false,
    "pycharm": {
     "name": "#%%\n"
    }
   }
  },
  {
   "cell_type": "code",
   "execution_count": 38,
   "outputs": [],
   "source": [
    "df.loc[((df['nbath'].isna()) & (df['Type'] == 'Room')), 'nbath'] = 1\n",
    "# Fill missing values in \"nbath\" column with 1 for Room type rents"
   ],
   "metadata": {
    "collapsed": false,
    "pycharm": {
     "name": "#%%\n"
    }
   }
  },
  {
   "cell_type": "code",
   "execution_count": 39,
   "outputs": [],
   "source": [
    "df.loc[df['nbath'].isna(), 'nbath'] = df[df['nbath'].isna()]['name'].str.extract('(\\d+) bath', expand=False)\n",
    "# Fill missing values in \"nbath\" column with the extracted number of baths from 'name' column"
   ],
   "metadata": {
    "collapsed": false,
    "pycharm": {
     "name": "#%%\n"
    }
   }
  },
  {
   "cell_type": "code",
   "execution_count": 40,
   "outputs": [
    {
     "data": {
      "text/plain": "                                                   name  price  \\\n216                                    1 bdrm den condo   1900   \n463                            house for rent  south bx   2500   \n464                          house for rent in south bx   2500   \n468                               house for rent oliver   2500   \n595                                  apartment for rent   1700   \n665                                            room for    800   \n852                             room in 2 bed townhouse    900   \n872                  beautiful home for rent main floor   3000   \n1077                                               veda   1300   \n1256  evolve studio has space for rent appropriate f...    800   \n1289                                  park your trailer   1234   \n\n               address                                       unit_details  \\\n216        kelowna, bc         ['kelowna, bc', 'joined facebook in 2007']   \n463         vernon, bc  ['vernon, bc', 'listed over a week ago', 'hous...   \n464         vernon, bc          ['vernon, bc', 'joined facebook in 2008']   \n468      penticton, bc       ['penticton, bc', 'joined facebook in 2007']   \n595   west kelowna, bc  ['condition', 'new', 'west kelowna, bc', 'join...   \n665        kelowna, bc  ['kelowna, bc', 'listed over a week ago', 'hou...   \n852         vernon, bc          ['vernon, bc', 'joined facebook in 2020']   \n872        kelowna, bc  ['condition', 'used - like new', 'kelowna, bc'...   \n1077       kelowna, bc  ['condition', 'new', 'kelowna, bc', 'joined fa...   \n1256        vernon, bc          ['vernon, bc', 'joined facebook in 2007']   \n1289       kelowna, bc  ['kelowna, bc', 'listed over a week ago · avai...   \n\n                                            description  \\\n216   ['1 bdrm + den + 1 bath\\n750sf\\nLower Mission ...   \n463   ['Main part of three level split house (owner ...   \n464   ['Main part of 3 level split house (owner live...   \n468   ['https://www.kijiji.ca/v-apartments-condos/pe...   \n595   ['Available for rent Feb 1st - June 30th, 2023...   \n665   ['Room for rent!! \\n4 bedroom house with 2 peo...   \n852   ['Share a townhouse with 1 occupant (me)\\n\\nPa...   \n872   ['Available March 1st 2023\\nBeautiful Bright a...   \n1077                                 ['House for rent']   \n1256  ['Be your own boss .  Evolve Studio has rental...   \n1289  ['Outdoor storage available Security camera pr...   \n\n                                                  score  \\\n216                                                  []   \n463                                                  []   \n464                                                  []   \n468                                                  []   \n595                                                  []   \n665   ['Provided by Walk Score®︎', '23 out of 100', ...   \n852                                                  []   \n872                                                  []   \n1077                                                 []   \n1256                                                 []   \n1289  ['Provided by Walk Score®︎', '70 out of 100', ...   \n\n                                                    URL   type_from_name  \\\n216   ['https://www.facebook.com/marketplace/item/66...  Apartment/Condo   \n463   ['https://www.facebook.com/marketplace/item/62...            House   \n464   ['https://www.facebook.com/marketplace/item/56...            House   \n468   ['https://www.facebook.com/marketplace/item/54...            House   \n595   ['https://www.facebook.com/marketplace/item/88...  Apartment/Condo   \n665   ['https://www.facebook.com/marketplace/item/15...             Room   \n852   ['https://www.facebook.com/marketplace/item/15...        Townhouse   \n872   ['https://www.facebook.com/marketplace/item/85...             None   \n1077  ['https://www.facebook.com/marketplace/item/43...             None   \n1256  ['https://www.facebook.com/marketplace/item/11...  Apartment/Condo   \n1289  ['https://www.facebook.com/marketplace/item/50...             None   \n\n     type_from_details             Type nbeds nbath  \n216               None  Apartment/Condo     1   NaN  \n463              House            House     2   NaN  \n464               None            House     2   NaN  \n468               None            House     4   NaN  \n595               None  Apartment/Condo     1   NaN  \n665              House            House     1   NaN  \n852               None        Townhouse     2   NaN  \n872              House            House     3   NaN  \n1077   Apartment/Condo  Apartment/Condo     1   NaN  \n1256              None  Apartment/Condo     1   NaN  \n1289             House            House     1   NaN  ",
      "text/html": "<div>\n<style scoped>\n    .dataframe tbody tr th:only-of-type {\n        vertical-align: middle;\n    }\n\n    .dataframe tbody tr th {\n        vertical-align: top;\n    }\n\n    .dataframe thead th {\n        text-align: right;\n    }\n</style>\n<table border=\"1\" class=\"dataframe\">\n  <thead>\n    <tr style=\"text-align: right;\">\n      <th></th>\n      <th>name</th>\n      <th>price</th>\n      <th>address</th>\n      <th>unit_details</th>\n      <th>description</th>\n      <th>score</th>\n      <th>URL</th>\n      <th>type_from_name</th>\n      <th>type_from_details</th>\n      <th>Type</th>\n      <th>nbeds</th>\n      <th>nbath</th>\n    </tr>\n  </thead>\n  <tbody>\n    <tr>\n      <th>216</th>\n      <td>1 bdrm den condo</td>\n      <td>1900</td>\n      <td>kelowna, bc</td>\n      <td>['kelowna, bc', 'joined facebook in 2007']</td>\n      <td>['1 bdrm + den + 1 bath\\n750sf\\nLower Mission ...</td>\n      <td>[]</td>\n      <td>['https://www.facebook.com/marketplace/item/66...</td>\n      <td>Apartment/Condo</td>\n      <td>None</td>\n      <td>Apartment/Condo</td>\n      <td>1</td>\n      <td>NaN</td>\n    </tr>\n    <tr>\n      <th>463</th>\n      <td>house for rent  south bx</td>\n      <td>2500</td>\n      <td>vernon, bc</td>\n      <td>['vernon, bc', 'listed over a week ago', 'hous...</td>\n      <td>['Main part of three level split house (owner ...</td>\n      <td>[]</td>\n      <td>['https://www.facebook.com/marketplace/item/62...</td>\n      <td>House</td>\n      <td>House</td>\n      <td>House</td>\n      <td>2</td>\n      <td>NaN</td>\n    </tr>\n    <tr>\n      <th>464</th>\n      <td>house for rent in south bx</td>\n      <td>2500</td>\n      <td>vernon, bc</td>\n      <td>['vernon, bc', 'joined facebook in 2008']</td>\n      <td>['Main part of 3 level split house (owner live...</td>\n      <td>[]</td>\n      <td>['https://www.facebook.com/marketplace/item/56...</td>\n      <td>House</td>\n      <td>None</td>\n      <td>House</td>\n      <td>2</td>\n      <td>NaN</td>\n    </tr>\n    <tr>\n      <th>468</th>\n      <td>house for rent oliver</td>\n      <td>2500</td>\n      <td>penticton, bc</td>\n      <td>['penticton, bc', 'joined facebook in 2007']</td>\n      <td>['https://www.kijiji.ca/v-apartments-condos/pe...</td>\n      <td>[]</td>\n      <td>['https://www.facebook.com/marketplace/item/54...</td>\n      <td>House</td>\n      <td>None</td>\n      <td>House</td>\n      <td>4</td>\n      <td>NaN</td>\n    </tr>\n    <tr>\n      <th>595</th>\n      <td>apartment for rent</td>\n      <td>1700</td>\n      <td>west kelowna, bc</td>\n      <td>['condition', 'new', 'west kelowna, bc', 'join...</td>\n      <td>['Available for rent Feb 1st - June 30th, 2023...</td>\n      <td>[]</td>\n      <td>['https://www.facebook.com/marketplace/item/88...</td>\n      <td>Apartment/Condo</td>\n      <td>None</td>\n      <td>Apartment/Condo</td>\n      <td>1</td>\n      <td>NaN</td>\n    </tr>\n    <tr>\n      <th>665</th>\n      <td>room for</td>\n      <td>800</td>\n      <td>kelowna, bc</td>\n      <td>['kelowna, bc', 'listed over a week ago', 'hou...</td>\n      <td>['Room for rent!! \\n4 bedroom house with 2 peo...</td>\n      <td>['Provided by Walk Score®︎', '23 out of 100', ...</td>\n      <td>['https://www.facebook.com/marketplace/item/15...</td>\n      <td>Room</td>\n      <td>House</td>\n      <td>House</td>\n      <td>1</td>\n      <td>NaN</td>\n    </tr>\n    <tr>\n      <th>852</th>\n      <td>room in 2 bed townhouse</td>\n      <td>900</td>\n      <td>vernon, bc</td>\n      <td>['vernon, bc', 'joined facebook in 2020']</td>\n      <td>['Share a townhouse with 1 occupant (me)\\n\\nPa...</td>\n      <td>[]</td>\n      <td>['https://www.facebook.com/marketplace/item/15...</td>\n      <td>Townhouse</td>\n      <td>None</td>\n      <td>Townhouse</td>\n      <td>2</td>\n      <td>NaN</td>\n    </tr>\n    <tr>\n      <th>872</th>\n      <td>beautiful home for rent main floor</td>\n      <td>3000</td>\n      <td>kelowna, bc</td>\n      <td>['condition', 'used - like new', 'kelowna, bc'...</td>\n      <td>['Available March 1st 2023\\nBeautiful Bright a...</td>\n      <td>[]</td>\n      <td>['https://www.facebook.com/marketplace/item/85...</td>\n      <td>None</td>\n      <td>House</td>\n      <td>House</td>\n      <td>3</td>\n      <td>NaN</td>\n    </tr>\n    <tr>\n      <th>1077</th>\n      <td>veda</td>\n      <td>1300</td>\n      <td>kelowna, bc</td>\n      <td>['condition', 'new', 'kelowna, bc', 'joined fa...</td>\n      <td>['House for rent']</td>\n      <td>[]</td>\n      <td>['https://www.facebook.com/marketplace/item/43...</td>\n      <td>None</td>\n      <td>Apartment/Condo</td>\n      <td>Apartment/Condo</td>\n      <td>1</td>\n      <td>NaN</td>\n    </tr>\n    <tr>\n      <th>1256</th>\n      <td>evolve studio has space for rent appropriate f...</td>\n      <td>800</td>\n      <td>vernon, bc</td>\n      <td>['vernon, bc', 'joined facebook in 2007']</td>\n      <td>['Be your own boss .  Evolve Studio has rental...</td>\n      <td>[]</td>\n      <td>['https://www.facebook.com/marketplace/item/11...</td>\n      <td>Apartment/Condo</td>\n      <td>None</td>\n      <td>Apartment/Condo</td>\n      <td>1</td>\n      <td>NaN</td>\n    </tr>\n    <tr>\n      <th>1289</th>\n      <td>park your trailer</td>\n      <td>1234</td>\n      <td>kelowna, bc</td>\n      <td>['kelowna, bc', 'listed over a week ago · avai...</td>\n      <td>['Outdoor storage available Security camera pr...</td>\n      <td>['Provided by Walk Score®︎', '70 out of 100', ...</td>\n      <td>['https://www.facebook.com/marketplace/item/50...</td>\n      <td>None</td>\n      <td>House</td>\n      <td>House</td>\n      <td>1</td>\n      <td>NaN</td>\n    </tr>\n  </tbody>\n</table>\n</div>"
     },
     "execution_count": 40,
     "metadata": {},
     "output_type": "execute_result"
    }
   ],
   "source": [
    "df[df['nbath'].isna()]"
   ],
   "metadata": {
    "collapsed": false,
    "pycharm": {
     "name": "#%%\n"
    }
   }
  },
  {
   "cell_type": "markdown",
   "source": [
    "I've identified 11 rows in the data that are missing the number of beds information. In order to complete the dataset, I've decided to manually input the missing information for these 11 rows.\n"
   ],
   "metadata": {
    "collapsed": false,
    "pycharm": {
     "name": "#%% md\n"
    }
   }
  },
  {
   "cell_type": "code",
   "execution_count": 41,
   "outputs": [],
   "source": [
    "df.loc[216, 'nbath'] = 1\n",
    "df.loc[463, 'nbath'] = 1\n",
    "df.loc[464, 'nbath'] = 1\n",
    "df.loc[468, 'nbath'] = 1\n",
    "df.loc[595, 'nbath'] = 1\n",
    "df.loc[665, 'nbath'] = 1\n",
    "df.loc[852, 'nbath'] = 1\n",
    "df.loc[872, 'nbath'] = 2\n",
    "df.loc[1077, 'nbath'] = 1\n",
    "df.loc[1256, 'nbath'] = 1\n",
    "df.loc[1289, 'nbath'] = 1"
   ],
   "metadata": {
    "collapsed": false,
    "pycharm": {
     "name": "#%%\n"
    }
   }
  },
  {
   "cell_type": "code",
   "execution_count": 42,
   "outputs": [
    {
     "data": {
      "text/plain": "Empty DataFrame\nColumns: [name, price, address, unit_details, description, score, URL, type_from_name, type_from_details, Type, nbeds, nbath]\nIndex: []",
      "text/html": "<div>\n<style scoped>\n    .dataframe tbody tr th:only-of-type {\n        vertical-align: middle;\n    }\n\n    .dataframe tbody tr th {\n        vertical-align: top;\n    }\n\n    .dataframe thead th {\n        text-align: right;\n    }\n</style>\n<table border=\"1\" class=\"dataframe\">\n  <thead>\n    <tr style=\"text-align: right;\">\n      <th></th>\n      <th>name</th>\n      <th>price</th>\n      <th>address</th>\n      <th>unit_details</th>\n      <th>description</th>\n      <th>score</th>\n      <th>URL</th>\n      <th>type_from_name</th>\n      <th>type_from_details</th>\n      <th>Type</th>\n      <th>nbeds</th>\n      <th>nbath</th>\n    </tr>\n  </thead>\n  <tbody>\n  </tbody>\n</table>\n</div>"
     },
     "execution_count": 42,
     "metadata": {},
     "output_type": "execute_result"
    }
   ],
   "source": [
    "df[df['nbath'].isna()]"
   ],
   "metadata": {
    "collapsed": false,
    "pycharm": {
     "name": "#%%\n"
    }
   }
  },
  {
   "cell_type": "code",
   "execution_count": 43,
   "outputs": [
    {
     "data": {
      "text/plain": "                                               name  price  \\\n1                          3 beds 3 baths townhouse   3300   \n2                               2 beds 1 bath house   2000   \n3                            1 bed 1 bath apartment   1250   \n4   1 bedroom available in 2 bedroom basement suite    650   \n5                               3 beds 1 bath house   2000   \n6                                1 bed 1 bath house    600   \n7                                1 bed 1 bath house    850   \n8                             private room for rent    500   \n9                          2 beds 2 baths townhouse   2300   \n10                           1 bed 1 bath apartment   1800   \n\n                  address                                       unit_details  \\\n1    kelowna, bc, v1y 5t5  ['1275 brookside ave, kelowna, bc', 'listed ov...   \n2   west kelowna, bc, v4t  ['goldie rd, west kelowna, bc', '914 square fe...   \n3        kelowna, bc, v1v  ['academy way, kelowna, bc', 'listed over a we...   \n4        west kelowna, bc  ['west kelowna, bc', '1000 square meters', 'li...   \n5    kelowna, bc, v1v 1r1  ['kelowna, bc, canada, kelowna, bc', 'listed a...   \n6    kelowna, bc, v1x 3m7  ['395 froelich rd, kelowna, bc', 'listed over ...   \n7     vernon, bc, v1b 3m1  ['vernon, bc, canada, vernon, bc', 'listed 5 d...   \n8             kelowna, bc  ['kelowna, bc', 'listed 4 days ago · available...   \n9    kelowna, bc, v1y 5t8  ['1145 pacific ave, kelowna, bc', '1014 square...   \n10            kelowna, bc  ['kelowna, bc', '750 square meters', 'dog and ...   \n\n                                          description  \\\n1   ['Kelowna 3 bed 3 bath townhome for rent\\n\\nWi...   \n2   ['REDUCED. Stunning lake and city views are in...   \n3   ['Veda Student Living Studio Apartment Sublet ...   \n4   ['1 bedroom available in 2 bedroom basement su...   \n5   [\"Great location 3 bedroom, 1 bathroom home. N...   \n6                                     ['Girls room ']   \n7   [\"Room for Rent in Shared Home\\n\\nOne bedroom ...   \n8   ['2 room apartment (1 bedroom available) \\nFor...   \n9   ['Beautiful and spacious 1014 square foot rent...   \n10  ['READ AD BEFORE REACTING 🤘🏼\\nLooking to rent ...   \n\n                                                score  \\\n1                                                  []   \n2                                                  []   \n3                                                  []   \n4   ['Provided by Walk Score®︎', '63 out of 100', ...   \n5                                                  []   \n6                                                  []   \n7                                                  []   \n8                                                  []   \n9                                                  []   \n10                                                 []   \n\n                                                  URL   type_from_name  \\\n1   ['https://www.facebook.com/marketplace/item/11...        Townhouse   \n2   ['https://www.facebook.com/marketplace/item/13...            House   \n3   ['https://www.facebook.com/marketplace/item/15...  Apartment/Condo   \n4   ['https://www.facebook.com/marketplace/item/36...             Room   \n5   ['https://www.facebook.com/marketplace/item/60...            House   \n6   ['https://www.facebook.com/marketplace/item/49...            House   \n7   ['https://www.facebook.com/marketplace/item/85...            House   \n8   ['https://www.facebook.com/marketplace/item/84...             Room   \n9   ['https://www.facebook.com/marketplace/item/81...        Townhouse   \n10  ['https://www.facebook.com/marketplace/item/72...  Apartment/Condo   \n\n   type_from_details             Type nbeds nbath  \n1          Townhouse        Townhouse     3     3  \n2              House            House     2     1  \n3    Apartment/Condo  Apartment/Condo     1     1  \n4              House            House     2     1  \n5              House            House     3     1  \n6              House            House     1     1  \n7              House            House     1     1  \n8    Apartment/Condo  Apartment/Condo     1     1  \n9          Townhouse        Townhouse     2     2  \n10   Apartment/Condo  Apartment/Condo     1     1  ",
      "text/html": "<div>\n<style scoped>\n    .dataframe tbody tr th:only-of-type {\n        vertical-align: middle;\n    }\n\n    .dataframe tbody tr th {\n        vertical-align: top;\n    }\n\n    .dataframe thead th {\n        text-align: right;\n    }\n</style>\n<table border=\"1\" class=\"dataframe\">\n  <thead>\n    <tr style=\"text-align: right;\">\n      <th></th>\n      <th>name</th>\n      <th>price</th>\n      <th>address</th>\n      <th>unit_details</th>\n      <th>description</th>\n      <th>score</th>\n      <th>URL</th>\n      <th>type_from_name</th>\n      <th>type_from_details</th>\n      <th>Type</th>\n      <th>nbeds</th>\n      <th>nbath</th>\n    </tr>\n  </thead>\n  <tbody>\n    <tr>\n      <th>1</th>\n      <td>3 beds 3 baths townhouse</td>\n      <td>3300</td>\n      <td>kelowna, bc, v1y 5t5</td>\n      <td>['1275 brookside ave, kelowna, bc', 'listed ov...</td>\n      <td>['Kelowna 3 bed 3 bath townhome for rent\\n\\nWi...</td>\n      <td>[]</td>\n      <td>['https://www.facebook.com/marketplace/item/11...</td>\n      <td>Townhouse</td>\n      <td>Townhouse</td>\n      <td>Townhouse</td>\n      <td>3</td>\n      <td>3</td>\n    </tr>\n    <tr>\n      <th>2</th>\n      <td>2 beds 1 bath house</td>\n      <td>2000</td>\n      <td>west kelowna, bc, v4t</td>\n      <td>['goldie rd, west kelowna, bc', '914 square fe...</td>\n      <td>['REDUCED. Stunning lake and city views are in...</td>\n      <td>[]</td>\n      <td>['https://www.facebook.com/marketplace/item/13...</td>\n      <td>House</td>\n      <td>House</td>\n      <td>House</td>\n      <td>2</td>\n      <td>1</td>\n    </tr>\n    <tr>\n      <th>3</th>\n      <td>1 bed 1 bath apartment</td>\n      <td>1250</td>\n      <td>kelowna, bc, v1v</td>\n      <td>['academy way, kelowna, bc', 'listed over a we...</td>\n      <td>['Veda Student Living Studio Apartment Sublet ...</td>\n      <td>[]</td>\n      <td>['https://www.facebook.com/marketplace/item/15...</td>\n      <td>Apartment/Condo</td>\n      <td>Apartment/Condo</td>\n      <td>Apartment/Condo</td>\n      <td>1</td>\n      <td>1</td>\n    </tr>\n    <tr>\n      <th>4</th>\n      <td>1 bedroom available in 2 bedroom basement suite</td>\n      <td>650</td>\n      <td>west kelowna, bc</td>\n      <td>['west kelowna, bc', '1000 square meters', 'li...</td>\n      <td>['1 bedroom available in 2 bedroom basement su...</td>\n      <td>['Provided by Walk Score®︎', '63 out of 100', ...</td>\n      <td>['https://www.facebook.com/marketplace/item/36...</td>\n      <td>Room</td>\n      <td>House</td>\n      <td>House</td>\n      <td>2</td>\n      <td>1</td>\n    </tr>\n    <tr>\n      <th>5</th>\n      <td>3 beds 1 bath house</td>\n      <td>2000</td>\n      <td>kelowna, bc, v1v 1r1</td>\n      <td>['kelowna, bc, canada, kelowna, bc', 'listed a...</td>\n      <td>[\"Great location 3 bedroom, 1 bathroom home. N...</td>\n      <td>[]</td>\n      <td>['https://www.facebook.com/marketplace/item/60...</td>\n      <td>House</td>\n      <td>House</td>\n      <td>House</td>\n      <td>3</td>\n      <td>1</td>\n    </tr>\n    <tr>\n      <th>6</th>\n      <td>1 bed 1 bath house</td>\n      <td>600</td>\n      <td>kelowna, bc, v1x 3m7</td>\n      <td>['395 froelich rd, kelowna, bc', 'listed over ...</td>\n      <td>['Girls room ']</td>\n      <td>[]</td>\n      <td>['https://www.facebook.com/marketplace/item/49...</td>\n      <td>House</td>\n      <td>House</td>\n      <td>House</td>\n      <td>1</td>\n      <td>1</td>\n    </tr>\n    <tr>\n      <th>7</th>\n      <td>1 bed 1 bath house</td>\n      <td>850</td>\n      <td>vernon, bc, v1b 3m1</td>\n      <td>['vernon, bc, canada, vernon, bc', 'listed 5 d...</td>\n      <td>[\"Room for Rent in Shared Home\\n\\nOne bedroom ...</td>\n      <td>[]</td>\n      <td>['https://www.facebook.com/marketplace/item/85...</td>\n      <td>House</td>\n      <td>House</td>\n      <td>House</td>\n      <td>1</td>\n      <td>1</td>\n    </tr>\n    <tr>\n      <th>8</th>\n      <td>private room for rent</td>\n      <td>500</td>\n      <td>kelowna, bc</td>\n      <td>['kelowna, bc', 'listed 4 days ago · available...</td>\n      <td>['2 room apartment (1 bedroom available) \\nFor...</td>\n      <td>[]</td>\n      <td>['https://www.facebook.com/marketplace/item/84...</td>\n      <td>Room</td>\n      <td>Apartment/Condo</td>\n      <td>Apartment/Condo</td>\n      <td>1</td>\n      <td>1</td>\n    </tr>\n    <tr>\n      <th>9</th>\n      <td>2 beds 2 baths townhouse</td>\n      <td>2300</td>\n      <td>kelowna, bc, v1y 5t8</td>\n      <td>['1145 pacific ave, kelowna, bc', '1014 square...</td>\n      <td>['Beautiful and spacious 1014 square foot rent...</td>\n      <td>[]</td>\n      <td>['https://www.facebook.com/marketplace/item/81...</td>\n      <td>Townhouse</td>\n      <td>Townhouse</td>\n      <td>Townhouse</td>\n      <td>2</td>\n      <td>2</td>\n    </tr>\n    <tr>\n      <th>10</th>\n      <td>1 bed 1 bath apartment</td>\n      <td>1800</td>\n      <td>kelowna, bc</td>\n      <td>['kelowna, bc', '750 square meters', 'dog and ...</td>\n      <td>['READ AD BEFORE REACTING 🤘🏼\\nLooking to rent ...</td>\n      <td>[]</td>\n      <td>['https://www.facebook.com/marketplace/item/72...</td>\n      <td>Apartment/Condo</td>\n      <td>Apartment/Condo</td>\n      <td>Apartment/Condo</td>\n      <td>1</td>\n      <td>1</td>\n    </tr>\n  </tbody>\n</table>\n</div>"
     },
     "execution_count": 43,
     "metadata": {},
     "output_type": "execute_result"
    }
   ],
   "source": [
    "df.head(10)"
   ],
   "metadata": {
    "collapsed": false,
    "pycharm": {
     "name": "#%%\n"
    }
   }
  },
  {
   "cell_type": "markdown",
   "source": [
    "To extract information about the rental property, I'll be looking at several key-words: Area, Laundry, Parking, Air-conditioner, Heating, Animal Friendly, and Furnished. These columns have a specific set of values which are:\n",
    "- Laundry: In-unit laundry, Laundry in building, Laundry available\n",
    "- Parking: Garage parking, Street parking, Off-street parking, Parking available\n",
    "- Air-conditioner: Central AC, AC available\n",
    "- Heating: Central heating, Electric heating, Gas heating, Radiator heating, Heating available\n",
    "- Animal Friendly: Cat/Dog friendly\n",
    "- Furnished: Furnished/Unfurnished"
   ],
   "metadata": {
    "collapsed": false,
    "pycharm": {
     "name": "#%% md\n"
    }
   }
  },
  {
   "cell_type": "markdown",
   "source": [
    "## Laundry"
   ],
   "metadata": {
    "collapsed": false,
    "pycharm": {
     "name": "#%% md\n"
    }
   }
  },
  {
   "cell_type": "code",
   "execution_count": 44,
   "outputs": [],
   "source": [
    "def extract_laundry(row):\n",
    "    # Define a list of laundry types to search for in the 'unit_details' column\n",
    "    laundry_types = ['in-unit laundry', 'laundry in building', 'laundry available']\n",
    "    # Iterate through each laundry type and check if it is present in the 'unit_details' column\n",
    "    for laundry_type in laundry_types:\n",
    "        if laundry_type in row['unit_details']:\n",
    "            return laundry_type\n",
    "    return 'Not specified'"
   ],
   "metadata": {
    "collapsed": false,
    "pycharm": {
     "name": "#%%\n"
    }
   }
  },
  {
   "cell_type": "code",
   "execution_count": 45,
   "outputs": [],
   "source": [
    "df['laundry'] = df.apply(extract_laundry, axis=1)"
   ],
   "metadata": {
    "collapsed": false,
    "pycharm": {
     "name": "#%%\n"
    }
   }
  },
  {
   "cell_type": "markdown",
   "source": [
    "## Heating"
   ],
   "metadata": {
    "collapsed": false,
    "pycharm": {
     "name": "#%% md\n"
    }
   }
  },
  {
   "cell_type": "code",
   "execution_count": 46,
   "outputs": [],
   "source": [
    "def extract_heating(row):\n",
    "    heating_types = ['central heating', 'electric heating', 'gas heating', 'radiator heating', 'heating available']\n",
    "    for heating_type in heating_types:\n",
    "        if heating_type in row['unit_details']:\n",
    "            return heating_type\n",
    "    return 'Not specified'"
   ],
   "metadata": {
    "collapsed": false,
    "pycharm": {
     "name": "#%%\n"
    }
   }
  },
  {
   "cell_type": "code",
   "execution_count": 47,
   "outputs": [],
   "source": [
    "df['heating'] = df.apply(extract_heating, axis=1)"
   ],
   "metadata": {
    "collapsed": false,
    "pycharm": {
     "name": "#%%\n"
    }
   }
  },
  {
   "cell_type": "markdown",
   "source": [
    "## Parking"
   ],
   "metadata": {
    "collapsed": false,
    "pycharm": {
     "name": "#%% md\n"
    }
   }
  },
  {
   "cell_type": "code",
   "execution_count": 48,
   "outputs": [],
   "source": [
    "def extract_parking(row):\n",
    "    parking_types = ['garage parking', 'street parking', 'off-street parking', 'parking available']\n",
    "    for praking_type in parking_types:\n",
    "        if praking_type in row['unit_details']:\n",
    "            return praking_type\n",
    "    return 'Not specified'"
   ],
   "metadata": {
    "collapsed": false,
    "pycharm": {
     "name": "#%%\n"
    }
   }
  },
  {
   "cell_type": "code",
   "execution_count": 49,
   "outputs": [],
   "source": [
    "df['parking'] = df.apply(extract_parking, axis=1)"
   ],
   "metadata": {
    "collapsed": false,
    "pycharm": {
     "name": "#%%\n"
    }
   }
  },
  {
   "cell_type": "markdown",
   "source": [
    "## Air-Conditioner"
   ],
   "metadata": {
    "collapsed": false,
    "pycharm": {
     "name": "#%% md\n"
    }
   }
  },
  {
   "cell_type": "code",
   "execution_count": 50,
   "outputs": [],
   "source": [
    "def extract_conditioner(row):\n",
    "    conditioner_types = ['central ac', 'ac available']\n",
    "    for conditioner_type in conditioner_types:\n",
    "        if conditioner_type in row['unit_details']:\n",
    "            return conditioner_type\n",
    "    return 'Not specified'"
   ],
   "metadata": {
    "collapsed": false,
    "pycharm": {
     "name": "#%%\n"
    }
   }
  },
  {
   "cell_type": "code",
   "execution_count": 51,
   "outputs": [],
   "source": [
    "df['air_conditioner'] = df.apply(extract_conditioner, axis=1)"
   ],
   "metadata": {
    "collapsed": false,
    "pycharm": {
     "name": "#%%\n"
    }
   }
  },
  {
   "cell_type": "markdown",
   "source": [
    "## Furnished"
   ],
   "metadata": {
    "collapsed": false,
    "pycharm": {
     "name": "#%% md\n"
    }
   }
  },
  {
   "cell_type": "code",
   "execution_count": 52,
   "outputs": [],
   "source": [
    "def extract_furnished(row):\n",
    "    furnished_types = ['unfurnished', 'furnished']\n",
    "    for furnished_type in furnished_types:\n",
    "        if furnished_type in row['unit_details']:\n",
    "            return furnished_type\n",
    "    return 'Not specified'"
   ],
   "metadata": {
    "collapsed": false,
    "pycharm": {
     "name": "#%%\n"
    }
   }
  },
  {
   "cell_type": "code",
   "execution_count": 53,
   "outputs": [],
   "source": [
    "df['furnished'] = df.apply(extract_furnished, axis=1)"
   ],
   "metadata": {
    "collapsed": false,
    "pycharm": {
     "name": "#%%\n"
    }
   }
  },
  {
   "cell_type": "markdown",
   "source": [
    "## Animal friendly"
   ],
   "metadata": {
    "collapsed": false,
    "pycharm": {
     "name": "#%% md\n"
    }
   }
  },
  {
   "cell_type": "code",
   "execution_count": 54,
   "outputs": [],
   "source": [
    "def extract_animal_friendly(row):\n",
    "    animal_types = ['dog and cat friendly', 'cat friendly', 'dog friendly', 'dog friendly']\n",
    "    for animal_type in animal_types:\n",
    "        if animal_type in row['unit_details']:\n",
    "            return animal_type\n",
    "    return 'No pets'"
   ],
   "metadata": {
    "collapsed": false,
    "pycharm": {
     "name": "#%%\n"
    }
   }
  },
  {
   "cell_type": "code",
   "execution_count": 55,
   "outputs": [],
   "source": [
    "df['animal_friendly'] = df.apply(extract_animal_friendly, axis=1)"
   ],
   "metadata": {
    "collapsed": false,
    "pycharm": {
     "name": "#%%\n"
    }
   }
  },
  {
   "cell_type": "code",
   "execution_count": 56,
   "outputs": [
    {
     "data": {
      "text/plain": "                                               name  price  \\\n1                          3 beds 3 baths townhouse   3300   \n2                               2 beds 1 bath house   2000   \n3                            1 bed 1 bath apartment   1250   \n4   1 bedroom available in 2 bedroom basement suite    650   \n5                               3 beds 1 bath house   2000   \n6                                1 bed 1 bath house    600   \n7                                1 bed 1 bath house    850   \n8                             private room for rent    500   \n9                          2 beds 2 baths townhouse   2300   \n10                           1 bed 1 bath apartment   1800   \n\n                  address                                       unit_details  \\\n1    kelowna, bc, v1y 5t5  ['1275 brookside ave, kelowna, bc', 'listed ov...   \n2   west kelowna, bc, v4t  ['goldie rd, west kelowna, bc', '914 square fe...   \n3        kelowna, bc, v1v  ['academy way, kelowna, bc', 'listed over a we...   \n4        west kelowna, bc  ['west kelowna, bc', '1000 square meters', 'li...   \n5    kelowna, bc, v1v 1r1  ['kelowna, bc, canada, kelowna, bc', 'listed a...   \n6    kelowna, bc, v1x 3m7  ['395 froelich rd, kelowna, bc', 'listed over ...   \n7     vernon, bc, v1b 3m1  ['vernon, bc, canada, vernon, bc', 'listed 5 d...   \n8             kelowna, bc  ['kelowna, bc', 'listed 4 days ago · available...   \n9    kelowna, bc, v1y 5t8  ['1145 pacific ave, kelowna, bc', '1014 square...   \n10            kelowna, bc  ['kelowna, bc', '750 square meters', 'dog and ...   \n\n                                          description  \\\n1   ['Kelowna 3 bed 3 bath townhome for rent\\n\\nWi...   \n2   ['REDUCED. Stunning lake and city views are in...   \n3   ['Veda Student Living Studio Apartment Sublet ...   \n4   ['1 bedroom available in 2 bedroom basement su...   \n5   [\"Great location 3 bedroom, 1 bathroom home. N...   \n6                                     ['Girls room ']   \n7   [\"Room for Rent in Shared Home\\n\\nOne bedroom ...   \n8   ['2 room apartment (1 bedroom available) \\nFor...   \n9   ['Beautiful and spacious 1014 square foot rent...   \n10  ['READ AD BEFORE REACTING 🤘🏼\\nLooking to rent ...   \n\n                                                score  \\\n1                                                  []   \n2                                                  []   \n3                                                  []   \n4   ['Provided by Walk Score®︎', '63 out of 100', ...   \n5                                                  []   \n6                                                  []   \n7                                                  []   \n8                                                  []   \n9                                                  []   \n10                                                 []   \n\n                                                  URL   type_from_name  \\\n1   ['https://www.facebook.com/marketplace/item/11...        Townhouse   \n2   ['https://www.facebook.com/marketplace/item/13...            House   \n3   ['https://www.facebook.com/marketplace/item/15...  Apartment/Condo   \n4   ['https://www.facebook.com/marketplace/item/36...             Room   \n5   ['https://www.facebook.com/marketplace/item/60...            House   \n6   ['https://www.facebook.com/marketplace/item/49...            House   \n7   ['https://www.facebook.com/marketplace/item/85...            House   \n8   ['https://www.facebook.com/marketplace/item/84...             Room   \n9   ['https://www.facebook.com/marketplace/item/81...        Townhouse   \n10  ['https://www.facebook.com/marketplace/item/72...  Apartment/Condo   \n\n   type_from_details             Type nbeds nbath              laundry  \\\n1          Townhouse        Townhouse     3     3      in-unit laundry   \n2              House            House     2     1      in-unit laundry   \n3    Apartment/Condo  Apartment/Condo     1     1  laundry in building   \n4              House            House     2     1      in-unit laundry   \n5              House            House     3     1        Not specified   \n6              House            House     1     1    laundry available   \n7              House            House     1     1    laundry available   \n8    Apartment/Condo  Apartment/Condo     1     1        Not specified   \n9          Townhouse        Townhouse     2     2      in-unit laundry   \n10   Apartment/Condo  Apartment/Condo     1     1      in-unit laundry   \n\n              heating            parking air_conditioner      furnished  \\\n1         gas heating     garage parking      central ac    unfurnished   \n2       Not specified      Not specified   Not specified  Not specified   \n3       Not specified  parking available   Not specified    unfurnished   \n4     central heating     street parking   Not specified    unfurnished   \n5       Not specified      Not specified   Not specified  Not specified   \n6   heating available  parking available   Not specified    unfurnished   \n7     central heating  parking available      central ac  Not specified   \n8       Not specified  parking available   Not specified    unfurnished   \n9    electric heating  parking available      central ac    unfurnished   \n10   electric heating  parking available    ac available    unfurnished   \n\n         animal_friendly  \n1                No pets  \n2   dog and cat friendly  \n3                No pets  \n4                No pets  \n5                No pets  \n6                No pets  \n7                No pets  \n8                No pets  \n9   dog and cat friendly  \n10  dog and cat friendly  ",
      "text/html": "<div>\n<style scoped>\n    .dataframe tbody tr th:only-of-type {\n        vertical-align: middle;\n    }\n\n    .dataframe tbody tr th {\n        vertical-align: top;\n    }\n\n    .dataframe thead th {\n        text-align: right;\n    }\n</style>\n<table border=\"1\" class=\"dataframe\">\n  <thead>\n    <tr style=\"text-align: right;\">\n      <th></th>\n      <th>name</th>\n      <th>price</th>\n      <th>address</th>\n      <th>unit_details</th>\n      <th>description</th>\n      <th>score</th>\n      <th>URL</th>\n      <th>type_from_name</th>\n      <th>type_from_details</th>\n      <th>Type</th>\n      <th>nbeds</th>\n      <th>nbath</th>\n      <th>laundry</th>\n      <th>heating</th>\n      <th>parking</th>\n      <th>air_conditioner</th>\n      <th>furnished</th>\n      <th>animal_friendly</th>\n    </tr>\n  </thead>\n  <tbody>\n    <tr>\n      <th>1</th>\n      <td>3 beds 3 baths townhouse</td>\n      <td>3300</td>\n      <td>kelowna, bc, v1y 5t5</td>\n      <td>['1275 brookside ave, kelowna, bc', 'listed ov...</td>\n      <td>['Kelowna 3 bed 3 bath townhome for rent\\n\\nWi...</td>\n      <td>[]</td>\n      <td>['https://www.facebook.com/marketplace/item/11...</td>\n      <td>Townhouse</td>\n      <td>Townhouse</td>\n      <td>Townhouse</td>\n      <td>3</td>\n      <td>3</td>\n      <td>in-unit laundry</td>\n      <td>gas heating</td>\n      <td>garage parking</td>\n      <td>central ac</td>\n      <td>unfurnished</td>\n      <td>No pets</td>\n    </tr>\n    <tr>\n      <th>2</th>\n      <td>2 beds 1 bath house</td>\n      <td>2000</td>\n      <td>west kelowna, bc, v4t</td>\n      <td>['goldie rd, west kelowna, bc', '914 square fe...</td>\n      <td>['REDUCED. Stunning lake and city views are in...</td>\n      <td>[]</td>\n      <td>['https://www.facebook.com/marketplace/item/13...</td>\n      <td>House</td>\n      <td>House</td>\n      <td>House</td>\n      <td>2</td>\n      <td>1</td>\n      <td>in-unit laundry</td>\n      <td>Not specified</td>\n      <td>Not specified</td>\n      <td>Not specified</td>\n      <td>Not specified</td>\n      <td>dog and cat friendly</td>\n    </tr>\n    <tr>\n      <th>3</th>\n      <td>1 bed 1 bath apartment</td>\n      <td>1250</td>\n      <td>kelowna, bc, v1v</td>\n      <td>['academy way, kelowna, bc', 'listed over a we...</td>\n      <td>['Veda Student Living Studio Apartment Sublet ...</td>\n      <td>[]</td>\n      <td>['https://www.facebook.com/marketplace/item/15...</td>\n      <td>Apartment/Condo</td>\n      <td>Apartment/Condo</td>\n      <td>Apartment/Condo</td>\n      <td>1</td>\n      <td>1</td>\n      <td>laundry in building</td>\n      <td>Not specified</td>\n      <td>parking available</td>\n      <td>Not specified</td>\n      <td>unfurnished</td>\n      <td>No pets</td>\n    </tr>\n    <tr>\n      <th>4</th>\n      <td>1 bedroom available in 2 bedroom basement suite</td>\n      <td>650</td>\n      <td>west kelowna, bc</td>\n      <td>['west kelowna, bc', '1000 square meters', 'li...</td>\n      <td>['1 bedroom available in 2 bedroom basement su...</td>\n      <td>['Provided by Walk Score®︎', '63 out of 100', ...</td>\n      <td>['https://www.facebook.com/marketplace/item/36...</td>\n      <td>Room</td>\n      <td>House</td>\n      <td>House</td>\n      <td>2</td>\n      <td>1</td>\n      <td>in-unit laundry</td>\n      <td>central heating</td>\n      <td>street parking</td>\n      <td>Not specified</td>\n      <td>unfurnished</td>\n      <td>No pets</td>\n    </tr>\n    <tr>\n      <th>5</th>\n      <td>3 beds 1 bath house</td>\n      <td>2000</td>\n      <td>kelowna, bc, v1v 1r1</td>\n      <td>['kelowna, bc, canada, kelowna, bc', 'listed a...</td>\n      <td>[\"Great location 3 bedroom, 1 bathroom home. N...</td>\n      <td>[]</td>\n      <td>['https://www.facebook.com/marketplace/item/60...</td>\n      <td>House</td>\n      <td>House</td>\n      <td>House</td>\n      <td>3</td>\n      <td>1</td>\n      <td>Not specified</td>\n      <td>Not specified</td>\n      <td>Not specified</td>\n      <td>Not specified</td>\n      <td>Not specified</td>\n      <td>No pets</td>\n    </tr>\n    <tr>\n      <th>6</th>\n      <td>1 bed 1 bath house</td>\n      <td>600</td>\n      <td>kelowna, bc, v1x 3m7</td>\n      <td>['395 froelich rd, kelowna, bc', 'listed over ...</td>\n      <td>['Girls room ']</td>\n      <td>[]</td>\n      <td>['https://www.facebook.com/marketplace/item/49...</td>\n      <td>House</td>\n      <td>House</td>\n      <td>House</td>\n      <td>1</td>\n      <td>1</td>\n      <td>laundry available</td>\n      <td>heating available</td>\n      <td>parking available</td>\n      <td>Not specified</td>\n      <td>unfurnished</td>\n      <td>No pets</td>\n    </tr>\n    <tr>\n      <th>7</th>\n      <td>1 bed 1 bath house</td>\n      <td>850</td>\n      <td>vernon, bc, v1b 3m1</td>\n      <td>['vernon, bc, canada, vernon, bc', 'listed 5 d...</td>\n      <td>[\"Room for Rent in Shared Home\\n\\nOne bedroom ...</td>\n      <td>[]</td>\n      <td>['https://www.facebook.com/marketplace/item/85...</td>\n      <td>House</td>\n      <td>House</td>\n      <td>House</td>\n      <td>1</td>\n      <td>1</td>\n      <td>laundry available</td>\n      <td>central heating</td>\n      <td>parking available</td>\n      <td>central ac</td>\n      <td>Not specified</td>\n      <td>No pets</td>\n    </tr>\n    <tr>\n      <th>8</th>\n      <td>private room for rent</td>\n      <td>500</td>\n      <td>kelowna, bc</td>\n      <td>['kelowna, bc', 'listed 4 days ago · available...</td>\n      <td>['2 room apartment (1 bedroom available) \\nFor...</td>\n      <td>[]</td>\n      <td>['https://www.facebook.com/marketplace/item/84...</td>\n      <td>Room</td>\n      <td>Apartment/Condo</td>\n      <td>Apartment/Condo</td>\n      <td>1</td>\n      <td>1</td>\n      <td>Not specified</td>\n      <td>Not specified</td>\n      <td>parking available</td>\n      <td>Not specified</td>\n      <td>unfurnished</td>\n      <td>No pets</td>\n    </tr>\n    <tr>\n      <th>9</th>\n      <td>2 beds 2 baths townhouse</td>\n      <td>2300</td>\n      <td>kelowna, bc, v1y 5t8</td>\n      <td>['1145 pacific ave, kelowna, bc', '1014 square...</td>\n      <td>['Beautiful and spacious 1014 square foot rent...</td>\n      <td>[]</td>\n      <td>['https://www.facebook.com/marketplace/item/81...</td>\n      <td>Townhouse</td>\n      <td>Townhouse</td>\n      <td>Townhouse</td>\n      <td>2</td>\n      <td>2</td>\n      <td>in-unit laundry</td>\n      <td>electric heating</td>\n      <td>parking available</td>\n      <td>central ac</td>\n      <td>unfurnished</td>\n      <td>dog and cat friendly</td>\n    </tr>\n    <tr>\n      <th>10</th>\n      <td>1 bed 1 bath apartment</td>\n      <td>1800</td>\n      <td>kelowna, bc</td>\n      <td>['kelowna, bc', '750 square meters', 'dog and ...</td>\n      <td>['READ AD BEFORE REACTING 🤘🏼\\nLooking to rent ...</td>\n      <td>[]</td>\n      <td>['https://www.facebook.com/marketplace/item/72...</td>\n      <td>Apartment/Condo</td>\n      <td>Apartment/Condo</td>\n      <td>Apartment/Condo</td>\n      <td>1</td>\n      <td>1</td>\n      <td>in-unit laundry</td>\n      <td>electric heating</td>\n      <td>parking available</td>\n      <td>ac available</td>\n      <td>unfurnished</td>\n      <td>dog and cat friendly</td>\n    </tr>\n  </tbody>\n</table>\n</div>"
     },
     "execution_count": 56,
     "metadata": {},
     "output_type": "execute_result"
    }
   ],
   "source": [
    "df.head(10)"
   ],
   "metadata": {
    "collapsed": false,
    "pycharm": {
     "name": "#%%\n"
    }
   }
  },
  {
   "cell_type": "markdown",
   "source": [
    "## Cleaning and Extracting Area"
   ],
   "metadata": {
    "collapsed": false,
    "pycharm": {
     "name": "#%% md\n"
    }
   }
  },
  {
   "cell_type": "code",
   "execution_count": 57,
   "outputs": [],
   "source": [
    "df['Area'] = df['unit_details'].str.extract('(\\d+) square', expand=False)\n",
    "# Extract Area of the unit from unit_details and store in a new column \"Area\""
   ],
   "metadata": {
    "collapsed": false,
    "pycharm": {
     "name": "#%%\n"
    }
   }
  },
  {
   "cell_type": "code",
   "execution_count": 58,
   "outputs": [
    {
     "data": {
      "text/plain": "814"
     },
     "execution_count": 58,
     "metadata": {},
     "output_type": "execute_result"
    }
   ],
   "source": [
    "sum(df.Area.isna())\n",
    "# Here I check for the number of NaN values"
   ],
   "metadata": {
    "collapsed": false,
    "pycharm": {
     "name": "#%%\n"
    }
   }
  },
  {
   "cell_type": "markdown",
   "source": [
    "To handle the NaN values in the 'Area' column, I will fill them with the median value for each type of property. However, it's important to check for outliers first to ensure that the median is a representative measure of central tendency."
   ],
   "metadata": {
    "collapsed": false,
    "pycharm": {
     "name": "#%% md\n"
    }
   }
  },
  {
   "cell_type": "code",
   "execution_count": 59,
   "outputs": [
    {
     "data": {
      "text/plain": "        count         mean           std  min     25%     50%     75%  \\\nprice  1304.0  3905.177147  50235.246376  1.0  1000.0  1797.5  2500.0   \n\n             max  \nprice  1668000.0  ",
      "text/html": "<div>\n<style scoped>\n    .dataframe tbody tr th:only-of-type {\n        vertical-align: middle;\n    }\n\n    .dataframe tbody tr th {\n        vertical-align: top;\n    }\n\n    .dataframe thead th {\n        text-align: right;\n    }\n</style>\n<table border=\"1\" class=\"dataframe\">\n  <thead>\n    <tr style=\"text-align: right;\">\n      <th></th>\n      <th>count</th>\n      <th>mean</th>\n      <th>std</th>\n      <th>min</th>\n      <th>25%</th>\n      <th>50%</th>\n      <th>75%</th>\n      <th>max</th>\n    </tr>\n  </thead>\n  <tbody>\n    <tr>\n      <th>price</th>\n      <td>1304.0</td>\n      <td>3905.177147</td>\n      <td>50235.246376</td>\n      <td>1.0</td>\n      <td>1000.0</td>\n      <td>1797.5</td>\n      <td>2500.0</td>\n      <td>1668000.0</td>\n    </tr>\n  </tbody>\n</table>\n</div>"
     },
     "execution_count": 59,
     "metadata": {},
     "output_type": "execute_result"
    }
   ],
   "source": [
    "df.describe().T"
   ],
   "metadata": {
    "collapsed": false,
    "pycharm": {
     "name": "#%%\n"
    }
   }
  },
  {
   "cell_type": "markdown",
   "source": [
    "Here we can see that there are values that obviously incorrect, so i have to delete them before filling the NaN values with median."
   ],
   "metadata": {
    "collapsed": false,
    "pycharm": {
     "name": "#%% md\n"
    }
   }
  },
  {
   "cell_type": "code",
   "execution_count": 60,
   "outputs": [],
   "source": [
    "df = df[(df['price'] > 200) & (df['price'] < 15000)]\n",
    "# I left rows only with price that seems real"
   ],
   "metadata": {
    "collapsed": false,
    "pycharm": {
     "name": "#%%\n"
    }
   }
  },
  {
   "cell_type": "code",
   "execution_count": 61,
   "outputs": [
    {
     "data": {
      "text/plain": "                                         name  price  \\\n206                      7 beds 3 baths house   6000   \n234                      4 beds 3 baths house   5500   \n332                      4 beds 3 baths house   6600   \n388                      4 beds 4 baths house  10800   \n440                      5 beds 5 baths house  12785   \n496                      6 beds 2 baths house   7500   \n508                      4 beds 3 baths house   7500   \n617   spacious lower mission rancher for rent   5500   \n725                4 beds 4 5 baths townhouse   6360   \n780                  2 beds 2 baths apartment  12500   \n969     lakeview whole house in upper mission   5100   \n1029                   1 bed 1 bath apartment   3900   \n1033                   5 beds 4 5 baths house  10000   \n1085                     2 beds 2 baths house  12345   \n1103                     6 beds 6 baths house   8000   \n1212                 2 beds 2 baths apartment   3900   \n1250                    private room for rent   5250   \n1297    timber valley at big white ski resort  12345   \n1314                 3 beds 2 baths townhouse  12345   \n\n                            address  \\\n206            kelowna, bc, v1x 2j5   \n234            kelowna, bc, v1p 1a1   \n332       west kelowna, bc, v1z 4b7   \n388                kelowna, bc, v1y   \n440            kelowna, bc, v1w 1s8   \n496                west kelowna, bc   \n508            kelowna, bc, v1y 5r4   \n617            kelowna, bc, v1w 1t5   \n725                     kelowna, bc   \n780       west kelowna, bc, v1z 1k5   \n969            kelowna, bc, v1w 4t6   \n1029     kootenay boundary, bc, v0h   \n1033           kelowna, bc, v1w 5m6   \n1085  central okanagan, bc, v1z 3r8   \n1103               west kelowna, bc   \n1212           kelowna, bc, v1y 0j6   \n1250            vernon, bc, v1h 1n8   \n1297          kootenay boundary, bc   \n1314     kootenay boundary, bc, v0h   \n\n                                           unit_details  \\\n206   ['525 leathead rd, kelowna, bc', '3200 square ...   \n234   ['784 lone pine dr, kelowna, bc', '2928 square...   \n332   ['1851 diamond view dr, west kelowna, bc', '40...   \n388   ['2250 abbott st, kelowna, bc', '3300 square m...   \n440   ['689 balsam rd, kelowna, bc', '5309 square fe...   \n496   ['west kelowna, bc', 'listed over a week ago ·...   \n508   ['277 mathison pl, kelowna, bc', '3000 square ...   \n617   ['4633 gordon dr, kelowna, bc', 'listed over a...   \n725   ['kelowna, bc', '2016 square feet', 'listed ov...   \n780   ['1011 cordova way, west kelowna, bc', '2000 s...   \n969   ['295 raven dr, kelowna, bc', '4000 square met...   \n1029  ['7420 porcupine rd, kootenay boundary, bc', '...   \n1033  ['1030 ledgeview ct, kelowna, bc', 'listed ove...   \n1085  ['la casa westside road kelowna, central okana...   \n1103  ['west kelowna, bc', '5800 square meters', 'li...   \n1212  ['1232 ellis st, kelowna, bc', '1132 square fe...   \n1250  ['6644 jade rd, vernon, bc', 'listed over a we...   \n1297  ['kootenay boundary, bc', 'listed over a week ...   \n1314  ['big white rd, kootenay boundary, bc', 'liste...   \n\n                                            description  \\\n206   ['Make this spacious, fully air-conditioned, f...   \n234   ['excellent 3 bed 3 bathroom, gym room /\\n ent...   \n332   ['AVAILABLE FROM March 15 or April 01 ,2023\\nB...   \n388   ['Built in 2015, this 4 bed/ 4 bath duplex hou...   \n440   ['RENT-TO-OWN, NO CREDIT CHECKS!!!! \\n\\nMOTIVA...   \n496   ['Enjoy the Beachy vibes in this breathtaking ...   \n508   ['Beautiful, luxury colonial style home fully ...   \n617   ['Lower Mission Gem. Spacious Property with tw...   \n725   ['SELLER FINANCING, NO CREDIT CHECKS!!!!\\n\\nCA...   \n780   ['• Specific Location: 1011 W Cordova Street, ...   \n969   ['This Classy style lakeview house with in-law...   \n1029  ['Big White condo for rent. Daily price $180-$...   \n1033  [\"LUXURY property in quiet, upscale Southwest ...   \n1085  ['Short term rental, check out The Nest!\\n\\nBe...   \n1103  ['West Kelowna Executive Living - breathtaking...   \n1212  ['* AVAILABLE: Feb 7, 2023 - May 31 2023\\n\\nWe...   \n1250  ['Full downstairs suite  Short term rental. $1...   \n1297  ['Welcome to Timber Valley!   \\n\\nOur fully fu...   \n1314  ['2mins walk from village, next to ski run(a t...   \n\n                                                  score  \\\n206                                                  []   \n234                                                  []   \n332                                                  []   \n388                                                  []   \n440                                                  []   \n496                                                  []   \n508                                                  []   \n617   ['Provided by Walk Score®︎', '19 out of 100', ...   \n725                                                  []   \n780                                                  []   \n969                                                  []   \n1029                                                 []   \n1033                                                 []   \n1085                                                 []   \n1103                                                 []   \n1212  ['Provided by Walk Score®︎', '69 out of 100', ...   \n1250                                                 []   \n1297  ['Provided by Walk Score®︎', '11 out of 100', ...   \n1314                                                 []   \n\n                                                    URL   type_from_name  \\\n206   ['https://www.facebook.com/marketplace/item/12...            House   \n234   ['https://www.facebook.com/marketplace/item/33...            House   \n332   ['https://www.facebook.com/marketplace/item/61...            House   \n388   ['https://www.facebook.com/marketplace/item/57...            House   \n440   ['https://www.facebook.com/marketplace/item/11...            House   \n496   ['https://www.facebook.com/marketplace/item/47...            House   \n508   ['https://www.facebook.com/marketplace/item/64...            House   \n617   ['https://www.facebook.com/marketplace/item/70...             None   \n725   ['https://www.facebook.com/marketplace/item/58...        Townhouse   \n780   ['https://www.facebook.com/marketplace/item/33...  Apartment/Condo   \n969   ['https://www.facebook.com/marketplace/item/16...            House   \n1029  ['https://www.facebook.com/marketplace/item/67...  Apartment/Condo   \n1033  ['https://www.facebook.com/marketplace/item/11...            House   \n1085  ['https://www.facebook.com/marketplace/item/12...            House   \n1103  ['https://www.facebook.com/marketplace/item/16...            House   \n1212  ['https://www.facebook.com/marketplace/item/29...  Apartment/Condo   \n1250  ['https://www.facebook.com/marketplace/item/12...             Room   \n1297  ['https://www.facebook.com/marketplace/item/14...             None   \n1314  ['https://www.facebook.com/marketplace/item/85...        Townhouse   \n\n     type_from_details             Type nbeds nbath              laundry  \\\n206              House            House     7     3      in-unit laundry   \n234              House            House     4     3  laundry in building   \n332              House            House     4     3      in-unit laundry   \n388              House            House     4     4      in-unit laundry   \n440              House            House     5     5        Not specified   \n496              House            House     6     2      in-unit laundry   \n508              House            House     4     3      in-unit laundry   \n617              House            House     7     4        Not specified   \n725          Townhouse        Townhouse     4     4        Not specified   \n780    Apartment/Condo  Apartment/Condo     2     2      in-unit laundry   \n969              House            House     6     3      in-unit laundry   \n1029   Apartment/Condo  Apartment/Condo     1     1        Not specified   \n1033             House            House     5     4      in-unit laundry   \n1085             House            House     2     2      in-unit laundry   \n1103             House            House     6     6      in-unit laundry   \n1212   Apartment/Condo  Apartment/Condo     2     2      in-unit laundry   \n1250   Apartment/Condo  Apartment/Condo     1     1        Not specified   \n1297   Apartment/Condo  Apartment/Condo     3     2        Not specified   \n1314         Townhouse        Townhouse     3     2      in-unit laundry   \n\n                heating            parking air_conditioner      furnished  \\\n206   heating available  parking available    ac available  Not specified   \n234     central heating     garage parking      central ac  Not specified   \n332     central heating     garage parking      central ac  Not specified   \n388     central heating     garage parking      central ac    unfurnished   \n440       Not specified      Not specified   Not specified  Not specified   \n496     central heating     garage parking      central ac  Not specified   \n508     central heating     garage parking      central ac    unfurnished   \n617    electric heating     street parking   Not specified    unfurnished   \n725       Not specified      Not specified   Not specified  Not specified   \n780     central heating     garage parking      central ac  Not specified   \n969     central heating     garage parking      central ac    unfurnished   \n1029      Not specified      Not specified   Not specified  Not specified   \n1033      Not specified     garage parking      central ac    unfurnished   \n1085    central heating  parking available      central ac  Not specified   \n1103   electric heating     street parking    ac available    unfurnished   \n1212    central heating  parking available      central ac  Not specified   \n1250      Not specified  parking available   Not specified    unfurnished   \n1297      Not specified      Not specified   Not specified  Not specified   \n1314        gas heating     garage parking   Not specified    unfurnished   \n\n           animal_friendly  Area  \n206                No pets  3200  \n234   dog and cat friendly  2928  \n332                No pets  4000  \n388                No pets  3300  \n440                No pets  5309  \n496                No pets   NaN  \n508           dog friendly  3000  \n617                No pets   NaN  \n725                No pets  2016  \n780           dog friendly  2000  \n969   dog and cat friendly  4000  \n1029               No pets   NaN  \n1033               No pets   NaN  \n1085          dog friendly  1100  \n1103               No pets  5800  \n1212  dog and cat friendly  1132  \n1250               No pets   NaN  \n1297               No pets   NaN  \n1314               No pets   NaN  ",
      "text/html": "<div>\n<style scoped>\n    .dataframe tbody tr th:only-of-type {\n        vertical-align: middle;\n    }\n\n    .dataframe tbody tr th {\n        vertical-align: top;\n    }\n\n    .dataframe thead th {\n        text-align: right;\n    }\n</style>\n<table border=\"1\" class=\"dataframe\">\n  <thead>\n    <tr style=\"text-align: right;\">\n      <th></th>\n      <th>name</th>\n      <th>price</th>\n      <th>address</th>\n      <th>unit_details</th>\n      <th>description</th>\n      <th>score</th>\n      <th>URL</th>\n      <th>type_from_name</th>\n      <th>type_from_details</th>\n      <th>Type</th>\n      <th>nbeds</th>\n      <th>nbath</th>\n      <th>laundry</th>\n      <th>heating</th>\n      <th>parking</th>\n      <th>air_conditioner</th>\n      <th>furnished</th>\n      <th>animal_friendly</th>\n      <th>Area</th>\n    </tr>\n  </thead>\n  <tbody>\n    <tr>\n      <th>206</th>\n      <td>7 beds 3 baths house</td>\n      <td>6000</td>\n      <td>kelowna, bc, v1x 2j5</td>\n      <td>['525 leathead rd, kelowna, bc', '3200 square ...</td>\n      <td>['Make this spacious, fully air-conditioned, f...</td>\n      <td>[]</td>\n      <td>['https://www.facebook.com/marketplace/item/12...</td>\n      <td>House</td>\n      <td>House</td>\n      <td>House</td>\n      <td>7</td>\n      <td>3</td>\n      <td>in-unit laundry</td>\n      <td>heating available</td>\n      <td>parking available</td>\n      <td>ac available</td>\n      <td>Not specified</td>\n      <td>No pets</td>\n      <td>3200</td>\n    </tr>\n    <tr>\n      <th>234</th>\n      <td>4 beds 3 baths house</td>\n      <td>5500</td>\n      <td>kelowna, bc, v1p 1a1</td>\n      <td>['784 lone pine dr, kelowna, bc', '2928 square...</td>\n      <td>['excellent 3 bed 3 bathroom, gym room /\\n ent...</td>\n      <td>[]</td>\n      <td>['https://www.facebook.com/marketplace/item/33...</td>\n      <td>House</td>\n      <td>House</td>\n      <td>House</td>\n      <td>4</td>\n      <td>3</td>\n      <td>laundry in building</td>\n      <td>central heating</td>\n      <td>garage parking</td>\n      <td>central ac</td>\n      <td>Not specified</td>\n      <td>dog and cat friendly</td>\n      <td>2928</td>\n    </tr>\n    <tr>\n      <th>332</th>\n      <td>4 beds 3 baths house</td>\n      <td>6600</td>\n      <td>west kelowna, bc, v1z 4b7</td>\n      <td>['1851 diamond view dr, west kelowna, bc', '40...</td>\n      <td>['AVAILABLE FROM March 15 or April 01 ,2023\\nB...</td>\n      <td>[]</td>\n      <td>['https://www.facebook.com/marketplace/item/61...</td>\n      <td>House</td>\n      <td>House</td>\n      <td>House</td>\n      <td>4</td>\n      <td>3</td>\n      <td>in-unit laundry</td>\n      <td>central heating</td>\n      <td>garage parking</td>\n      <td>central ac</td>\n      <td>Not specified</td>\n      <td>No pets</td>\n      <td>4000</td>\n    </tr>\n    <tr>\n      <th>388</th>\n      <td>4 beds 4 baths house</td>\n      <td>10800</td>\n      <td>kelowna, bc, v1y</td>\n      <td>['2250 abbott st, kelowna, bc', '3300 square m...</td>\n      <td>['Built in 2015, this 4 bed/ 4 bath duplex hou...</td>\n      <td>[]</td>\n      <td>['https://www.facebook.com/marketplace/item/57...</td>\n      <td>House</td>\n      <td>House</td>\n      <td>House</td>\n      <td>4</td>\n      <td>4</td>\n      <td>in-unit laundry</td>\n      <td>central heating</td>\n      <td>garage parking</td>\n      <td>central ac</td>\n      <td>unfurnished</td>\n      <td>No pets</td>\n      <td>3300</td>\n    </tr>\n    <tr>\n      <th>440</th>\n      <td>5 beds 5 baths house</td>\n      <td>12785</td>\n      <td>kelowna, bc, v1w 1s8</td>\n      <td>['689 balsam rd, kelowna, bc', '5309 square fe...</td>\n      <td>['RENT-TO-OWN, NO CREDIT CHECKS!!!! \\n\\nMOTIVA...</td>\n      <td>[]</td>\n      <td>['https://www.facebook.com/marketplace/item/11...</td>\n      <td>House</td>\n      <td>House</td>\n      <td>House</td>\n      <td>5</td>\n      <td>5</td>\n      <td>Not specified</td>\n      <td>Not specified</td>\n      <td>Not specified</td>\n      <td>Not specified</td>\n      <td>Not specified</td>\n      <td>No pets</td>\n      <td>5309</td>\n    </tr>\n    <tr>\n      <th>496</th>\n      <td>6 beds 2 baths house</td>\n      <td>7500</td>\n      <td>west kelowna, bc</td>\n      <td>['west kelowna, bc', 'listed over a week ago ·...</td>\n      <td>['Enjoy the Beachy vibes in this breathtaking ...</td>\n      <td>[]</td>\n      <td>['https://www.facebook.com/marketplace/item/47...</td>\n      <td>House</td>\n      <td>House</td>\n      <td>House</td>\n      <td>6</td>\n      <td>2</td>\n      <td>in-unit laundry</td>\n      <td>central heating</td>\n      <td>garage parking</td>\n      <td>central ac</td>\n      <td>Not specified</td>\n      <td>No pets</td>\n      <td>NaN</td>\n    </tr>\n    <tr>\n      <th>508</th>\n      <td>4 beds 3 baths house</td>\n      <td>7500</td>\n      <td>kelowna, bc, v1y 5r4</td>\n      <td>['277 mathison pl, kelowna, bc', '3000 square ...</td>\n      <td>['Beautiful, luxury colonial style home fully ...</td>\n      <td>[]</td>\n      <td>['https://www.facebook.com/marketplace/item/64...</td>\n      <td>House</td>\n      <td>House</td>\n      <td>House</td>\n      <td>4</td>\n      <td>3</td>\n      <td>in-unit laundry</td>\n      <td>central heating</td>\n      <td>garage parking</td>\n      <td>central ac</td>\n      <td>unfurnished</td>\n      <td>dog friendly</td>\n      <td>3000</td>\n    </tr>\n    <tr>\n      <th>617</th>\n      <td>spacious lower mission rancher for rent</td>\n      <td>5500</td>\n      <td>kelowna, bc, v1w 1t5</td>\n      <td>['4633 gordon dr, kelowna, bc', 'listed over a...</td>\n      <td>['Lower Mission Gem. Spacious Property with tw...</td>\n      <td>['Provided by Walk Score®︎', '19 out of 100', ...</td>\n      <td>['https://www.facebook.com/marketplace/item/70...</td>\n      <td>None</td>\n      <td>House</td>\n      <td>House</td>\n      <td>7</td>\n      <td>4</td>\n      <td>Not specified</td>\n      <td>electric heating</td>\n      <td>street parking</td>\n      <td>Not specified</td>\n      <td>unfurnished</td>\n      <td>No pets</td>\n      <td>NaN</td>\n    </tr>\n    <tr>\n      <th>725</th>\n      <td>4 beds 4 5 baths townhouse</td>\n      <td>6360</td>\n      <td>kelowna, bc</td>\n      <td>['kelowna, bc', '2016 square feet', 'listed ov...</td>\n      <td>['SELLER FINANCING, NO CREDIT CHECKS!!!!\\n\\nCA...</td>\n      <td>[]</td>\n      <td>['https://www.facebook.com/marketplace/item/58...</td>\n      <td>Townhouse</td>\n      <td>Townhouse</td>\n      <td>Townhouse</td>\n      <td>4</td>\n      <td>4</td>\n      <td>Not specified</td>\n      <td>Not specified</td>\n      <td>Not specified</td>\n      <td>Not specified</td>\n      <td>Not specified</td>\n      <td>No pets</td>\n      <td>2016</td>\n    </tr>\n    <tr>\n      <th>780</th>\n      <td>2 beds 2 baths apartment</td>\n      <td>12500</td>\n      <td>west kelowna, bc, v1z 1k5</td>\n      <td>['1011 cordova way, west kelowna, bc', '2000 s...</td>\n      <td>['• Specific Location: 1011 W Cordova Street, ...</td>\n      <td>[]</td>\n      <td>['https://www.facebook.com/marketplace/item/33...</td>\n      <td>Apartment/Condo</td>\n      <td>Apartment/Condo</td>\n      <td>Apartment/Condo</td>\n      <td>2</td>\n      <td>2</td>\n      <td>in-unit laundry</td>\n      <td>central heating</td>\n      <td>garage parking</td>\n      <td>central ac</td>\n      <td>Not specified</td>\n      <td>dog friendly</td>\n      <td>2000</td>\n    </tr>\n    <tr>\n      <th>969</th>\n      <td>lakeview whole house in upper mission</td>\n      <td>5100</td>\n      <td>kelowna, bc, v1w 4t6</td>\n      <td>['295 raven dr, kelowna, bc', '4000 square met...</td>\n      <td>['This Classy style lakeview house with in-law...</td>\n      <td>[]</td>\n      <td>['https://www.facebook.com/marketplace/item/16...</td>\n      <td>House</td>\n      <td>House</td>\n      <td>House</td>\n      <td>6</td>\n      <td>3</td>\n      <td>in-unit laundry</td>\n      <td>central heating</td>\n      <td>garage parking</td>\n      <td>central ac</td>\n      <td>unfurnished</td>\n      <td>dog and cat friendly</td>\n      <td>4000</td>\n    </tr>\n    <tr>\n      <th>1029</th>\n      <td>1 bed 1 bath apartment</td>\n      <td>3900</td>\n      <td>kootenay boundary, bc, v0h</td>\n      <td>['7420 porcupine rd, kootenay boundary, bc', '...</td>\n      <td>['Big White condo for rent. Daily price $180-$...</td>\n      <td>[]</td>\n      <td>['https://www.facebook.com/marketplace/item/67...</td>\n      <td>Apartment/Condo</td>\n      <td>Apartment/Condo</td>\n      <td>Apartment/Condo</td>\n      <td>1</td>\n      <td>1</td>\n      <td>Not specified</td>\n      <td>Not specified</td>\n      <td>Not specified</td>\n      <td>Not specified</td>\n      <td>Not specified</td>\n      <td>No pets</td>\n      <td>NaN</td>\n    </tr>\n    <tr>\n      <th>1033</th>\n      <td>5 beds 4 5 baths house</td>\n      <td>10000</td>\n      <td>kelowna, bc, v1w 5m6</td>\n      <td>['1030 ledgeview ct, kelowna, bc', 'listed ove...</td>\n      <td>[\"LUXURY property in quiet, upscale Southwest ...</td>\n      <td>[]</td>\n      <td>['https://www.facebook.com/marketplace/item/11...</td>\n      <td>House</td>\n      <td>House</td>\n      <td>House</td>\n      <td>5</td>\n      <td>4</td>\n      <td>in-unit laundry</td>\n      <td>Not specified</td>\n      <td>garage parking</td>\n      <td>central ac</td>\n      <td>unfurnished</td>\n      <td>No pets</td>\n      <td>NaN</td>\n    </tr>\n    <tr>\n      <th>1085</th>\n      <td>2 beds 2 baths house</td>\n      <td>12345</td>\n      <td>central okanagan, bc, v1z 3r8</td>\n      <td>['la casa westside road kelowna, central okana...</td>\n      <td>['Short term rental, check out The Nest!\\n\\nBe...</td>\n      <td>[]</td>\n      <td>['https://www.facebook.com/marketplace/item/12...</td>\n      <td>House</td>\n      <td>House</td>\n      <td>House</td>\n      <td>2</td>\n      <td>2</td>\n      <td>in-unit laundry</td>\n      <td>central heating</td>\n      <td>parking available</td>\n      <td>central ac</td>\n      <td>Not specified</td>\n      <td>dog friendly</td>\n      <td>1100</td>\n    </tr>\n    <tr>\n      <th>1103</th>\n      <td>6 beds 6 baths house</td>\n      <td>8000</td>\n      <td>west kelowna, bc</td>\n      <td>['west kelowna, bc', '5800 square meters', 'li...</td>\n      <td>['West Kelowna Executive Living - breathtaking...</td>\n      <td>[]</td>\n      <td>['https://www.facebook.com/marketplace/item/16...</td>\n      <td>House</td>\n      <td>House</td>\n      <td>House</td>\n      <td>6</td>\n      <td>6</td>\n      <td>in-unit laundry</td>\n      <td>electric heating</td>\n      <td>street parking</td>\n      <td>ac available</td>\n      <td>unfurnished</td>\n      <td>No pets</td>\n      <td>5800</td>\n    </tr>\n    <tr>\n      <th>1212</th>\n      <td>2 beds 2 baths apartment</td>\n      <td>3900</td>\n      <td>kelowna, bc, v1y 0j6</td>\n      <td>['1232 ellis st, kelowna, bc', '1132 square fe...</td>\n      <td>['* AVAILABLE: Feb 7, 2023 - May 31 2023\\n\\nWe...</td>\n      <td>['Provided by Walk Score®︎', '69 out of 100', ...</td>\n      <td>['https://www.facebook.com/marketplace/item/29...</td>\n      <td>Apartment/Condo</td>\n      <td>Apartment/Condo</td>\n      <td>Apartment/Condo</td>\n      <td>2</td>\n      <td>2</td>\n      <td>in-unit laundry</td>\n      <td>central heating</td>\n      <td>parking available</td>\n      <td>central ac</td>\n      <td>Not specified</td>\n      <td>dog and cat friendly</td>\n      <td>1132</td>\n    </tr>\n    <tr>\n      <th>1250</th>\n      <td>private room for rent</td>\n      <td>5250</td>\n      <td>vernon, bc, v1h 1n8</td>\n      <td>['6644 jade rd, vernon, bc', 'listed over a we...</td>\n      <td>['Full downstairs suite  Short term rental. $1...</td>\n      <td>[]</td>\n      <td>['https://www.facebook.com/marketplace/item/12...</td>\n      <td>Room</td>\n      <td>Apartment/Condo</td>\n      <td>Apartment/Condo</td>\n      <td>1</td>\n      <td>1</td>\n      <td>Not specified</td>\n      <td>Not specified</td>\n      <td>parking available</td>\n      <td>Not specified</td>\n      <td>unfurnished</td>\n      <td>No pets</td>\n      <td>NaN</td>\n    </tr>\n    <tr>\n      <th>1297</th>\n      <td>timber valley at big white ski resort</td>\n      <td>12345</td>\n      <td>kootenay boundary, bc</td>\n      <td>['kootenay boundary, bc', 'listed over a week ...</td>\n      <td>['Welcome to Timber Valley!   \\n\\nOur fully fu...</td>\n      <td>['Provided by Walk Score®︎', '11 out of 100', ...</td>\n      <td>['https://www.facebook.com/marketplace/item/14...</td>\n      <td>None</td>\n      <td>Apartment/Condo</td>\n      <td>Apartment/Condo</td>\n      <td>3</td>\n      <td>2</td>\n      <td>Not specified</td>\n      <td>Not specified</td>\n      <td>Not specified</td>\n      <td>Not specified</td>\n      <td>Not specified</td>\n      <td>No pets</td>\n      <td>NaN</td>\n    </tr>\n    <tr>\n      <th>1314</th>\n      <td>3 beds 2 baths townhouse</td>\n      <td>12345</td>\n      <td>kootenay boundary, bc, v0h</td>\n      <td>['big white rd, kootenay boundary, bc', 'liste...</td>\n      <td>['2mins walk from village, next to ski run(a t...</td>\n      <td>[]</td>\n      <td>['https://www.facebook.com/marketplace/item/85...</td>\n      <td>Townhouse</td>\n      <td>Townhouse</td>\n      <td>Townhouse</td>\n      <td>3</td>\n      <td>2</td>\n      <td>in-unit laundry</td>\n      <td>gas heating</td>\n      <td>garage parking</td>\n      <td>Not specified</td>\n      <td>unfurnished</td>\n      <td>No pets</td>\n      <td>NaN</td>\n    </tr>\n  </tbody>\n</table>\n</div>"
     },
     "execution_count": 61,
     "metadata": {},
     "output_type": "execute_result"
    }
   ],
   "source": [
    "grouped = df.groupby('Type')\n",
    "# Group the df by 'Type' column, so i can check for IQR in all types\n",
    "\n",
    "q1 = grouped[\"price\"].transform(lambda x: x.quantile(0.25))\n",
    "q3 = grouped[\"price\"].transform(lambda x: x.quantile(0.75))\n",
    "\n",
    "iqr = q3 - q1\n",
    "\n",
    "upper_bound = q3 + (1.5 * iqr)\n",
    "lower_bound = q1 - (1.5 * iqr)\n",
    "# Calculate the upper and lower bounds using the interquartile range\n",
    "\n",
    "outliers = df[df[\"price\"].gt(upper_bound) | df[\"price\"].lt(lower_bound)]\n",
    "\n",
    "outliers\n",
    "# print all outliers"
   ],
   "metadata": {
    "collapsed": false,
    "pycharm": {
     "name": "#%%\n"
    }
   }
  },
  {
   "cell_type": "code",
   "execution_count": 62,
   "outputs": [],
   "source": [
    "#1250 - short term rent -> delete\n",
    "df = df.drop(labels=[1250], axis=0)"
   ],
   "metadata": {
    "collapsed": false,
    "pycharm": {
     "name": "#%%\n"
    }
   }
  },
  {
   "cell_type": "code",
   "execution_count": 63,
   "outputs": [
    {
     "data": {
      "text/plain": "                                                   name  price  \\\n1                              3 beds 3 baths townhouse   3300   \n2                                   2 beds 1 bath house   2000   \n3                                1 bed 1 bath apartment   1250   \n4       1 bedroom available in 2 bedroom basement suite    650   \n5                                   3 beds 1 bath house   2000   \n...                                                 ...    ...   \n1335                  one bedroom in 3 bed 3 bath condo   1000   \n1338     come stay with us pet friendly kelowna cottage   1111   \n1342                 room for rent available in rutland    850   \n1345  room for rent for girls in rutland dm for more...    900   \n1349                              private room for rent   1100   \n\n                            address  \\\n1              kelowna, bc, v1y 5t5   \n2             west kelowna, bc, v4t   \n3                  kelowna, bc, v1v   \n4                  west kelowna, bc   \n5              kelowna, bc, v1v 1r1   \n...                             ...   \n1335           kelowna, bc, v1v 0a5   \n1338  central okanagan, bc, v1z 3r8   \n1342                    kelowna, bc   \n1345                    kelowna, bc   \n1349               west kelowna, bc   \n\n                                           unit_details  \\\n1     ['1275 brookside ave, kelowna, bc', 'listed ov...   \n2     ['goldie rd, west kelowna, bc', '914 square fe...   \n3     ['academy way, kelowna, bc', 'listed over a we...   \n4     ['west kelowna, bc', '1000 square meters', 'li...   \n5     ['kelowna, bc, canada, kelowna, bc', 'listed a...   \n...                                                 ...   \n1335  ['775 academy way, kelowna, bc', 'listed over ...   \n1338  ['6823 madrid way, central okanagan, bc', 'dog...   \n1342  ['condition', 'used - like new', 'kelowna, bc'...   \n1345  ['kelowna, bc', 'listed over a week ago', 'hou...   \n1349  ['west kelowna, bc', '1800 square meters', 'li...   \n\n                                            description  \\\n1     ['Kelowna 3 bed 3 bath townhome for rent\\n\\nWi...   \n2     ['REDUCED. Stunning lake and city views are in...   \n3     ['Veda Student Living Studio Apartment Sublet ...   \n4     ['1 bedroom available in 2 bedroom basement su...   \n5     [\"Great location 3 bedroom, 1 bathroom home. N...   \n...                                                 ...   \n1335  ['Sublet available from May 1st 2022- August 3...   \n1338  ['We are Christmas ready!!\\n\\nWe have availabi...   \n1342  ['1 room available in a shared house for rent ...   \n1345  ['Dm for more info! Room available for girls a...   \n1349  [\"Welcome to the Luxury Lakeview Private Suite...   \n\n                                                  score  \\\n1                                                    []   \n2                                                    []   \n3                                                    []   \n4     ['Provided by Walk Score®︎', '63 out of 100', ...   \n5                                                    []   \n...                                                 ...   \n1335  ['Provided by Walk Score®︎', '3 out of 100', '...   \n1338                                                 []   \n1342                                                 []   \n1345  ['Provided by Walk Score®︎', '60 out of 100', ...   \n1349                                                 []   \n\n                                                    URL   type_from_name  \\\n1     ['https://www.facebook.com/marketplace/item/11...        Townhouse   \n2     ['https://www.facebook.com/marketplace/item/13...            House   \n3     ['https://www.facebook.com/marketplace/item/15...  Apartment/Condo   \n4     ['https://www.facebook.com/marketplace/item/36...             Room   \n5     ['https://www.facebook.com/marketplace/item/60...            House   \n...                                                 ...              ...   \n1335  ['https://www.facebook.com/marketplace/item/80...             Room   \n1338  ['https://www.facebook.com/marketplace/item/22...             None   \n1342  ['https://www.facebook.com/marketplace/item/69...             Room   \n1345  ['https://www.facebook.com/marketplace/item/81...             Room   \n1349  ['https://www.facebook.com/marketplace/item/71...             Room   \n\n     type_from_details             Type nbeds nbath              laundry  \\\n1            Townhouse        Townhouse     3     3      in-unit laundry   \n2                House            House     2     1      in-unit laundry   \n3      Apartment/Condo  Apartment/Condo     1     1  laundry in building   \n4                House            House     2     1      in-unit laundry   \n5                House            House     3     1        Not specified   \n...                ...              ...   ...   ...                  ...   \n1335   Apartment/Condo  Apartment/Condo     3     3        Not specified   \n1338             House            House     3     2        Not specified   \n1342              None             Room     1     1        Not specified   \n1345             House            House     1     1        Not specified   \n1349             House            House     1     1      in-unit laundry   \n\n                heating            parking air_conditioner      furnished  \\\n1           gas heating     garage parking      central ac    unfurnished   \n2         Not specified      Not specified   Not specified  Not specified   \n3         Not specified  parking available   Not specified    unfurnished   \n4       central heating     street parking   Not specified    unfurnished   \n5         Not specified      Not specified   Not specified  Not specified   \n...                 ...                ...             ...            ...   \n1335      Not specified      Not specified   Not specified    unfurnished   \n1338      Not specified      Not specified   Not specified    unfurnished   \n1342      Not specified      Not specified   Not specified  Not specified   \n1345      Not specified      Not specified   Not specified    unfurnished   \n1349  heating available  parking available      central ac      furnished   \n\n           animal_friendly  Area  \n1                  No pets   NaN  \n2     dog and cat friendly   914  \n3                  No pets   NaN  \n4                  No pets  1000  \n5                  No pets   NaN  \n...                    ...   ...  \n1335               No pets   NaN  \n1338          dog friendly   NaN  \n1342               No pets   NaN  \n1345               No pets   NaN  \n1349               No pets  1800  \n\n[1277 rows x 19 columns]",
      "text/html": "<div>\n<style scoped>\n    .dataframe tbody tr th:only-of-type {\n        vertical-align: middle;\n    }\n\n    .dataframe tbody tr th {\n        vertical-align: top;\n    }\n\n    .dataframe thead th {\n        text-align: right;\n    }\n</style>\n<table border=\"1\" class=\"dataframe\">\n  <thead>\n    <tr style=\"text-align: right;\">\n      <th></th>\n      <th>name</th>\n      <th>price</th>\n      <th>address</th>\n      <th>unit_details</th>\n      <th>description</th>\n      <th>score</th>\n      <th>URL</th>\n      <th>type_from_name</th>\n      <th>type_from_details</th>\n      <th>Type</th>\n      <th>nbeds</th>\n      <th>nbath</th>\n      <th>laundry</th>\n      <th>heating</th>\n      <th>parking</th>\n      <th>air_conditioner</th>\n      <th>furnished</th>\n      <th>animal_friendly</th>\n      <th>Area</th>\n    </tr>\n  </thead>\n  <tbody>\n    <tr>\n      <th>1</th>\n      <td>3 beds 3 baths townhouse</td>\n      <td>3300</td>\n      <td>kelowna, bc, v1y 5t5</td>\n      <td>['1275 brookside ave, kelowna, bc', 'listed ov...</td>\n      <td>['Kelowna 3 bed 3 bath townhome for rent\\n\\nWi...</td>\n      <td>[]</td>\n      <td>['https://www.facebook.com/marketplace/item/11...</td>\n      <td>Townhouse</td>\n      <td>Townhouse</td>\n      <td>Townhouse</td>\n      <td>3</td>\n      <td>3</td>\n      <td>in-unit laundry</td>\n      <td>gas heating</td>\n      <td>garage parking</td>\n      <td>central ac</td>\n      <td>unfurnished</td>\n      <td>No pets</td>\n      <td>NaN</td>\n    </tr>\n    <tr>\n      <th>2</th>\n      <td>2 beds 1 bath house</td>\n      <td>2000</td>\n      <td>west kelowna, bc, v4t</td>\n      <td>['goldie rd, west kelowna, bc', '914 square fe...</td>\n      <td>['REDUCED. Stunning lake and city views are in...</td>\n      <td>[]</td>\n      <td>['https://www.facebook.com/marketplace/item/13...</td>\n      <td>House</td>\n      <td>House</td>\n      <td>House</td>\n      <td>2</td>\n      <td>1</td>\n      <td>in-unit laundry</td>\n      <td>Not specified</td>\n      <td>Not specified</td>\n      <td>Not specified</td>\n      <td>Not specified</td>\n      <td>dog and cat friendly</td>\n      <td>914</td>\n    </tr>\n    <tr>\n      <th>3</th>\n      <td>1 bed 1 bath apartment</td>\n      <td>1250</td>\n      <td>kelowna, bc, v1v</td>\n      <td>['academy way, kelowna, bc', 'listed over a we...</td>\n      <td>['Veda Student Living Studio Apartment Sublet ...</td>\n      <td>[]</td>\n      <td>['https://www.facebook.com/marketplace/item/15...</td>\n      <td>Apartment/Condo</td>\n      <td>Apartment/Condo</td>\n      <td>Apartment/Condo</td>\n      <td>1</td>\n      <td>1</td>\n      <td>laundry in building</td>\n      <td>Not specified</td>\n      <td>parking available</td>\n      <td>Not specified</td>\n      <td>unfurnished</td>\n      <td>No pets</td>\n      <td>NaN</td>\n    </tr>\n    <tr>\n      <th>4</th>\n      <td>1 bedroom available in 2 bedroom basement suite</td>\n      <td>650</td>\n      <td>west kelowna, bc</td>\n      <td>['west kelowna, bc', '1000 square meters', 'li...</td>\n      <td>['1 bedroom available in 2 bedroom basement su...</td>\n      <td>['Provided by Walk Score®︎', '63 out of 100', ...</td>\n      <td>['https://www.facebook.com/marketplace/item/36...</td>\n      <td>Room</td>\n      <td>House</td>\n      <td>House</td>\n      <td>2</td>\n      <td>1</td>\n      <td>in-unit laundry</td>\n      <td>central heating</td>\n      <td>street parking</td>\n      <td>Not specified</td>\n      <td>unfurnished</td>\n      <td>No pets</td>\n      <td>1000</td>\n    </tr>\n    <tr>\n      <th>5</th>\n      <td>3 beds 1 bath house</td>\n      <td>2000</td>\n      <td>kelowna, bc, v1v 1r1</td>\n      <td>['kelowna, bc, canada, kelowna, bc', 'listed a...</td>\n      <td>[\"Great location 3 bedroom, 1 bathroom home. N...</td>\n      <td>[]</td>\n      <td>['https://www.facebook.com/marketplace/item/60...</td>\n      <td>House</td>\n      <td>House</td>\n      <td>House</td>\n      <td>3</td>\n      <td>1</td>\n      <td>Not specified</td>\n      <td>Not specified</td>\n      <td>Not specified</td>\n      <td>Not specified</td>\n      <td>Not specified</td>\n      <td>No pets</td>\n      <td>NaN</td>\n    </tr>\n    <tr>\n      <th>...</th>\n      <td>...</td>\n      <td>...</td>\n      <td>...</td>\n      <td>...</td>\n      <td>...</td>\n      <td>...</td>\n      <td>...</td>\n      <td>...</td>\n      <td>...</td>\n      <td>...</td>\n      <td>...</td>\n      <td>...</td>\n      <td>...</td>\n      <td>...</td>\n      <td>...</td>\n      <td>...</td>\n      <td>...</td>\n      <td>...</td>\n      <td>...</td>\n    </tr>\n    <tr>\n      <th>1335</th>\n      <td>one bedroom in 3 bed 3 bath condo</td>\n      <td>1000</td>\n      <td>kelowna, bc, v1v 0a5</td>\n      <td>['775 academy way, kelowna, bc', 'listed over ...</td>\n      <td>['Sublet available from May 1st 2022- August 3...</td>\n      <td>['Provided by Walk Score®︎', '3 out of 100', '...</td>\n      <td>['https://www.facebook.com/marketplace/item/80...</td>\n      <td>Room</td>\n      <td>Apartment/Condo</td>\n      <td>Apartment/Condo</td>\n      <td>3</td>\n      <td>3</td>\n      <td>Not specified</td>\n      <td>Not specified</td>\n      <td>Not specified</td>\n      <td>Not specified</td>\n      <td>unfurnished</td>\n      <td>No pets</td>\n      <td>NaN</td>\n    </tr>\n    <tr>\n      <th>1338</th>\n      <td>come stay with us pet friendly kelowna cottage</td>\n      <td>1111</td>\n      <td>central okanagan, bc, v1z 3r8</td>\n      <td>['6823 madrid way, central okanagan, bc', 'dog...</td>\n      <td>['We are Christmas ready!!\\n\\nWe have availabi...</td>\n      <td>[]</td>\n      <td>['https://www.facebook.com/marketplace/item/22...</td>\n      <td>None</td>\n      <td>House</td>\n      <td>House</td>\n      <td>3</td>\n      <td>2</td>\n      <td>Not specified</td>\n      <td>Not specified</td>\n      <td>Not specified</td>\n      <td>Not specified</td>\n      <td>unfurnished</td>\n      <td>dog friendly</td>\n      <td>NaN</td>\n    </tr>\n    <tr>\n      <th>1342</th>\n      <td>room for rent available in rutland</td>\n      <td>850</td>\n      <td>kelowna, bc</td>\n      <td>['condition', 'used - like new', 'kelowna, bc'...</td>\n      <td>['1 room available in a shared house for rent ...</td>\n      <td>[]</td>\n      <td>['https://www.facebook.com/marketplace/item/69...</td>\n      <td>Room</td>\n      <td>None</td>\n      <td>Room</td>\n      <td>1</td>\n      <td>1</td>\n      <td>Not specified</td>\n      <td>Not specified</td>\n      <td>Not specified</td>\n      <td>Not specified</td>\n      <td>Not specified</td>\n      <td>No pets</td>\n      <td>NaN</td>\n    </tr>\n    <tr>\n      <th>1345</th>\n      <td>room for rent for girls in rutland dm for more...</td>\n      <td>900</td>\n      <td>kelowna, bc</td>\n      <td>['kelowna, bc', 'listed over a week ago', 'hou...</td>\n      <td>['Dm for more info! Room available for girls a...</td>\n      <td>['Provided by Walk Score®︎', '60 out of 100', ...</td>\n      <td>['https://www.facebook.com/marketplace/item/81...</td>\n      <td>Room</td>\n      <td>House</td>\n      <td>House</td>\n      <td>1</td>\n      <td>1</td>\n      <td>Not specified</td>\n      <td>Not specified</td>\n      <td>Not specified</td>\n      <td>Not specified</td>\n      <td>unfurnished</td>\n      <td>No pets</td>\n      <td>NaN</td>\n    </tr>\n    <tr>\n      <th>1349</th>\n      <td>private room for rent</td>\n      <td>1100</td>\n      <td>west kelowna, bc</td>\n      <td>['west kelowna, bc', '1800 square meters', 'li...</td>\n      <td>[\"Welcome to the Luxury Lakeview Private Suite...</td>\n      <td>[]</td>\n      <td>['https://www.facebook.com/marketplace/item/71...</td>\n      <td>Room</td>\n      <td>House</td>\n      <td>House</td>\n      <td>1</td>\n      <td>1</td>\n      <td>in-unit laundry</td>\n      <td>heating available</td>\n      <td>parking available</td>\n      <td>central ac</td>\n      <td>furnished</td>\n      <td>No pets</td>\n      <td>1800</td>\n    </tr>\n  </tbody>\n</table>\n<p>1277 rows × 19 columns</p>\n</div>"
     },
     "execution_count": 63,
     "metadata": {},
     "output_type": "execute_result"
    }
   ],
   "source": [
    "df"
   ],
   "metadata": {
    "collapsed": false,
    "pycharm": {
     "name": "#%%\n"
    }
   }
  },
  {
   "cell_type": "markdown",
   "source": [
    "## Area extraction"
   ],
   "metadata": {
    "collapsed": false,
    "pycharm": {
     "name": "#%% md\n"
    }
   }
  },
  {
   "cell_type": "code",
   "execution_count": 64,
   "outputs": [
    {
     "data": {
      "text/plain": "                                                   name  price  \\\n1                              3 beds 3 baths townhouse   3300   \n2                                   2 beds 1 bath house   2000   \n3                                1 bed 1 bath apartment   1250   \n4       1 bedroom available in 2 bedroom basement suite    650   \n5                                   3 beds 1 bath house   2000   \n...                                                 ...    ...   \n1335                  one bedroom in 3 bed 3 bath condo   1000   \n1338     come stay with us pet friendly kelowna cottage   1111   \n1342                 room for rent available in rutland    850   \n1345  room for rent for girls in rutland dm for more...    900   \n1349                              private room for rent   1100   \n\n                            address  \\\n1              kelowna, bc, v1y 5t5   \n2             west kelowna, bc, v4t   \n3                  kelowna, bc, v1v   \n4                  west kelowna, bc   \n5              kelowna, bc, v1v 1r1   \n...                             ...   \n1335           kelowna, bc, v1v 0a5   \n1338  central okanagan, bc, v1z 3r8   \n1342                    kelowna, bc   \n1345                    kelowna, bc   \n1349               west kelowna, bc   \n\n                                           unit_details  \\\n1     ['1275 brookside ave, kelowna, bc', 'listed ov...   \n2     ['goldie rd, west kelowna, bc', '914 square fe...   \n3     ['academy way, kelowna, bc', 'listed over a we...   \n4     ['west kelowna, bc', '1000 square meters', 'li...   \n5     ['kelowna, bc, canada, kelowna, bc', 'listed a...   \n...                                                 ...   \n1335  ['775 academy way, kelowna, bc', 'listed over ...   \n1338  ['6823 madrid way, central okanagan, bc', 'dog...   \n1342  ['condition', 'used - like new', 'kelowna, bc'...   \n1345  ['kelowna, bc', 'listed over a week ago', 'hou...   \n1349  ['west kelowna, bc', '1800 square meters', 'li...   \n\n                                            description  \\\n1     ['Kelowna 3 bed 3 bath townhome for rent\\n\\nWi...   \n2     ['REDUCED. Stunning lake and city views are in...   \n3     ['Veda Student Living Studio Apartment Sublet ...   \n4     ['1 bedroom available in 2 bedroom basement su...   \n5     [\"Great location 3 bedroom, 1 bathroom home. N...   \n...                                                 ...   \n1335  ['Sublet available from May 1st 2022- August 3...   \n1338  ['We are Christmas ready!!\\n\\nWe have availabi...   \n1342  ['1 room available in a shared house for rent ...   \n1345  ['Dm for more info! Room available for girls a...   \n1349  [\"Welcome to the Luxury Lakeview Private Suite...   \n\n                                                  score  \\\n1                                                    []   \n2                                                    []   \n3                                                    []   \n4     ['Provided by Walk Score®︎', '63 out of 100', ...   \n5                                                    []   \n...                                                 ...   \n1335  ['Provided by Walk Score®︎', '3 out of 100', '...   \n1338                                                 []   \n1342                                                 []   \n1345  ['Provided by Walk Score®︎', '60 out of 100', ...   \n1349                                                 []   \n\n                                                    URL   type_from_name  \\\n1     ['https://www.facebook.com/marketplace/item/11...        Townhouse   \n2     ['https://www.facebook.com/marketplace/item/13...            House   \n3     ['https://www.facebook.com/marketplace/item/15...  Apartment/Condo   \n4     ['https://www.facebook.com/marketplace/item/36...             Room   \n5     ['https://www.facebook.com/marketplace/item/60...            House   \n...                                                 ...              ...   \n1335  ['https://www.facebook.com/marketplace/item/80...             Room   \n1338  ['https://www.facebook.com/marketplace/item/22...             None   \n1342  ['https://www.facebook.com/marketplace/item/69...             Room   \n1345  ['https://www.facebook.com/marketplace/item/81...             Room   \n1349  ['https://www.facebook.com/marketplace/item/71...             Room   \n\n     type_from_details             Type nbeds nbath              laundry  \\\n1            Townhouse        Townhouse     3     3      in-unit laundry   \n2                House            House     2     1      in-unit laundry   \n3      Apartment/Condo  Apartment/Condo     1     1  laundry in building   \n4                House            House     2     1      in-unit laundry   \n5                House            House     3     1        Not specified   \n...                ...              ...   ...   ...                  ...   \n1335   Apartment/Condo  Apartment/Condo     3     3        Not specified   \n1338             House            House     3     2        Not specified   \n1342              None             Room     1     1        Not specified   \n1345             House            House     1     1        Not specified   \n1349             House            House     1     1      in-unit laundry   \n\n                heating            parking air_conditioner      furnished  \\\n1           gas heating     garage parking      central ac    unfurnished   \n2         Not specified      Not specified   Not specified  Not specified   \n3         Not specified  parking available   Not specified    unfurnished   \n4       central heating     street parking   Not specified    unfurnished   \n5         Not specified      Not specified   Not specified  Not specified   \n...                 ...                ...             ...            ...   \n1335      Not specified      Not specified   Not specified    unfurnished   \n1338      Not specified      Not specified   Not specified    unfurnished   \n1342      Not specified      Not specified   Not specified  Not specified   \n1345      Not specified      Not specified   Not specified    unfurnished   \n1349  heating available  parking available      central ac      furnished   \n\n           animal_friendly    Area  \n1                  No pets  1371.0  \n2     dog and cat friendly   914.0  \n3                  No pets   932.5  \n4                  No pets  1000.0  \n5                  No pets  1200.0  \n...                    ...     ...  \n1335               No pets   932.5  \n1338          dog friendly  1200.0  \n1342               No pets  1100.0  \n1345               No pets  1200.0  \n1349               No pets  1800.0  \n\n[1277 rows x 19 columns]",
      "text/html": "<div>\n<style scoped>\n    .dataframe tbody tr th:only-of-type {\n        vertical-align: middle;\n    }\n\n    .dataframe tbody tr th {\n        vertical-align: top;\n    }\n\n    .dataframe thead th {\n        text-align: right;\n    }\n</style>\n<table border=\"1\" class=\"dataframe\">\n  <thead>\n    <tr style=\"text-align: right;\">\n      <th></th>\n      <th>name</th>\n      <th>price</th>\n      <th>address</th>\n      <th>unit_details</th>\n      <th>description</th>\n      <th>score</th>\n      <th>URL</th>\n      <th>type_from_name</th>\n      <th>type_from_details</th>\n      <th>Type</th>\n      <th>nbeds</th>\n      <th>nbath</th>\n      <th>laundry</th>\n      <th>heating</th>\n      <th>parking</th>\n      <th>air_conditioner</th>\n      <th>furnished</th>\n      <th>animal_friendly</th>\n      <th>Area</th>\n    </tr>\n  </thead>\n  <tbody>\n    <tr>\n      <th>1</th>\n      <td>3 beds 3 baths townhouse</td>\n      <td>3300</td>\n      <td>kelowna, bc, v1y 5t5</td>\n      <td>['1275 brookside ave, kelowna, bc', 'listed ov...</td>\n      <td>['Kelowna 3 bed 3 bath townhome for rent\\n\\nWi...</td>\n      <td>[]</td>\n      <td>['https://www.facebook.com/marketplace/item/11...</td>\n      <td>Townhouse</td>\n      <td>Townhouse</td>\n      <td>Townhouse</td>\n      <td>3</td>\n      <td>3</td>\n      <td>in-unit laundry</td>\n      <td>gas heating</td>\n      <td>garage parking</td>\n      <td>central ac</td>\n      <td>unfurnished</td>\n      <td>No pets</td>\n      <td>1371.0</td>\n    </tr>\n    <tr>\n      <th>2</th>\n      <td>2 beds 1 bath house</td>\n      <td>2000</td>\n      <td>west kelowna, bc, v4t</td>\n      <td>['goldie rd, west kelowna, bc', '914 square fe...</td>\n      <td>['REDUCED. Stunning lake and city views are in...</td>\n      <td>[]</td>\n      <td>['https://www.facebook.com/marketplace/item/13...</td>\n      <td>House</td>\n      <td>House</td>\n      <td>House</td>\n      <td>2</td>\n      <td>1</td>\n      <td>in-unit laundry</td>\n      <td>Not specified</td>\n      <td>Not specified</td>\n      <td>Not specified</td>\n      <td>Not specified</td>\n      <td>dog and cat friendly</td>\n      <td>914.0</td>\n    </tr>\n    <tr>\n      <th>3</th>\n      <td>1 bed 1 bath apartment</td>\n      <td>1250</td>\n      <td>kelowna, bc, v1v</td>\n      <td>['academy way, kelowna, bc', 'listed over a we...</td>\n      <td>['Veda Student Living Studio Apartment Sublet ...</td>\n      <td>[]</td>\n      <td>['https://www.facebook.com/marketplace/item/15...</td>\n      <td>Apartment/Condo</td>\n      <td>Apartment/Condo</td>\n      <td>Apartment/Condo</td>\n      <td>1</td>\n      <td>1</td>\n      <td>laundry in building</td>\n      <td>Not specified</td>\n      <td>parking available</td>\n      <td>Not specified</td>\n      <td>unfurnished</td>\n      <td>No pets</td>\n      <td>932.5</td>\n    </tr>\n    <tr>\n      <th>4</th>\n      <td>1 bedroom available in 2 bedroom basement suite</td>\n      <td>650</td>\n      <td>west kelowna, bc</td>\n      <td>['west kelowna, bc', '1000 square meters', 'li...</td>\n      <td>['1 bedroom available in 2 bedroom basement su...</td>\n      <td>['Provided by Walk Score®︎', '63 out of 100', ...</td>\n      <td>['https://www.facebook.com/marketplace/item/36...</td>\n      <td>Room</td>\n      <td>House</td>\n      <td>House</td>\n      <td>2</td>\n      <td>1</td>\n      <td>in-unit laundry</td>\n      <td>central heating</td>\n      <td>street parking</td>\n      <td>Not specified</td>\n      <td>unfurnished</td>\n      <td>No pets</td>\n      <td>1000.0</td>\n    </tr>\n    <tr>\n      <th>5</th>\n      <td>3 beds 1 bath house</td>\n      <td>2000</td>\n      <td>kelowna, bc, v1v 1r1</td>\n      <td>['kelowna, bc, canada, kelowna, bc', 'listed a...</td>\n      <td>[\"Great location 3 bedroom, 1 bathroom home. N...</td>\n      <td>[]</td>\n      <td>['https://www.facebook.com/marketplace/item/60...</td>\n      <td>House</td>\n      <td>House</td>\n      <td>House</td>\n      <td>3</td>\n      <td>1</td>\n      <td>Not specified</td>\n      <td>Not specified</td>\n      <td>Not specified</td>\n      <td>Not specified</td>\n      <td>Not specified</td>\n      <td>No pets</td>\n      <td>1200.0</td>\n    </tr>\n    <tr>\n      <th>...</th>\n      <td>...</td>\n      <td>...</td>\n      <td>...</td>\n      <td>...</td>\n      <td>...</td>\n      <td>...</td>\n      <td>...</td>\n      <td>...</td>\n      <td>...</td>\n      <td>...</td>\n      <td>...</td>\n      <td>...</td>\n      <td>...</td>\n      <td>...</td>\n      <td>...</td>\n      <td>...</td>\n      <td>...</td>\n      <td>...</td>\n      <td>...</td>\n    </tr>\n    <tr>\n      <th>1335</th>\n      <td>one bedroom in 3 bed 3 bath condo</td>\n      <td>1000</td>\n      <td>kelowna, bc, v1v 0a5</td>\n      <td>['775 academy way, kelowna, bc', 'listed over ...</td>\n      <td>['Sublet available from May 1st 2022- August 3...</td>\n      <td>['Provided by Walk Score®︎', '3 out of 100', '...</td>\n      <td>['https://www.facebook.com/marketplace/item/80...</td>\n      <td>Room</td>\n      <td>Apartment/Condo</td>\n      <td>Apartment/Condo</td>\n      <td>3</td>\n      <td>3</td>\n      <td>Not specified</td>\n      <td>Not specified</td>\n      <td>Not specified</td>\n      <td>Not specified</td>\n      <td>unfurnished</td>\n      <td>No pets</td>\n      <td>932.5</td>\n    </tr>\n    <tr>\n      <th>1338</th>\n      <td>come stay with us pet friendly kelowna cottage</td>\n      <td>1111</td>\n      <td>central okanagan, bc, v1z 3r8</td>\n      <td>['6823 madrid way, central okanagan, bc', 'dog...</td>\n      <td>['We are Christmas ready!!\\n\\nWe have availabi...</td>\n      <td>[]</td>\n      <td>['https://www.facebook.com/marketplace/item/22...</td>\n      <td>None</td>\n      <td>House</td>\n      <td>House</td>\n      <td>3</td>\n      <td>2</td>\n      <td>Not specified</td>\n      <td>Not specified</td>\n      <td>Not specified</td>\n      <td>Not specified</td>\n      <td>unfurnished</td>\n      <td>dog friendly</td>\n      <td>1200.0</td>\n    </tr>\n    <tr>\n      <th>1342</th>\n      <td>room for rent available in rutland</td>\n      <td>850</td>\n      <td>kelowna, bc</td>\n      <td>['condition', 'used - like new', 'kelowna, bc'...</td>\n      <td>['1 room available in a shared house for rent ...</td>\n      <td>[]</td>\n      <td>['https://www.facebook.com/marketplace/item/69...</td>\n      <td>Room</td>\n      <td>None</td>\n      <td>Room</td>\n      <td>1</td>\n      <td>1</td>\n      <td>Not specified</td>\n      <td>Not specified</td>\n      <td>Not specified</td>\n      <td>Not specified</td>\n      <td>Not specified</td>\n      <td>No pets</td>\n      <td>1100.0</td>\n    </tr>\n    <tr>\n      <th>1345</th>\n      <td>room for rent for girls in rutland dm for more...</td>\n      <td>900</td>\n      <td>kelowna, bc</td>\n      <td>['kelowna, bc', 'listed over a week ago', 'hou...</td>\n      <td>['Dm for more info! Room available for girls a...</td>\n      <td>['Provided by Walk Score®︎', '60 out of 100', ...</td>\n      <td>['https://www.facebook.com/marketplace/item/81...</td>\n      <td>Room</td>\n      <td>House</td>\n      <td>House</td>\n      <td>1</td>\n      <td>1</td>\n      <td>Not specified</td>\n      <td>Not specified</td>\n      <td>Not specified</td>\n      <td>Not specified</td>\n      <td>unfurnished</td>\n      <td>No pets</td>\n      <td>1200.0</td>\n    </tr>\n    <tr>\n      <th>1349</th>\n      <td>private room for rent</td>\n      <td>1100</td>\n      <td>west kelowna, bc</td>\n      <td>['west kelowna, bc', '1800 square meters', 'li...</td>\n      <td>[\"Welcome to the Luxury Lakeview Private Suite...</td>\n      <td>[]</td>\n      <td>['https://www.facebook.com/marketplace/item/71...</td>\n      <td>Room</td>\n      <td>House</td>\n      <td>House</td>\n      <td>1</td>\n      <td>1</td>\n      <td>in-unit laundry</td>\n      <td>heating available</td>\n      <td>parking available</td>\n      <td>central ac</td>\n      <td>furnished</td>\n      <td>No pets</td>\n      <td>1800.0</td>\n    </tr>\n  </tbody>\n</table>\n<p>1277 rows × 19 columns</p>\n</div>"
     },
     "execution_count": 64,
     "metadata": {},
     "output_type": "execute_result"
    }
   ],
   "source": [
    "# Fill in missing values with the median value for each group\n",
    "df['Area'] = df['Area'].astype('float')\n",
    "df['Area'] = df['Area'].fillna(df.groupby('Type')['Area'].transform('median'))"
   ],
   "metadata": {
    "collapsed": false,
    "pycharm": {
     "name": "#%%\n"
    }
   }
  },
  {
   "cell_type": "code",
   "execution_count": 422,
   "outputs": [
    {
     "data": {
      "text/plain": "                                               name  price  \\\n1                          3 beds 3 baths townhouse   3300   \n2                               2 beds 1 bath house   2000   \n3                            1 bed 1 bath apartment   1250   \n4   1 bedroom available in 2 bedroom basement suite    650   \n5                               3 beds 1 bath house   2000   \n6                                1 bed 1 bath house    600   \n7                                1 bed 1 bath house    850   \n8                             private room for rent    500   \n9                          2 beds 2 baths townhouse   2300   \n10                           1 bed 1 bath apartment   1800   \n\n                  address                                       unit_details  \\\n1    kelowna, bc, v1y 5t5  ['1275 brookside ave, kelowna, bc', 'listed ov...   \n2   west kelowna, bc, v4t  ['goldie rd, west kelowna, bc', '914 square fe...   \n3        kelowna, bc, v1v  ['academy way, kelowna, bc', 'listed over a we...   \n4        west kelowna, bc  ['west kelowna, bc', '1000 square meters', 'li...   \n5    kelowna, bc, v1v 1r1  ['kelowna, bc, canada, kelowna, bc', 'listed a...   \n6    kelowna, bc, v1x 3m7  ['395 froelich rd, kelowna, bc', 'listed over ...   \n7     vernon, bc, v1b 3m1  ['vernon, bc, canada, vernon, bc', 'listed 5 d...   \n8             kelowna, bc  ['kelowna, bc', 'listed 4 days ago · available...   \n9    kelowna, bc, v1y 5t8  ['1145 pacific ave, kelowna, bc', '1014 square...   \n10            kelowna, bc  ['kelowna, bc', '750 square meters', 'dog and ...   \n\n                                          description  \\\n1   ['Kelowna 3 bed 3 bath townhome for rent\\n\\nWi...   \n2   ['REDUCED. Stunning lake and city views are in...   \n3   ['Veda Student Living Studio Apartment Sublet ...   \n4   ['1 bedroom available in 2 bedroom basement su...   \n5   [\"Great location 3 bedroom, 1 bathroom home. N...   \n6                                     ['Girls room ']   \n7   [\"Room for Rent in Shared Home\\n\\nOne bedroom ...   \n8   ['2 room apartment (1 bedroom available) \\nFor...   \n9   ['Beautiful and spacious 1014 square foot rent...   \n10  ['READ AD BEFORE REACTING 🤘🏼\\nLooking to rent ...   \n\n                                                score  \\\n1                                                  []   \n2                                                  []   \n3                                                  []   \n4   ['Provided by Walk Score®︎', '63 out of 100', ...   \n5                                                  []   \n6                                                  []   \n7                                                  []   \n8                                                  []   \n9                                                  []   \n10                                                 []   \n\n                                                  URL   type_from_name  \\\n1   ['https://www.facebook.com/marketplace/item/11...        Townhouse   \n2   ['https://www.facebook.com/marketplace/item/13...            House   \n3   ['https://www.facebook.com/marketplace/item/15...  Apartment/Condo   \n4   ['https://www.facebook.com/marketplace/item/36...             Room   \n5   ['https://www.facebook.com/marketplace/item/60...            House   \n6   ['https://www.facebook.com/marketplace/item/49...            House   \n7   ['https://www.facebook.com/marketplace/item/85...            House   \n8   ['https://www.facebook.com/marketplace/item/84...             Room   \n9   ['https://www.facebook.com/marketplace/item/81...        Townhouse   \n10  ['https://www.facebook.com/marketplace/item/72...  Apartment/Condo   \n\n   type_from_details             Type nbeds nbath              laundry  \\\n1          Townhouse        Townhouse     3     3      in-unit laundry   \n2              House            House     2     1      in-unit laundry   \n3    Apartment/Condo  Apartment/Condo     1     1  laundry in building   \n4              House            House     2     1      in-unit laundry   \n5              House            House     3     1        Not specified   \n6              House            House     1     1    laundry available   \n7              House            House     1     1    laundry available   \n8    Apartment/Condo  Apartment/Condo     1     1        Not specified   \n9          Townhouse        Townhouse     2     2      in-unit laundry   \n10   Apartment/Condo  Apartment/Condo     1     1      in-unit laundry   \n\n              heating            parking air_conditioner      furnished  \\\n1         gas heating     garage parking      central ac    unfurnished   \n2       Not specified      Not specified   Not specified  Not specified   \n3       Not specified  parking available   Not specified    unfurnished   \n4     central heating     street parking   Not specified    unfurnished   \n5       Not specified      Not specified   Not specified  Not specified   \n6   heating available  parking available   Not specified    unfurnished   \n7     central heating  parking available      central ac  Not specified   \n8       Not specified  parking available   Not specified    unfurnished   \n9    electric heating  parking available      central ac    unfurnished   \n10   electric heating  parking available    ac available    unfurnished   \n\n         animal_friendly  Area  \n1                No pets  1371  \n2   dog and cat friendly   914  \n3                No pets   932  \n4                No pets  1000  \n5                No pets  1200  \n6                No pets  1200  \n7                No pets  1200  \n8                No pets   932  \n9   dog and cat friendly  1014  \n10  dog and cat friendly   750  ",
      "text/html": "<div>\n<style scoped>\n    .dataframe tbody tr th:only-of-type {\n        vertical-align: middle;\n    }\n\n    .dataframe tbody tr th {\n        vertical-align: top;\n    }\n\n    .dataframe thead th {\n        text-align: right;\n    }\n</style>\n<table border=\"1\" class=\"dataframe\">\n  <thead>\n    <tr style=\"text-align: right;\">\n      <th></th>\n      <th>name</th>\n      <th>price</th>\n      <th>address</th>\n      <th>unit_details</th>\n      <th>description</th>\n      <th>score</th>\n      <th>URL</th>\n      <th>type_from_name</th>\n      <th>type_from_details</th>\n      <th>Type</th>\n      <th>nbeds</th>\n      <th>nbath</th>\n      <th>laundry</th>\n      <th>heating</th>\n      <th>parking</th>\n      <th>air_conditioner</th>\n      <th>furnished</th>\n      <th>animal_friendly</th>\n      <th>Area</th>\n    </tr>\n  </thead>\n  <tbody>\n    <tr>\n      <th>1</th>\n      <td>3 beds 3 baths townhouse</td>\n      <td>3300</td>\n      <td>kelowna, bc, v1y 5t5</td>\n      <td>['1275 brookside ave, kelowna, bc', 'listed ov...</td>\n      <td>['Kelowna 3 bed 3 bath townhome for rent\\n\\nWi...</td>\n      <td>[]</td>\n      <td>['https://www.facebook.com/marketplace/item/11...</td>\n      <td>Townhouse</td>\n      <td>Townhouse</td>\n      <td>Townhouse</td>\n      <td>3</td>\n      <td>3</td>\n      <td>in-unit laundry</td>\n      <td>gas heating</td>\n      <td>garage parking</td>\n      <td>central ac</td>\n      <td>unfurnished</td>\n      <td>No pets</td>\n      <td>1371</td>\n    </tr>\n    <tr>\n      <th>2</th>\n      <td>2 beds 1 bath house</td>\n      <td>2000</td>\n      <td>west kelowna, bc, v4t</td>\n      <td>['goldie rd, west kelowna, bc', '914 square fe...</td>\n      <td>['REDUCED. Stunning lake and city views are in...</td>\n      <td>[]</td>\n      <td>['https://www.facebook.com/marketplace/item/13...</td>\n      <td>House</td>\n      <td>House</td>\n      <td>House</td>\n      <td>2</td>\n      <td>1</td>\n      <td>in-unit laundry</td>\n      <td>Not specified</td>\n      <td>Not specified</td>\n      <td>Not specified</td>\n      <td>Not specified</td>\n      <td>dog and cat friendly</td>\n      <td>914</td>\n    </tr>\n    <tr>\n      <th>3</th>\n      <td>1 bed 1 bath apartment</td>\n      <td>1250</td>\n      <td>kelowna, bc, v1v</td>\n      <td>['academy way, kelowna, bc', 'listed over a we...</td>\n      <td>['Veda Student Living Studio Apartment Sublet ...</td>\n      <td>[]</td>\n      <td>['https://www.facebook.com/marketplace/item/15...</td>\n      <td>Apartment/Condo</td>\n      <td>Apartment/Condo</td>\n      <td>Apartment/Condo</td>\n      <td>1</td>\n      <td>1</td>\n      <td>laundry in building</td>\n      <td>Not specified</td>\n      <td>parking available</td>\n      <td>Not specified</td>\n      <td>unfurnished</td>\n      <td>No pets</td>\n      <td>932</td>\n    </tr>\n    <tr>\n      <th>4</th>\n      <td>1 bedroom available in 2 bedroom basement suite</td>\n      <td>650</td>\n      <td>west kelowna, bc</td>\n      <td>['west kelowna, bc', '1000 square meters', 'li...</td>\n      <td>['1 bedroom available in 2 bedroom basement su...</td>\n      <td>['Provided by Walk Score®︎', '63 out of 100', ...</td>\n      <td>['https://www.facebook.com/marketplace/item/36...</td>\n      <td>Room</td>\n      <td>House</td>\n      <td>House</td>\n      <td>2</td>\n      <td>1</td>\n      <td>in-unit laundry</td>\n      <td>central heating</td>\n      <td>street parking</td>\n      <td>Not specified</td>\n      <td>unfurnished</td>\n      <td>No pets</td>\n      <td>1000</td>\n    </tr>\n    <tr>\n      <th>5</th>\n      <td>3 beds 1 bath house</td>\n      <td>2000</td>\n      <td>kelowna, bc, v1v 1r1</td>\n      <td>['kelowna, bc, canada, kelowna, bc', 'listed a...</td>\n      <td>[\"Great location 3 bedroom, 1 bathroom home. N...</td>\n      <td>[]</td>\n      <td>['https://www.facebook.com/marketplace/item/60...</td>\n      <td>House</td>\n      <td>House</td>\n      <td>House</td>\n      <td>3</td>\n      <td>1</td>\n      <td>Not specified</td>\n      <td>Not specified</td>\n      <td>Not specified</td>\n      <td>Not specified</td>\n      <td>Not specified</td>\n      <td>No pets</td>\n      <td>1200</td>\n    </tr>\n    <tr>\n      <th>6</th>\n      <td>1 bed 1 bath house</td>\n      <td>600</td>\n      <td>kelowna, bc, v1x 3m7</td>\n      <td>['395 froelich rd, kelowna, bc', 'listed over ...</td>\n      <td>['Girls room ']</td>\n      <td>[]</td>\n      <td>['https://www.facebook.com/marketplace/item/49...</td>\n      <td>House</td>\n      <td>House</td>\n      <td>House</td>\n      <td>1</td>\n      <td>1</td>\n      <td>laundry available</td>\n      <td>heating available</td>\n      <td>parking available</td>\n      <td>Not specified</td>\n      <td>unfurnished</td>\n      <td>No pets</td>\n      <td>1200</td>\n    </tr>\n    <tr>\n      <th>7</th>\n      <td>1 bed 1 bath house</td>\n      <td>850</td>\n      <td>vernon, bc, v1b 3m1</td>\n      <td>['vernon, bc, canada, vernon, bc', 'listed 5 d...</td>\n      <td>[\"Room for Rent in Shared Home\\n\\nOne bedroom ...</td>\n      <td>[]</td>\n      <td>['https://www.facebook.com/marketplace/item/85...</td>\n      <td>House</td>\n      <td>House</td>\n      <td>House</td>\n      <td>1</td>\n      <td>1</td>\n      <td>laundry available</td>\n      <td>central heating</td>\n      <td>parking available</td>\n      <td>central ac</td>\n      <td>Not specified</td>\n      <td>No pets</td>\n      <td>1200</td>\n    </tr>\n    <tr>\n      <th>8</th>\n      <td>private room for rent</td>\n      <td>500</td>\n      <td>kelowna, bc</td>\n      <td>['kelowna, bc', 'listed 4 days ago · available...</td>\n      <td>['2 room apartment (1 bedroom available) \\nFor...</td>\n      <td>[]</td>\n      <td>['https://www.facebook.com/marketplace/item/84...</td>\n      <td>Room</td>\n      <td>Apartment/Condo</td>\n      <td>Apartment/Condo</td>\n      <td>1</td>\n      <td>1</td>\n      <td>Not specified</td>\n      <td>Not specified</td>\n      <td>parking available</td>\n      <td>Not specified</td>\n      <td>unfurnished</td>\n      <td>No pets</td>\n      <td>932</td>\n    </tr>\n    <tr>\n      <th>9</th>\n      <td>2 beds 2 baths townhouse</td>\n      <td>2300</td>\n      <td>kelowna, bc, v1y 5t8</td>\n      <td>['1145 pacific ave, kelowna, bc', '1014 square...</td>\n      <td>['Beautiful and spacious 1014 square foot rent...</td>\n      <td>[]</td>\n      <td>['https://www.facebook.com/marketplace/item/81...</td>\n      <td>Townhouse</td>\n      <td>Townhouse</td>\n      <td>Townhouse</td>\n      <td>2</td>\n      <td>2</td>\n      <td>in-unit laundry</td>\n      <td>electric heating</td>\n      <td>parking available</td>\n      <td>central ac</td>\n      <td>unfurnished</td>\n      <td>dog and cat friendly</td>\n      <td>1014</td>\n    </tr>\n    <tr>\n      <th>10</th>\n      <td>1 bed 1 bath apartment</td>\n      <td>1800</td>\n      <td>kelowna, bc</td>\n      <td>['kelowna, bc', '750 square meters', 'dog and ...</td>\n      <td>['READ AD BEFORE REACTING 🤘🏼\\nLooking to rent ...</td>\n      <td>[]</td>\n      <td>['https://www.facebook.com/marketplace/item/72...</td>\n      <td>Apartment/Condo</td>\n      <td>Apartment/Condo</td>\n      <td>Apartment/Condo</td>\n      <td>1</td>\n      <td>1</td>\n      <td>in-unit laundry</td>\n      <td>electric heating</td>\n      <td>parking available</td>\n      <td>ac available</td>\n      <td>unfurnished</td>\n      <td>dog and cat friendly</td>\n      <td>750</td>\n    </tr>\n  </tbody>\n</table>\n</div>"
     },
     "execution_count": 422,
     "metadata": {},
     "output_type": "execute_result"
    }
   ],
   "source": [
    "df['Area'] = df['Area'].astype('int')\n",
    "df.head(10)"
   ],
   "metadata": {
    "collapsed": false,
    "pycharm": {
     "name": "#%%\n"
    }
   }
  },
  {
   "cell_type": "markdown",
   "source": [
    "Now i will drop unnecessary columns and save file as 'pre_clean_data.csv' to add coordinates in the next step."
   ],
   "metadata": {
    "collapsed": false,
    "pycharm": {
     "name": "#%% md\n"
    }
   }
  },
  {
   "cell_type": "code",
   "execution_count": 423,
   "outputs": [],
   "source": [
    "df = df.drop(columns = {'unit_details', 'description', 'score', 'URL', 'type_from_details', 'type_from_name'})"
   ],
   "metadata": {
    "collapsed": false,
    "pycharm": {
     "name": "#%%\n"
    }
   }
  },
  {
   "cell_type": "code",
   "execution_count": 424,
   "outputs": [],
   "source": [
    "df.to_csv('./pre_clean_data.csv')"
   ],
   "metadata": {
    "collapsed": false,
    "pycharm": {
     "name": "#%%\n"
    }
   }
  }
 ],
 "metadata": {
  "kernelspec": {
   "display_name": "Python 3",
   "language": "python",
   "name": "python3"
  },
  "language_info": {
   "codemirror_mode": {
    "name": "ipython",
    "version": 2
   },
   "file_extension": ".py",
   "mimetype": "text/x-python",
   "name": "python",
   "nbconvert_exporter": "python",
   "pygments_lexer": "ipython2",
   "version": "2.7.6"
  }
 },
 "nbformat": 4,
 "nbformat_minor": 0
}