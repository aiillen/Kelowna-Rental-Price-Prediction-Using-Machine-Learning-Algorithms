{
 "cells": [
  {
   "cell_type": "markdown",
   "source": [
    "# Web Scraping Housing Data From Facebook Marketplace"
   ],
   "metadata": {
    "collapsed": false,
    "pycharm": {
     "name": "#%% md\n"
    }
   }
  },
  {
   "cell_type": "markdown",
   "source": [
    "In this project, I aimed to gather all the rental data available on Facebook Marketplace in Kelowna. Facebook Marketplace is one of the most popular platforms for renting and buying purposes. Therefore, I chose to web scrape this platform to collect data on all the rental properties available in Kelowna. This data will provide valuable insights into the rental market in Kelowna and can be used for various purposes such as real estate analysis, property management, and predicting rental price analysis."
   ],
   "metadata": {
    "collapsed": false,
    "pycharm": {
     "name": "#%% md\n"
    }
   }
  },
  {
   "cell_type": "markdown",
   "source": [
    "## Importing libraries"
   ],
   "metadata": {
    "collapsed": false,
    "pycharm": {
     "name": "#%% md\n"
    }
   }
  },
  {
   "cell_type": "markdown",
   "source": [
    "The web scraping was done using the Python library Selenium, along with other relevant libraries."
   ],
   "metadata": {
    "collapsed": false,
    "pycharm": {
     "name": "#%% md\n"
    }
   }
  },
  {
   "cell_type": "code",
   "execution_count": 9,
   "metadata": {
    "collapsed": true,
    "pycharm": {
     "name": "#%%\n"
    }
   },
   "outputs": [],
   "source": [
    "from selenium import webdriver\n",
    "from selenium.webdriver.common.keys import Keys\n",
    "from selenium.webdriver.support import expected_conditions as EC\n",
    "from selenium.webdriver.common.by import By\n",
    "from selenium.webdriver.support.wait import WebDriverWait\n",
    "from time import sleep\n",
    "import requests\n",
    "import warnings\n",
    "warnings.filterwarnings('ignore')\n",
    "import random\n",
    "import pandas as pd\n",
    "from requests.adapters import HTTPAdapter\n",
    "from urllib3.util.retry import Retry"
   ]
  },
  {
   "cell_type": "markdown",
   "source": [
    "## Declaring xpath"
   ],
   "metadata": {
    "collapsed": false,
    "pycharm": {
     "name": "#%% md\n"
    }
   }
  },
  {
   "cell_type": "markdown",
   "source": [
    "To access the various elements on the Facebook Marketplace page, I used the Xpath method. Xpath is a language used to navigate XML and HTML documents and select elements from the document tree. In this project, I used Xpath to select specific elements from the Facebook Marketplace page and extract relevant data. The complete list of Xpaths used to access the different elements is provided below for reference:"
   ],
   "metadata": {
    "collapsed": false,
    "pycharm": {
     "name": "#%% md\n"
    }
   }
  },
  {
   "cell_type": "code",
   "execution_count": 7,
   "outputs": [],
   "source": [
    "open_xpath = '//div[@ class=\"x3ct3a4\"]'\n",
    "#Xpath for opening a listing on the web page\n",
    "\n",
    "name_xpath = '//span[@class=\"x193iq5w xeuugli x13faqbe x1vvkbs xlh3980 xvmahel x1n0sxbx x1lliihq x1s928wv xhkezso x1gmr53x x1cpjm7i x1fgarty x1943h6x xtoi2st x41vudc xngnso2 x1qb5hxa x1xlr1w8 xzsf02u\"]'\n",
    "#Xpath for the name of the listings, for instance \"1 Bed 1 Bath House\"\n",
    "\n",
    "price_xpath = '//div[@class=\"x1anpbxc\"]'\n",
    "#Xpath for the price of the listings, for example \"$1,100/Month\"\n",
    "\n",
    "unit_details_xpath = '//span[@ class=\"x193iq5w xeuugli x13faqbe x1vvkbs xlh3980 xvmahel x1n0sxbx x1lliihq x1s928wv xhkezso x1gmr53x x1cpjm7i x1fgarty x1943h6x x4zkp8e x3x7a5m x6prxxf xvq8zen xo1l8bm xzsf02u x1yc453h\"]'\n",
    "#Xpath for the unit details of each listing\n",
    "#Typically includes information on the area, number of beds and baths, and other details\n",
    "\n",
    "see_more_xpath = '//span[@class=\"x193iq5w xeuugli x13faqbe x1vvkbs xlh3980 xvmahel x1n0sxbx x6prxxf xvq8zen x1s688f xzsf02u\"]'\n",
    "#Xpath for the \"See More\" button, which provides the full description of the listing when clicked\n",
    "\n",
    "description_xpath = '//div[@class=\"xz9dl7a x4uap5 xsag5q8 xkhd6sd x126k92a\"]'\n",
    "#Xpath for the description of each listing\n",
    "\n",
    "score_xpath = '//span[@class=\"x193iq5w xeuugli x13faqbe x1vvkbs xlh3980 xvmahel x1n0sxbx x1lliihq x1s928wv xhkezso x1gmr53x x1cpjm7i x1fgarty x1943h6x x4zkp8e x3x7a5m x6prxxf xvq8zen xo1l8bm xi81zsa x1yc453h\"]'\n",
    "#Xpath for the various scores provided by Walk Score\n",
    "\n",
    "adress_xpath = '//span[@class=\"x193iq5w xeuugli x13faqbe x1vvkbs xlh3980 xvmahel x1n0sxbx x1lliihq x1s928wv xhkezso x1gmr53x x1cpjm7i x1fgarty x1943h6x x4zkp8e x676frb x1nxh6w3 x1sibtaa xo1l8bm xi81zsa x1yc453h\"]'\n",
    "#Xpath for the address of the listing\n",
    "\n",
    "close_xpath = '//div[@class=\"x1i10hfl x6umtig x1b1mbwd xaqea5y xav7gou x1ypdohk xe8uvvx xdj266r x11i5rnm xat24cr x1mh8g0r x16tdsg8 x1hl2dhg xggy1nq x87ps6o x1lku1pv x1a2a7pz x6s0dn4 x14yjl9h xudhj91 x18nykt9 xww2gxu x972fbf xcfux6l x1qhh985 xm0m39n x9f619 x78zum5 xl56j7k xexx8yu x4uap5 x18d9i69 xkhd6sd x1n2onr6 x1vqgdyp x100vrsf x18l40ae x14ctfv\"]'\n",
    "#Xpath for the \"Close\" button, which is used to close the listing after all the information has been extracted"
   ],
   "metadata": {
    "collapsed": false,
    "pycharm": {
     "name": "#%%\n"
    }
   }
  },
  {
   "cell_type": "markdown",
   "source": [
    "The code below opens the Facebook Marketplace main page, which is the starting point for the web scraping process. A 65 km radius around Kelowna was chosen as the scope for this project as it was deemed the optimal radius to gather all rental data from the area."
   ],
   "metadata": {
    "collapsed": false,
    "pycharm": {
     "name": "#%% md\n"
    }
   }
  },
  {
   "cell_type": "markdown",
   "source": [
    "## Opening the main page"
   ],
   "metadata": {
    "collapsed": false,
    "pycharm": {
     "name": "#%% md\n"
    }
   }
  },
  {
   "cell_type": "code",
   "execution_count": null,
   "outputs": [],
   "source": [
    "driver = webdriver.Chrome(executable_path = '/Users/allienn/chromedriver_mac_arm64/chromedriver')\n",
    "driver.get('https://www.facebook.com/marketplace/111949595490847/propertyrentals/?exact=false')"
   ],
   "metadata": {
    "collapsed": false,
    "pycharm": {
     "name": "#%%\n",
     "is_executing": true
    }
   }
  },
  {
   "cell_type": "markdown",
   "source": [
    "## Setting request"
   ],
   "metadata": {
    "collapsed": false,
    "pycharm": {
     "name": "#%% md\n"
    }
   }
  },
  {
   "cell_type": "code",
   "execution_count": 55,
   "outputs": [
    {
     "data": {
      "text/plain": "<Response [200]>"
     },
     "execution_count": 55,
     "metadata": {},
     "output_type": "execute_result"
    }
   ],
   "source": [
    "session = requests.Session()\n",
    "retry = Retry(connect=3, backoff_factor=0.5)\n",
    "adapter = HTTPAdapter(max_retries=retry)\n",
    "session.mount('http://', adapter)\n",
    "session.mount('https://', adapter)\n",
    "session.get('https://www.facebook.com/marketplace/111949595490847/propertyrentals/?exact=false')\n"
   ],
   "metadata": {
    "collapsed": false,
    "pycharm": {
     "name": "#%%\n"
    }
   }
  },
  {
   "cell_type": "markdown",
   "source": [
    "## Start of the Web Scrapping"
   ],
   "metadata": {
    "collapsed": false,
    "pycharm": {
     "name": "#%% md\n"
    }
   }
  },
  {
   "cell_type": "markdown",
   "source": [
    "A dictionary named \"dict\" was created to store all the data that will be scraped from the web."
   ],
   "metadata": {
    "collapsed": false,
    "pycharm": {
     "name": "#%% md\n"
    }
   }
  },
  {
   "cell_type": "code",
   "execution_count": 54,
   "outputs": [],
   "source": [
    "dict = {      'name':'',\n",
    "              'price':'',\n",
    "              'adress':'',\n",
    "              'unit_details':'',\n",
    "              'description':'',\n",
    "              'score':'',\n",
    "              'URL':''}"
   ],
   "metadata": {
    "collapsed": false,
    "pycharm": {
     "name": "#%%\n"
    }
   }
  },
  {
   "cell_type": "markdown",
   "source": [],
   "metadata": {
    "collapsed": false,
    "pycharm": {
     "name": "#%% md\n"
    }
   }
  },
  {
   "cell_type": "code",
   "execution_count": null,
   "outputs": [],
   "source": [
    "# Initializing lists to store the scraped data\n",
    "namell = [[]]\n",
    "pricell = [[]]\n",
    "addressll = [[]]\n",
    "unit_detailsll = [[]]\n",
    "descriptionll = [[]]\n",
    "scorell = [[]]\n",
    "urlll = [[]]\n",
    "counter = 0\n",
    "\n",
    "# Finding all elements with the XPATH specified in open_xpath\n",
    "open = driver.find_elements(By.XPATH, open_xpath)\n",
    "\n",
    "# Looping through the elements found\n",
    "while True:\n",
    "\n",
    "    # Get a new set of data after scrolling and avoiding repeating the same data that has already been read\n",
    "    open = open[counter:]\n",
    "    for o in open:\n",
    "        # Initializing lists for each iteration to store data for one element\n",
    "        namel = []\n",
    "        pricel = []\n",
    "        addressl = []\n",
    "        unit_detailsl = []\n",
    "        descriptionl = []\n",
    "        scorel = []\n",
    "        urll = []\n",
    "\n",
    "        # Clicking on the listing link\n",
    "        o.click()\n",
    "        # Sleeping for a random time to avoid detection\n",
    "        sleep(random.randint(2, 4))\n",
    "\n",
    "        # Finding elements with the XPATHs specified for each data type\n",
    "        # If an error occurs, the value is set to an empty string\n",
    "        try:\n",
    "            name = driver.find_elements(By.XPATH, name_xpath)\n",
    "        except:\n",
    "            name = ''\n",
    "        try:\n",
    "            price = driver.find_elements(By.XPATH, price_xpath)\n",
    "        except:\n",
    "            price = ''\n",
    "        try:\n",
    "            unit_details = driver.find_elements(By.XPATH, unit_details_xpath)\n",
    "        except:\n",
    "            unit_details = ''\n",
    "        try:\n",
    "            see_more = driver.find_element(By.XPATH, see_more_xpath)\n",
    "            if see_more.text == 'See more':\n",
    "                see_more.click()\n",
    "        except:\n",
    "            print('Error 2')\n",
    "            pass\n",
    "        try:\n",
    "            description = driver.find_element(By.XPATH, description_xpath)\n",
    "        except:\n",
    "            description = ''\n",
    "        try:\n",
    "            score = driver.find_elements(By.XPATH, score_xpath)\n",
    "        except:\n",
    "            score = ''\n",
    "        try:\n",
    "            adress = driver.find_element(By.XPATH, adress_xpath)\n",
    "        except:\n",
    "            adress = ''\n",
    "        # Getting the URL of the current page\n",
    "        strUrl = driver.current_url\n",
    "\n",
    "        # Adding the data for each element to its corresponding list\n",
    "        for x in name:\n",
    "            namel.append(x.text)\n",
    "        try:\n",
    "            addressl.append(adress.text)\n",
    "        except:\n",
    "            addressl.append(adress)\n",
    "        for x in price:\n",
    "            pricel.append(x.text)\n",
    "        for x in unit_details:\n",
    "            unit_detailsl.append(x.text)\n",
    "        try:\n",
    "            descriptionl.append(description.text)\n",
    "        except:\n",
    "            descriptionl.append(description)\n",
    "        for s in score:\n",
    "            scorel.append(s.text)\n",
    "        urll.append(strUrl)\n",
    "\n",
    "        # Updating the double lists with the lists for each data type\n",
    "        namell.append(namel)\n",
    "        pricell.append(pricel)\n",
    "        addressll.append(addressl)\n",
    "        unit_detailsll.append(unit_detailsl)\n",
    "        descriptionll.append(descriptionl)\n",
    "        scorell.append(scorel)\n",
    "        urlll.append(urll)\n",
    "\n",
    "        # Updating the dictionary with the list for each data type\n",
    "        dict.update({'name':namell})\n",
    "        dict.update({'adress':addressll})\n",
    "        dict.update({'price':pricell})\n",
    "        dict.update({'unit_details':unit_detailsll})\n",
    "        dict.update({'description':descriptionll})\n",
    "        dict.update({'score':scorell})\n",
    "        dict.update({'URL':urlll})\n",
    "\n",
    "        #Increasing counter by 1\n",
    "        counter += 1\n",
    "\n",
    "        #Closing the listing\n",
    "        try:\n",
    "            close_button = driver.find_element(By.XPATH, close_xpath)\n",
    "            close_button.click()\n",
    "            sleep(random.randint(2, 4))\n",
    "        except:\n",
    "            print('Error might be here in close button')\n",
    "            sleep(random.randint(1, 2))\n",
    "            close_button = driver.find_element(By.XPATH, close_xpath)\n",
    "            close_button.click()\n",
    "    # Scrolling the page down\n",
    "    driver.execute_script(\"window.scrollTo(0, document.body.scrollHeight);\")\n",
    "\n",
    "    # Sleeping for a random time to avoid detection\n",
    "    sleep(random.randint(10, 15))\n",
    "\n",
    "    # Finding new elements with the XPATH specified in open_xpath after the scroll\n",
    "    open = driver.find_elements(By.XPATH, open_xpath)"
   ],
   "metadata": {
    "collapsed": false,
    "pycharm": {
     "name": "#%%\n",
     "is_executing": true
    }
   }
  },
  {
   "cell_type": "markdown",
   "source": [
    "## Checking the dataframe and saving it"
   ],
   "metadata": {
    "collapsed": false,
    "pycharm": {
     "name": "#%% md\n"
    }
   }
  },
  {
   "cell_type": "code",
   "execution_count": 59,
   "outputs": [
    {
     "data": {
      "text/plain": "                             name             price  \\\ncount                        1350              1350   \nunique                        380               208   \ntop     [, Private Room For Rent]  [$2,000 / Month]   \nfreq                          107                58   \n\n                           adress  \\\ncount                        1350   \nunique                        499   \ntop     [Location is approximate]   \nfreq                          563   \n\n                                             unit_details  \\\ncount                                                1350   \nunique                                               1319   \ntop     [Condition, Used - like new, Kelowna, BC, Join...   \nfreq                                                    6   \n\n                                              description score   URL  \ncount                                                1350  1350  1350  \nunique                                               1339   180  1350  \ntop     [Bright and spacious 2 bed 1 bath walk-out bas...    []    []  \nfreq                                                    2  1156     1  ",
      "text/html": "<div>\n<style scoped>\n    .dataframe tbody tr th:only-of-type {\n        vertical-align: middle;\n    }\n\n    .dataframe tbody tr th {\n        vertical-align: top;\n    }\n\n    .dataframe thead th {\n        text-align: right;\n    }\n</style>\n<table border=\"1\" class=\"dataframe\">\n  <thead>\n    <tr style=\"text-align: right;\">\n      <th></th>\n      <th>name</th>\n      <th>price</th>\n      <th>adress</th>\n      <th>unit_details</th>\n      <th>description</th>\n      <th>score</th>\n      <th>URL</th>\n    </tr>\n  </thead>\n  <tbody>\n    <tr>\n      <th>count</th>\n      <td>1350</td>\n      <td>1350</td>\n      <td>1350</td>\n      <td>1350</td>\n      <td>1350</td>\n      <td>1350</td>\n      <td>1350</td>\n    </tr>\n    <tr>\n      <th>unique</th>\n      <td>380</td>\n      <td>208</td>\n      <td>499</td>\n      <td>1319</td>\n      <td>1339</td>\n      <td>180</td>\n      <td>1350</td>\n    </tr>\n    <tr>\n      <th>top</th>\n      <td>[, Private Room For Rent]</td>\n      <td>[$2,000 / Month]</td>\n      <td>[Location is approximate]</td>\n      <td>[Condition, Used - like new, Kelowna, BC, Join...</td>\n      <td>[Bright and spacious 2 bed 1 bath walk-out bas...</td>\n      <td>[]</td>\n      <td>[]</td>\n    </tr>\n    <tr>\n      <th>freq</th>\n      <td>107</td>\n      <td>58</td>\n      <td>563</td>\n      <td>6</td>\n      <td>2</td>\n      <td>1156</td>\n      <td>1</td>\n    </tr>\n  </tbody>\n</table>\n</div>"
     },
     "execution_count": 59,
     "metadata": {},
     "output_type": "execute_result"
    }
   ],
   "source": [
    "df = pd.DataFrame(dict)\n",
    "df.describe()"
   ],
   "metadata": {
    "collapsed": false,
    "pycharm": {
     "name": "#%%\n"
    }
   }
  },
  {
   "cell_type": "code",
   "execution_count": 64,
   "outputs": [],
   "source": [
    "df.to_csv('../raw/kelowna_housing_data.csv')\n",
    "df.to_excel('../raw/kelowna_housing_data.xlsx')"
   ],
   "metadata": {
    "collapsed": false,
    "pycharm": {
     "name": "#%%\n"
    }
   }
  }
 ],
 "metadata": {
  "kernelspec": {
   "display_name": "Python 3",
   "language": "python",
   "name": "python3"
  },
  "language_info": {
   "codemirror_mode": {
    "name": "ipython",
    "version": 2
   },
   "file_extension": ".py",
   "mimetype": "text/x-python",
   "name": "python",
   "nbconvert_exporter": "python",
   "pygments_lexer": "ipython2",
   "version": "2.7.6"
  }
 },
 "nbformat": 4,
 "nbformat_minor": 0
}